{
 "cells": [
  {
   "cell_type": "markdown",
   "metadata": {},
   "source": [
    "# **Airbnb**\n",
    "# Análisis y Visualización"
   ]
  },
  {
   "cell_type": "markdown",
   "metadata": {},
   "source": [
    "## ¿A dónde realizan su primera reserva los nuevos usuarios de Airbnb?\n",
    "\n",
    "Durante este práctico vamos a trabajar con todos los datos provistos por [Airbnb New User Bookings](https://www.kaggle.com/c/airbnb-recruiting-new-user-bookings/data) en Kaggle.\n",
    "\n",
    "## Objetivo y alcance:\n",
    "\n",
    "En este laboratorio vamos a aplicar todo lo aprendido en las materias previas y lo vamos a complementar con lo aprendido en la materia de __Aprendizaje Supervisado__. La idea principal es poder armar una notebook completa, partiendo desde el preprocesamiento y curación de los datos, hasta la elección final de un modelo y su posterior testeo.\n",
    "\n",
    "Tal vez este laboratorio sea un poco más extenso que los anteriores, pero eso se debe a que estamos uniendo las diferentes *piezas* de un proyecto de aprendizaje supervisado.\n",
    "\n",
    "## Estructura del informe:\n",
    "\n",
    "  * Jupyter Notebook con el análisis realizado.\n",
    "  \n",
    "---"
   ]
  },
  {
   "cell_type": "markdown",
   "metadata": {},
   "source": [
    "## Introducción:"
   ]
  },
  {
   "cell_type": "markdown",
   "metadata": {},
   "source": [
    "En el presente laboratorio, vamos a tomar como referencia el siguiente [Notebook Ejemplo](https://www.kaggle.com/malgoro39/predicci-n-de-destinos-airbnb). En dicho notebook, el autor realiza un análisis exhaustivo y además explica de una manera muy didáctica las decisiónes tomadas y los conceptos teóricos involucrados. \n",
    "\n",
    "Tratemos de imitar y mejorar el trabajo realizado :)"
   ]
  },
  {
   "cell_type": "markdown",
   "metadata": {},
   "source": [
    "En este caso, vamos a trabajar con todos los datos originales de __Airbnb__:\n",
    "* __ager_gender_bkts.csv__\n",
    "* __countries.csv__\n",
    "* __sessions.csv__\n",
    "* __test_users.csv__ / __test_users_2.csv__\n",
    "\n",
    "Por una cuestión de tamaño de los datasets, éstos se encuentran comprimidos en el archivo __/Datos/original_data.zip__. Además la notebook de ejemplo se encuentra en __/Notebooks/Ejemplos/Ejemplo_Laboratorio_Supervisado.ipynb__."
   ]
  },
  {
   "cell_type": "markdown",
   "metadata": {},
   "source": [
    "## Tareas:"
   ]
  },
  {
   "cell_type": "markdown",
   "metadata": {},
   "source": [
    "1. __Análisis y Visualización de datos__: Realizar un breve análisis de los datasets antes mencionados.\n",
    "2. __Curación de datos__: Realizar la correspondiente curación de los mismos.\n",
    "3. __Feature Engineering__: Tomando como ejemplo la notebook antes mencionada aplicar un poco de ingeniería de features, por ejemplo: generar nuevos features, mergear datasets, etc.\n",
    "4. __Selección de un modelo de Aprendizaje Supervisado__: Aplicar distintos modelos de aprendizaje supervisado al dataset generado en el punto anterior.\n",
    "5. __Ajuste de hiperparámetros__: Realizar una búsqueda de hiperparámetros que permitan mejorar la clasificación de los modelos escogidos.\n",
    "6. __Testing de precisión__: Medir la precisión de cada uno de tus modelos (con datos no conocidos).\n",
    "7. __¿Qué modelo generó los mejores resultados?__"
   ]
  },
  {
   "cell_type": "markdown",
   "metadata": {},
   "source": [
    "## 1. Análisis y Visualización de datos"
   ]
  },
  {
   "cell_type": "code",
   "execution_count": 230,
   "metadata": {},
   "outputs": [
    {
     "name": "stdout",
     "output_type": "stream",
     "text": [
      "The autoreload extension is already loaded. To reload it, use:\n",
      "  %reload_ext autoreload\n"
     ]
    }
   ],
   "source": [
    "import pandas as pd\n",
    "import warnings\n",
    "import numpy as np\n",
    "import matplotlib.pyplot as plt\n",
    "import seaborn as sns\n",
    "from sklearn import preprocessing\n",
    "from sklearn.metrics import accuracy_score, classification_report, confusion_matrix\n",
    "\n",
    "\n",
    "warnings.filterwarnings('ignore')\n",
    "%load_ext autoreload\n",
    "%autoreload 2"
   ]
  },
  {
   "cell_type": "code",
   "execution_count": 231,
   "metadata": {},
   "outputs": [],
   "source": [
    "dataset_path = \"..//datos//\""
   ]
  },
  {
   "cell_type": "markdown",
   "metadata": {},
   "source": [
    "### Countries"
   ]
  },
  {
   "cell_type": "code",
   "execution_count": 232,
   "metadata": {},
   "outputs": [
    {
     "data": {
      "text/html": [
       "<div>\n",
       "<style scoped>\n",
       "    .dataframe tbody tr th:only-of-type {\n",
       "        vertical-align: middle;\n",
       "    }\n",
       "\n",
       "    .dataframe tbody tr th {\n",
       "        vertical-align: top;\n",
       "    }\n",
       "\n",
       "    .dataframe thead th {\n",
       "        text-align: right;\n",
       "    }\n",
       "</style>\n",
       "<table border=\"1\" class=\"dataframe\">\n",
       "  <thead>\n",
       "    <tr style=\"text-align: right;\">\n",
       "      <th></th>\n",
       "      <th>lat_destination</th>\n",
       "      <th>lng_destination</th>\n",
       "      <th>distance_km</th>\n",
       "      <th>destination_km2</th>\n",
       "      <th>language_levenshtein_distance</th>\n",
       "    </tr>\n",
       "  </thead>\n",
       "  <tbody>\n",
       "    <tr>\n",
       "      <td>count</td>\n",
       "      <td>10.000000</td>\n",
       "      <td>10.000000</td>\n",
       "      <td>10.000000</td>\n",
       "      <td>1.000000e+01</td>\n",
       "      <td>10.00000</td>\n",
       "    </tr>\n",
       "    <tr>\n",
       "      <td>mean</td>\n",
       "      <td>39.799398</td>\n",
       "      <td>-4.262446</td>\n",
       "      <td>7181.897800</td>\n",
       "      <td>2.973734e+06</td>\n",
       "      <td>50.49900</td>\n",
       "    </tr>\n",
       "    <tr>\n",
       "      <td>std</td>\n",
       "      <td>24.739112</td>\n",
       "      <td>63.700585</td>\n",
       "      <td>3941.141734</td>\n",
       "      <td>4.329619e+06</td>\n",
       "      <td>44.54169</td>\n",
       "    </tr>\n",
       "    <tr>\n",
       "      <td>min</td>\n",
       "      <td>-26.853388</td>\n",
       "      <td>-96.818146</td>\n",
       "      <td>0.000000</td>\n",
       "      <td>4.154300e+04</td>\n",
       "      <td>0.00000</td>\n",
       "    </tr>\n",
       "    <tr>\n",
       "      <td>25%</td>\n",
       "      <td>39.639090</td>\n",
       "      <td>-6.737559</td>\n",
       "      <td>7001.557600</td>\n",
       "      <td>2.580425e+05</td>\n",
       "      <td>0.00000</td>\n",
       "    </tr>\n",
       "    <tr>\n",
       "      <td>50%</td>\n",
       "      <td>44.053092</td>\n",
       "      <td>-0.139014</td>\n",
       "      <td>7603.632650</td>\n",
       "      <td>4.311960e+05</td>\n",
       "      <td>67.91500</td>\n",
       "    </tr>\n",
       "    <tr>\n",
       "      <td>75%</td>\n",
       "      <td>51.891219</td>\n",
       "      <td>9.163386</td>\n",
       "      <td>7842.357000</td>\n",
       "      <td>5.966865e+06</td>\n",
       "      <td>91.39500</td>\n",
       "    </tr>\n",
       "    <tr>\n",
       "      <td>max</td>\n",
       "      <td>62.393303</td>\n",
       "      <td>133.275160</td>\n",
       "      <td>15297.744000</td>\n",
       "      <td>9.984670e+06</td>\n",
       "      <td>95.45000</td>\n",
       "    </tr>\n",
       "  </tbody>\n",
       "</table>\n",
       "</div>"
      ],
      "text/plain": [
       "       lat_destination  lng_destination   distance_km  destination_km2  \\\n",
       "count        10.000000        10.000000     10.000000     1.000000e+01   \n",
       "mean         39.799398        -4.262446   7181.897800     2.973734e+06   \n",
       "std          24.739112        63.700585   3941.141734     4.329619e+06   \n",
       "min         -26.853388       -96.818146      0.000000     4.154300e+04   \n",
       "25%          39.639090        -6.737559   7001.557600     2.580425e+05   \n",
       "50%          44.053092        -0.139014   7603.632650     4.311960e+05   \n",
       "75%          51.891219         9.163386   7842.357000     5.966865e+06   \n",
       "max          62.393303       133.275160  15297.744000     9.984670e+06   \n",
       "\n",
       "       language_levenshtein_distance  \n",
       "count                       10.00000  \n",
       "mean                        50.49900  \n",
       "std                         44.54169  \n",
       "min                          0.00000  \n",
       "25%                          0.00000  \n",
       "50%                         67.91500  \n",
       "75%                         91.39500  \n",
       "max                         95.45000  "
      ]
     },
     "execution_count": 232,
     "metadata": {},
     "output_type": "execute_result"
    }
   ],
   "source": [
    "countries_df = pd.read_csv(dataset_path+\"countries.csv\") \n",
    "countries_df.describe()"
   ]
  },
  {
   "cell_type": "code",
   "execution_count": 233,
   "metadata": {},
   "outputs": [
    {
     "data": {
      "text/html": [
       "<div>\n",
       "<style scoped>\n",
       "    .dataframe tbody tr th:only-of-type {\n",
       "        vertical-align: middle;\n",
       "    }\n",
       "\n",
       "    .dataframe tbody tr th {\n",
       "        vertical-align: top;\n",
       "    }\n",
       "\n",
       "    .dataframe thead th {\n",
       "        text-align: right;\n",
       "    }\n",
       "</style>\n",
       "<table border=\"1\" class=\"dataframe\">\n",
       "  <thead>\n",
       "    <tr style=\"text-align: right;\">\n",
       "      <th></th>\n",
       "      <th>country_destination</th>\n",
       "      <th>lat_destination</th>\n",
       "      <th>lng_destination</th>\n",
       "      <th>distance_km</th>\n",
       "      <th>destination_km2</th>\n",
       "      <th>destination_language</th>\n",
       "      <th>language_levenshtein_distance</th>\n",
       "    </tr>\n",
       "  </thead>\n",
       "  <tbody>\n",
       "    <tr>\n",
       "      <td>0</td>\n",
       "      <td>AU</td>\n",
       "      <td>-26.853388</td>\n",
       "      <td>133.275160</td>\n",
       "      <td>15297.7440</td>\n",
       "      <td>7741220.0</td>\n",
       "      <td>eng</td>\n",
       "      <td>0.00</td>\n",
       "    </tr>\n",
       "    <tr>\n",
       "      <td>1</td>\n",
       "      <td>CA</td>\n",
       "      <td>62.393303</td>\n",
       "      <td>-96.818146</td>\n",
       "      <td>2828.1333</td>\n",
       "      <td>9984670.0</td>\n",
       "      <td>eng</td>\n",
       "      <td>0.00</td>\n",
       "    </tr>\n",
       "    <tr>\n",
       "      <td>2</td>\n",
       "      <td>DE</td>\n",
       "      <td>51.165707</td>\n",
       "      <td>10.452764</td>\n",
       "      <td>7879.5680</td>\n",
       "      <td>357022.0</td>\n",
       "      <td>deu</td>\n",
       "      <td>72.61</td>\n",
       "    </tr>\n",
       "    <tr>\n",
       "      <td>3</td>\n",
       "      <td>ES</td>\n",
       "      <td>39.896027</td>\n",
       "      <td>-2.487694</td>\n",
       "      <td>7730.7240</td>\n",
       "      <td>505370.0</td>\n",
       "      <td>spa</td>\n",
       "      <td>92.25</td>\n",
       "    </tr>\n",
       "    <tr>\n",
       "      <td>4</td>\n",
       "      <td>FR</td>\n",
       "      <td>46.232193</td>\n",
       "      <td>2.209667</td>\n",
       "      <td>7682.9450</td>\n",
       "      <td>643801.0</td>\n",
       "      <td>fra</td>\n",
       "      <td>92.06</td>\n",
       "    </tr>\n",
       "    <tr>\n",
       "      <td>5</td>\n",
       "      <td>GB</td>\n",
       "      <td>54.633220</td>\n",
       "      <td>-3.432277</td>\n",
       "      <td>6883.6590</td>\n",
       "      <td>243610.0</td>\n",
       "      <td>eng</td>\n",
       "      <td>0.00</td>\n",
       "    </tr>\n",
       "    <tr>\n",
       "      <td>6</td>\n",
       "      <td>IT</td>\n",
       "      <td>41.873990</td>\n",
       "      <td>12.564167</td>\n",
       "      <td>8636.6310</td>\n",
       "      <td>301340.0</td>\n",
       "      <td>ita</td>\n",
       "      <td>89.40</td>\n",
       "    </tr>\n",
       "    <tr>\n",
       "      <td>7</td>\n",
       "      <td>NL</td>\n",
       "      <td>52.133057</td>\n",
       "      <td>5.295250</td>\n",
       "      <td>7524.3203</td>\n",
       "      <td>41543.0</td>\n",
       "      <td>nld</td>\n",
       "      <td>63.22</td>\n",
       "    </tr>\n",
       "    <tr>\n",
       "      <td>8</td>\n",
       "      <td>PT</td>\n",
       "      <td>39.553444</td>\n",
       "      <td>-7.839319</td>\n",
       "      <td>7355.2534</td>\n",
       "      <td>92090.0</td>\n",
       "      <td>por</td>\n",
       "      <td>95.45</td>\n",
       "    </tr>\n",
       "    <tr>\n",
       "      <td>9</td>\n",
       "      <td>US</td>\n",
       "      <td>36.966427</td>\n",
       "      <td>-95.844030</td>\n",
       "      <td>0.0000</td>\n",
       "      <td>9826675.0</td>\n",
       "      <td>eng</td>\n",
       "      <td>0.00</td>\n",
       "    </tr>\n",
       "  </tbody>\n",
       "</table>\n",
       "</div>"
      ],
      "text/plain": [
       "  country_destination  lat_destination  lng_destination  distance_km  \\\n",
       "0                  AU       -26.853388       133.275160   15297.7440   \n",
       "1                  CA        62.393303       -96.818146    2828.1333   \n",
       "2                  DE        51.165707        10.452764    7879.5680   \n",
       "3                  ES        39.896027        -2.487694    7730.7240   \n",
       "4                  FR        46.232193         2.209667    7682.9450   \n",
       "5                  GB        54.633220        -3.432277    6883.6590   \n",
       "6                  IT        41.873990        12.564167    8636.6310   \n",
       "7                  NL        52.133057         5.295250    7524.3203   \n",
       "8                  PT        39.553444        -7.839319    7355.2534   \n",
       "9                  US        36.966427       -95.844030       0.0000   \n",
       "\n",
       "   destination_km2 destination_language   language_levenshtein_distance  \n",
       "0        7741220.0                   eng                           0.00  \n",
       "1        9984670.0                   eng                           0.00  \n",
       "2         357022.0                   deu                          72.61  \n",
       "3         505370.0                   spa                          92.25  \n",
       "4         643801.0                   fra                          92.06  \n",
       "5         243610.0                   eng                           0.00  \n",
       "6         301340.0                   ita                          89.40  \n",
       "7          41543.0                   nld                          63.22  \n",
       "8          92090.0                   por                          95.45  \n",
       "9        9826675.0                   eng                           0.00  "
      ]
     },
     "execution_count": 233,
     "metadata": {},
     "output_type": "execute_result"
    }
   ],
   "source": [
    "countries_df"
   ]
  },
  {
   "cell_type": "markdown",
   "metadata": {},
   "source": [
    "### Sessions"
   ]
  },
  {
   "cell_type": "code",
   "execution_count": 234,
   "metadata": {},
   "outputs": [
    {
     "data": {
      "text/html": [
       "<div>\n",
       "<style scoped>\n",
       "    .dataframe tbody tr th:only-of-type {\n",
       "        vertical-align: middle;\n",
       "    }\n",
       "\n",
       "    .dataframe tbody tr th {\n",
       "        vertical-align: top;\n",
       "    }\n",
       "\n",
       "    .dataframe thead th {\n",
       "        text-align: right;\n",
       "    }\n",
       "</style>\n",
       "<table border=\"1\" class=\"dataframe\">\n",
       "  <thead>\n",
       "    <tr style=\"text-align: right;\">\n",
       "      <th></th>\n",
       "      <th>secs_elapsed</th>\n",
       "    </tr>\n",
       "  </thead>\n",
       "  <tbody>\n",
       "    <tr>\n",
       "      <td>count</td>\n",
       "      <td>1.043171e+07</td>\n",
       "    </tr>\n",
       "    <tr>\n",
       "      <td>mean</td>\n",
       "      <td>1.940581e+04</td>\n",
       "    </tr>\n",
       "    <tr>\n",
       "      <td>std</td>\n",
       "      <td>8.888424e+04</td>\n",
       "    </tr>\n",
       "    <tr>\n",
       "      <td>min</td>\n",
       "      <td>0.000000e+00</td>\n",
       "    </tr>\n",
       "    <tr>\n",
       "      <td>25%</td>\n",
       "      <td>2.290000e+02</td>\n",
       "    </tr>\n",
       "    <tr>\n",
       "      <td>50%</td>\n",
       "      <td>1.147000e+03</td>\n",
       "    </tr>\n",
       "    <tr>\n",
       "      <td>75%</td>\n",
       "      <td>8.444000e+03</td>\n",
       "    </tr>\n",
       "    <tr>\n",
       "      <td>max</td>\n",
       "      <td>1.799977e+06</td>\n",
       "    </tr>\n",
       "  </tbody>\n",
       "</table>\n",
       "</div>"
      ],
      "text/plain": [
       "       secs_elapsed\n",
       "count  1.043171e+07\n",
       "mean   1.940581e+04\n",
       "std    8.888424e+04\n",
       "min    0.000000e+00\n",
       "25%    2.290000e+02\n",
       "50%    1.147000e+03\n",
       "75%    8.444000e+03\n",
       "max    1.799977e+06"
      ]
     },
     "execution_count": 234,
     "metadata": {},
     "output_type": "execute_result"
    }
   ],
   "source": [
    "sessions_df = pd.read_csv(dataset_path+\"sessions.csv\") \n",
    "sessions_df.describe()"
   ]
  },
  {
   "cell_type": "code",
   "execution_count": 235,
   "metadata": {},
   "outputs": [
    {
     "data": {
      "text/html": [
       "<div>\n",
       "<style scoped>\n",
       "    .dataframe tbody tr th:only-of-type {\n",
       "        vertical-align: middle;\n",
       "    }\n",
       "\n",
       "    .dataframe tbody tr th {\n",
       "        vertical-align: top;\n",
       "    }\n",
       "\n",
       "    .dataframe thead th {\n",
       "        text-align: right;\n",
       "    }\n",
       "</style>\n",
       "<table border=\"1\" class=\"dataframe\">\n",
       "  <thead>\n",
       "    <tr style=\"text-align: right;\">\n",
       "      <th></th>\n",
       "      <th>user_id</th>\n",
       "      <th>action</th>\n",
       "      <th>action_type</th>\n",
       "      <th>action_detail</th>\n",
       "      <th>device_type</th>\n",
       "      <th>secs_elapsed</th>\n",
       "    </tr>\n",
       "  </thead>\n",
       "  <tbody>\n",
       "    <tr>\n",
       "      <td>6119000</td>\n",
       "      <td>7c9th8vz74</td>\n",
       "      <td>show</td>\n",
       "      <td>view</td>\n",
       "      <td>p3</td>\n",
       "      <td>Windows Desktop</td>\n",
       "      <td>120.0</td>\n",
       "    </tr>\n",
       "    <tr>\n",
       "      <td>4621629</td>\n",
       "      <td>8dd0rkxvj6</td>\n",
       "      <td>index</td>\n",
       "      <td>-unknown-</td>\n",
       "      <td>-unknown-</td>\n",
       "      <td>Android Phone</td>\n",
       "      <td>27583.0</td>\n",
       "    </tr>\n",
       "    <tr>\n",
       "      <td>2079029</td>\n",
       "      <td>9t20208jf8</td>\n",
       "      <td>similar_listings</td>\n",
       "      <td>data</td>\n",
       "      <td>similar_listings</td>\n",
       "      <td>Windows Desktop</td>\n",
       "      <td>146.0</td>\n",
       "    </tr>\n",
       "    <tr>\n",
       "      <td>2547771</td>\n",
       "      <td>1wsmog9ho9</td>\n",
       "      <td>search</td>\n",
       "      <td>click</td>\n",
       "      <td>view_search_results</td>\n",
       "      <td>iPhone</td>\n",
       "      <td>3178.0</td>\n",
       "    </tr>\n",
       "    <tr>\n",
       "      <td>576739</td>\n",
       "      <td>pultpz9lc8</td>\n",
       "      <td>edit</td>\n",
       "      <td>view</td>\n",
       "      <td>edit_profile</td>\n",
       "      <td>Mac Desktop</td>\n",
       "      <td>5904.0</td>\n",
       "    </tr>\n",
       "    <tr>\n",
       "      <td>2240477</td>\n",
       "      <td>zul2yi7gr1</td>\n",
       "      <td>create</td>\n",
       "      <td>submit</td>\n",
       "      <td>create_user</td>\n",
       "      <td>Windows Desktop</td>\n",
       "      <td>NaN</td>\n",
       "    </tr>\n",
       "    <tr>\n",
       "      <td>6998366</td>\n",
       "      <td>wg9413iaux</td>\n",
       "      <td>show</td>\n",
       "      <td>-unknown-</td>\n",
       "      <td>-unknown-</td>\n",
       "      <td>iPhone</td>\n",
       "      <td>252.0</td>\n",
       "    </tr>\n",
       "    <tr>\n",
       "      <td>6503457</td>\n",
       "      <td>w63w4ievup</td>\n",
       "      <td>show</td>\n",
       "      <td>view</td>\n",
       "      <td>p3</td>\n",
       "      <td>iPhone</td>\n",
       "      <td>93.0</td>\n",
       "    </tr>\n",
       "    <tr>\n",
       "      <td>9969826</td>\n",
       "      <td>aq0tmtrcxd</td>\n",
       "      <td>notifications</td>\n",
       "      <td>view</td>\n",
       "      <td>account_notification_settings</td>\n",
       "      <td>Windows Desktop</td>\n",
       "      <td>684.0</td>\n",
       "    </tr>\n",
       "    <tr>\n",
       "      <td>1877662</td>\n",
       "      <td>jj3tc1avc6</td>\n",
       "      <td>search_results</td>\n",
       "      <td>click</td>\n",
       "      <td>view_search_results</td>\n",
       "      <td>Windows Desktop</td>\n",
       "      <td>10739.0</td>\n",
       "    </tr>\n",
       "  </tbody>\n",
       "</table>\n",
       "</div>"
      ],
      "text/plain": [
       "            user_id            action action_type  \\\n",
       "6119000  7c9th8vz74              show        view   \n",
       "4621629  8dd0rkxvj6             index   -unknown-   \n",
       "2079029  9t20208jf8  similar_listings        data   \n",
       "2547771  1wsmog9ho9            search       click   \n",
       "576739   pultpz9lc8              edit        view   \n",
       "2240477  zul2yi7gr1            create      submit   \n",
       "6998366  wg9413iaux              show   -unknown-   \n",
       "6503457  w63w4ievup              show        view   \n",
       "9969826  aq0tmtrcxd     notifications        view   \n",
       "1877662  jj3tc1avc6    search_results       click   \n",
       "\n",
       "                         action_detail      device_type  secs_elapsed  \n",
       "6119000                             p3  Windows Desktop         120.0  \n",
       "4621629                      -unknown-    Android Phone       27583.0  \n",
       "2079029               similar_listings  Windows Desktop         146.0  \n",
       "2547771            view_search_results           iPhone        3178.0  \n",
       "576739                    edit_profile      Mac Desktop        5904.0  \n",
       "2240477                    create_user  Windows Desktop           NaN  \n",
       "6998366                      -unknown-           iPhone         252.0  \n",
       "6503457                             p3           iPhone          93.0  \n",
       "9969826  account_notification_settings  Windows Desktop         684.0  \n",
       "1877662            view_search_results  Windows Desktop       10739.0  "
      ]
     },
     "execution_count": 235,
     "metadata": {},
     "output_type": "execute_result"
    }
   ],
   "source": [
    "sessions_df.sample(10)"
   ]
  },
  {
   "cell_type": "code",
   "execution_count": 236,
   "metadata": {},
   "outputs": [
    {
     "data": {
      "text/plain": [
       "10567737"
      ]
     },
     "execution_count": 236,
     "metadata": {},
     "output_type": "execute_result"
    }
   ],
   "source": [
    "len(sessions_df)"
   ]
  },
  {
   "cell_type": "markdown",
   "metadata": {},
   "source": [
    "#### Verificamos si hay valores nulos en el dataset"
   ]
  },
  {
   "cell_type": "code",
   "execution_count": 237,
   "metadata": {},
   "outputs": [
    {
     "data": {
      "text/plain": [
       "user_id            34496\n",
       "action             79626\n",
       "action_type      1126204\n",
       "action_detail    1126204\n",
       "device_type            0\n",
       "secs_elapsed      136031\n",
       "dtype: int64"
      ]
     },
     "execution_count": 237,
     "metadata": {},
     "output_type": "execute_result"
    }
   ],
   "source": [
    "sessions_df.isnull().sum()"
   ]
  },
  {
   "cell_type": "code",
   "execution_count": 238,
   "metadata": {},
   "outputs": [
    {
     "data": {
      "text/html": [
       "<div>\n",
       "<style scoped>\n",
       "    .dataframe tbody tr th:only-of-type {\n",
       "        vertical-align: middle;\n",
       "    }\n",
       "\n",
       "    .dataframe tbody tr th {\n",
       "        vertical-align: top;\n",
       "    }\n",
       "\n",
       "    .dataframe thead th {\n",
       "        text-align: right;\n",
       "    }\n",
       "</style>\n",
       "<table border=\"1\" class=\"dataframe\">\n",
       "  <thead>\n",
       "    <tr style=\"text-align: right;\">\n",
       "      <th></th>\n",
       "      <th>user_id</th>\n",
       "      <th>action</th>\n",
       "      <th>action_type</th>\n",
       "      <th>action_detail</th>\n",
       "      <th>device_type</th>\n",
       "      <th>secs_elapsed</th>\n",
       "    </tr>\n",
       "  </thead>\n",
       "  <tbody>\n",
       "    <tr>\n",
       "      <td>0</td>\n",
       "      <td>d1mm9tcy42</td>\n",
       "      <td>lookup</td>\n",
       "      <td>NaN</td>\n",
       "      <td>NaN</td>\n",
       "      <td>Windows Desktop</td>\n",
       "      <td>319.0</td>\n",
       "    </tr>\n",
       "    <tr>\n",
       "      <td>1</td>\n",
       "      <td>d1mm9tcy42</td>\n",
       "      <td>search_results</td>\n",
       "      <td>click</td>\n",
       "      <td>view_search_results</td>\n",
       "      <td>Windows Desktop</td>\n",
       "      <td>67753.0</td>\n",
       "    </tr>\n",
       "    <tr>\n",
       "      <td>2</td>\n",
       "      <td>d1mm9tcy42</td>\n",
       "      <td>lookup</td>\n",
       "      <td>NaN</td>\n",
       "      <td>NaN</td>\n",
       "      <td>Windows Desktop</td>\n",
       "      <td>301.0</td>\n",
       "    </tr>\n",
       "    <tr>\n",
       "      <td>3</td>\n",
       "      <td>d1mm9tcy42</td>\n",
       "      <td>search_results</td>\n",
       "      <td>click</td>\n",
       "      <td>view_search_results</td>\n",
       "      <td>Windows Desktop</td>\n",
       "      <td>22141.0</td>\n",
       "    </tr>\n",
       "    <tr>\n",
       "      <td>4</td>\n",
       "      <td>d1mm9tcy42</td>\n",
       "      <td>lookup</td>\n",
       "      <td>NaN</td>\n",
       "      <td>NaN</td>\n",
       "      <td>Windows Desktop</td>\n",
       "      <td>435.0</td>\n",
       "    </tr>\n",
       "    <tr>\n",
       "      <td>5</td>\n",
       "      <td>d1mm9tcy42</td>\n",
       "      <td>search_results</td>\n",
       "      <td>click</td>\n",
       "      <td>view_search_results</td>\n",
       "      <td>Windows Desktop</td>\n",
       "      <td>7703.0</td>\n",
       "    </tr>\n",
       "    <tr>\n",
       "      <td>6</td>\n",
       "      <td>d1mm9tcy42</td>\n",
       "      <td>lookup</td>\n",
       "      <td>NaN</td>\n",
       "      <td>NaN</td>\n",
       "      <td>Windows Desktop</td>\n",
       "      <td>115.0</td>\n",
       "    </tr>\n",
       "    <tr>\n",
       "      <td>7</td>\n",
       "      <td>d1mm9tcy42</td>\n",
       "      <td>personalize</td>\n",
       "      <td>data</td>\n",
       "      <td>wishlist_content_update</td>\n",
       "      <td>Windows Desktop</td>\n",
       "      <td>831.0</td>\n",
       "    </tr>\n",
       "    <tr>\n",
       "      <td>8</td>\n",
       "      <td>d1mm9tcy42</td>\n",
       "      <td>index</td>\n",
       "      <td>view</td>\n",
       "      <td>view_search_results</td>\n",
       "      <td>Windows Desktop</td>\n",
       "      <td>20842.0</td>\n",
       "    </tr>\n",
       "    <tr>\n",
       "      <td>9</td>\n",
       "      <td>d1mm9tcy42</td>\n",
       "      <td>lookup</td>\n",
       "      <td>NaN</td>\n",
       "      <td>NaN</td>\n",
       "      <td>Windows Desktop</td>\n",
       "      <td>683.0</td>\n",
       "    </tr>\n",
       "    <tr>\n",
       "      <td>10</td>\n",
       "      <td>d1mm9tcy42</td>\n",
       "      <td>search_results</td>\n",
       "      <td>click</td>\n",
       "      <td>view_search_results</td>\n",
       "      <td>Windows Desktop</td>\n",
       "      <td>59274.0</td>\n",
       "    </tr>\n",
       "    <tr>\n",
       "      <td>11</td>\n",
       "      <td>d1mm9tcy42</td>\n",
       "      <td>lookup</td>\n",
       "      <td>NaN</td>\n",
       "      <td>NaN</td>\n",
       "      <td>Windows Desktop</td>\n",
       "      <td>95.0</td>\n",
       "    </tr>\n",
       "    <tr>\n",
       "      <td>12</td>\n",
       "      <td>d1mm9tcy42</td>\n",
       "      <td>personalize</td>\n",
       "      <td>data</td>\n",
       "      <td>wishlist_content_update</td>\n",
       "      <td>Windows Desktop</td>\n",
       "      <td>1399.0</td>\n",
       "    </tr>\n",
       "    <tr>\n",
       "      <td>13</td>\n",
       "      <td>d1mm9tcy42</td>\n",
       "      <td>index</td>\n",
       "      <td>view</td>\n",
       "      <td>view_search_results</td>\n",
       "      <td>Windows Desktop</td>\n",
       "      <td>74886.0</td>\n",
       "    </tr>\n",
       "    <tr>\n",
       "      <td>14</td>\n",
       "      <td>d1mm9tcy42</td>\n",
       "      <td>similar_listings</td>\n",
       "      <td>data</td>\n",
       "      <td>similar_listings</td>\n",
       "      <td>Windows Desktop</td>\n",
       "      <td>255.0</td>\n",
       "    </tr>\n",
       "  </tbody>\n",
       "</table>\n",
       "</div>"
      ],
      "text/plain": [
       "       user_id            action action_type            action_detail  \\\n",
       "0   d1mm9tcy42            lookup         NaN                      NaN   \n",
       "1   d1mm9tcy42    search_results       click      view_search_results   \n",
       "2   d1mm9tcy42            lookup         NaN                      NaN   \n",
       "3   d1mm9tcy42    search_results       click      view_search_results   \n",
       "4   d1mm9tcy42            lookup         NaN                      NaN   \n",
       "5   d1mm9tcy42    search_results       click      view_search_results   \n",
       "6   d1mm9tcy42            lookup         NaN                      NaN   \n",
       "7   d1mm9tcy42       personalize        data  wishlist_content_update   \n",
       "8   d1mm9tcy42             index        view      view_search_results   \n",
       "9   d1mm9tcy42            lookup         NaN                      NaN   \n",
       "10  d1mm9tcy42    search_results       click      view_search_results   \n",
       "11  d1mm9tcy42            lookup         NaN                      NaN   \n",
       "12  d1mm9tcy42       personalize        data  wishlist_content_update   \n",
       "13  d1mm9tcy42             index        view      view_search_results   \n",
       "14  d1mm9tcy42  similar_listings        data         similar_listings   \n",
       "\n",
       "        device_type  secs_elapsed  \n",
       "0   Windows Desktop         319.0  \n",
       "1   Windows Desktop       67753.0  \n",
       "2   Windows Desktop         301.0  \n",
       "3   Windows Desktop       22141.0  \n",
       "4   Windows Desktop         435.0  \n",
       "5   Windows Desktop        7703.0  \n",
       "6   Windows Desktop         115.0  \n",
       "7   Windows Desktop         831.0  \n",
       "8   Windows Desktop       20842.0  \n",
       "9   Windows Desktop         683.0  \n",
       "10  Windows Desktop       59274.0  \n",
       "11  Windows Desktop          95.0  \n",
       "12  Windows Desktop        1399.0  \n",
       "13  Windows Desktop       74886.0  \n",
       "14  Windows Desktop         255.0  "
      ]
     },
     "execution_count": 238,
     "metadata": {},
     "output_type": "execute_result"
    }
   ],
   "source": [
    "sessions_df[ sessions_df.user_id.isnull() == False ].head(15)"
   ]
  },
  {
   "cell_type": "code",
   "execution_count": 239,
   "metadata": {},
   "outputs": [
    {
     "data": {
      "text/plain": [
       "360"
      ]
     },
     "execution_count": 239,
     "metadata": {},
     "output_type": "execute_result"
    }
   ],
   "source": [
    "len(sessions_df.action.unique())"
   ]
  },
  {
   "cell_type": "markdown",
   "metadata": {},
   "source": [
    "Veamos el campo __action__ y su relacion con __action_type__ y __action_detail__"
   ]
  },
  {
   "cell_type": "code",
   "execution_count": 240,
   "metadata": {},
   "outputs": [
    {
     "data": {
      "text/plain": [
       "array(['lookup', 'search_results', 'personalize', 'index',\n",
       "       'similar_listings', 'ajax_refresh_subtotal', 'show',\n",
       "       'header_userpic', 'ask_question', nan,\n",
       "       'other_hosting_reviews_first', 'hosting_social_proof',\n",
       "       'decision_tree', 'recent_reservations', 'faq_experiment_ids',\n",
       "       'multi', 'active', 'dashboard', 'create', 'confirm_email',\n",
       "       'show_personalize', 'verify', 'pending', 'requested', 'concierge',\n",
       "       'faq', 'clear_reservation', 'cancellation_policies',\n",
       "       'track_page_view', 'update', 'my', 'campaigns', 'notifications',\n",
       "       'listings', 'unavailabilities', 'ajax_lwlb_contact',\n",
       "       'ajax_check_dates', 'qt2', 'request_new_confirm_email',\n",
       "       'ajax_photo_widget_form_iframe', 'facebook_auto_login', 'identity',\n",
       "       'qt_reply_v2', 'travel_plans_current', 'complete_status',\n",
       "       'populate_from_facebook', 'kba_update', 'kba', 'login',\n",
       "       'authenticate', 'calendar_tab_inner2', 'other_hosting_reviews',\n",
       "       'social_connections', 'relationship', '15', 'collections', '12',\n",
       "       'jumio_redirect', 'jumio_token', 'login_modal', 'domains',\n",
       "       'toggle_archived_thread', 'search', 'edit_verification', 'edit',\n",
       "       'ajax_ldp', 'connect', 'account', 'delete', 'phone_number_widget',\n",
       "       'callback', 'signup_modal', '10', 'open_graph_setting', 'reviews',\n",
       "       'signup_login', 'payment_instruments', 'payment_methods', 'pay',\n",
       "       'unread', 'at_checkpoint', 'push_notification_callback',\n",
       "       'faq_category', 'localization_settings', 'update_notifications',\n",
       "       'manage_listing', 'set_user', 'references',\n",
       "       'languages_multiselect', 'salute', 'rentals', 'currencies', 'new',\n",
       "       'position', 'populate_help_dropdown', 'popular', 'popular_listing',\n",
       "       'listing', 'available', 'glob', 'this_hosting_reviews', 'widget',\n",
       "       'complete', 'profile_pic', 'signature', 'apply_reservation',\n",
       "       'ajax_statsd', 'travel', 'tos_confirm', 'uptodate',\n",
       "       'ajax_payout_options_by_country', 'payout_preferences',\n",
       "       'payout_update', 'ajax_payout_edit', 'pending_tickets', 'issue',\n",
       "       'contact_new', 'itinerary', 'receipt',\n",
       "       'update_hide_from_search_engines', 'settings', 'privacy',\n",
       "       'reviews_new', 'add_guests', 'ajax_image_upload', 'qt_with',\n",
       "       'webcam_upload', 'friends', 'ajax_google_translate_description',\n",
       "       'trust', 'guarantee', 'supported', 'countries', 'status', 'upload',\n",
       "       'authorize', 'rate', 'remove_dashboard_alert', 'ajax_get_results',\n",
       "       'recommend', 'change_currency', 'transaction_history_paginated',\n",
       "       'transaction_history', 'set_password', 'cancel',\n",
       "       'phone_verification_modal', 'submit_contact', 'detect_fb_session',\n",
       "       'tell_a_friend', 'change', 'clickthrough',\n",
       "       'multi_message_attributes', 'update_friends_display',\n",
       "       'my_listings', 'email_itinerary_colorbox', 'mobile_landing_page',\n",
       "       'create_ach', 'country_options', '11', 'host_2013', 'terms',\n",
       "       'multi_message', 'ajax_send_message', 'airbnb_picks',\n",
       "       'friends_new', 'reputation', 'complete_redirect',\n",
       "       'toggle_starred_thread', 'email_share', 'email_wishlist',\n",
       "       'destroy', 'add_note', 'overview', 'requirements',\n",
       "       'update_reservation_requirements', 'image_order', 'review_page',\n",
       "       'ajax_worth', 'place_worth', 'google_importer',\n",
       "       'change_availability', 'hospitality', 'change_password', 'feed',\n",
       "       'host_summary', 'ajax_price_and_availability', 'jumio',\n",
       "       'guest_booked_elsewhere', 'about_us', 'founders',\n",
       "       'travel_plans_previous', 'why_host', 'hospitality_standards',\n",
       "       'social', 'recommendations', 'update_cached', 'become_user',\n",
       "       'departments', 'department', 'office_location', 'photography',\n",
       "       'preapproval', 'maybe_information', 'toggle_availability',\n",
       "       'payoneer_account_redirect', 'forgot_password', 'new_host',\n",
       "       'payoneer_signup_complete', 'ajax_google_translate', 'onenight',\n",
       "       'approve', 'nyan', 'booking', 'payout_delete',\n",
       "       'change_default_payout', 'envoy_bank_details_redirect', 'respond',\n",
       "       'request_photography', 'zendesk_login_jwt', 'ajax_photo_widget',\n",
       "       'message', 'southern-europe', 'life', 'press_release',\n",
       "       'media_resources', 'press_news', 'referrer_status',\n",
       "       'create_multiple', 'load_more', 'create_paypal',\n",
       "       'locale_from_host', 'terms_and_conditions', 'invalid_action',\n",
       "       'photography_update', 'badge', 'apply', 'redirect', 'pricing',\n",
       "       'apply_code', 'slideshow', 'locations',\n",
       "       'ajax_google_translate_reviews', 'new_session', 'has_profile_pic',\n",
       "       'sublets', 'wishlists', 'reservation', 'localized',\n",
       "       'home_safety_landing', 'click', 'how_it_works',\n",
       "       'ajax_get_referrals_amt', 'phone_verification', 'satisfy',\n",
       "       'city_count', 'recommendation_page', 'press_content',\n",
       "       'guest_billing_receipt', 'ajax_payout_split_edit',\n",
       "       'print_confirmation', 'envoy_form',\n",
       "       'ajax_special_offer_dates_available',\n",
       "       'ajax_referral_banner_experiment_type', 'patch', 'questions',\n",
       "       'home_safety_terms', 'track_activity', 'check', 'sldf',\n",
       "       'recommended_listings', 'mobile_oauth_callback', 'show_code',\n",
       "       'signed_out_modal', 'plaxo_cb', 'views', 'friend_listing',\n",
       "       'ajax_referral_banner_type', 'deactivate', 'sync', 'social-media',\n",
       "       'united-states', 'email_by_key', 'disaster_action',\n",
       "       'views_campaign', 'update_message', 'spoken_languages',\n",
       "       'use_mobile_site', 'deauthorize', 'special_offer',\n",
       "       'top_destinations', 'create_airbnb', 'handle_vanity_url',\n",
       "       'impressions', 'message_to_host_focus',\n",
       "       'cancellation_policy_click', 'message_to_host_change',\n",
       "       'agree_terms_check', 'read_policy_click',\n",
       "       'phone_verification_success',\n",
       "       'phone_verification_number_sucessfully_submitted',\n",
       "       'phone_verification_number_submitted_for_sms',\n",
       "       'phone_verification_phone_number_removed', 'endpoint_error',\n",
       "       'p4_refund_policy_terms', 'apply_coupon_error_type',\n",
       "       'apply_coupon_error', 'apply_coupon_click', 'coupon_field_focus',\n",
       "       'coupon_code_click', 'agree_terms_uncheck', 'p4_terms',\n",
       "       'phone_verification_call_taking_too_long',\n",
       "       'phone_verification_number_submitted_for_call',\n",
       "       'phone_verification_error', 'apply_coupon_click_success',\n",
       "       'set_default', 'update_country_of_residence',\n",
       "       'open_hard_fallback_modal', 'tos_2014', 'views_campaign_rules',\n",
       "       'weibo_signup_referral_finish', 'signup_weibo_referral',\n",
       "       'similar_listings_v2', 'confirmation', 'signup_weibo',\n",
       "       'acculynk_load_pin_pad', 'acculynk_bin_check_success',\n",
       "       'acculynk_session_obtained', 'acculynk_pin_pad_inactive',\n",
       "       'reactivate', 'airbrb', 'desks', 'sandy', 'unsubscribe',\n",
       "       'host_cancel', 'acculynk_bin_check_failed',\n",
       "       'acculynk_pin_pad_error', 'custom_recommended_destinations',\n",
       "       'this_hosting_reviews_3000', 'reset_calendar', 'events',\n",
       "       'business_travel', 'add_guest_colorbox', 'hard_fallback_submit',\n",
       "       'add_business_address_colorbox', 'my_reservations', 'report',\n",
       "       'book', 'revert_to_admin', 'acculynk_pin_pad_success',\n",
       "       'south-america', 'braintree_client_token', 'view', 'stpcv',\n",
       "       'set_minimum_payout_amount', 'support_phone_numbers',\n",
       "       'refund_guest_cancellation', 'accept_decline', 'deactivated',\n",
       "       'rest-of-world'], dtype=object)"
      ]
     },
     "execution_count": 240,
     "metadata": {},
     "output_type": "execute_result"
    }
   ],
   "source": [
    "sessions_df.action.unique()"
   ]
  },
  {
   "cell_type": "code",
   "execution_count": 241,
   "metadata": {},
   "outputs": [
    {
     "data": {
      "text/plain": [
       "11"
      ]
     },
     "execution_count": 241,
     "metadata": {},
     "output_type": "execute_result"
    }
   ],
   "source": [
    "len(sessions_df.action_type.unique())"
   ]
  },
  {
   "cell_type": "code",
   "execution_count": 242,
   "metadata": {},
   "outputs": [
    {
     "data": {
      "text/plain": [
       "array([nan, 'click', 'data', 'view', 'submit', 'message_post',\n",
       "       '-unknown-', 'booking_request', 'partner_callback',\n",
       "       'booking_response', 'modify'], dtype=object)"
      ]
     },
     "execution_count": 242,
     "metadata": {},
     "output_type": "execute_result"
    }
   ],
   "source": [
    "sessions_df.action_type.unique()"
   ]
  },
  {
   "cell_type": "code",
   "execution_count": 243,
   "metadata": {},
   "outputs": [
    {
     "data": {
      "text/plain": [
       "156"
      ]
     },
     "execution_count": 243,
     "metadata": {},
     "output_type": "execute_result"
    }
   ],
   "source": [
    "len(sessions_df.action_detail.unique())"
   ]
  },
  {
   "cell_type": "code",
   "execution_count": 244,
   "metadata": {},
   "outputs": [
    {
     "data": {
      "text/plain": [
       "array([nan, 'view_search_results', 'wishlist_content_update',\n",
       "       'similar_listings', 'change_trip_characteristics', 'p3',\n",
       "       'header_userpic', 'contact_host', 'message_post', '-unknown-',\n",
       "       'dashboard', 'create_user', 'confirm_email_link',\n",
       "       'user_profile_content_update', 'user_profile', 'pending', 'p5',\n",
       "       'create_phone_numbers', 'cancellation_policies', 'user_wishlists',\n",
       "       'change_contact_host_dates', 'wishlist', 'message_thread',\n",
       "       'request_new_confirm_email', 'send_message', 'your_trips',\n",
       "       'login_page', 'login', 'login_modal', 'toggle_archived_thread',\n",
       "       'p1', 'profile_verifications', 'edit_profile', 'oauth_login',\n",
       "       'post_checkout_action', 'account_notification_settings',\n",
       "       'update_user_profile', 'oauth_response', 'signup_modal',\n",
       "       'signup_login_page', 'at_checkpoint', 'manage_listing',\n",
       "       'create_listing', 'your_listings', 'profile_references',\n",
       "       'list_your_space', 'popular_wishlists', 'listing_reviews_page',\n",
       "       'apply_coupon', 'user_tax_forms', 'account_payout_preferences',\n",
       "       'guest_itinerary', 'guest_receipt', 'account_privacy_settings',\n",
       "       'lookup_message_thread', 'friends_wishlists', 'host_guarantee',\n",
       "       'delete_phone_numbers', 'account_transaction_history',\n",
       "       'set_password', 'guest_cancellation', 'change_or_alter',\n",
       "       'your_reservations', 'terms_and_privacy', 'airbnb_picks_wishlists',\n",
       "       'toggle_starred_thread', 'email_wishlist', 'email_wishlist_button',\n",
       "       'wishlist_note', 'calculate_worth', 'place_worth',\n",
       "       'change_password', 'alteration_field', 'previous_trips',\n",
       "       'update_listing', 'update_listing_description', 'user_reviews',\n",
       "       'update_user', 'notifications', 'user_social_connections',\n",
       "       'unavailable_dates', 'reservations', 'listing_reviews',\n",
       "       'user_listings', 'signup', 'message_inbox', 'trip_availability',\n",
       "       'payment_instruments', 'admin_templates', 'host_home',\n",
       "       'translations', 'forgot_password', 'homepage',\n",
       "       'remove_dashboard_alert', 'user_friend_recommendations',\n",
       "       'confirm_email', 'host_respond', 'booking',\n",
       "       'respond_to_alteration_request', 'alteration_request',\n",
       "       'create_alteration_request', 'delete_listing', 'set_password_page',\n",
       "       'delete_listing_description', 'translate_listing_reviews',\n",
       "       'book_it', 'instant_book', 'request_to_book', 'complete_booking',\n",
       "       'change_availability', 'special_offer_field',\n",
       "       'listing_recommendations', 'view_listing', 'listing_descriptions',\n",
       "       'user_languages', 'p4', 'message_to_host_focus',\n",
       "       'cancellation_policy_click', 'message_to_host_change',\n",
       "       'read_policy_click', 'phone_verification_success',\n",
       "       'p4_refund_policy_terms', 'apply_coupon_error',\n",
       "       'apply_coupon_click', 'coupon_field_focus', 'coupon_code_click',\n",
       "       'p4_terms', 'apply_coupon_click_success', 'tos_2014',\n",
       "       'view_reservations', 'view_locations', 'modify_users',\n",
       "       'view_security_checks', 'phone_numbers', 'profile_reviews',\n",
       "       'modify_reservations', 'view_resolutions',\n",
       "       'account_payment_methods', 'create_payment_instrument',\n",
       "       'set_default_payment_instrument', 'delete_payment_instrument',\n",
       "       'photos', 'click_reviews', 'move_map', 'share',\n",
       "       'cancellation_policy', 'click_about_host', 'click_amenities',\n",
       "       'host_refund_guest', 'host_respond_page', 'view_user_real_names',\n",
       "       'view_identity_verifications', 'view_ghosting_reasons',\n",
       "       'view_ghostings', 'host_standard_suspension',\n",
       "       'deactivate_user_account'], dtype=object)"
      ]
     },
     "execution_count": 244,
     "metadata": {},
     "output_type": "execute_result"
    }
   ],
   "source": [
    "sessions_df.action_detail.unique()"
   ]
  },
  {
   "cell_type": "markdown",
   "metadata": {},
   "source": [
    "Verificamos que, si __action_type__ es null, tambien lo es __action_detail__"
   ]
  },
  {
   "cell_type": "code",
   "execution_count": 245,
   "metadata": {},
   "outputs": [
    {
     "data": {
      "text/plain": [
       "array([nan], dtype=object)"
      ]
     },
     "execution_count": 245,
     "metadata": {},
     "output_type": "execute_result"
    }
   ],
   "source": [
    "sessions_df[ sessions_df.action_type.isnull() == True ].action_detail.unique()"
   ]
  },
  {
   "cell_type": "markdown",
   "metadata": {},
   "source": [
    "Veamos que valores hay para __action__ cuando __action_type__ es nulo"
   ]
  },
  {
   "cell_type": "code",
   "execution_count": 246,
   "metadata": {},
   "outputs": [
    {
     "data": {
      "text/plain": [
       "array(['lookup', 'show', 'track_page_view', 'widget', 'uptodate', 'index',\n",
       "       'campaigns', 'currencies', 'localization_settings', 'update',\n",
       "       'phone_verification', 'satisfy', 'track_activity', 'check',\n",
       "       'signed_out_modal', 'disaster_action', 'similar_listings_v2',\n",
       "       'braintree_client_token'], dtype=object)"
      ]
     },
     "execution_count": 246,
     "metadata": {},
     "output_type": "execute_result"
    }
   ],
   "source": [
    "sessions_df[ sessions_df.action_type.isnull()].action.unique()"
   ]
  },
  {
   "cell_type": "code",
   "execution_count": 247,
   "metadata": {},
   "outputs": [
    {
     "data": {
      "text/plain": [
       "array(['message_post'], dtype=object)"
      ]
     },
     "execution_count": 247,
     "metadata": {},
     "output_type": "execute_result"
    }
   ],
   "source": [
    "sessions_df[ sessions_df.action.isnull()].action_type.unique()"
   ]
  },
  {
   "cell_type": "markdown",
   "metadata": {},
   "source": [
    "Vamos a reemplazar el null en estos campos, por un valor fijo"
   ]
  },
  {
   "cell_type": "code",
   "execution_count": 248,
   "metadata": {},
   "outputs": [],
   "source": [
    "sessions_df['action'].fillna('unknown_action', inplace=True) \n",
    "sessions_df['action_type'].fillna('unknown_action_type-', inplace=True) \n",
    "sessions_df['action_detail'].fillna('unknown_action_detail-', inplace=True) "
   ]
  },
  {
   "cell_type": "code",
   "execution_count": 249,
   "metadata": {},
   "outputs": [
    {
     "data": {
      "text/plain": [
       "user_id           34496\n",
       "action                0\n",
       "action_type           0\n",
       "action_detail         0\n",
       "device_type           0\n",
       "secs_elapsed     136031\n",
       "dtype: int64"
      ]
     },
     "execution_count": 249,
     "metadata": {},
     "output_type": "execute_result"
    }
   ],
   "source": [
    "sessions_df.isnull().sum()"
   ]
  },
  {
   "cell_type": "markdown",
   "metadata": {},
   "source": [
    "Analicemos el __user_id__, porque puede dejar elementos fuera del merge con usuarios"
   ]
  },
  {
   "cell_type": "code",
   "execution_count": 250,
   "metadata": {},
   "outputs": [
    {
     "data": {
      "text/plain": [
       "0.003264275028797556"
      ]
     },
     "execution_count": 250,
     "metadata": {},
     "output_type": "execute_result"
    }
   ],
   "source": [
    "len(sessions_df[sessions_df.user_id.isnull() == True]) / len(sessions_df)"
   ]
  },
  {
   "cell_type": "markdown",
   "metadata": {},
   "source": [
    "La proporcion de user_id en null, es baja (3%). Vamos a eliminarlos"
   ]
  },
  {
   "cell_type": "code",
   "execution_count": 251,
   "metadata": {},
   "outputs": [],
   "source": [
    "sessions_df.dropna(subset=['user_id'], inplace=True)"
   ]
  },
  {
   "cell_type": "code",
   "execution_count": 252,
   "metadata": {},
   "outputs": [
    {
     "data": {
      "text/plain": [
       "user_id               0\n",
       "action                0\n",
       "action_type           0\n",
       "action_detail         0\n",
       "device_type           0\n",
       "secs_elapsed     135483\n",
       "dtype: int64"
      ]
     },
     "execution_count": 252,
     "metadata": {},
     "output_type": "execute_result"
    }
   ],
   "source": [
    "sessions_df.isnull().sum()"
   ]
  },
  {
   "cell_type": "markdown",
   "metadata": {},
   "source": [
    "Tratamiento de los nulos de secs_elapsed"
   ]
  },
  {
   "cell_type": "code",
   "execution_count": 253,
   "metadata": {},
   "outputs": [
    {
     "name": "stdout",
     "output_type": "stream",
     "text": [
      "1146.0\n"
     ]
    }
   ],
   "source": [
    "secs_elapsed_median = sessions_df.secs_elapsed.median()\n",
    "print(secs_elapsed_median)\n",
    "sessions_df['secs_elapsed'].fillna(secs_elapsed_median, inplace=True) "
   ]
  },
  {
   "cell_type": "code",
   "execution_count": 254,
   "metadata": {},
   "outputs": [
    {
     "data": {
      "text/plain": [
       "user_id          0\n",
       "action           0\n",
       "action_type      0\n",
       "action_detail    0\n",
       "device_type      0\n",
       "secs_elapsed     0\n",
       "dtype: int64"
      ]
     },
     "execution_count": 254,
     "metadata": {},
     "output_type": "execute_result"
    }
   ],
   "source": [
    "sessions_df.isnull().sum()"
   ]
  },
  {
   "cell_type": "markdown",
   "metadata": {},
   "source": [
    "Listo, no quedan null values en sessions"
   ]
  },
  {
   "cell_type": "markdown",
   "metadata": {},
   "source": [
    "### Analisis feature __device_type__"
   ]
  },
  {
   "cell_type": "code",
   "execution_count": 255,
   "metadata": {},
   "outputs": [
    {
     "data": {
      "text/plain": [
       "Mac Desktop                         3585886\n",
       "Windows Desktop                     2648521\n",
       "iPhone                              2096749\n",
       "Android Phone                        835991\n",
       "iPad Tablet                          681836\n",
       "Android App Unknown Phone/Tablet     272820\n",
       "-unknown-                            210059\n",
       "Tablet                               139859\n",
       "Linux Desktop                         27968\n",
       "Chromebook                            22272\n",
       "iPodtouch                              8186\n",
       "Windows Phone                          2047\n",
       "Blackberry                              979\n",
       "Opera Phone                              68\n",
       "Name: device_type, dtype: int64"
      ]
     },
     "execution_count": 255,
     "metadata": {},
     "output_type": "execute_result"
    }
   ],
   "source": [
    "sessions_df['device_type'].value_counts()"
   ]
  },
  {
   "cell_type": "markdown",
   "metadata": {},
   "source": [
    "Veamos como se distribuye el __device_type__ por usuario "
   ]
  },
  {
   "cell_type": "code",
   "execution_count": 256,
   "metadata": {},
   "outputs": [],
   "source": [
    "device_type_per_user_df = sessions_df.groupby('user_id')['device_type'].nunique()"
   ]
  },
  {
   "cell_type": "code",
   "execution_count": 257,
   "metadata": {},
   "outputs": [
    {
     "data": {
      "text/plain": [
       "array([2, 1, 3, 4, 5, 6])"
      ]
     },
     "execution_count": 257,
     "metadata": {},
     "output_type": "execute_result"
    }
   ],
   "source": [
    "device_type_per_user_df.unique()"
   ]
  },
  {
   "cell_type": "code",
   "execution_count": 258,
   "metadata": {},
   "outputs": [
    {
     "data": {
      "text/plain": [
       "count    135483.000000\n",
       "mean          1.315560\n",
       "std           0.567364\n",
       "min           1.000000\n",
       "25%           1.000000\n",
       "50%           1.000000\n",
       "75%           2.000000\n",
       "max           6.000000\n",
       "Name: device_type, dtype: float64"
      ]
     },
     "execution_count": 258,
     "metadata": {},
     "output_type": "execute_result"
    }
   ],
   "source": [
    "device_type_per_user_df.describe()"
   ]
  },
  {
   "cell_type": "code",
   "execution_count": 259,
   "metadata": {},
   "outputs": [
    {
     "data": {
      "text/plain": [
       "<matplotlib.axes._subplots.AxesSubplot at 0x1a25ec70f0>"
      ]
     },
     "execution_count": 259,
     "metadata": {},
     "output_type": "execute_result"
    },
    {
     "data": {
      "image/png": "[encoded data removed]",
      "text/plain": [
       "<Figure size 1296x288 with 1 Axes>"
      ]
     },
     "metadata": {},
     "output_type": "display_data"
    }
   ],
   "source": [
    "plt.figure(figsize=(18,4))\n",
    "sns.countplot(device_type_per_user_df)"
   ]
  },
  {
   "cell_type": "markdown",
   "metadata": {},
   "source": [
    "La cantidad de usuarios que usan mas de un dispositivo es un dato que vamos a extraer, como una nueva feature"
   ]
  },
  {
   "cell_type": "markdown",
   "metadata": {},
   "source": [
    "### Age_Gender_Bkts"
   ]
  },
  {
   "cell_type": "code",
   "execution_count": 260,
   "metadata": {},
   "outputs": [],
   "source": [
    "age_gender_df = pd.read_csv(dataset_path+\"age_gender_bkts.csv\") "
   ]
  },
  {
   "cell_type": "code",
   "execution_count": 261,
   "metadata": {},
   "outputs": [
    {
     "data": {
      "text/html": [
       "<div>\n",
       "<style scoped>\n",
       "    .dataframe tbody tr th:only-of-type {\n",
       "        vertical-align: middle;\n",
       "    }\n",
       "\n",
       "    .dataframe tbody tr th {\n",
       "        vertical-align: top;\n",
       "    }\n",
       "\n",
       "    .dataframe thead th {\n",
       "        text-align: right;\n",
       "    }\n",
       "</style>\n",
       "<table border=\"1\" class=\"dataframe\">\n",
       "  <thead>\n",
       "    <tr style=\"text-align: right;\">\n",
       "      <th></th>\n",
       "      <th>age_bucket</th>\n",
       "      <th>country_destination</th>\n",
       "      <th>gender</th>\n",
       "      <th>population_in_thousands</th>\n",
       "      <th>year</th>\n",
       "    </tr>\n",
       "  </thead>\n",
       "  <tbody>\n",
       "    <tr>\n",
       "      <td>0</td>\n",
       "      <td>100+</td>\n",
       "      <td>AU</td>\n",
       "      <td>male</td>\n",
       "      <td>1.0</td>\n",
       "      <td>2015.0</td>\n",
       "    </tr>\n",
       "    <tr>\n",
       "      <td>1</td>\n",
       "      <td>95-99</td>\n",
       "      <td>AU</td>\n",
       "      <td>male</td>\n",
       "      <td>9.0</td>\n",
       "      <td>2015.0</td>\n",
       "    </tr>\n",
       "    <tr>\n",
       "      <td>2</td>\n",
       "      <td>90-94</td>\n",
       "      <td>AU</td>\n",
       "      <td>male</td>\n",
       "      <td>47.0</td>\n",
       "      <td>2015.0</td>\n",
       "    </tr>\n",
       "    <tr>\n",
       "      <td>3</td>\n",
       "      <td>85-89</td>\n",
       "      <td>AU</td>\n",
       "      <td>male</td>\n",
       "      <td>118.0</td>\n",
       "      <td>2015.0</td>\n",
       "    </tr>\n",
       "    <tr>\n",
       "      <td>4</td>\n",
       "      <td>80-84</td>\n",
       "      <td>AU</td>\n",
       "      <td>male</td>\n",
       "      <td>199.0</td>\n",
       "      <td>2015.0</td>\n",
       "    </tr>\n",
       "    <tr>\n",
       "      <td>5</td>\n",
       "      <td>75-79</td>\n",
       "      <td>AU</td>\n",
       "      <td>male</td>\n",
       "      <td>298.0</td>\n",
       "      <td>2015.0</td>\n",
       "    </tr>\n",
       "    <tr>\n",
       "      <td>6</td>\n",
       "      <td>70-74</td>\n",
       "      <td>AU</td>\n",
       "      <td>male</td>\n",
       "      <td>415.0</td>\n",
       "      <td>2015.0</td>\n",
       "    </tr>\n",
       "    <tr>\n",
       "      <td>7</td>\n",
       "      <td>65-69</td>\n",
       "      <td>AU</td>\n",
       "      <td>male</td>\n",
       "      <td>574.0</td>\n",
       "      <td>2015.0</td>\n",
       "    </tr>\n",
       "    <tr>\n",
       "      <td>8</td>\n",
       "      <td>60-64</td>\n",
       "      <td>AU</td>\n",
       "      <td>male</td>\n",
       "      <td>636.0</td>\n",
       "      <td>2015.0</td>\n",
       "    </tr>\n",
       "    <tr>\n",
       "      <td>9</td>\n",
       "      <td>55-59</td>\n",
       "      <td>AU</td>\n",
       "      <td>male</td>\n",
       "      <td>714.0</td>\n",
       "      <td>2015.0</td>\n",
       "    </tr>\n",
       "  </tbody>\n",
       "</table>\n",
       "</div>"
      ],
      "text/plain": [
       "  age_bucket country_destination gender  population_in_thousands    year\n",
       "0       100+                  AU   male                      1.0  2015.0\n",
       "1      95-99                  AU   male                      9.0  2015.0\n",
       "2      90-94                  AU   male                     47.0  2015.0\n",
       "3      85-89                  AU   male                    118.0  2015.0\n",
       "4      80-84                  AU   male                    199.0  2015.0\n",
       "5      75-79                  AU   male                    298.0  2015.0\n",
       "6      70-74                  AU   male                    415.0  2015.0\n",
       "7      65-69                  AU   male                    574.0  2015.0\n",
       "8      60-64                  AU   male                    636.0  2015.0\n",
       "9      55-59                  AU   male                    714.0  2015.0"
      ]
     },
     "execution_count": 261,
     "metadata": {},
     "output_type": "execute_result"
    }
   ],
   "source": [
    "age_gender_df.head(10)"
   ]
  },
  {
   "cell_type": "code",
   "execution_count": 262,
   "metadata": {},
   "outputs": [
    {
     "data": {
      "text/plain": [
       "420"
      ]
     },
     "execution_count": 262,
     "metadata": {},
     "output_type": "execute_result"
    }
   ],
   "source": [
    "len(age_gender_df)"
   ]
  },
  {
   "cell_type": "code",
   "execution_count": 263,
   "metadata": {},
   "outputs": [
    {
     "data": {
      "text/html": [
       "<div>\n",
       "<style scoped>\n",
       "    .dataframe tbody tr th:only-of-type {\n",
       "        vertical-align: middle;\n",
       "    }\n",
       "\n",
       "    .dataframe tbody tr th {\n",
       "        vertical-align: top;\n",
       "    }\n",
       "\n",
       "    .dataframe thead th {\n",
       "        text-align: right;\n",
       "    }\n",
       "</style>\n",
       "<table border=\"1\" class=\"dataframe\">\n",
       "  <thead>\n",
       "    <tr style=\"text-align: right;\">\n",
       "      <th></th>\n",
       "      <th>population_in_thousands</th>\n",
       "      <th>year</th>\n",
       "    </tr>\n",
       "  </thead>\n",
       "  <tbody>\n",
       "    <tr>\n",
       "      <td>count</td>\n",
       "      <td>420.000000</td>\n",
       "      <td>420.0</td>\n",
       "    </tr>\n",
       "    <tr>\n",
       "      <td>mean</td>\n",
       "      <td>1743.133333</td>\n",
       "      <td>2015.0</td>\n",
       "    </tr>\n",
       "    <tr>\n",
       "      <td>std</td>\n",
       "      <td>2509.843202</td>\n",
       "      <td>0.0</td>\n",
       "    </tr>\n",
       "    <tr>\n",
       "      <td>min</td>\n",
       "      <td>0.000000</td>\n",
       "      <td>2015.0</td>\n",
       "    </tr>\n",
       "    <tr>\n",
       "      <td>25%</td>\n",
       "      <td>396.500000</td>\n",
       "      <td>2015.0</td>\n",
       "    </tr>\n",
       "    <tr>\n",
       "      <td>50%</td>\n",
       "      <td>1090.500000</td>\n",
       "      <td>2015.0</td>\n",
       "    </tr>\n",
       "    <tr>\n",
       "      <td>75%</td>\n",
       "      <td>1968.000000</td>\n",
       "      <td>2015.0</td>\n",
       "    </tr>\n",
       "    <tr>\n",
       "      <td>max</td>\n",
       "      <td>11601.000000</td>\n",
       "      <td>2015.0</td>\n",
       "    </tr>\n",
       "  </tbody>\n",
       "</table>\n",
       "</div>"
      ],
      "text/plain": [
       "       population_in_thousands    year\n",
       "count               420.000000   420.0\n",
       "mean               1743.133333  2015.0\n",
       "std                2509.843202     0.0\n",
       "min                   0.000000  2015.0\n",
       "25%                 396.500000  2015.0\n",
       "50%                1090.500000  2015.0\n",
       "75%                1968.000000  2015.0\n",
       "max               11601.000000  2015.0"
      ]
     },
     "execution_count": 263,
     "metadata": {},
     "output_type": "execute_result"
    }
   ],
   "source": [
    "age_gender_df.describe()"
   ]
  },
  {
   "cell_type": "markdown",
   "metadata": {},
   "source": [
    "Verificamos si hay valores nulos en el dataset"
   ]
  },
  {
   "cell_type": "code",
   "execution_count": 264,
   "metadata": {},
   "outputs": [
    {
     "data": {
      "text/plain": [
       "age_bucket                 0\n",
       "country_destination        0\n",
       "gender                     0\n",
       "population_in_thousands    0\n",
       "year                       0\n",
       "dtype: int64"
      ]
     },
     "execution_count": 264,
     "metadata": {},
     "output_type": "execute_result"
    }
   ],
   "source": [
    "age_gender_df.isnull().sum()"
   ]
  },
  {
   "cell_type": "markdown",
   "metadata": {},
   "source": [
    "## Test_users"
   ]
  },
  {
   "cell_type": "code",
   "execution_count": 265,
   "metadata": {},
   "outputs": [],
   "source": [
    "train_users_df = pd.read_csv( dataset_path + \"train_users_2.csv\", \n",
    "                            parse_dates=[\"date_account_created\",\"timestamp_first_active\", \"date_first_booking\"]) "
   ]
  },
  {
   "cell_type": "code",
   "execution_count": 266,
   "metadata": {},
   "outputs": [
    {
     "data": {
      "text/plain": [
       "213451"
      ]
     },
     "execution_count": 266,
     "metadata": {},
     "output_type": "execute_result"
    }
   ],
   "source": [
    "len(train_users_df)"
   ]
  },
  {
   "cell_type": "code",
   "execution_count": 267,
   "metadata": {},
   "outputs": [
    {
     "data": {
      "text/html": [
       "<div>\n",
       "<style scoped>\n",
       "    .dataframe tbody tr th:only-of-type {\n",
       "        vertical-align: middle;\n",
       "    }\n",
       "\n",
       "    .dataframe tbody tr th {\n",
       "        vertical-align: top;\n",
       "    }\n",
       "\n",
       "    .dataframe thead th {\n",
       "        text-align: right;\n",
       "    }\n",
       "</style>\n",
       "<table border=\"1\" class=\"dataframe\">\n",
       "  <thead>\n",
       "    <tr style=\"text-align: right;\">\n",
       "      <th></th>\n",
       "      <th>id</th>\n",
       "      <th>date_account_created</th>\n",
       "      <th>timestamp_first_active</th>\n",
       "      <th>date_first_booking</th>\n",
       "      <th>gender</th>\n",
       "      <th>age</th>\n",
       "      <th>signup_method</th>\n",
       "      <th>signup_flow</th>\n",
       "      <th>language</th>\n",
       "      <th>affiliate_channel</th>\n",
       "      <th>affiliate_provider</th>\n",
       "      <th>first_affiliate_tracked</th>\n",
       "      <th>signup_app</th>\n",
       "      <th>first_device_type</th>\n",
       "      <th>first_browser</th>\n",
       "      <th>country_destination</th>\n",
       "    </tr>\n",
       "  </thead>\n",
       "  <tbody>\n",
       "    <tr>\n",
       "      <td>0</td>\n",
       "      <td>gxn3p5htnn</td>\n",
       "      <td>2010-06-28</td>\n",
       "      <td>2009-03-19 04:32:55</td>\n",
       "      <td>NaT</td>\n",
       "      <td>-unknown-</td>\n",
       "      <td>NaN</td>\n",
       "      <td>facebook</td>\n",
       "      <td>0</td>\n",
       "      <td>en</td>\n",
       "      <td>direct</td>\n",
       "      <td>direct</td>\n",
       "      <td>untracked</td>\n",
       "      <td>Web</td>\n",
       "      <td>Mac Desktop</td>\n",
       "      <td>Chrome</td>\n",
       "      <td>NDF</td>\n",
       "    </tr>\n",
       "    <tr>\n",
       "      <td>1</td>\n",
       "      <td>820tgsjxq7</td>\n",
       "      <td>2011-05-25</td>\n",
       "      <td>2009-05-23 17:48:09</td>\n",
       "      <td>NaT</td>\n",
       "      <td>MALE</td>\n",
       "      <td>38.0</td>\n",
       "      <td>facebook</td>\n",
       "      <td>0</td>\n",
       "      <td>en</td>\n",
       "      <td>seo</td>\n",
       "      <td>google</td>\n",
       "      <td>untracked</td>\n",
       "      <td>Web</td>\n",
       "      <td>Mac Desktop</td>\n",
       "      <td>Chrome</td>\n",
       "      <td>NDF</td>\n",
       "    </tr>\n",
       "    <tr>\n",
       "      <td>2</td>\n",
       "      <td>4ft3gnwmtx</td>\n",
       "      <td>2010-09-28</td>\n",
       "      <td>2009-06-09 23:12:47</td>\n",
       "      <td>2010-08-02</td>\n",
       "      <td>FEMALE</td>\n",
       "      <td>56.0</td>\n",
       "      <td>basic</td>\n",
       "      <td>3</td>\n",
       "      <td>en</td>\n",
       "      <td>direct</td>\n",
       "      <td>direct</td>\n",
       "      <td>untracked</td>\n",
       "      <td>Web</td>\n",
       "      <td>Windows Desktop</td>\n",
       "      <td>IE</td>\n",
       "      <td>US</td>\n",
       "    </tr>\n",
       "    <tr>\n",
       "      <td>3</td>\n",
       "      <td>bjjt8pjhuk</td>\n",
       "      <td>2011-12-05</td>\n",
       "      <td>2009-10-31 06:01:29</td>\n",
       "      <td>2012-09-08</td>\n",
       "      <td>FEMALE</td>\n",
       "      <td>42.0</td>\n",
       "      <td>facebook</td>\n",
       "      <td>0</td>\n",
       "      <td>en</td>\n",
       "      <td>direct</td>\n",
       "      <td>direct</td>\n",
       "      <td>untracked</td>\n",
       "      <td>Web</td>\n",
       "      <td>Mac Desktop</td>\n",
       "      <td>Firefox</td>\n",
       "      <td>other</td>\n",
       "    </tr>\n",
       "    <tr>\n",
       "      <td>4</td>\n",
       "      <td>87mebub9p4</td>\n",
       "      <td>2010-09-14</td>\n",
       "      <td>2009-12-08 06:11:05</td>\n",
       "      <td>2010-02-18</td>\n",
       "      <td>-unknown-</td>\n",
       "      <td>41.0</td>\n",
       "      <td>basic</td>\n",
       "      <td>0</td>\n",
       "      <td>en</td>\n",
       "      <td>direct</td>\n",
       "      <td>direct</td>\n",
       "      <td>untracked</td>\n",
       "      <td>Web</td>\n",
       "      <td>Mac Desktop</td>\n",
       "      <td>Chrome</td>\n",
       "      <td>US</td>\n",
       "    </tr>\n",
       "  </tbody>\n",
       "</table>\n",
       "</div>"
      ],
      "text/plain": [
       "           id date_account_created timestamp_first_active date_first_booking  \\\n",
       "0  gxn3p5htnn           2010-06-28    2009-03-19 04:32:55                NaT   \n",
       "1  820tgsjxq7           2011-05-25    2009-05-23 17:48:09                NaT   \n",
       "2  4ft3gnwmtx           2010-09-28    2009-06-09 23:12:47         2010-08-02   \n",
       "3  bjjt8pjhuk           2011-12-05    2009-10-31 06:01:29         2012-09-08   \n",
       "4  87mebub9p4           2010-09-14    2009-12-08 06:11:05         2010-02-18   \n",
       "\n",
       "      gender   age signup_method  signup_flow language affiliate_channel  \\\n",
       "0  -unknown-   NaN      facebook            0       en            direct   \n",
       "1       MALE  38.0      facebook            0       en               seo   \n",
       "2     FEMALE  56.0         basic            3       en            direct   \n",
       "3     FEMALE  42.0      facebook            0       en            direct   \n",
       "4  -unknown-  41.0         basic            0       en            direct   \n",
       "\n",
       "  affiliate_provider first_affiliate_tracked signup_app first_device_type  \\\n",
       "0             direct               untracked        Web       Mac Desktop   \n",
       "1             google               untracked        Web       Mac Desktop   \n",
       "2             direct               untracked        Web   Windows Desktop   \n",
       "3             direct               untracked        Web       Mac Desktop   \n",
       "4             direct               untracked        Web       Mac Desktop   \n",
       "\n",
       "  first_browser country_destination  \n",
       "0        Chrome                 NDF  \n",
       "1        Chrome                 NDF  \n",
       "2            IE                  US  \n",
       "3       Firefox               other  \n",
       "4        Chrome                  US  "
      ]
     },
     "execution_count": 267,
     "metadata": {},
     "output_type": "execute_result"
    }
   ],
   "source": [
    "train_users_df.head()"
   ]
  },
  {
   "cell_type": "code",
   "execution_count": 268,
   "metadata": {},
   "outputs": [
    {
     "data": {
      "text/plain": [
       "id                              0\n",
       "date_account_created            0\n",
       "timestamp_first_active          0\n",
       "date_first_booking         124543\n",
       "gender                          0\n",
       "age                         87990\n",
       "signup_method                   0\n",
       "signup_flow                     0\n",
       "language                        0\n",
       "affiliate_channel               0\n",
       "affiliate_provider              0\n",
       "first_affiliate_tracked      6065\n",
       "signup_app                      0\n",
       "first_device_type               0\n",
       "first_browser                   0\n",
       "country_destination             0\n",
       "dtype: int64"
      ]
     },
     "execution_count": 268,
     "metadata": {},
     "output_type": "execute_result"
    }
   ],
   "source": [
    "train_users_df.isnull().sum()"
   ]
  },
  {
   "cell_type": "code",
   "execution_count": 269,
   "metadata": {},
   "outputs": [
    {
     "data": {
      "text/plain": [
       "array(['2010-06-28T00:00:00.000000000', '2011-05-25T00:00:00.000000000',\n",
       "       '2010-09-28T00:00:00.000000000', ...,\n",
       "       '2014-06-27T00:00:00.000000000', '2014-06-29T00:00:00.000000000',\n",
       "       '2014-06-30T00:00:00.000000000'], dtype='datetime64[ns]')"
      ]
     },
     "execution_count": 269,
     "metadata": {},
     "output_type": "execute_result"
    }
   ],
   "source": [
    "train_users_df.date_account_created.unique()"
   ]
  },
  {
   "cell_type": "markdown",
   "metadata": {},
   "source": [
    "### Tratamiento de fechas"
   ]
  },
  {
   "cell_type": "code",
   "execution_count": 270,
   "metadata": {},
   "outputs": [],
   "source": [
    "def date_convert_to_epoch( date ):\n",
    "    # date is a pandas datetime\n",
    "    # https://stackoverflow.com/questions/35630098/convert-a-column-of-datetimes-to-epoch-in-python\n",
    "    \n",
    "    return date.astype('int64')//1e9\n"
   ]
  },
  {
   "cell_type": "code",
   "execution_count": 271,
   "metadata": {},
   "outputs": [],
   "source": [
    "train_users_df['date_account_created'] = date_convert_to_epoch( train_users_df.date_account_created )\n",
    "train_users_df['timestamp_first_active'] = date_convert_to_epoch( train_users_df.timestamp_first_active )\n",
    "train_users_df['date_first_booking'] = date_convert_to_epoch( train_users_df.date_first_booking )"
   ]
  },
  {
   "cell_type": "markdown",
   "metadata": {},
   "source": [
    "### Analisis de la feature __country_destination__"
   ]
  },
  {
   "cell_type": "code",
   "execution_count": 272,
   "metadata": {},
   "outputs": [
    {
     "data": {
      "text/plain": [
       "<matplotlib.axes._subplots.AxesSubplot at 0x1a2b79ccf8>"
      ]
     },
     "execution_count": 272,
     "metadata": {},
     "output_type": "execute_result"
    },
    {
     "data": {
      "image/png": "[encoded data removed]",
      "text/plain": [
       "<Figure size 576x396 with 1 Axes>"
      ]
     },
     "metadata": {},
     "output_type": "display_data"
    }
   ],
   "source": [
    "sns.countplot(data=train_users_df, x=\"country_destination\", hue=\"gender\")"
   ]
  },
  {
   "cell_type": "markdown",
   "metadata": {},
   "source": [
    "### Tratamiento de __age__"
   ]
  },
  {
   "cell_type": "markdown",
   "metadata": {},
   "source": [
    "Tratamos los datos faltantes en __age__ y eliminamos outliers"
   ]
  },
  {
   "cell_type": "code",
   "execution_count": 273,
   "metadata": {},
   "outputs": [
    {
     "data": {
      "text/plain": [
       "count    125461.000000\n",
       "mean         49.668335\n",
       "std         155.666612\n",
       "min           1.000000\n",
       "25%          28.000000\n",
       "50%          34.000000\n",
       "75%          43.000000\n",
       "max        2014.000000\n",
       "Name: age, dtype: float64"
      ]
     },
     "execution_count": 273,
     "metadata": {},
     "output_type": "execute_result"
    }
   ],
   "source": [
    "train_users_df.age.describe()"
   ]
  },
  {
   "cell_type": "code",
   "execution_count": 274,
   "metadata": {},
   "outputs": [
    {
     "data": {
      "image/png": "[encoded data removed]",
      "text/plain": [
       "<Figure size 864x576 with 1 Axes>"
      ]
     },
     "metadata": {},
     "output_type": "display_data"
    }
   ],
   "source": [
    "plt.figure(figsize=(12,8))\n",
    "sns.distplot(train_users_df['age'].dropna(),bins=10, label='Age')\n",
    "plt.legend(bbox_to_anchor=(1, 1))\n",
    "sns.despine()"
   ]
  },
  {
   "cell_type": "markdown",
   "metadata": {},
   "source": [
    "Eliminamos las edades que estan fuera de rangos normales de usuarios.  \n",
    "En este caso, edades mayores a 100 y menores a 13."
   ]
  },
  {
   "cell_type": "code",
   "execution_count": 275,
   "metadata": {},
   "outputs": [],
   "source": [
    "train_users_df = train_users_df[ train_users_df.age < 100 ]"
   ]
  },
  {
   "cell_type": "code",
   "execution_count": 276,
   "metadata": {},
   "outputs": [],
   "source": [
    "train_users_df = train_users_df[ train_users_df.age > 13 ]"
   ]
  },
  {
   "cell_type": "code",
   "execution_count": 277,
   "metadata": {},
   "outputs": [
    {
     "data": {
      "image/png": "[encoded data removed]",
      "text/plain": [
       "<Figure size 864x576 with 1 Axes>"
      ]
     },
     "metadata": {},
     "output_type": "display_data"
    }
   ],
   "source": [
    "plt.figure(figsize=(12,8))\n",
    "sns.distplot(train_users_df['age'].dropna(),bins=10, label='Age')\n",
    "plt.legend(bbox_to_anchor=(1, 1))\n",
    "sns.despine()"
   ]
  },
  {
   "cell_type": "code",
   "execution_count": 278,
   "metadata": {},
   "outputs": [
    {
     "data": {
      "image/png": "[encoded data removed]",
      "text/plain": [
       "<Figure size 720x432 with 1 Axes>"
      ]
     },
     "metadata": {},
     "output_type": "display_data"
    }
   ],
   "source": [
    "plt.figure(figsize=(10,6))\n",
    "plt.ylim(ymax = 100, ymin = 0)\n",
    "sns.boxplot(data=train_users_df, x='gender', y='age' )\n",
    "sns.despine()\n",
    "plt.show()"
   ]
  },
  {
   "cell_type": "markdown",
   "metadata": {},
   "source": [
    "### Tratamiento de __first_affiliate_tracked__ y otros relacionados"
   ]
  },
  {
   "cell_type": "code",
   "execution_count": 279,
   "metadata": {},
   "outputs": [
    {
     "data": {
      "text/plain": [
       "id                            0\n",
       "date_account_created          0\n",
       "timestamp_first_active        0\n",
       "date_first_booking            0\n",
       "gender                        0\n",
       "age                           0\n",
       "signup_method                 0\n",
       "signup_flow                   0\n",
       "language                      0\n",
       "affiliate_channel             0\n",
       "affiliate_provider            0\n",
       "first_affiliate_tracked    1963\n",
       "signup_app                    0\n",
       "first_device_type             0\n",
       "first_browser                 0\n",
       "country_destination           0\n",
       "dtype: int64"
      ]
     },
     "execution_count": 279,
     "metadata": {},
     "output_type": "execute_result"
    }
   ],
   "source": [
    "train_users_df.isnull().sum()"
   ]
  },
  {
   "cell_type": "code",
   "execution_count": 280,
   "metadata": {},
   "outputs": [
    {
     "data": {
      "text/plain": [
       "array(['untracked', 'omg', 'linked', nan, 'tracked-other', 'product',\n",
       "       'marketing', 'local ops'], dtype=object)"
      ]
     },
     "execution_count": 280,
     "metadata": {},
     "output_type": "execute_result"
    }
   ],
   "source": [
    "train_users_df['first_affiliate_tracked'].unique()"
   ]
  },
  {
   "cell_type": "code",
   "execution_count": 281,
   "metadata": {},
   "outputs": [],
   "source": [
    "train_users_df.dropna(subset=['first_affiliate_tracked'], inplace=True)"
   ]
  },
  {
   "cell_type": "markdown",
   "metadata": {},
   "source": [
    "### Tratamiento de __language__"
   ]
  },
  {
   "cell_type": "code",
   "execution_count": 282,
   "metadata": {},
   "outputs": [
    {
     "data": {
      "text/plain": [
       "array(['en', 'de', 'fr', 'es', 'zh', 'ko', 'it', 'ru', 'ja', 'pt', 'nl',\n",
       "       'sv', 'pl', 'hu', 'da', 'id', 'fi', 'no', 'tr', 'el', 'th', 'cs',\n",
       "       'hr', 'ca', 'is'], dtype=object)"
      ]
     },
     "execution_count": 282,
     "metadata": {},
     "output_type": "execute_result"
    }
   ],
   "source": [
    "train_users_df['language'].unique()"
   ]
  },
  {
   "cell_type": "code",
   "execution_count": 283,
   "metadata": {},
   "outputs": [
    {
     "data": {
      "text/plain": [
       "language\n",
       "ca         4\n",
       "cs        18\n",
       "da        33\n",
       "de       406\n",
       "el        22\n",
       "en    116674\n",
       "es       621\n",
       "fi        11\n",
       "fr       797\n",
       "hr         2\n",
       "hu        15\n",
       "id        17\n",
       "is         4\n",
       "it       343\n",
       "ja       128\n",
       "ko       390\n",
       "nl        52\n",
       "no        20\n",
       "pl        42\n",
       "pt       167\n",
       "ru       266\n",
       "sv        78\n",
       "th        17\n",
       "tr        45\n",
       "zh       898\n",
       "Name: language, dtype: int64"
      ]
     },
     "execution_count": 283,
     "metadata": {},
     "output_type": "execute_result"
    }
   ],
   "source": [
    "train_users_df.groupby('language')['language'].count()"
   ]
  },
  {
   "cell_type": "code",
   "execution_count": 284,
   "metadata": {},
   "outputs": [
    {
     "data": {
      "text/plain": [
       "0.9636904270256876"
      ]
     },
     "execution_count": 284,
     "metadata": {},
     "output_type": "execute_result"
    }
   ],
   "source": [
    "len( train_users_df[ train_users_df['language']==\"en\" ]) /  len(train_users_df)"
   ]
  },
  {
   "cell_type": "code",
   "execution_count": 285,
   "metadata": {},
   "outputs": [
    {
     "data": {
      "image/png": "[encoded data removed]",
      "text/plain": [
       "<Figure size 720x432 with 1 Axes>"
      ]
     },
     "metadata": {},
     "output_type": "display_data"
    }
   ],
   "source": [
    "plt.figure(figsize=(10,6))\n",
    "\n",
    "sns.countplot( data = train_users_df, x='language')\n",
    "\n",
    "sns.despine(left=True)"
   ]
  },
  {
   "cell_type": "markdown",
   "metadata": {},
   "source": [
    "Se observa una gran mayoría de usuarios con lenguaje \"Ingles\" (95%)  \n",
    "Veamos cual es la distribucion en el resto de los casos"
   ]
  },
  {
   "cell_type": "code",
   "execution_count": 286,
   "metadata": {},
   "outputs": [
    {
     "data": {
      "image/png": "[encoded data removed]",
      "text/plain": [
       "<Figure size 720x432 with 1 Axes>"
      ]
     },
     "metadata": {},
     "output_type": "display_data"
    }
   ],
   "source": [
    "plt.figure(figsize=(10,6))\n",
    "\n",
    "sns.countplot( data = train_users_df.query('language!=\"en\"'), x='language')\n",
    "\n",
    "sns.despine(left=True)"
   ]
  },
  {
   "cell_type": "markdown",
   "metadata": {},
   "source": [
    "### Tratamiento de __gender__"
   ]
  },
  {
   "cell_type": "code",
   "execution_count": 287,
   "metadata": {},
   "outputs": [
    {
     "data": {
      "text/plain": [
       "array(['MALE', 'FEMALE', '-unknown-', 'OTHER'], dtype=object)"
      ]
     },
     "execution_count": 287,
     "metadata": {},
     "output_type": "execute_result"
    }
   ],
   "source": [
    "train_users_df['gender'].unique()"
   ]
  },
  {
   "cell_type": "code",
   "execution_count": 288,
   "metadata": {},
   "outputs": [
    {
     "data": {
      "text/plain": [
       "gender\n",
       "-unknown-    15924\n",
       "FEMALE       55869\n",
       "MALE         49052\n",
       "OTHER          225\n",
       "Name: gender, dtype: int64"
      ]
     },
     "execution_count": 288,
     "metadata": {},
     "output_type": "execute_result"
    }
   ],
   "source": [
    "train_users_df.groupby('gender')['gender'].count()"
   ]
  },
  {
   "cell_type": "markdown",
   "metadata": {},
   "source": [
    "Creo que la caracteristica de gender unknown es algo que deberiamos conservar, por lo que no vamos a hacer ningun tratamiento especial con ese valor. En el caso de \"other\", cuya frecuencia es muy baja, la reemplazamos por -unknown-"
   ]
  },
  {
   "cell_type": "code",
   "execution_count": 289,
   "metadata": {},
   "outputs": [],
   "source": [
    "train_users_df.gender.replace('-unknown-','OTHER', inplace=True)"
   ]
  },
  {
   "cell_type": "code",
   "execution_count": 290,
   "metadata": {},
   "outputs": [
    {
     "data": {
      "text/plain": [
       "gender\n",
       "FEMALE    55869\n",
       "MALE      49052\n",
       "OTHER     16149\n",
       "Name: gender, dtype: int64"
      ]
     },
     "execution_count": 290,
     "metadata": {},
     "output_type": "execute_result"
    }
   ],
   "source": [
    "train_users_df.groupby('gender')['gender'].count()"
   ]
  },
  {
   "cell_type": "code",
   "execution_count": 291,
   "metadata": {},
   "outputs": [
    {
     "data": {
      "image/png": "[encoded data removed]",
      "text/plain": [
       "<Figure size 720x432 with 1 Axes>"
      ]
     },
     "metadata": {},
     "output_type": "display_data"
    }
   ],
   "source": [
    "plt.figure(figsize=(10,6))\n",
    "\n",
    "sns.countplot(  train_users_df['gender'] )\n",
    "\n",
    "sns.despine(left=True)"
   ]
  },
  {
   "cell_type": "code",
   "execution_count": 292,
   "metadata": {},
   "outputs": [
    {
     "data": {
      "text/plain": [
       "(10, 75)"
      ]
     },
     "execution_count": 292,
     "metadata": {},
     "output_type": "execute_result"
    },
    {
     "data": {
      "image/png": "[encoded data removed]",
      "text/plain": [
       "<Figure size 1080x576 with 1 Axes>"
      ]
     },
     "metadata": {},
     "output_type": "display_data"
    }
   ],
   "source": [
    "fig, ax = plt.subplots(nrows=1, ncols=1,figsize=(15, 8))\n",
    "sns.boxplot(x='country_destination', y='age', data=train_users_df, palette=\"muted\", ax =ax)\n",
    "ax.set_ylim([10, 75])"
   ]
  },
  {
   "cell_type": "markdown",
   "metadata": {},
   "source": [
    "### Tratamiento de los datos categoricos"
   ]
  },
  {
   "cell_type": "code",
   "execution_count": 293,
   "metadata": {},
   "outputs": [
    {
     "name": "stdout",
     "output_type": "stream",
     "text": [
      "['MALE' 'FEMALE' 'OTHER']\n",
      "['facebook' 'basic' 'google']\n",
      "['en' 'de' 'fr' 'es' 'zh' 'ko' 'it' 'ru' 'ja' 'pt' 'nl' 'sv' 'pl' 'hu'\n",
      " 'da' 'id' 'fi' 'no' 'tr' 'el' 'th' 'cs' 'hr' 'ca' 'is']\n",
      "['seo' 'direct' 'other' 'sem-non-brand' 'content' 'sem-brand'\n",
      " 'remarketing' 'api']\n",
      "['google' 'direct' 'craigslist' 'other' 'facebook' 'vast' 'bing' 'meetup'\n",
      " 'facebook-open-graph' 'email-marketing' 'yahoo' 'padmapper' 'wayn' 'gsp'\n",
      " 'baidu' 'naver' 'yandex']\n",
      "['Web' 'Moweb' 'iOS' 'Android']\n",
      "['Mac Desktop' 'Windows Desktop' 'iPhone' 'Desktop (Other)'\n",
      " 'Android Tablet' 'Other/Unknown' 'iPad' 'Android Phone'\n",
      " 'SmartPhone (Other)']\n",
      "['untracked' 'omg' 'linked' 'tracked-other' 'product' 'marketing'\n",
      " 'local ops']\n",
      "['Chrome' 'IE' 'Firefox' 'Safari' '-unknown-' 'Mobile Safari'\n",
      " 'Chrome Mobile' 'RockMelt' 'Chromium' 'Android Browser' 'AOL Explorer'\n",
      " 'Opera' 'TenFourFox' 'Apple Mail' 'Silk' 'Camino' 'IE Mobile'\n",
      " 'BlackBerry Browser' 'SeaMonkey' 'Mobile Firefox' 'Sogou Explorer'\n",
      " 'IceWeasel' 'SiteKiosk' 'Opera Mini' 'Maxthon' 'Kindle Browser'\n",
      " 'CoolNovo' 'wOSBrowser' 'Iron' 'Mozilla' 'PS Vita browser' 'NetNewsWire'\n",
      " 'Pale Moon' 'Avant Browser' 'Opera Mobile' 'Yandex.Browser' 'CometBird'\n",
      " 'TheWorld Browser' 'SlimBrowser' 'Comodo Dragon' 'Stainless']\n"
     ]
    }
   ],
   "source": [
    "print(train_users_df.gender.unique())\n",
    "print(train_users_df.signup_method.unique())\n",
    "#print(dataset.signup_flow.unique())\n",
    "print(train_users_df.language.unique())\n",
    "print(train_users_df.affiliate_channel.unique())\n",
    "print(train_users_df.affiliate_provider.unique())\n",
    "print(train_users_df.signup_app.unique())\n",
    "print(train_users_df.first_device_type.unique())\n",
    "print(train_users_df.first_affiliate_tracked.unique())\n",
    "print(train_users_df.first_browser.unique())"
   ]
  },
  {
   "cell_type": "code",
   "execution_count": 294,
   "metadata": {},
   "outputs": [],
   "source": [
    "def categories_convert( dataset, column ):\n",
    "    # given a dataset and a column (categorical)\n",
    "    # converts categories in codes, replacing all values in that column\n",
    "    \n",
    "    # Create a label (category) encoder object\n",
    "    le = preprocessing.LabelEncoder()\n",
    "    # Fit the encoder to the pandas column\n",
    "    le.fit(dataset[column])\n",
    "    \n",
    "    # View encoder mapping\n",
    "    # print(dict(zip(le.classes_,le.transform(le.classes_))))\n",
    "    dataset[column] = le.transform(dataset[column])"
   ]
  },
  {
   "cell_type": "code",
   "execution_count": 295,
   "metadata": {},
   "outputs": [],
   "source": [
    "categories_convert(train_users_df, \"gender\")\n",
    "categories_convert(train_users_df, \"first_device_type\")\n",
    "categories_convert(train_users_df, \"signup_method\")\n",
    "categories_convert(train_users_df, \"language\")\n",
    "categories_convert(train_users_df, \"affiliate_channel\")\n",
    "categories_convert(train_users_df, \"affiliate_provider\")\n",
    "categories_convert(train_users_df, \"signup_app\")\n",
    "categories_convert(train_users_df, \"first_device_type\")\n",
    "categories_convert(train_users_df, \"first_affiliate_tracked\")\n",
    "categories_convert(train_users_df, \"first_browser\")"
   ]
  },
  {
   "cell_type": "code",
   "execution_count": 296,
   "metadata": {},
   "outputs": [],
   "source": [
    "class_dict = {\n",
    "    'NDF': 0,\n",
    "    'US': 1,\n",
    "    'other': 2,\n",
    "    'FR': 3,\n",
    "    'CA': 4,\n",
    "    'GB': 5,\n",
    "    'ES': 6,\n",
    "    'IT': 7,\n",
    "    'PT': 8,\n",
    "    'NL': 9,\n",
    "    'DE': 10,\n",
    "    'AU': 11\n",
    "}\n",
    "train_users_df['country_destination'] = train_users_df['country_destination'].apply(lambda x: class_dict[x])"
   ]
  },
  {
   "cell_type": "markdown",
   "metadata": {},
   "source": [
    "### Merge datasets __train_users__ y __sessions__"
   ]
  },
  {
   "cell_type": "code",
   "execution_count": 297,
   "metadata": {},
   "outputs": [],
   "source": [
    "def merge_session_features(df):\n",
    "    \n",
    "    df['total_seconds'] = df['id'].apply(lambda x: sessions_total_secs_by_user[x] if x in sessions_total_secs_by_user else 0)\n",
    "    df['average_seconds'] = df['id'].apply(lambda x: sessions_avg_secs_by_user[x] if x in sessions_avg_secs_by_user else 0)\n",
    "    df['total_sessions'] = df['id'].apply(lambda x: sessions_total_sessions_by_user[x] if x in sessions_total_sessions_by_user else 1)\n",
    "    df['number_of_devices'] = df['id'].apply(lambda x: sessions_number_of_devices_by_user[x] if x in sessions_number_of_devices_by_user else 1)\n",
    "\n",
    "    \n",
    "#    df['distinct_sessions'] = df['id'].apply(lambda x: distinct_sessions[x] if x in distinct_sessions else 0)\n",
    "#    df['num_short_sessions'] = df['id'].apply(lambda x: num_short_sessions[x] if x in num_short_sessions else 0)\n",
    "#    df['num_long_sessions'] = df['id'].apply(lambda x: num_long_sessions[x] if x in num_long_sessions else 0)\n",
    "#    df['num_devices'] = df['id'].apply(lambda x: num_devices[x] if x in num_devices else 0)\n",
    "\n",
    "    return df"
   ]
  },
  {
   "cell_type": "code",
   "execution_count": 298,
   "metadata": {},
   "outputs": [],
   "source": [
    "# just to test if this user has sessions...\n",
    "\n",
    "# test_df = sessions_df[ sessions_df['user_id']=='radlih4av9']\n",
    "# test_df"
   ]
  },
  {
   "cell_type": "code",
   "execution_count": 299,
   "metadata": {},
   "outputs": [],
   "source": [
    "# generation of the new user features\n",
    "\n",
    "sessions_avg_secs_by_user = sessions_df.groupby('user_id')['secs_elapsed'].mean()\n",
    "sessions_total_sessions_by_user = sessions_df.groupby('user_id')['action'].count()\n",
    "sessions_total_secs_by_user = sessions_df.groupby('user_id')['secs_elapsed'].sum()\n",
    "sessions_number_of_devices_by_user = sessions_df.groupby('user_id')['device_type'].nunique()\n",
    "\n",
    "# do the merge between train_user and sessions\n",
    "train_users_df = merge_session_features( train_users_df )\n"
   ]
  },
  {
   "cell_type": "code",
   "execution_count": 300,
   "metadata": {},
   "outputs": [],
   "source": [
    "# generate a new attribute __booked__\n",
    "# to represent if a user has booked a destination\n",
    "\n",
    "train_users_df['has_booked'] = train_users_df['country_destination'].apply(lambda x: True if x != 'NDF' else False  )"
   ]
  },
  {
   "cell_type": "code",
   "execution_count": 301,
   "metadata": {},
   "outputs": [
    {
     "name": "stdout",
     "output_type": "stream",
     "text": [
      "0.0\n"
     ]
    }
   ],
   "source": [
    "# check how many users don't have session data\n",
    "\n",
    "no_ses = train_users_df[ (train_users_df['total_seconds'] == 0) & (train_users_df['average_seconds'] == 0) & (train_users_df['total_sessions'] == 0)]\n",
    "cant_users_no_session = len( no_ses )\n",
    "print( cant_users_no_session / len(train_users_df) * 100)"
   ]
  },
  {
   "cell_type": "code",
   "execution_count": 302,
   "metadata": {},
   "outputs": [
    {
     "data": {
      "text/html": [
       "<div>\n",
       "<style scoped>\n",
       "    .dataframe tbody tr th:only-of-type {\n",
       "        vertical-align: middle;\n",
       "    }\n",
       "\n",
       "    .dataframe tbody tr th {\n",
       "        vertical-align: top;\n",
       "    }\n",
       "\n",
       "    .dataframe thead th {\n",
       "        text-align: right;\n",
       "    }\n",
       "</style>\n",
       "<table border=\"1\" class=\"dataframe\">\n",
       "  <thead>\n",
       "    <tr style=\"text-align: right;\">\n",
       "      <th></th>\n",
       "      <th>id</th>\n",
       "      <th>date_account_created</th>\n",
       "      <th>timestamp_first_active</th>\n",
       "      <th>date_first_booking</th>\n",
       "      <th>gender</th>\n",
       "      <th>age</th>\n",
       "      <th>signup_method</th>\n",
       "      <th>signup_flow</th>\n",
       "      <th>language</th>\n",
       "      <th>affiliate_channel</th>\n",
       "      <th>...</th>\n",
       "      <th>first_affiliate_tracked</th>\n",
       "      <th>signup_app</th>\n",
       "      <th>first_device_type</th>\n",
       "      <th>first_browser</th>\n",
       "      <th>country_destination</th>\n",
       "      <th>total_seconds</th>\n",
       "      <th>average_seconds</th>\n",
       "      <th>total_sessions</th>\n",
       "      <th>number_of_devices</th>\n",
       "      <th>has_booked</th>\n",
       "    </tr>\n",
       "  </thead>\n",
       "  <tbody>\n",
       "    <tr>\n",
       "      <td>28541</td>\n",
       "      <td>7pj9vx10tf</td>\n",
       "      <td>1340150400</td>\n",
       "      <td>1340236180</td>\n",
       "      <td>-9223372037</td>\n",
       "      <td>0</td>\n",
       "      <td>47.0</td>\n",
       "      <td>0</td>\n",
       "      <td>0</td>\n",
       "      <td>5</td>\n",
       "      <td>2</td>\n",
       "      <td>...</td>\n",
       "      <td>6</td>\n",
       "      <td>2</td>\n",
       "      <td>3</td>\n",
       "      <td>30</td>\n",
       "      <td>0</td>\n",
       "      <td>0.0</td>\n",
       "      <td>0.000000</td>\n",
       "      <td>1</td>\n",
       "      <td>1</td>\n",
       "      <td>True</td>\n",
       "    </tr>\n",
       "    <tr>\n",
       "      <td>205807</td>\n",
       "      <td>vc17cn95rl</td>\n",
       "      <td>1402963200</td>\n",
       "      <td>1402973087</td>\n",
       "      <td>-9223372037</td>\n",
       "      <td>2</td>\n",
       "      <td>27.0</td>\n",
       "      <td>0</td>\n",
       "      <td>0</td>\n",
       "      <td>5</td>\n",
       "      <td>2</td>\n",
       "      <td>...</td>\n",
       "      <td>6</td>\n",
       "      <td>2</td>\n",
       "      <td>3</td>\n",
       "      <td>30</td>\n",
       "      <td>0</td>\n",
       "      <td>1963771.0</td>\n",
       "      <td>44631.159091</td>\n",
       "      <td>44</td>\n",
       "      <td>2</td>\n",
       "      <td>True</td>\n",
       "    </tr>\n",
       "    <tr>\n",
       "      <td>40177</td>\n",
       "      <td>ggkg5vsmqx</td>\n",
       "      <td>1347148800</td>\n",
       "      <td>1347213419</td>\n",
       "      <td>1347148800</td>\n",
       "      <td>1</td>\n",
       "      <td>50.0</td>\n",
       "      <td>0</td>\n",
       "      <td>3</td>\n",
       "      <td>5</td>\n",
       "      <td>2</td>\n",
       "      <td>...</td>\n",
       "      <td>6</td>\n",
       "      <td>2</td>\n",
       "      <td>6</td>\n",
       "      <td>14</td>\n",
       "      <td>3</td>\n",
       "      <td>0.0</td>\n",
       "      <td>0.000000</td>\n",
       "      <td>1</td>\n",
       "      <td>1</td>\n",
       "      <td>True</td>\n",
       "    </tr>\n",
       "    <tr>\n",
       "      <td>185772</td>\n",
       "      <td>8hhkkaerow</td>\n",
       "      <td>1399420800</td>\n",
       "      <td>1399477508</td>\n",
       "      <td>1399507200</td>\n",
       "      <td>0</td>\n",
       "      <td>68.0</td>\n",
       "      <td>0</td>\n",
       "      <td>0</td>\n",
       "      <td>5</td>\n",
       "      <td>2</td>\n",
       "      <td>...</td>\n",
       "      <td>6</td>\n",
       "      <td>2</td>\n",
       "      <td>1</td>\n",
       "      <td>14</td>\n",
       "      <td>1</td>\n",
       "      <td>526965.0</td>\n",
       "      <td>30997.941176</td>\n",
       "      <td>17</td>\n",
       "      <td>1</td>\n",
       "      <td>True</td>\n",
       "    </tr>\n",
       "    <tr>\n",
       "      <td>2032</td>\n",
       "      <td>wbf2q2eyn9</td>\n",
       "      <td>1286582400</td>\n",
       "      <td>1286644972</td>\n",
       "      <td>1286668800</td>\n",
       "      <td>1</td>\n",
       "      <td>31.0</td>\n",
       "      <td>0</td>\n",
       "      <td>0</td>\n",
       "      <td>5</td>\n",
       "      <td>2</td>\n",
       "      <td>...</td>\n",
       "      <td>6</td>\n",
       "      <td>2</td>\n",
       "      <td>6</td>\n",
       "      <td>7</td>\n",
       "      <td>1</td>\n",
       "      <td>0.0</td>\n",
       "      <td>0.000000</td>\n",
       "      <td>1</td>\n",
       "      <td>1</td>\n",
       "      <td>True</td>\n",
       "    </tr>\n",
       "    <tr>\n",
       "      <td>107778</td>\n",
       "      <td>gs5gxoynu2</td>\n",
       "      <td>1379203200</td>\n",
       "      <td>1379269967</td>\n",
       "      <td>1382918400</td>\n",
       "      <td>2</td>\n",
       "      <td>43.0</td>\n",
       "      <td>0</td>\n",
       "      <td>24</td>\n",
       "      <td>5</td>\n",
       "      <td>2</td>\n",
       "      <td>...</td>\n",
       "      <td>6</td>\n",
       "      <td>1</td>\n",
       "      <td>8</td>\n",
       "      <td>21</td>\n",
       "      <td>1</td>\n",
       "      <td>0.0</td>\n",
       "      <td>0.000000</td>\n",
       "      <td>1</td>\n",
       "      <td>1</td>\n",
       "      <td>True</td>\n",
       "    </tr>\n",
       "    <tr>\n",
       "      <td>42485</td>\n",
       "      <td>aizuzvpnpz</td>\n",
       "      <td>1348617600</td>\n",
       "      <td>1348643127</td>\n",
       "      <td>-9223372037</td>\n",
       "      <td>0</td>\n",
       "      <td>42.0</td>\n",
       "      <td>0</td>\n",
       "      <td>0</td>\n",
       "      <td>5</td>\n",
       "      <td>5</td>\n",
       "      <td>...</td>\n",
       "      <td>3</td>\n",
       "      <td>2</td>\n",
       "      <td>6</td>\n",
       "      <td>14</td>\n",
       "      <td>0</td>\n",
       "      <td>0.0</td>\n",
       "      <td>0.000000</td>\n",
       "      <td>1</td>\n",
       "      <td>1</td>\n",
       "      <td>True</td>\n",
       "    </tr>\n",
       "  </tbody>\n",
       "</table>\n",
       "<p>7 rows × 21 columns</p>\n",
       "</div>"
      ],
      "text/plain": [
       "                id  date_account_created  timestamp_first_active  \\\n",
       "28541   7pj9vx10tf            1340150400              1340236180   \n",
       "205807  vc17cn95rl            1402963200              1402973087   \n",
       "40177   ggkg5vsmqx            1347148800              1347213419   \n",
       "185772  8hhkkaerow            1399420800              1399477508   \n",
       "2032    wbf2q2eyn9            1286582400              1286644972   \n",
       "107778  gs5gxoynu2            1379203200              1379269967   \n",
       "42485   aizuzvpnpz            1348617600              1348643127   \n",
       "\n",
       "        date_first_booking  gender   age  signup_method  signup_flow  \\\n",
       "28541          -9223372037       0  47.0              0            0   \n",
       "205807         -9223372037       2  27.0              0            0   \n",
       "40177           1347148800       1  50.0              0            3   \n",
       "185772          1399507200       0  68.0              0            0   \n",
       "2032            1286668800       1  31.0              0            0   \n",
       "107778          1382918400       2  43.0              0           24   \n",
       "42485          -9223372037       0  42.0              0            0   \n",
       "\n",
       "        language  affiliate_channel  ...  first_affiliate_tracked  signup_app  \\\n",
       "28541          5                  2  ...                        6           2   \n",
       "205807         5                  2  ...                        6           2   \n",
       "40177          5                  2  ...                        6           2   \n",
       "185772         5                  2  ...                        6           2   \n",
       "2032           5                  2  ...                        6           2   \n",
       "107778         5                  2  ...                        6           1   \n",
       "42485          5                  5  ...                        3           2   \n",
       "\n",
       "        first_device_type  first_browser  country_destination  total_seconds  \\\n",
       "28541                   3             30                    0            0.0   \n",
       "205807                  3             30                    0      1963771.0   \n",
       "40177                   6             14                    3            0.0   \n",
       "185772                  1             14                    1       526965.0   \n",
       "2032                    6              7                    1            0.0   \n",
       "107778                  8             21                    1            0.0   \n",
       "42485                   6             14                    0            0.0   \n",
       "\n",
       "        average_seconds  total_sessions  number_of_devices  has_booked  \n",
       "28541          0.000000               1                  1        True  \n",
       "205807     44631.159091              44                  2        True  \n",
       "40177          0.000000               1                  1        True  \n",
       "185772     30997.941176              17                  1        True  \n",
       "2032           0.000000               1                  1        True  \n",
       "107778         0.000000               1                  1        True  \n",
       "42485          0.000000               1                  1        True  \n",
       "\n",
       "[7 rows x 21 columns]"
      ]
     },
     "execution_count": 302,
     "metadata": {},
     "output_type": "execute_result"
    }
   ],
   "source": [
    "train_users_df.sample(7)"
   ]
  },
  {
   "cell_type": "code",
   "execution_count": 303,
   "metadata": {},
   "outputs": [],
   "source": [
    "# write generated dataframe to a csv file, to read it later, in a different notebook\n",
    "\n",
    "train_users_df.to_csv( dataset_path + 'modified_train_users.csv')"
   ]
  },
  {
   "cell_type": "markdown",
   "metadata": {},
   "source": [
    "## Analizamos algunas posibles correlaciones"
   ]
  },
  {
   "cell_type": "markdown",
   "metadata": {},
   "source": [
    "Podemos suponer, que para convertir, es necesario hacer mas de una sesion  \n",
    "Veamos si hay alguna relación entre cantidad de sesiones y conversion"
   ]
  },
  {
   "cell_type": "code",
   "execution_count": 304,
   "metadata": {},
   "outputs": [
    {
     "data": {
      "text/plain": [
       "<Figure size 720x432 with 0 Axes>"
      ]
     },
     "metadata": {},
     "output_type": "display_data"
    },
    {
     "data": {
      "image/png": "[encoded data removed]",
      "text/plain": [
       "<Figure size 360x360 with 1 Axes>"
      ]
     },
     "metadata": {},
     "output_type": "display_data"
    }
   ],
   "source": [
    "plt.figure(figsize=(10,6))\n",
    "#sns.scatterplot(x=train_users_df['total_sessions'], y=train_users_df['booked'] )\n",
    "sns.catplot(data = train_users_df, x='has_booked' , y='total_sessions')\n",
    "sns.despine(left=True)"
   ]
  },
  {
   "cell_type": "code",
   "execution_count": 305,
   "metadata": {},
   "outputs": [
    {
     "data": {
      "text/plain": [
       "<Figure size 720x432 with 0 Axes>"
      ]
     },
     "metadata": {},
     "output_type": "display_data"
    },
    {
     "data": {
      "image/png": "[encoded data removed]",
      "text/plain": [
       "<Figure size 360x360 with 1 Axes>"
      ]
     },
     "metadata": {},
     "output_type": "display_data"
    }
   ],
   "source": [
    "plt.figure(figsize=(10,6))\n",
    "sns.catplot(data = train_users_df, x='has_booked' , y='total_sessions')\n",
    "sns.despine(left=True)"
   ]
  },
  {
   "cell_type": "code",
   "execution_count": 306,
   "metadata": {},
   "outputs": [
    {
     "data": {
      "text/plain": [
       "<Figure size 720x432 with 0 Axes>"
      ]
     },
     "metadata": {},
     "output_type": "display_data"
    },
    {
     "data": {
      "image/png": "[encoded data removed]",
      "text/plain": [
       "<Figure size 360x360 with 1 Axes>"
      ]
     },
     "metadata": {},
     "output_type": "display_data"
    }
   ],
   "source": [
    "plt.figure(figsize=(10,6))\n",
    "#sns.scatterplot(x=train_users_df['total_sessions'], y=train_users_df['booked'] )\n",
    "sns.catplot(data=train_users_df, x=\"has_booked\", y='number_of_devices' )\n",
    "sns.despine(left=True)"
   ]
  },
  {
   "cell_type": "code",
   "execution_count": 307,
   "metadata": {},
   "outputs": [
    {
     "data": {
      "text/html": [
       "<div>\n",
       "<style scoped>\n",
       "    .dataframe tbody tr th:only-of-type {\n",
       "        vertical-align: middle;\n",
       "    }\n",
       "\n",
       "    .dataframe tbody tr th {\n",
       "        vertical-align: top;\n",
       "    }\n",
       "\n",
       "    .dataframe thead th {\n",
       "        text-align: right;\n",
       "    }\n",
       "</style>\n",
       "<table border=\"1\" class=\"dataframe\">\n",
       "  <thead>\n",
       "    <tr style=\"text-align: right;\">\n",
       "      <th></th>\n",
       "      <th>number_of_devices</th>\n",
       "      <th>total_sessions</th>\n",
       "      <th>has_booked</th>\n",
       "    </tr>\n",
       "  </thead>\n",
       "  <tbody>\n",
       "    <tr>\n",
       "      <td>number_of_devices</td>\n",
       "      <td>1.00000</td>\n",
       "      <td>0.43837</td>\n",
       "      <td>NaN</td>\n",
       "    </tr>\n",
       "    <tr>\n",
       "      <td>total_sessions</td>\n",
       "      <td>0.43837</td>\n",
       "      <td>1.00000</td>\n",
       "      <td>NaN</td>\n",
       "    </tr>\n",
       "    <tr>\n",
       "      <td>has_booked</td>\n",
       "      <td>NaN</td>\n",
       "      <td>NaN</td>\n",
       "      <td>NaN</td>\n",
       "    </tr>\n",
       "  </tbody>\n",
       "</table>\n",
       "</div>"
      ],
      "text/plain": [
       "                   number_of_devices  total_sessions  has_booked\n",
       "number_of_devices            1.00000         0.43837         NaN\n",
       "total_sessions               0.43837         1.00000         NaN\n",
       "has_booked                       NaN             NaN         NaN"
      ]
     },
     "execution_count": 307,
     "metadata": {},
     "output_type": "execute_result"
    }
   ],
   "source": [
    "#dataset_latam[['pf_identity','ef_score','hf_score']].corr(method='pearson')\n",
    "\n",
    "corr_pearson = train_users_df[['number_of_devices','total_sessions', 'has_booked']].corr('pearson')\n",
    "corr_pearson"
   ]
  },
  {
   "cell_type": "markdown",
   "metadata": {},
   "source": [
    "Como puede observarse, no parece existir mayor correlacion entre la cantidad de sesiones y el numero de dispositivos, con respecto a si han hecho reserva."
   ]
  },
  {
   "cell_type": "markdown",
   "metadata": {},
   "source": [
    "### Veamos la distribucion entre __country_destination__ y __age__"
   ]
  },
  {
   "cell_type": "code",
   "execution_count": null,
   "metadata": {},
   "outputs": [],
   "source": [
    "heatmap_df = train_users_df[['age','country_destination']].dropna().corr()\n",
    "ax = sns.heatmap(heatmap_df, xticklabels=2, yticklabels=True)"
   ]
  }
 ],
 "metadata": {
  "kernelspec": {
   "display_name": "Python 3",
   "language": "python",
   "name": "python3"
  },
  "language_info": {
   "codemirror_mode": {
    "name": "ipython",
    "version": 3
   },
   "file_extension": ".py",
   "mimetype": "text/x-python",
   "name": "python",
   "nbconvert_exporter": "python",
   "pygments_lexer": "ipython3",
   "version": "3.6.9"
  }
 },
 "nbformat": 4,
 "nbformat_minor": 4
}
