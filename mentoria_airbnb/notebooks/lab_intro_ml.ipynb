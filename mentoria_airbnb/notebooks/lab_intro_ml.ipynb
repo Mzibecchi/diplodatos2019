{
 "cells": [
  {
   "cell_type": "markdown",
   "metadata": {},
   "source": [
    "autor: Mariano Zibecchi  \n",
    "mzibecchi@gmail.com  \n",
    "  \n",
    "# Laboratorio Introducción al Deep Learning:  \n",
    "## ¿A dónde realizan su primera reserva los nuevos usuarios de Airbnb?\n",
    "\n",
    "### Armado de un esquema de aprendizaje automático:\n",
    "\n",
    "En el presente laboratorio se espera que puedan poner en práctica los conocimientos adquiridos en el curso, trabajando con un conjunto de datos de clasificación. El objetivo es que se introduzcan en el desarrollo de un esquema para hacer tareas de aprendizaje automático: selección de un modelo, ajuste de hiperparámetros y evaluación.\n",
    "\n",
    "__HINT__: A modo de ayuda, se agrega la notebook `Intro_Deep_Learning_EXAMPLES.ipynb` para que puedan ver distintos modelos y como usarlos en problemas de clasificación binaria y multiclase.\n",
    "\n",
    "---\n",
    "## Librerías y Semilla"
   ]
  },
  {
   "cell_type": "code",
   "execution_count": 1,
   "metadata": {},
   "outputs": [],
   "source": [
    "%matplotlib inline\n",
    "import numpy as np\n",
    "import pandas as pd\n",
    "import matplotlib.pyplot as plt\n",
    "from matplotlib.colors import ListedColormap\n",
    "#from ml.visualization import plot_confusion_matrix, classifier_boundary\n",
    "from sklearn.linear_model import LinearRegression, LogisticRegression, Perceptron, Ridge\n",
    "from sklearn.metrics import accuracy_score, confusion_matrix, mean_squared_error\n",
    "from sklearn.neighbors import KNeighborsClassifier\n",
    "from sklearn.preprocessing import PolynomialFeatures\n",
    "from sklearn.utils import shuffle\n",
    "from sklearn.model_selection import train_test_split\n",
    "from sklearn.linear_model import SGDClassifier\n",
    "from sklearn.metrics import accuracy_score, classification_report, confusion_matrix\n",
    "from sklearn.model_selection import GridSearchCV, train_test_split\n",
    "import warnings\n",
    "warnings.filterwarnings('ignore')\n",
    "from mpl_toolkits.mplot3d import axes3d\n",
    "\n",
    "from sklearn import tree\n",
    "\n",
    "#Semilla\n",
    "np.random.seed(0)"
   ]
  },
  {
   "cell_type": "markdown",
   "metadata": {},
   "source": [
    "__TODO__: Curar los datos."
   ]
  },
  {
   "cell_type": "markdown",
   "metadata": {},
   "source": [
    "##### Convertimos fechas"
   ]
  },
  {
   "cell_type": "code",
   "execution_count": 2,
   "metadata": {},
   "outputs": [
    {
     "name": "stdout",
     "output_type": "stream",
     "text": [
      "\n",
      "Longitud del dataset: 213451\n",
      "\n"
     ]
    }
   ],
   "source": [
    "dataset = pd.read_csv(\"../Datos/data.csv\", comment=\"#\",  \n",
    "                      parse_dates=[\"date_account_created\",\"timestamp_first_active\", \"date_first_booking\"],\n",
    "                  index_col=[\"id\"]) \n",
    "print('\\nLongitud del dataset: '+str(len(dataset))+'\\n')"
   ]
  },
  {
   "cell_type": "code",
   "execution_count": 3,
   "metadata": {},
   "outputs": [
    {
     "data": {
      "text/html": [
       "<div>\n",
       "<style scoped>\n",
       "    .dataframe tbody tr th:only-of-type {\n",
       "        vertical-align: middle;\n",
       "    }\n",
       "\n",
       "    .dataframe tbody tr th {\n",
       "        vertical-align: top;\n",
       "    }\n",
       "\n",
       "    .dataframe thead th {\n",
       "        text-align: right;\n",
       "    }\n",
       "</style>\n",
       "<table border=\"1\" class=\"dataframe\">\n",
       "  <thead>\n",
       "    <tr style=\"text-align: right;\">\n",
       "      <th></th>\n",
       "      <th>date_account_created</th>\n",
       "      <th>timestamp_first_active</th>\n",
       "      <th>date_first_booking</th>\n",
       "      <th>gender</th>\n",
       "      <th>age</th>\n",
       "      <th>signup_method</th>\n",
       "      <th>signup_flow</th>\n",
       "      <th>language</th>\n",
       "      <th>affiliate_channel</th>\n",
       "      <th>affiliate_provider</th>\n",
       "      <th>first_affiliate_tracked</th>\n",
       "      <th>signup_app</th>\n",
       "      <th>first_device_type</th>\n",
       "      <th>first_browser</th>\n",
       "      <th>country_destination</th>\n",
       "    </tr>\n",
       "  </thead>\n",
       "  <tbody>\n",
       "    <tr>\n",
       "      <th>count</th>\n",
       "      <td>213451</td>\n",
       "      <td>213451</td>\n",
       "      <td>88908</td>\n",
       "      <td>213451</td>\n",
       "      <td>125461.000000</td>\n",
       "      <td>213451</td>\n",
       "      <td>213451.000000</td>\n",
       "      <td>213451</td>\n",
       "      <td>213451</td>\n",
       "      <td>213451</td>\n",
       "      <td>207386</td>\n",
       "      <td>213451</td>\n",
       "      <td>213451</td>\n",
       "      <td>213451</td>\n",
       "      <td>213451</td>\n",
       "    </tr>\n",
       "    <tr>\n",
       "      <th>unique</th>\n",
       "      <td>1634</td>\n",
       "      <td>213451</td>\n",
       "      <td>1976</td>\n",
       "      <td>4</td>\n",
       "      <td>NaN</td>\n",
       "      <td>3</td>\n",
       "      <td>NaN</td>\n",
       "      <td>25</td>\n",
       "      <td>8</td>\n",
       "      <td>18</td>\n",
       "      <td>7</td>\n",
       "      <td>4</td>\n",
       "      <td>9</td>\n",
       "      <td>52</td>\n",
       "      <td>12</td>\n",
       "    </tr>\n",
       "    <tr>\n",
       "      <th>top</th>\n",
       "      <td>2014-05-13 00:00:00</td>\n",
       "      <td>2013-07-01 05:26:34</td>\n",
       "      <td>2014-05-22 00:00:00</td>\n",
       "      <td>-unknown-</td>\n",
       "      <td>NaN</td>\n",
       "      <td>basic</td>\n",
       "      <td>NaN</td>\n",
       "      <td>en</td>\n",
       "      <td>direct</td>\n",
       "      <td>direct</td>\n",
       "      <td>untracked</td>\n",
       "      <td>Web</td>\n",
       "      <td>Mac Desktop</td>\n",
       "      <td>Chrome</td>\n",
       "      <td>NDF</td>\n",
       "    </tr>\n",
       "    <tr>\n",
       "      <th>freq</th>\n",
       "      <td>674</td>\n",
       "      <td>1</td>\n",
       "      <td>248</td>\n",
       "      <td>95688</td>\n",
       "      <td>NaN</td>\n",
       "      <td>152897</td>\n",
       "      <td>NaN</td>\n",
       "      <td>206314</td>\n",
       "      <td>137727</td>\n",
       "      <td>137426</td>\n",
       "      <td>109232</td>\n",
       "      <td>182717</td>\n",
       "      <td>89600</td>\n",
       "      <td>63845</td>\n",
       "      <td>124543</td>\n",
       "    </tr>\n",
       "    <tr>\n",
       "      <th>first</th>\n",
       "      <td>2010-01-01 00:00:00</td>\n",
       "      <td>2009-03-19 04:32:55</td>\n",
       "      <td>2010-01-02 00:00:00</td>\n",
       "      <td>NaN</td>\n",
       "      <td>NaN</td>\n",
       "      <td>NaN</td>\n",
       "      <td>NaN</td>\n",
       "      <td>NaN</td>\n",
       "      <td>NaN</td>\n",
       "      <td>NaN</td>\n",
       "      <td>NaN</td>\n",
       "      <td>NaN</td>\n",
       "      <td>NaN</td>\n",
       "      <td>NaN</td>\n",
       "      <td>NaN</td>\n",
       "    </tr>\n",
       "    <tr>\n",
       "      <th>last</th>\n",
       "      <td>2014-06-30 00:00:00</td>\n",
       "      <td>2014-06-30 23:58:24</td>\n",
       "      <td>2015-06-29 00:00:00</td>\n",
       "      <td>NaN</td>\n",
       "      <td>NaN</td>\n",
       "      <td>NaN</td>\n",
       "      <td>NaN</td>\n",
       "      <td>NaN</td>\n",
       "      <td>NaN</td>\n",
       "      <td>NaN</td>\n",
       "      <td>NaN</td>\n",
       "      <td>NaN</td>\n",
       "      <td>NaN</td>\n",
       "      <td>NaN</td>\n",
       "      <td>NaN</td>\n",
       "    </tr>\n",
       "    <tr>\n",
       "      <th>mean</th>\n",
       "      <td>NaN</td>\n",
       "      <td>NaN</td>\n",
       "      <td>NaN</td>\n",
       "      <td>NaN</td>\n",
       "      <td>49.668335</td>\n",
       "      <td>NaN</td>\n",
       "      <td>3.267387</td>\n",
       "      <td>NaN</td>\n",
       "      <td>NaN</td>\n",
       "      <td>NaN</td>\n",
       "      <td>NaN</td>\n",
       "      <td>NaN</td>\n",
       "      <td>NaN</td>\n",
       "      <td>NaN</td>\n",
       "      <td>NaN</td>\n",
       "    </tr>\n",
       "    <tr>\n",
       "      <th>std</th>\n",
       "      <td>NaN</td>\n",
       "      <td>NaN</td>\n",
       "      <td>NaN</td>\n",
       "      <td>NaN</td>\n",
       "      <td>155.666612</td>\n",
       "      <td>NaN</td>\n",
       "      <td>7.637707</td>\n",
       "      <td>NaN</td>\n",
       "      <td>NaN</td>\n",
       "      <td>NaN</td>\n",
       "      <td>NaN</td>\n",
       "      <td>NaN</td>\n",
       "      <td>NaN</td>\n",
       "      <td>NaN</td>\n",
       "      <td>NaN</td>\n",
       "    </tr>\n",
       "    <tr>\n",
       "      <th>min</th>\n",
       "      <td>NaN</td>\n",
       "      <td>NaN</td>\n",
       "      <td>NaN</td>\n",
       "      <td>NaN</td>\n",
       "      <td>1.000000</td>\n",
       "      <td>NaN</td>\n",
       "      <td>0.000000</td>\n",
       "      <td>NaN</td>\n",
       "      <td>NaN</td>\n",
       "      <td>NaN</td>\n",
       "      <td>NaN</td>\n",
       "      <td>NaN</td>\n",
       "      <td>NaN</td>\n",
       "      <td>NaN</td>\n",
       "      <td>NaN</td>\n",
       "    </tr>\n",
       "    <tr>\n",
       "      <th>25%</th>\n",
       "      <td>NaN</td>\n",
       "      <td>NaN</td>\n",
       "      <td>NaN</td>\n",
       "      <td>NaN</td>\n",
       "      <td>28.000000</td>\n",
       "      <td>NaN</td>\n",
       "      <td>0.000000</td>\n",
       "      <td>NaN</td>\n",
       "      <td>NaN</td>\n",
       "      <td>NaN</td>\n",
       "      <td>NaN</td>\n",
       "      <td>NaN</td>\n",
       "      <td>NaN</td>\n",
       "      <td>NaN</td>\n",
       "      <td>NaN</td>\n",
       "    </tr>\n",
       "    <tr>\n",
       "      <th>50%</th>\n",
       "      <td>NaN</td>\n",
       "      <td>NaN</td>\n",
       "      <td>NaN</td>\n",
       "      <td>NaN</td>\n",
       "      <td>34.000000</td>\n",
       "      <td>NaN</td>\n",
       "      <td>0.000000</td>\n",
       "      <td>NaN</td>\n",
       "      <td>NaN</td>\n",
       "      <td>NaN</td>\n",
       "      <td>NaN</td>\n",
       "      <td>NaN</td>\n",
       "      <td>NaN</td>\n",
       "      <td>NaN</td>\n",
       "      <td>NaN</td>\n",
       "    </tr>\n",
       "    <tr>\n",
       "      <th>75%</th>\n",
       "      <td>NaN</td>\n",
       "      <td>NaN</td>\n",
       "      <td>NaN</td>\n",
       "      <td>NaN</td>\n",
       "      <td>43.000000</td>\n",
       "      <td>NaN</td>\n",
       "      <td>0.000000</td>\n",
       "      <td>NaN</td>\n",
       "      <td>NaN</td>\n",
       "      <td>NaN</td>\n",
       "      <td>NaN</td>\n",
       "      <td>NaN</td>\n",
       "      <td>NaN</td>\n",
       "      <td>NaN</td>\n",
       "      <td>NaN</td>\n",
       "    </tr>\n",
       "    <tr>\n",
       "      <th>max</th>\n",
       "      <td>NaN</td>\n",
       "      <td>NaN</td>\n",
       "      <td>NaN</td>\n",
       "      <td>NaN</td>\n",
       "      <td>2014.000000</td>\n",
       "      <td>NaN</td>\n",
       "      <td>25.000000</td>\n",
       "      <td>NaN</td>\n",
       "      <td>NaN</td>\n",
       "      <td>NaN</td>\n",
       "      <td>NaN</td>\n",
       "      <td>NaN</td>\n",
       "      <td>NaN</td>\n",
       "      <td>NaN</td>\n",
       "      <td>NaN</td>\n",
       "    </tr>\n",
       "  </tbody>\n",
       "</table>\n",
       "</div>"
      ],
      "text/plain": [
       "       date_account_created timestamp_first_active   date_first_booking  \\\n",
       "count                213451                 213451                88908   \n",
       "unique                 1634                 213451                 1976   \n",
       "top     2014-05-13 00:00:00    2013-07-01 05:26:34  2014-05-22 00:00:00   \n",
       "freq                    674                      1                  248   \n",
       "first   2010-01-01 00:00:00    2009-03-19 04:32:55  2010-01-02 00:00:00   \n",
       "last    2014-06-30 00:00:00    2014-06-30 23:58:24  2015-06-29 00:00:00   \n",
       "mean                    NaN                    NaN                  NaN   \n",
       "std                     NaN                    NaN                  NaN   \n",
       "min                     NaN                    NaN                  NaN   \n",
       "25%                     NaN                    NaN                  NaN   \n",
       "50%                     NaN                    NaN                  NaN   \n",
       "75%                     NaN                    NaN                  NaN   \n",
       "max                     NaN                    NaN                  NaN   \n",
       "\n",
       "           gender            age signup_method    signup_flow language  \\\n",
       "count      213451  125461.000000        213451  213451.000000   213451   \n",
       "unique          4            NaN             3            NaN       25   \n",
       "top     -unknown-            NaN         basic            NaN       en   \n",
       "freq        95688            NaN        152897            NaN   206314   \n",
       "first         NaN            NaN           NaN            NaN      NaN   \n",
       "last          NaN            NaN           NaN            NaN      NaN   \n",
       "mean          NaN      49.668335           NaN       3.267387      NaN   \n",
       "std           NaN     155.666612           NaN       7.637707      NaN   \n",
       "min           NaN       1.000000           NaN       0.000000      NaN   \n",
       "25%           NaN      28.000000           NaN       0.000000      NaN   \n",
       "50%           NaN      34.000000           NaN       0.000000      NaN   \n",
       "75%           NaN      43.000000           NaN       0.000000      NaN   \n",
       "max           NaN    2014.000000           NaN      25.000000      NaN   \n",
       "\n",
       "       affiliate_channel affiliate_provider first_affiliate_tracked  \\\n",
       "count             213451             213451                  207386   \n",
       "unique                 8                 18                       7   \n",
       "top               direct             direct               untracked   \n",
       "freq              137727             137426                  109232   \n",
       "first                NaN                NaN                     NaN   \n",
       "last                 NaN                NaN                     NaN   \n",
       "mean                 NaN                NaN                     NaN   \n",
       "std                  NaN                NaN                     NaN   \n",
       "min                  NaN                NaN                     NaN   \n",
       "25%                  NaN                NaN                     NaN   \n",
       "50%                  NaN                NaN                     NaN   \n",
       "75%                  NaN                NaN                     NaN   \n",
       "max                  NaN                NaN                     NaN   \n",
       "\n",
       "       signup_app first_device_type first_browser country_destination  \n",
       "count      213451            213451        213451              213451  \n",
       "unique          4                 9            52                  12  \n",
       "top           Web       Mac Desktop        Chrome                 NDF  \n",
       "freq       182717             89600         63845              124543  \n",
       "first         NaN               NaN           NaN                 NaN  \n",
       "last          NaN               NaN           NaN                 NaN  \n",
       "mean          NaN               NaN           NaN                 NaN  \n",
       "std           NaN               NaN           NaN                 NaN  \n",
       "min           NaN               NaN           NaN                 NaN  \n",
       "25%           NaN               NaN           NaN                 NaN  \n",
       "50%           NaN               NaN           NaN                 NaN  \n",
       "75%           NaN               NaN           NaN                 NaN  \n",
       "max           NaN               NaN           NaN                 NaN  "
      ]
     },
     "execution_count": 3,
     "metadata": {},
     "output_type": "execute_result"
    }
   ],
   "source": [
    "dataset.describe(include='all')"
   ]
  },
  {
   "cell_type": "code",
   "execution_count": 4,
   "metadata": {},
   "outputs": [
    {
     "data": {
      "text/plain": [
       "(213451, 15)"
      ]
     },
     "execution_count": 4,
     "metadata": {},
     "output_type": "execute_result"
    }
   ],
   "source": [
    "dataset.shape"
   ]
  },
  {
   "cell_type": "code",
   "execution_count": 5,
   "metadata": {},
   "outputs": [
    {
     "data": {
      "text/html": [
       "<div>\n",
       "<style scoped>\n",
       "    .dataframe tbody tr th:only-of-type {\n",
       "        vertical-align: middle;\n",
       "    }\n",
       "\n",
       "    .dataframe tbody tr th {\n",
       "        vertical-align: top;\n",
       "    }\n",
       "\n",
       "    .dataframe thead th {\n",
       "        text-align: right;\n",
       "    }\n",
       "</style>\n",
       "<table border=\"1\" class=\"dataframe\">\n",
       "  <thead>\n",
       "    <tr style=\"text-align: right;\">\n",
       "      <th></th>\n",
       "      <th>date_account_created</th>\n",
       "      <th>timestamp_first_active</th>\n",
       "      <th>date_first_booking</th>\n",
       "      <th>gender</th>\n",
       "      <th>age</th>\n",
       "      <th>signup_method</th>\n",
       "      <th>signup_flow</th>\n",
       "      <th>language</th>\n",
       "      <th>affiliate_channel</th>\n",
       "      <th>affiliate_provider</th>\n",
       "      <th>first_affiliate_tracked</th>\n",
       "      <th>signup_app</th>\n",
       "      <th>first_device_type</th>\n",
       "      <th>first_browser</th>\n",
       "      <th>country_destination</th>\n",
       "    </tr>\n",
       "    <tr>\n",
       "      <th>id</th>\n",
       "      <th></th>\n",
       "      <th></th>\n",
       "      <th></th>\n",
       "      <th></th>\n",
       "      <th></th>\n",
       "      <th></th>\n",
       "      <th></th>\n",
       "      <th></th>\n",
       "      <th></th>\n",
       "      <th></th>\n",
       "      <th></th>\n",
       "      <th></th>\n",
       "      <th></th>\n",
       "      <th></th>\n",
       "      <th></th>\n",
       "    </tr>\n",
       "  </thead>\n",
       "  <tbody>\n",
       "    <tr>\n",
       "      <th>gxn3p5htnn</th>\n",
       "      <td>2010-06-28</td>\n",
       "      <td>2009-03-19 04:32:55</td>\n",
       "      <td>NaT</td>\n",
       "      <td>-unknown-</td>\n",
       "      <td>NaN</td>\n",
       "      <td>facebook</td>\n",
       "      <td>0</td>\n",
       "      <td>en</td>\n",
       "      <td>direct</td>\n",
       "      <td>direct</td>\n",
       "      <td>untracked</td>\n",
       "      <td>Web</td>\n",
       "      <td>Mac Desktop</td>\n",
       "      <td>Chrome</td>\n",
       "      <td>NDF</td>\n",
       "    </tr>\n",
       "    <tr>\n",
       "      <th>820tgsjxq7</th>\n",
       "      <td>2011-05-25</td>\n",
       "      <td>2009-05-23 17:48:09</td>\n",
       "      <td>NaT</td>\n",
       "      <td>MALE</td>\n",
       "      <td>38.0</td>\n",
       "      <td>facebook</td>\n",
       "      <td>0</td>\n",
       "      <td>en</td>\n",
       "      <td>seo</td>\n",
       "      <td>google</td>\n",
       "      <td>untracked</td>\n",
       "      <td>Web</td>\n",
       "      <td>Mac Desktop</td>\n",
       "      <td>Chrome</td>\n",
       "      <td>NDF</td>\n",
       "    </tr>\n",
       "    <tr>\n",
       "      <th>4ft3gnwmtx</th>\n",
       "      <td>2010-09-28</td>\n",
       "      <td>2009-06-09 23:12:47</td>\n",
       "      <td>2010-08-02</td>\n",
       "      <td>FEMALE</td>\n",
       "      <td>56.0</td>\n",
       "      <td>basic</td>\n",
       "      <td>3</td>\n",
       "      <td>en</td>\n",
       "      <td>direct</td>\n",
       "      <td>direct</td>\n",
       "      <td>untracked</td>\n",
       "      <td>Web</td>\n",
       "      <td>Windows Desktop</td>\n",
       "      <td>IE</td>\n",
       "      <td>US</td>\n",
       "    </tr>\n",
       "    <tr>\n",
       "      <th>bjjt8pjhuk</th>\n",
       "      <td>2011-12-05</td>\n",
       "      <td>2009-10-31 06:01:29</td>\n",
       "      <td>2012-09-08</td>\n",
       "      <td>FEMALE</td>\n",
       "      <td>42.0</td>\n",
       "      <td>facebook</td>\n",
       "      <td>0</td>\n",
       "      <td>en</td>\n",
       "      <td>direct</td>\n",
       "      <td>direct</td>\n",
       "      <td>untracked</td>\n",
       "      <td>Web</td>\n",
       "      <td>Mac Desktop</td>\n",
       "      <td>Firefox</td>\n",
       "      <td>other</td>\n",
       "    </tr>\n",
       "    <tr>\n",
       "      <th>87mebub9p4</th>\n",
       "      <td>2010-09-14</td>\n",
       "      <td>2009-12-08 06:11:05</td>\n",
       "      <td>2010-02-18</td>\n",
       "      <td>-unknown-</td>\n",
       "      <td>41.0</td>\n",
       "      <td>basic</td>\n",
       "      <td>0</td>\n",
       "      <td>en</td>\n",
       "      <td>direct</td>\n",
       "      <td>direct</td>\n",
       "      <td>untracked</td>\n",
       "      <td>Web</td>\n",
       "      <td>Mac Desktop</td>\n",
       "      <td>Chrome</td>\n",
       "      <td>US</td>\n",
       "    </tr>\n",
       "  </tbody>\n",
       "</table>\n",
       "</div>"
      ],
      "text/plain": [
       "           date_account_created timestamp_first_active date_first_booking  \\\n",
       "id                                                                          \n",
       "gxn3p5htnn           2010-06-28    2009-03-19 04:32:55                NaT   \n",
       "820tgsjxq7           2011-05-25    2009-05-23 17:48:09                NaT   \n",
       "4ft3gnwmtx           2010-09-28    2009-06-09 23:12:47         2010-08-02   \n",
       "bjjt8pjhuk           2011-12-05    2009-10-31 06:01:29         2012-09-08   \n",
       "87mebub9p4           2010-09-14    2009-12-08 06:11:05         2010-02-18   \n",
       "\n",
       "               gender   age signup_method  signup_flow language  \\\n",
       "id                                                                \n",
       "gxn3p5htnn  -unknown-   NaN      facebook            0       en   \n",
       "820tgsjxq7       MALE  38.0      facebook            0       en   \n",
       "4ft3gnwmtx     FEMALE  56.0         basic            3       en   \n",
       "bjjt8pjhuk     FEMALE  42.0      facebook            0       en   \n",
       "87mebub9p4  -unknown-  41.0         basic            0       en   \n",
       "\n",
       "           affiliate_channel affiliate_provider first_affiliate_tracked  \\\n",
       "id                                                                        \n",
       "gxn3p5htnn            direct             direct               untracked   \n",
       "820tgsjxq7               seo             google               untracked   \n",
       "4ft3gnwmtx            direct             direct               untracked   \n",
       "bjjt8pjhuk            direct             direct               untracked   \n",
       "87mebub9p4            direct             direct               untracked   \n",
       "\n",
       "           signup_app first_device_type first_browser country_destination  \n",
       "id                                                                         \n",
       "gxn3p5htnn        Web       Mac Desktop        Chrome                 NDF  \n",
       "820tgsjxq7        Web       Mac Desktop        Chrome                 NDF  \n",
       "4ft3gnwmtx        Web   Windows Desktop            IE                  US  \n",
       "bjjt8pjhuk        Web       Mac Desktop       Firefox               other  \n",
       "87mebub9p4        Web       Mac Desktop        Chrome                  US  "
      ]
     },
     "execution_count": 5,
     "metadata": {},
     "output_type": "execute_result"
    }
   ],
   "source": [
    "dataset.head()"
   ]
  },
  {
   "cell_type": "markdown",
   "metadata": {},
   "source": [
    "#### Algunas validaciones de reglas de negocio..."
   ]
  },
  {
   "cell_type": "code",
   "execution_count": 6,
   "metadata": {},
   "outputs": [],
   "source": [
    "missing_values_count = dataset.isnull().sum()"
   ]
  },
  {
   "cell_type": "code",
   "execution_count": 7,
   "metadata": {},
   "outputs": [
    {
     "data": {
      "text/plain": [
       "True"
      ]
     },
     "execution_count": 7,
     "metadata": {},
     "output_type": "execute_result"
    }
   ],
   "source": [
    "len(dataset[ dataset.country_destination==\"NDF\"]) == missing_values_count.date_first_booking"
   ]
  },
  {
   "cell_type": "markdown",
   "metadata": {},
   "source": [
    "date_first_booking en null significa que no se elegió ningún destino, es correcto que la cantidad de NDF sea igual a date_first_booking en null"
   ]
  },
  {
   "cell_type": "code",
   "execution_count": 8,
   "metadata": {},
   "outputs": [
    {
     "data": {
      "text/plain": [
       "date_account_created        0.000000\n",
       "timestamp_first_active      0.000000\n",
       "date_first_booking         58.347349\n",
       "gender                      0.000000\n",
       "age                        41.222576\n",
       "signup_method               0.000000\n",
       "signup_flow                 0.000000\n",
       "language                    0.000000\n",
       "affiliate_channel           0.000000\n",
       "affiliate_provider          0.000000\n",
       "first_affiliate_tracked     2.841402\n",
       "signup_app                  0.000000\n",
       "first_device_type           0.000000\n",
       "first_browser               0.000000\n",
       "country_destination         0.000000\n",
       "dtype: float64"
      ]
     },
     "execution_count": 8,
     "metadata": {},
     "output_type": "execute_result"
    }
   ],
   "source": [
    "percentage_null = (missing_values_count / len(dataset))*100\n",
    "percentage_null"
   ]
  },
  {
   "cell_type": "markdown",
   "metadata": {},
   "source": [
    "##### Tratamiento de fechas - conversion a epoch"
   ]
  },
  {
   "cell_type": "code",
   "execution_count": 9,
   "metadata": {},
   "outputs": [],
   "source": [
    "def date_convert_to_epoch( date ):\n",
    "    # date is a pandas datetime\n",
    "    # https://stackoverflow.com/questions/35630098/convert-a-column-of-datetimes-to-epoch-in-python\n",
    "    \n",
    "    return date.astype('int64')//1e9\n"
   ]
  },
  {
   "cell_type": "code",
   "execution_count": 10,
   "metadata": {},
   "outputs": [],
   "source": [
    "dataset['date_account_created'] = date_convert_to_epoch( dataset.date_account_created )\n",
    "dataset['timestamp_first_active'] = date_convert_to_epoch( dataset.timestamp_first_active )\n",
    "dataset['date_first_booking'] = date_convert_to_epoch( dataset.date_first_booking )"
   ]
  },
  {
   "cell_type": "code",
   "execution_count": 11,
   "metadata": {},
   "outputs": [
    {
     "name": "stdout",
     "output_type": "stream",
     "text": [
      "id\n",
      "gxn3p5htnn    1277683200\n",
      "820tgsjxq7    1306281600\n",
      "4ft3gnwmtx    1285632000\n",
      "bjjt8pjhuk    1323043200\n",
      "87mebub9p4    1284422400\n",
      "Name: date_account_created, dtype: int64\n",
      "id\n",
      "gxn3p5htnn    1237437175\n",
      "820tgsjxq7    1243100889\n",
      "4ft3gnwmtx    1244589167\n",
      "bjjt8pjhuk    1256968889\n",
      "87mebub9p4    1260252665\n",
      "Name: timestamp_first_active, dtype: int64\n",
      "id\n",
      "gxn3p5htnn   -9223372037\n",
      "820tgsjxq7   -9223372037\n",
      "4ft3gnwmtx    1280707200\n",
      "bjjt8pjhuk    1347062400\n",
      "87mebub9p4    1266451200\n",
      "Name: date_first_booking, dtype: int64\n"
     ]
    }
   ],
   "source": [
    "print(dataset.date_account_created.head())\n",
    "print(dataset.timestamp_first_active.head())\n",
    "print(dataset.date_first_booking.head())"
   ]
  },
  {
   "cell_type": "code",
   "execution_count": 12,
   "metadata": {},
   "outputs": [
    {
     "data": {
      "text/html": [
       "<div>\n",
       "<style scoped>\n",
       "    .dataframe tbody tr th:only-of-type {\n",
       "        vertical-align: middle;\n",
       "    }\n",
       "\n",
       "    .dataframe tbody tr th {\n",
       "        vertical-align: top;\n",
       "    }\n",
       "\n",
       "    .dataframe thead th {\n",
       "        text-align: right;\n",
       "    }\n",
       "</style>\n",
       "<table border=\"1\" class=\"dataframe\">\n",
       "  <thead>\n",
       "    <tr style=\"text-align: right;\">\n",
       "      <th></th>\n",
       "      <th>date_account_created</th>\n",
       "      <th>timestamp_first_active</th>\n",
       "      <th>date_first_booking</th>\n",
       "      <th>gender</th>\n",
       "      <th>age</th>\n",
       "      <th>signup_method</th>\n",
       "      <th>signup_flow</th>\n",
       "      <th>language</th>\n",
       "      <th>affiliate_channel</th>\n",
       "      <th>affiliate_provider</th>\n",
       "      <th>first_affiliate_tracked</th>\n",
       "      <th>signup_app</th>\n",
       "      <th>first_device_type</th>\n",
       "      <th>first_browser</th>\n",
       "      <th>country_destination</th>\n",
       "    </tr>\n",
       "    <tr>\n",
       "      <th>id</th>\n",
       "      <th></th>\n",
       "      <th></th>\n",
       "      <th></th>\n",
       "      <th></th>\n",
       "      <th></th>\n",
       "      <th></th>\n",
       "      <th></th>\n",
       "      <th></th>\n",
       "      <th></th>\n",
       "      <th></th>\n",
       "      <th></th>\n",
       "      <th></th>\n",
       "      <th></th>\n",
       "      <th></th>\n",
       "      <th></th>\n",
       "    </tr>\n",
       "  </thead>\n",
       "  <tbody>\n",
       "  </tbody>\n",
       "</table>\n",
       "</div>"
      ],
      "text/plain": [
       "Empty DataFrame\n",
       "Columns: [date_account_created, timestamp_first_active, date_first_booking, gender, age, signup_method, signup_flow, language, affiliate_channel, affiliate_provider, first_affiliate_tracked, signup_app, first_device_type, first_browser, country_destination]\n",
       "Index: []"
      ]
     },
     "execution_count": 12,
     "metadata": {},
     "output_type": "execute_result"
    }
   ],
   "source": [
    "# chequeamos duplicados\n",
    "dataset[ dataset.duplicated() ]"
   ]
  },
  {
   "cell_type": "code",
   "execution_count": 13,
   "metadata": {},
   "outputs": [
    {
     "data": {
      "text/plain": [
       "date_account_created        0.000000\n",
       "timestamp_first_active      0.000000\n",
       "date_first_booking         58.347349\n",
       "gender                      0.000000\n",
       "age                        41.222576\n",
       "signup_method               0.000000\n",
       "signup_flow                 0.000000\n",
       "language                    0.000000\n",
       "affiliate_channel           0.000000\n",
       "affiliate_provider          0.000000\n",
       "first_affiliate_tracked     2.841402\n",
       "signup_app                  0.000000\n",
       "first_device_type           0.000000\n",
       "first_browser               0.000000\n",
       "country_destination         0.000000\n",
       "dtype: float64"
      ]
     },
     "execution_count": 13,
     "metadata": {},
     "output_type": "execute_result"
    }
   ],
   "source": [
    "percentage_null = (missing_values_count / len(dataset))*100\n",
    "percentage_null"
   ]
  },
  {
   "cell_type": "markdown",
   "metadata": {},
   "source": [
    "No hacemos nada con __date_first_booking__ porque que este en blanco significa que no seleccionó ningun destino todavia..."
   ]
  },
  {
   "cell_type": "markdown",
   "metadata": {},
   "source": [
    "### Tratamiento de Age"
   ]
  },
  {
   "cell_type": "markdown",
   "metadata": {},
   "source": [
    "Tratamos los blancos en la edad. Reemplazamos por la media"
   ]
  },
  {
   "cell_type": "code",
   "execution_count": 14,
   "metadata": {},
   "outputs": [
    {
     "data": {
      "text/plain": [
       "id\n",
       "gxn3p5htnn    49.668335\n",
       "820tgsjxq7    38.000000\n",
       "4ft3gnwmtx    56.000000\n",
       "bjjt8pjhuk    42.000000\n",
       "87mebub9p4    41.000000\n",
       "Name: age, dtype: float64"
      ]
     },
     "execution_count": 14,
     "metadata": {},
     "output_type": "execute_result"
    }
   ],
   "source": [
    "dataset.age.fillna( dataset.age.mean(), inplace=True)\n",
    "dataset.age.head()"
   ]
  },
  {
   "cell_type": "markdown",
   "metadata": {},
   "source": [
    "__TODO__: Determinar el set de features que vas a usar."
   ]
  },
  {
   "cell_type": "markdown",
   "metadata": {},
   "source": [
    "No vamos a usar el feature __first_affiliate_tracked__ y eliminamos el __id__"
   ]
  },
  {
   "cell_type": "code",
   "execution_count": 15,
   "metadata": {},
   "outputs": [],
   "source": [
    "dataset = dataset.drop(columns=['first_affiliate_tracked'])"
   ]
  },
  {
   "cell_type": "markdown",
   "metadata": {},
   "source": [
    "__TODO__: ¿Es una dataset balanceado? ¿Cuál es su implicancia y que podemos hacer con ello?"
   ]
  },
  {
   "cell_type": "code",
   "execution_count": 16,
   "metadata": {},
   "outputs": [
    {
     "name": "stdout",
     "output_type": "stream",
     "text": [
      "Frecuencias del Target\n"
     ]
    },
    {
     "data": {
      "text/plain": [
       "NDF      124543\n",
       "US        62376\n",
       "other     10094\n",
       "FR         5023\n",
       "IT         2835\n",
       "GB         2324\n",
       "ES         2249\n",
       "CA         1428\n",
       "DE         1061\n",
       "NL          762\n",
       "AU          539\n",
       "PT          217\n",
       "Name: country_destination, dtype: int64"
      ]
     },
     "metadata": {},
     "output_type": "display_data"
    },
    {
     "name": "stdout",
     "output_type": "stream",
     "text": [
      "['NDF' 'US' 'other' 'FR' 'CA' 'GB' 'ES' 'IT' 'PT' 'NL' 'DE' 'AU']\n"
     ]
    }
   ],
   "source": [
    "print('Frecuencias del Target')\n",
    "display(dataset.country_destination.value_counts())\n",
    "\n",
    "# guardamos la lista de paises, antes de pisarla\n",
    "countries = dataset.country_destination.unique()\n",
    "print(countries)"
   ]
  },
  {
   "cell_type": "markdown",
   "metadata": {},
   "source": [
    "Es un dataset no balanceado: NDF, US, other...\n",
    "Para ver tecnicas para manejar este tipo de datasets, ver:\n",
    "https://www.kaggle.com/rafjaa/resampling-strategies-for-imbalanced-datasets\n",
    "(gentileza Santiago Alasia)"
   ]
  },
  {
   "cell_type": "markdown",
   "metadata": {},
   "source": [
    "### Convertimos datos categoricos"
   ]
  },
  {
   "cell_type": "code",
   "execution_count": 17,
   "metadata": {},
   "outputs": [
    {
     "name": "stdout",
     "output_type": "stream",
     "text": [
      "['-unknown-' 'MALE' 'FEMALE' 'OTHER']\n",
      "['facebook' 'basic' 'google']\n",
      "['en' 'fr' 'de' 'es' 'it' 'pt' 'zh' 'ko' 'ja' 'ru' 'pl' 'el' 'sv' 'nl'\n",
      " 'hu' 'da' 'id' 'fi' 'no' 'tr' 'th' 'cs' 'hr' 'ca' 'is']\n",
      "['direct' 'seo' 'other' 'sem-non-brand' 'content' 'sem-brand'\n",
      " 'remarketing' 'api']\n",
      "['direct' 'google' 'other' 'craigslist' 'facebook' 'vast' 'bing' 'meetup'\n",
      " 'facebook-open-graph' 'email-marketing' 'yahoo' 'padmapper' 'gsp' 'wayn'\n",
      " 'naver' 'baidu' 'yandex' 'daum']\n",
      "['Web' 'Moweb' 'iOS' 'Android']\n",
      "['Mac Desktop' 'Windows Desktop' 'iPhone' 'Other/Unknown'\n",
      " 'Desktop (Other)' 'Android Tablet' 'iPad' 'Android Phone'\n",
      " 'SmartPhone (Other)']\n",
      "['Chrome' 'IE' 'Firefox' 'Safari' '-unknown-' 'Mobile Safari'\n",
      " 'Chrome Mobile' 'RockMelt' 'Chromium' 'Android Browser' 'AOL Explorer'\n",
      " 'Palm Pre web browser' 'Mobile Firefox' 'Opera' 'TenFourFox' 'IE Mobile'\n",
      " 'Apple Mail' 'Silk' 'Camino' 'Arora' 'BlackBerry Browser' 'SeaMonkey'\n",
      " 'Iron' 'Sogou Explorer' 'IceWeasel' 'Opera Mini' 'SiteKiosk' 'Maxthon'\n",
      " 'Kindle Browser' 'CoolNovo' 'Conkeror' 'wOSBrowser' 'Google Earth'\n",
      " 'Crazy Browser' 'Mozilla' 'OmniWeb' 'PS Vita browser' 'NetNewsWire'\n",
      " 'CometBird' 'Comodo Dragon' 'Flock' 'Pale Moon' 'Avant Browser'\n",
      " 'Opera Mobile' 'Yandex.Browser' 'TheWorld Browser' 'SlimBrowser' 'Epic'\n",
      " 'Stainless' 'Googlebot' 'Outlook 2007' 'IceDragon']\n",
      "['NDF' 'US' 'other' 'FR' 'CA' 'GB' 'ES' 'IT' 'PT' 'NL' 'DE' 'AU']\n"
     ]
    }
   ],
   "source": [
    "print(dataset.gender.unique())\n",
    "print(dataset.signup_method.unique())\n",
    "#print(dataset.signup_flow.unique())\n",
    "print(dataset.language.unique())\n",
    "print(dataset.affiliate_channel.unique())\n",
    "print(dataset.affiliate_provider.unique())\n",
    "print(dataset.signup_app.unique())\n",
    "print(dataset.first_device_type.unique())\n",
    "print(dataset.first_browser.unique())\n",
    "print(dataset.country_destination.unique())"
   ]
  },
  {
   "cell_type": "code",
   "execution_count": 18,
   "metadata": {},
   "outputs": [],
   "source": [
    "from sklearn import preprocessing"
   ]
  },
  {
   "cell_type": "code",
   "execution_count": 19,
   "metadata": {},
   "outputs": [],
   "source": [
    "def categories_convert( dataset, column ):\n",
    "    # given a dataset and a column (categorical)\n",
    "    # converts categories in codes, replacing all values in that column\n",
    "    \n",
    "    # Create a label (category) encoder object\n",
    "    le = preprocessing.LabelEncoder()\n",
    "    # Fit the encoder to the pandas column\n",
    "    le.fit(dataset[column])\n",
    "    \n",
    "    # View encoder mapping\n",
    "    # print(dict(zip(le.classes_,le.transform(le.classes_))))\n",
    "    dataset[column] = le.transform(dataset[column])"
   ]
  },
  {
   "cell_type": "code",
   "execution_count": 20,
   "metadata": {},
   "outputs": [],
   "source": [
    "categories_convert(dataset, \"gender\")\n",
    "categories_convert(dataset, \"first_device_type\")\n",
    "categories_convert(dataset, \"signup_method\")\n",
    "categories_convert(dataset, \"language\")\n",
    "categories_convert(dataset, \"affiliate_channel\")\n",
    "categories_convert(dataset, \"affiliate_provider\")\n",
    "categories_convert(dataset, \"signup_app\")\n",
    "categories_convert(dataset, \"first_device_type\")\n",
    "categories_convert(dataset, \"first_browser\")\n",
    "categories_convert(dataset, \"country_destination\")"
   ]
  },
  {
   "cell_type": "code",
   "execution_count": 21,
   "metadata": {},
   "outputs": [
    {
     "name": "stdout",
     "output_type": "stream",
     "text": [
      "[1 0 2]\n",
      "[ 5  8  3  6 13 19 24 15 14 20 18  4 21 16 10  2 11  7 17 23 22  1  9  0\n",
      " 12]\n",
      "[2 7 3 6 1 5 4 0]\n",
      "[ 4  8 12  2  6 14  1 10  7  5 16 13  9 15 11  0 17  3]\n",
      "[2 1 3 0]\n",
      "[3 6 8 4 2 1 7 0 5]\n",
      "[ 8 21 17 41  0 29  9 40 10  2  1 39 28 33 48 22  3 43  7  4  6 42 25 46\n",
      " 24 34 44 27 26 14 13 51 19 15 30 32 37 31 11 12 18 38  5 35 50 49 45 16\n",
      " 47 20 36 23]\n",
      "[ 7 10 11  4  1  5  3  6  9  8  2  0]\n"
     ]
    }
   ],
   "source": [
    "print(dataset.signup_method.unique())\n",
    "#print(dataset.signup_flow.unique())\n",
    "print(dataset.language.unique())\n",
    "print(dataset.affiliate_channel.unique())\n",
    "print(dataset.affiliate_provider.unique())\n",
    "print(dataset.signup_app.unique())\n",
    "print(dataset.first_device_type.unique())\n",
    "print(dataset.first_browser.unique())\n",
    "print(dataset.country_destination.unique())"
   ]
  },
  {
   "cell_type": "markdown",
   "metadata": {},
   "source": [
    "---\n",
    "## Ejercicio 1: División de datos en conjuntos de entrenamiento y evaluación\n",
    "\n",
    "La primer tarea consiste en dividir el conjunto de datos cargados en el apartado anterior en conjuntos de entrenamiento (o `training`) y evaluación (o `test`). El primero será utilizado para la creación/selección del modelo de clasificación. El segundo se utilizará sólo al final (una vez elegidos los mejores hiperparámetros) para ver cuál es el resultado final del modelo sobre un conjunto de datos independiente."
   ]
  },
  {
   "cell_type": "code",
   "execution_count": 22,
   "metadata": {},
   "outputs": [
    {
     "data": {
      "text/plain": [
       "14"
      ]
     },
     "execution_count": 22,
     "metadata": {},
     "output_type": "execute_result"
    }
   ],
   "source": [
    "cant_cols = dataset.shape[1]\n",
    "cant_cols"
   ]
  },
  {
   "cell_type": "code",
   "execution_count": 23,
   "metadata": {},
   "outputs": [],
   "source": [
    "# train_test_split recibe como parametros los datos de entrenamiento y el target\n",
    "# separar el dataset en esos dos conjuntos:\n",
    "\n",
    "from sklearn import model_selection\n",
    "\n",
    "dataset_target = dataset.loc[:,'country_destination']\n",
    "dataset_train = dataset.drop(columns=['country_destination'])\n",
    "\n",
    "x_train, x_test, y_train, y_test = model_selection.train_test_split(dataset_train, dataset_target, test_size=0.33, random_state=3)"
   ]
  },
  {
   "cell_type": "code",
   "execution_count": 42,
   "metadata": {},
   "outputs": [
    {
     "data": {
      "text/plain": [
       "(            date_account_created  timestamp_first_active  date_first_booking  \\\n",
       " id                                                                             \n",
       " uzuneo4yz7            1332547200              1332627721         -9223372037   \n",
       " cluhjarag2            1336435200              1336443735          1337040000   \n",
       " yxmwrq5gkk            1400803200              1400864118          1400803200   \n",
       " zh6horkx4p            1403136000              1403155657          1404000000   \n",
       " xeu373dd79            1351728000              1351748970         -9223372037   \n",
       " \n",
       "             gender        age  signup_method  signup_flow  language  \\\n",
       " id                                                                    \n",
       " uzuneo4yz7       0  49.668335              0            0         5   \n",
       " cluhjarag2       2  48.000000              0            0         5   \n",
       " yxmwrq5gkk       1  31.000000              0            0         8   \n",
       " zh6horkx4p       1  24.000000              0            0         5   \n",
       " xeu373dd79       0  49.668335              0            0         5   \n",
       " \n",
       "             affiliate_channel  affiliate_provider  signup_app  \\\n",
       " id                                                              \n",
       " uzuneo4yz7                  6                   8           2   \n",
       " cluhjarag2                  5                   8           2   \n",
       " yxmwrq5gkk                  6                   8           2   \n",
       " zh6horkx4p                  2                   4           2   \n",
       " xeu373dd79                  5                   8           2   \n",
       " \n",
       "             first_device_type  first_browser  \n",
       " id                                            \n",
       " uzuneo4yz7                  3             17  \n",
       " cluhjarag2                  3              8  \n",
       " yxmwrq5gkk                  6             17  \n",
       " zh6horkx4p                  3             41  \n",
       " xeu373dd79                  7             29  ,\n",
       "             date_account_created  timestamp_first_active  date_first_booking  \\\n",
       " id                                                                             \n",
       " hie6wfd0fx            1359417600              1359483307         -9223372037   \n",
       " lcle1867k1            1403654400              1403736204         -9223372037   \n",
       " ni2pstga7k            1356652800              1356663113         -9223372037   \n",
       " agfw6zzgh5            1394496000              1394558921         -9223372037   \n",
       " mu5y5rqynk            1344297600              1344322772         -9223372037   \n",
       " \n",
       "             gender        age  signup_method  signup_flow  language  \\\n",
       " id                                                                    \n",
       " hie6wfd0fx       0  49.668335              0           24         5   \n",
       " lcle1867k1       0  49.668335              0            0         5   \n",
       " ni2pstga7k       1  25.000000              0            0         5   \n",
       " agfw6zzgh5       0  49.668335              0            0         5   \n",
       " mu5y5rqynk       1  37.000000              1            0         5   \n",
       " \n",
       "             affiliate_channel  affiliate_provider  signup_app  \\\n",
       " id                                                              \n",
       " hie6wfd0fx                  2                   4           1   \n",
       " lcle1867k1                  6                   8           2   \n",
       " ni2pstga7k                  2                   4           2   \n",
       " agfw6zzgh5                  2                   4           2   \n",
       " mu5y5rqynk                  2                   4           2   \n",
       " \n",
       "             first_device_type  first_browser  \n",
       " id                                            \n",
       " hie6wfd0fx                  6              8  \n",
       " lcle1867k1                  3             41  \n",
       " ni2pstga7k                  7             29  \n",
       " agfw6zzgh5                  6              8  \n",
       " mu5y5rqynk                  6             21  )"
      ]
     },
     "execution_count": 42,
     "metadata": {},
     "output_type": "execute_result"
    }
   ],
   "source": [
    "x_train.head(), x_test.head()"
   ]
  },
  {
   "cell_type": "code",
   "execution_count": 52,
   "metadata": {},
   "outputs": [
    {
     "data": {
      "text/plain": [
       "(id\n",
       " uzuneo4yz7     7\n",
       " cluhjarag2    10\n",
       " yxmwrq5gkk    10\n",
       " zh6horkx4p     3\n",
       " xeu373dd79     7\n",
       " Name: country_destination, dtype: int32, 70439)"
      ]
     },
     "execution_count": 52,
     "metadata": {},
     "output_type": "execute_result"
    }
   ],
   "source": [
    " y_train.head(), len(y_test)"
   ]
  },
  {
   "cell_type": "code",
   "execution_count": 51,
   "metadata": {},
   "outputs": [
    {
     "data": {
      "text/plain": [
       "(id\n",
       " hie6wfd0fx    7\n",
       " lcle1867k1    7\n",
       " ni2pstga7k    7\n",
       " agfw6zzgh5    7\n",
       " mu5y5rqynk    7\n",
       " Name: country_destination, dtype: int32, 70439)"
      ]
     },
     "execution_count": 51,
     "metadata": {},
     "output_type": "execute_result"
    }
   ],
   "source": [
    "y_test.head(), len(y_test)"
   ]
  },
  {
   "cell_type": "code",
   "execution_count": 58,
   "metadata": {},
   "outputs": [
    {
     "data": {
      "text/plain": [
       "41097"
      ]
     },
     "execution_count": 58,
     "metadata": {},
     "output_type": "execute_result"
    }
   ],
   "source": [
    "df=y_test.to_frame()\n",
    "len(df[df.country_destination == 7])"
   ]
  },
  {
   "cell_type": "code",
   "execution_count": 25,
   "metadata": {},
   "outputs": [
    {
     "name": "stdout",
     "output_type": "stream",
     "text": [
      "----------------------------------------\n",
      "Frecuencias del Target\n"
     ]
    },
    {
     "data": {
      "text/plain": [
       "7     124543\n",
       "10     62376\n",
       "11     10094\n",
       "4       5023\n",
       "6       2835\n",
       "5       2324\n",
       "3       2249\n",
       "1       1428\n",
       "2       1061\n",
       "8        762\n",
       "0        539\n",
       "9        217\n",
       "Name: country_destination, dtype: int64"
      ]
     },
     "metadata": {},
     "output_type": "display_data"
    }
   ],
   "source": [
    "print(\"----------------------------------------\")\n",
    "print('Frecuencias del Target')\n",
    "display(dataset.country_destination.value_counts())"
   ]
  },
  {
   "cell_type": "markdown",
   "metadata": {},
   "source": [
    "### Funciones Auxiliares"
   ]
  },
  {
   "cell_type": "code",
   "execution_count": 26,
   "metadata": {},
   "outputs": [],
   "source": [
    "def classification_print_results( y_true, y_pred ):\n",
    "    \n",
    "    print(\"Reporte de clasificación para el mejor clasificador (sobre conjunto de evaluación):\", end=\"\\n\\n\")\n",
    "    \n",
    "    print(classification_report(y_true, y_pred), end=\"\\n\\n\")\n",
    "    print()\n",
    "    \n",
    "    print(confusion_matrix(y_true, y_pred))\n",
    "    print()\n"
   ]
  },
  {
   "cell_type": "code",
   "execution_count": 27,
   "metadata": {},
   "outputs": [],
   "source": [
    "import itertools\n",
    "from sklearn.utils.multiclass import unique_labels\n",
    "\n",
    "def plot_confusion_matrix(y_true, y_pred, \n",
    "                          normalize=False,\n",
    "                          title=None,\n",
    "                          cmap=plt.cm.Blues):\n",
    "\n",
    "    \"\"\"\n",
    "    This function prints and plots the confusion matrix.\n",
    "    Normalization can be applied by setting `normalize=True`.\n",
    "    \"\"\"\n",
    "    if not title:\n",
    "        if normalize:\n",
    "            cnf_matrix = cnf_matrix.astype('float') / cnf_matrix.sum(axis=1)[:, np.newaxis]\n",
    "            title = \"Normalized confusion matrix\"\n",
    "        else:\n",
    "            title = \"Confusion matrix\"\n",
    "        \n",
    "    \n",
    "    cnf_matrix = confusion_matrix(y_true, y_pred)\n",
    "\n",
    "    #classes = classes[ unique_labels(y_true, y_pred)]\n",
    "    classes = unique_labels(y_true, y_pred)\n",
    "    \n",
    "    if normalize:\n",
    "        cnf_matrix = cnf_matrix.astype('float') / cnf_matrix.sum(axis=1)[:, np.newaxis]\n",
    "        print(\"Normalized confusion matrix\")\n",
    "        print(cnf_matrix)\n",
    "\n",
    "    else:\n",
    "        print('Confusion matrix, without normalization')\n",
    "\n",
    "    fig, ax = plt.subplots( figsize=(10,10) )\n",
    "    \n",
    "    im = ax.imshow(cnf_matrix, interpolation='nearest', cmap=cmap)\n",
    "    # ax.figure.colorbar(im, ax=ax)\n",
    "    # We want to show all ticks...\n",
    "    ax.set(xticks=np.arange(cnf_matrix.shape[1]),\n",
    "           yticks=np.arange(cnf_matrix.shape[0]),\n",
    "           # ... and label them with the respective list entries\n",
    "           xticklabels=classes, yticklabels=classes,\n",
    "           title=title,\n",
    "           ylabel='True label',\n",
    "           xlabel='Predicted label')\n",
    "\n",
    "    # Rotate the tick labels and set their alignment.\n",
    "    plt.setp(ax.get_xticklabels(), rotation=45, ha=\"right\",\n",
    "             rotation_mode=\"anchor\")\n",
    "\n",
    "    # Loop over data dimensions and create text annotations.\n",
    "    fmt = '.2f' if normalize else 'd'\n",
    "    thresh = cnf_matrix.max() / 2.\n",
    "    for i in range(cnf_matrix.shape[0]):\n",
    "        for j in range(cnf_matrix.shape[1]):\n",
    "            ax.text(j, i, format(cnf_matrix[i, j], fmt),\n",
    "                    ha=\"center\", va=\"center\",\n",
    "                    color=\"white\" if cnf_matrix[i, j] > thresh else \"black\")\n",
    "    fig.tight_layout()\n",
    "    fig.show()\n",
    "    return ax\n",
    "\n"
   ]
  },
  {
   "cell_type": "markdown",
   "metadata": {},
   "source": [
    "#### Correlación de las features"
   ]
  },
  {
   "cell_type": "code",
   "execution_count": 28,
   "metadata": {},
   "outputs": [
    {
     "data": {
      "image/png": "[encoded data removed]",
      "text/plain": [
       "<Figure size 720x720 with 2 Axes>"
      ]
     },
     "metadata": {
      "needs_background": "light"
     },
     "output_type": "display_data"
    }
   ],
   "source": [
    "f = plt.figure(figsize=(10, 10))\n",
    "plt.matshow(dataset.corr(), fignum=f.number)\n",
    "plt.xticks(range(dataset.shape[1]), dataset.columns, fontsize=14, rotation=45)\n",
    "plt.yticks(range(dataset.shape[1]), dataset.columns, fontsize=14)\n",
    "cb = plt.colorbar()\n",
    "cb.ax.tick_params(labelsize=14)"
   ]
  },
  {
   "cell_type": "markdown",
   "metadata": {},
   "source": [
    "No se observan a primera vista correlaciones fuertes con __country_destination__  \n",
    "Solo __age__ y __gender__ tienen alguna aparente correlación."
   ]
  },
  {
   "cell_type": "markdown",
   "metadata": {},
   "source": [
    "---\n",
    "## Ejercicio 2: Elección de un modelo\n",
    "\n",
    "Basándose en lo visto en el teórico escojan y justifiquen un modelo de aprendizaje automático. Recuerden que los pasos para elegir un modelo son:\n",
    "\n",
    "1. Selección de hipótesis.\n",
    "2. Selección de regularizador.\n",
    "3. Selección de función de coste.\n",
    "\n",
    "__TODO__: Justifica tus selecciones anteriores.\n",
    "\n",
    "__HINT__: Deben tener en cuenta que __NO__ se trata de una `clasificación binaria`."
   ]
  },
  {
   "cell_type": "markdown",
   "metadata": {},
   "source": [
    "### Hacemos una prueba con Multinomial Logistic Regression\n",
    "\n",
    "Seleccionamos Multinomial, ya que se trata de un problema multi clase.\n"
   ]
  },
  {
   "cell_type": "code",
   "execution_count": 47,
   "metadata": {},
   "outputs": [
    {
     "name": "stdout",
     "output_type": "stream",
     "text": [
      "              precision    recall  f1-score   support\n",
      "\n",
      "           0       0.00      0.00      0.00       173\n",
      "           1       0.00      0.00      0.00       449\n",
      "           2       0.00      0.00      0.00       356\n",
      "           3       0.00      0.00      0.00       745\n",
      "           4       0.00      0.00      0.00      1689\n",
      "           5       0.00      0.00      0.00       776\n",
      "           6       0.00      0.00      0.00       892\n",
      "           7       1.00      1.00      1.00     41097\n",
      "           8       0.00      0.00      0.00       254\n",
      "           9       0.00      0.00      0.00        61\n",
      "          10       0.70      1.00      0.83     20639\n",
      "          11       0.00      0.00      0.00      3308\n",
      "\n",
      "   micro avg       0.88      0.88      0.88     70439\n",
      "   macro avg       0.14      0.17      0.15     70439\n",
      "weighted avg       0.79      0.88      0.83     70439\n",
      "\n",
      "\n"
     ]
    }
   ],
   "source": [
    "from sklearn.linear_model import LogisticRegression\n",
    "\n",
    "model_lg = LogisticRegression(random_state=0, solver='lbfgs', multi_class='multinomial')\n",
    "\n",
    "model_lg.fit (x_train, y_train)\n",
    "\n",
    "y_true, y_pred = y_test, model_lg.predict(x_test)\n",
    "    \n",
    "print(classification_report(y_true, y_pred), end=\"\\n\\n\")\n"
   ]
  },
  {
   "cell_type": "markdown",
   "metadata": {},
   "source": [
    "__Refuerzo sobre las definiciones__  \n",
    "*Precision: que tan buenas son cada una de tus predicciones*  \n",
    "*Recall: que tan bueno sos, encontrando TODOS los positivos*  \n",
    "\n",
    "__Precision – What percent of your predictions were correct?__\n",
    "Precision is the ability of a classifier not to label an instance positive that is actually negative. For each class it is defined as the ratio of true positives to the sum of true and false positives.\n",
    "Precision = Accuracy of positive predictions.\n",
    "\n",
    "TP – True Positives\n",
    "FP – False Positives\n",
    "\n",
    "Precision = TP/(TP + FP)\n",
    "\n",
    "__Recall – What percent of the positive cases did you catch?__\n",
    "Recall is the ability of a classifier to find all positive instances. For each class it is defined as the ratio of true positives to the sum of true positives and false negatives.\n",
    "Recall = Fraction of positives that were correctly identified.\n",
    "\n",
    "Recall = TP/(TP+FN)\n",
    "\n",
    "__F1 score – What percent of positive predictions were correct?__\n",
    "The F1 score is a weighted harmonic mean of precision and recall such that the best score is 1.0 and the worst is 0.0. Generally speaking, F1 scores are lower than accuracy measures as they embed precision and recall into their computation. \n",
    "\n",
    "F1 Score = 2*(Recall * Precision) / (Recall + Precision)\n",
    "\n",
    "__Support - is the number of occurrences of each class in y_true.__"
   ]
  },
  {
   "cell_type": "markdown",
   "metadata": {},
   "source": [
    "### Hacemos una prueba con Grid Search \n"
   ]
  },
  {
   "cell_type": "code",
   "execution_count": 62,
   "metadata": {
    "scrolled": false
   },
   "outputs": [
    {
     "name": "stdout",
     "output_type": "stream",
     "text": [
      "# Exploración de hiperparámetros para función de coste \"hinge\"\n",
      "\n",
      "Mejor conjunto de parámetros:\n",
      "{'alpha': 0.1, 'eta0': 0.1, 'learning_rate': 'constant'}\n",
      "\n",
      "Puntajes de la grilla:\n",
      "\n",
      "Exactitud: 0.829 (+/-0.009) para los parámetros {'alpha': 0.1, 'eta0': 0.1, 'learning_rate': 'constant'}\n",
      "Exactitud: 0.817 (+/-0.014) para los parámetros {'alpha': 0.1, 'eta0': 0.01, 'learning_rate': 'constant'}\n",
      "Exactitud: 0.778 (+/-0.014) para los parámetros {'alpha': 0.1, 'eta0': 0.001, 'learning_rate': 'constant'}\n",
      "Exactitud: 0.701 (+/-0.020) para los parámetros {'alpha': 0.01, 'eta0': 0.1, 'learning_rate': 'constant'}\n",
      "Exactitud: 0.822 (+/-0.012) para los parámetros {'alpha': 0.01, 'eta0': 0.01, 'learning_rate': 'constant'}\n",
      "Exactitud: 0.768 (+/-0.017) para los parámetros {'alpha': 0.01, 'eta0': 0.001, 'learning_rate': 'constant'}\n",
      "Exactitud: 0.817 (+/-0.014) para los parámetros {'alpha': 0.001, 'eta0': 0.1, 'learning_rate': 'constant'}\n",
      "Exactitud: 0.817 (+/-0.014) para los parámetros {'alpha': 0.001, 'eta0': 0.01, 'learning_rate': 'constant'}\n",
      "Exactitud: 0.771 (+/-0.016) para los parámetros {'alpha': 0.001, 'eta0': 0.001, 'learning_rate': 'constant'}\n",
      "\n",
      "Reporte de clasificación para el mejor clasificador (sobre conjunto de evaluación):\n",
      "\n",
      "              precision    recall  f1-score   support\n",
      "\n",
      "           0       0.00      0.00      0.00       173\n",
      "           1       0.00      0.00      0.00       449\n",
      "           2       0.00      0.00      0.00       356\n",
      "           3       0.00      0.00      0.00       745\n",
      "           4       0.00      0.00      0.00      1689\n",
      "           5       0.00      0.00      0.00       776\n",
      "           6       0.00      0.00      0.00       892\n",
      "           7       1.00      1.00      1.00     41097\n",
      "           8       0.00      0.00      0.00       254\n",
      "           9       0.00      0.00      0.00        61\n",
      "          10       0.70      1.00      0.83     20639\n",
      "          11       0.00      0.00      0.00      3308\n",
      "\n",
      "   micro avg       0.88      0.88      0.88     70439\n",
      "   macro avg       0.14      0.17      0.15     70439\n",
      "weighted avg       0.79      0.88      0.83     70439\n",
      "\n",
      "\n",
      "================================================\n",
      "\n",
      "# Exploración de hiperparámetros para función de coste \"log\"\n",
      "\n",
      "Mejor conjunto de parámetros:\n",
      "{'alpha': 0.1, 'eta0': 0.1, 'learning_rate': 'constant'}\n",
      "\n",
      "Puntajes de la grilla:\n",
      "\n",
      "Exactitud: 0.875 (+/-0.000) para los parámetros {'alpha': 0.1, 'eta0': 0.1, 'learning_rate': 'constant'}\n",
      "Exactitud: 0.710 (+/-0.018) para los parámetros {'alpha': 0.1, 'eta0': 0.01, 'learning_rate': 'constant'}\n",
      "Exactitud: 0.817 (+/-0.014) para los parámetros {'alpha': 0.1, 'eta0': 0.001, 'learning_rate': 'constant'}\n",
      "Exactitud: 0.757 (+/-0.020) para los parámetros {'alpha': 0.01, 'eta0': 0.1, 'learning_rate': 'constant'}\n",
      "Exactitud: 0.702 (+/-0.020) para los parámetros {'alpha': 0.01, 'eta0': 0.01, 'learning_rate': 'constant'}\n",
      "Exactitud: 0.770 (+/-0.017) para los parámetros {'alpha': 0.01, 'eta0': 0.001, 'learning_rate': 'constant'}\n",
      "Exactitud: 0.708 (+/-0.019) para los parámetros {'alpha': 0.001, 'eta0': 0.1, 'learning_rate': 'constant'}\n",
      "Exactitud: 0.773 (+/-0.016) para los parámetros {'alpha': 0.001, 'eta0': 0.01, 'learning_rate': 'constant'}\n",
      "Exactitud: 0.818 (+/-0.013) para los parámetros {'alpha': 0.001, 'eta0': 0.001, 'learning_rate': 'constant'}\n",
      "\n",
      "Reporte de clasificación para el mejor clasificador (sobre conjunto de evaluación):\n",
      "\n",
      "              precision    recall  f1-score   support\n",
      "\n",
      "           0       0.00      0.00      0.00       173\n",
      "           1       0.00      0.00      0.00       449\n",
      "           2       0.00      0.00      0.00       356\n",
      "           3       0.00      0.00      0.00       745\n",
      "           4       0.00      0.00      0.00      1689\n",
      "           5       0.00      0.00      0.00       776\n",
      "           6       0.00      0.00      0.00       892\n",
      "           7       1.00      1.00      1.00     41097\n",
      "           8       0.00      0.00      0.00       254\n",
      "           9       0.00      0.00      0.00        61\n",
      "          10       0.70      1.00      0.83     20639\n",
      "          11       0.00      0.00      0.00      3308\n",
      "\n",
      "   micro avg       0.88      0.88      0.88     70439\n",
      "   macro avg       0.14      0.17      0.15     70439\n",
      "weighted avg       0.79      0.88      0.83     70439\n",
      "\n",
      "\n",
      "================================================\n",
      "\n",
      "# Exploración de hiperparámetros para función de coste \"perceptron\"\n",
      "\n",
      "Mejor conjunto de parámetros:\n",
      "{'alpha': 0.01, 'eta0': 0.01, 'learning_rate': 'constant'}\n",
      "\n",
      "Puntajes de la grilla:\n",
      "\n",
      "Exactitud: 0.715 (+/-0.017) para los parámetros {'alpha': 0.1, 'eta0': 0.1, 'learning_rate': 'constant'}\n",
      "Exactitud: 0.703 (+/-0.020) para los parámetros {'alpha': 0.1, 'eta0': 0.01, 'learning_rate': 'constant'}\n",
      "Exactitud: 0.817 (+/-0.014) para los parámetros {'alpha': 0.1, 'eta0': 0.001, 'learning_rate': 'constant'}\n",
      "Exactitud: 0.710 (+/-0.019) para los parámetros {'alpha': 0.01, 'eta0': 0.1, 'learning_rate': 'constant'}\n",
      "Exactitud: 0.826 (+/-0.010) para los parámetros {'alpha': 0.01, 'eta0': 0.01, 'learning_rate': 'constant'}\n",
      "Exactitud: 0.763 (+/-0.019) para los parámetros {'alpha': 0.01, 'eta0': 0.001, 'learning_rate': 'constant'}\n",
      "Exactitud: 0.763 (+/-0.019) para los parámetros {'alpha': 0.001, 'eta0': 0.1, 'learning_rate': 'constant'}\n",
      "Exactitud: 0.759 (+/-0.020) para los parámetros {'alpha': 0.001, 'eta0': 0.01, 'learning_rate': 'constant'}\n",
      "Exactitud: 0.760 (+/-0.020) para los parámetros {'alpha': 0.001, 'eta0': 0.001, 'learning_rate': 'constant'}\n",
      "\n",
      "Reporte de clasificación para el mejor clasificador (sobre conjunto de evaluación):\n",
      "\n",
      "              precision    recall  f1-score   support\n",
      "\n",
      "           0       0.00      0.00      0.00       173\n",
      "           1       0.00      0.00      0.00       449\n",
      "           2       0.00      0.00      0.00       356\n",
      "           3       0.00      0.00      0.00       745\n",
      "           4       0.00      0.00      0.00      1689\n",
      "           5       0.00      0.00      0.00       776\n",
      "           6       0.00      0.00      0.00       892\n",
      "           7       1.00      1.00      1.00     41097\n",
      "           8       0.00      0.00      0.00       254\n",
      "           9       0.00      0.00      0.00        61\n",
      "          10       0.70      1.00      0.83     20639\n",
      "          11       0.00      0.00      0.00      3308\n",
      "\n",
      "   micro avg       0.88      0.88      0.88     70439\n",
      "   macro avg       0.14      0.17      0.15     70439\n",
      "weighted avg       0.79      0.88      0.83     70439\n",
      "\n",
      "\n",
      "================================================\n",
      "\n"
     ]
    },
    {
     "data": {
      "text/plain": [
       "<Figure size 1120x320 with 0 Axes>"
      ]
     },
     "metadata": {},
     "output_type": "display_data"
    }
   ],
   "source": [
    "plt.figure(figsize=(14, 4), dpi= 80, facecolor='w', edgecolor='k')\n",
    "\n",
    "for idx, loss in enumerate(('hinge', 'log', 'perceptron'), start=1):\n",
    "    exploring_params = {\n",
    "        'learning_rate': ['constant'],\n",
    "        'eta0': [0.1, 0.01, 0.001],  # Tasa de entrenamiento\n",
    "        'alpha': [0.1, 0.01, 0.001]  # Tasa de regularización\n",
    "    }\n",
    "    m = SGDClassifier(loss=loss, tol=1e-3)\n",
    "    model = GridSearchCV(m, exploring_params, cv=5, scoring='accuracy')\n",
    "    model.fit(x_train, y_train)\n",
    "    \n",
    "    print(\"# Exploración de hiperparámetros para función de coste \\\"%s\\\"\" % loss, end=\"\\n\\n\")\n",
    "    \n",
    "    print(\"Mejor conjunto de parámetros:\")\n",
    "    print(model.best_params_, end=\"\\n\\n\")\n",
    "\n",
    "    print(\"Puntajes de la grilla:\", end=\"\\n\\n\")\n",
    "    means = model.cv_results_['mean_test_score']\n",
    "    stds = model.cv_results_['std_test_score']\n",
    "    for mean, std, params in zip(means, stds, model.cv_results_['params']):\n",
    "        print(\"Exactitud: %0.3f (+/-%0.03f) para los parámetros %r\" % (mean, std ** 2, params))\n",
    "    print()\n",
    "\n",
    "    print(\"Reporte de clasificación para el mejor clasificador (sobre conjunto de evaluación):\", end=\"\\n\\n\")\n",
    "    y_true, y_pred = y_test, model.predict(x_test)\n",
    "    print(classification_report(y_true, y_pred), end=\"\\n\\n\")\n",
    "    \n",
    "    print(\"================================================\", end=\"\\n\\n\")\n",
    "\n",
    "    # mostrar matriz de confusion\n",
    "    #plot_confusion_matrix(y_true, y_pred)"
   ]
  },
  {
   "cell_type": "markdown",
   "metadata": {},
   "source": [
    "---\n",
    "## Ejercicio 3: Selección de hiperparámetros\n",
    "\n",
    "Utilizando búsqueda exhaustiva (`grid search`) y métrica del área bajo la curva de ROC (o *ROC-AUC*), hagan una selección de los mejores hiperparámetros para su conjunto de datos y el modelo que hayan elegido en el apartado anterior."
   ]
  },
  {
   "cell_type": "code",
   "execution_count": 63,
   "metadata": {
    "scrolled": false
   },
   "outputs": [
    {
     "name": "stdout",
     "output_type": "stream",
     "text": [
      "Best Decision Tree accuracy:  0.8753321423696074\n",
      "DecisionTreeClassifier(class_weight=None, criterion='gini', max_depth=None,\n",
      "            max_features=None, max_leaf_nodes=None,\n",
      "            min_impurity_decrease=0.0, min_impurity_split=None,\n",
      "            min_samples_leaf=8, min_samples_split=2600,\n",
      "            min_weight_fraction_leaf=0.0, presort=False, random_state=42,\n",
      "            splitter='best')\n",
      "The best classifier so far is: \n",
      "DecisionTreeClassifier(class_weight=None, criterion='gini', max_depth=None,\n",
      "            max_features=None, max_leaf_nodes=None,\n",
      "            min_impurity_decrease=0.0, min_impurity_split=None,\n",
      "            min_samples_leaf=8, min_samples_split=2600,\n",
      "            min_weight_fraction_leaf=0.0, presort=False, random_state=42,\n",
      "            splitter='best')\n"
     ]
    }
   ],
   "source": [
    "from sklearn.model_selection import train_test_split\n",
    "from sklearn.tree import DecisionTreeClassifier as DT\n",
    "from sklearn.metrics import accuracy_score\n",
    "from sklearn.model_selection import GridSearchCV\n",
    "\n",
    "results = pd.DataFrame(columns=('clf', 'best_acc'))\n",
    "\n",
    "tree = DT(random_state=42)\n",
    "\n",
    "samples_split = (100,600,1100,1600,2100,2600)\n",
    "tree_param = {'criterion':('gini', 'entropy'), 'min_samples_leaf':(1, 8),\n",
    "              'min_samples_split': samples_split} #best 680\n",
    "\n",
    "tree_clf = GridSearchCV(tree, tree_param, scoring='accuracy', cv=3, iid=False)\n",
    "tree_clf.fit(x_train, y_train)\n",
    "\n",
    "best_tree_clf = tree_clf.best_estimator_\n",
    "print('Best Decision Tree accuracy: ', tree_clf.best_score_)\n",
    "print(best_tree_clf)\n",
    "results = results.append({'clf': best_tree_clf, 'best_acc': tree_clf.best_score_}, ignore_index=True)\n",
    "\n",
    "print('The best classifier so far is: ')\n",
    "print(results.loc[results['best_acc'].idxmax()]['clf'])"
   ]
  },
  {
   "cell_type": "markdown",
   "metadata": {},
   "source": [
    "---\n",
    "## Ejercicio 4: Métricas sobre el conjunto de evaluación\n",
    "\n",
    "Una vez encontrados los mejores hiperparámetros para el modelo seleccionado en los apartados anteriores se evalúa el modelo final entrenado sobre el conjunto de datos de evaluación seleccionado en el __Ejercicio 1__. \n",
    "\n",
    "* Pueden utilizar las métricas que crean convenientes. \n",
    "* Es mejor utilizar más de una métrica. \n",
    "* Particularmente el __reporte de clasificación__ y la __matriz de confusión__ son buenos ejemplos de métricas."
   ]
  },
  {
   "cell_type": "code",
   "execution_count": 64,
   "metadata": {},
   "outputs": [
    {
     "name": "stdout",
     "output_type": "stream",
     "text": [
      "Reporte de clasificación para el mejor clasificador (sobre conjunto de evaluación):\n",
      "\n",
      "              precision    recall  f1-score   support\n",
      "\n",
      "           0       0.00      0.00      0.00       173\n",
      "           1       0.00      0.00      0.00       449\n",
      "           2       0.00      0.00      0.00       356\n",
      "           3       0.00      0.00      0.00       745\n",
      "           4       0.00      0.00      0.00      1689\n",
      "           5       0.00      0.00      0.00       776\n",
      "           6       0.00      0.00      0.00       892\n",
      "           7       1.00      1.00      1.00     41097\n",
      "           8       0.00      0.00      0.00       254\n",
      "           9       0.00      0.00      0.00        61\n",
      "          10       0.70      1.00      0.83     20639\n",
      "          11       0.00      0.00      0.00      3308\n",
      "\n",
      "   micro avg       0.88      0.88      0.88     70439\n",
      "   macro avg       0.14      0.17      0.15     70439\n",
      "weighted avg       0.79      0.88      0.83     70439\n",
      "\n",
      "\n",
      "\n",
      "[[    0     0     0     0     0     0     0     0     0     0   173     0]\n",
      " [    0     0     0     0     0     0     0     0     0     0   449     0]\n",
      " [    0     0     0     0     0     0     0     0     0     0   356     0]\n",
      " [    0     0     0     0     0     0     0     0     0     0   745     0]\n",
      " [    0     0     0     0     0     0     0     0     0     0  1689     0]\n",
      " [    0     0     0     0     0     0     0     0     0     0   776     0]\n",
      " [    0     0     0     0     0     0     0     0     0     0   892     0]\n",
      " [    0     0     0     0     0     0     0 41097     0     0     0     0]\n",
      " [    0     0     0     0     0     0     0     0     0     0   254     0]\n",
      " [    0     0     0     0     0     0     0     0     0     0    61     0]\n",
      " [    0     0     0     0     0     0     0     0     0     0 20639     0]\n",
      " [    0     0     0     0     0     0     0     0     0     0  3308     0]]\n",
      "\n",
      "{('ES', 3), ('NDF', 7), ('DE', 2), ('IT', 6), ('CA', 1), ('FR', 4), ('PT', 9), ('US', 10), ('NL', 8), ('AU', 0), ('GB', 5), ('other', 11)}\n"
     ]
    }
   ],
   "source": [
    "# correr prediccion\n",
    "y_true, y_pred = y_test, tree_clf.predict(x_test)\n",
    "\n",
    "# mostrar metricas (precision, recall, etc)\n",
    "classification_print_results(y_true, y_pred)\n",
    "\n",
    "# mostrar matriz de confusion\n",
    "#plot_confusion_matrix(y_true, y_pred)\n",
    "\n",
    "print(set(zip(countries,dataset.country_destination.unique())))\n"
   ]
  },
  {
   "cell_type": "markdown",
   "metadata": {},
   "source": [
    "*Links a como leer el classification_report*  \n",
    "https://towardsdatascience.com/understanding-data-science-classification-metrics-in-scikit-learn-in-python-3bc336865019  \n",
    "https://muthu.co/understanding-the-classification-report-in-sklearn/\n",
    "\n",
    "*Links sobre tratamiento de imbalanced datasets*  \n",
    "https://www.kaggle.com/rafjaa/resampling-strategies-for-imbalanced-datasets"
   ]
  },
  {
   "cell_type": "markdown",
   "metadata": {},
   "source": [
    "---\n",
    "## Ejercicio 5 (opcional): Curvas de ROC\n",
    "\n",
    "Como ejercicio adicional (opcional), pueden redefinir el umbral de decisión óptimo del problema a partir de los resultados que muestren curvas de ROC como justificación. \n",
    "\n",
    "Pueden ver esto mediante la [graficación de las curvas de ROC](http://scikit-learn.org/stable/auto_examples/model_selection/plot_roc.html). En el link que se les brinda se muestra como hacer para graficar curvas de ROC para problemas multiclase. "
   ]
  },
  {
   "cell_type": "code",
   "execution_count": null,
   "metadata": {},
   "outputs": [],
   "source": []
  },
  {
   "cell_type": "markdown",
   "metadata": {},
   "source": [
    "---\n",
    "## ¿Conclusiones?"
   ]
  },
  {
   "cell_type": "code",
   "execution_count": null,
   "metadata": {},
   "outputs": [],
   "source": []
  }
 ],
 "metadata": {
  "kernelspec": {
   "display_name": "Python 3",
   "language": "python",
   "name": "python3"
  },
  "language_info": {
   "codemirror_mode": {
    "name": "ipython",
    "version": 3
   },
   "file_extension": ".py",
   "mimetype": "text/x-python",
   "name": "python",
   "nbconvert_exporter": "python",
   "pygments_lexer": "ipython3",
   "version": "3.6.8"
  }
 },
 "nbformat": 4,
 "nbformat_minor": 2
}
