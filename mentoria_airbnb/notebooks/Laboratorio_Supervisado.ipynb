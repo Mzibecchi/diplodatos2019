{
 "cells": [
  {
   "cell_type": "markdown",
   "metadata": {},
   "source": [
    "# Laboratorio: Aprendizaje Supervisado"
   ]
  },
  {
   "cell_type": "markdown",
   "metadata": {},
   "source": [
    "## ¿A dónde realizan su primera reserva los nuevos usuarios de Airbnb?\n",
    "\n",
    "Durante este práctico vamos a trabajar con todos los datos provistos por [Airbnb New User Bookings](https://www.kaggle.com/c/airbnb-recruiting-new-user-bookings/data) en Kaggle.\n",
    "\n",
    "## Objetivo y alcance:\n",
    "\n",
    "En este laboratorio vamos a aplicar todo lo aprendido en las materias previas y lo vamos a complementar con lo aprendido en la materia de __Aprendizaje Supervisado__. La idea principal es poder armar una notebook completa, partiendo desde el preprocesamiento y curación de los datos, hasta la elección final de un modelo y su posterior testeo.\n",
    "\n",
    "Tal vez este laboratorio sea un poco más extenso que los anteriores, pero eso se debe a que estamos uniendo las diferentes *piezas* de un proyecto de aprendizaje supervisado.\n",
    "\n",
    "## Estructura del informe:\n",
    "\n",
    "  * Jupyter Notebook con el análisis realizado.\n",
    "  \n",
    "---"
   ]
  },
  {
   "cell_type": "markdown",
   "metadata": {},
   "source": [
    "## Introducción:"
   ]
  },
  {
   "cell_type": "markdown",
   "metadata": {},
   "source": [
    "En el presente laboratorio, vamos a tomar como referencia el siguiente [Notebook Ejemplo](https://www.kaggle.com/malgoro39/predicci-n-de-destinos-airbnb). En dicho notebook, el autor realiza un análisis exhaustivo y además explica de una manera muy didáctica las decisiónes tomadas y los conceptos teóricos involucrados. \n",
    "\n",
    "Tratemos de imitar y mejorar el trabajo realizado :)"
   ]
  },
  {
   "cell_type": "markdown",
   "metadata": {},
   "source": [
    "En este caso, vamos a trabajar con todos los datos originales de __Airbnb__:\n",
    "* __ager_gender_bkts.csv__\n",
    "* __countries.csv__\n",
    "* __sessions.csv__\n",
    "* __test_users.csv__ / __test_users_2.csv__\n",
    "\n",
    "Por una cuestión de tamaño de los datasets, éstos se encuentran comprimidos en el archivo __/Datos/original_data.zip__. Además la notebook de ejemplo se encuentra en __/Notebooks/Ejemplos/Ejemplo_Laboratorio_Supervisado.ipynb__."
   ]
  },
  {
   "cell_type": "markdown",
   "metadata": {},
   "source": [
    "## Tareas:"
   ]
  },
  {
   "cell_type": "markdown",
   "metadata": {},
   "source": [
    "1. __Análisis y Visualización de datos__: Realizar un breve análisis de los datasets antes mencionados.\n",
    "2. __Curación de datos__: Realizar la correspondiente curación de los mismos.\n",
    "3. __Feature Engineering__: Tomando como ejemplo la notebook antes mencionada aplicar un poco de ingeniería de features, por ejemplo: generar nuevos features, mergear datasets, etc.\n",
    "4. __Selección de un modelo de Aprendizaje Supervisado__: Aplicar distintos modelos de aprendizaje supervisado al dataset generado en el punto anterior.\n",
    "5. __Ajuste de hiperparámetros__: Realizar una búsqueda de hiperparámetros que permitan mejorar la clasificación de los modelos escogidos.\n",
    "6. __Testing de precisión__: Medir la precisión de cada uno de tus modelos (con datos no conocidos).\n",
    "7. __¿Qué modelo generó los mejores resultados?__"
   ]
  },
  {
   "cell_type": "markdown",
   "metadata": {},
   "source": [
    "## 1. Análisis y Visualización de datos"
   ]
  },
  {
   "cell_type": "code",
   "execution_count": 2,
   "metadata": {},
   "outputs": [],
   "source": [
    "import pandas as pd\n",
    "import warnings\n",
    "import numpy as np\n",
    "import matplotlib.pyplot as plt\n",
    "import seaborn as sns\n",
    "\n",
    "warnings.filterwarnings('ignore')"
   ]
  },
  {
   "cell_type": "code",
   "execution_count": 3,
   "metadata": {},
   "outputs": [],
   "source": [
    "dataset_path = \"..//datos//\""
   ]
  },
  {
   "cell_type": "markdown",
   "metadata": {},
   "source": [
    "### Countries"
   ]
  },
  {
   "cell_type": "code",
   "execution_count": 4,
   "metadata": {},
   "outputs": [
    {
     "data": {
      "text/html": [
       "<div>\n",
       "<style scoped>\n",
       "    .dataframe tbody tr th:only-of-type {\n",
       "        vertical-align: middle;\n",
       "    }\n",
       "\n",
       "    .dataframe tbody tr th {\n",
       "        vertical-align: top;\n",
       "    }\n",
       "\n",
       "    .dataframe thead th {\n",
       "        text-align: right;\n",
       "    }\n",
       "</style>\n",
       "<table border=\"1\" class=\"dataframe\">\n",
       "  <thead>\n",
       "    <tr style=\"text-align: right;\">\n",
       "      <th></th>\n",
       "      <th>lat_destination</th>\n",
       "      <th>lng_destination</th>\n",
       "      <th>distance_km</th>\n",
       "      <th>destination_km2</th>\n",
       "      <th>language_levenshtein_distance</th>\n",
       "    </tr>\n",
       "  </thead>\n",
       "  <tbody>\n",
       "    <tr>\n",
       "      <th>count</th>\n",
       "      <td>10.000000</td>\n",
       "      <td>10.000000</td>\n",
       "      <td>10.000000</td>\n",
       "      <td>1.000000e+01</td>\n",
       "      <td>10.00000</td>\n",
       "    </tr>\n",
       "    <tr>\n",
       "      <th>mean</th>\n",
       "      <td>39.799398</td>\n",
       "      <td>-4.262446</td>\n",
       "      <td>7181.897800</td>\n",
       "      <td>2.973734e+06</td>\n",
       "      <td>50.49900</td>\n",
       "    </tr>\n",
       "    <tr>\n",
       "      <th>std</th>\n",
       "      <td>24.739112</td>\n",
       "      <td>63.700585</td>\n",
       "      <td>3941.141734</td>\n",
       "      <td>4.329619e+06</td>\n",
       "      <td>44.54169</td>\n",
       "    </tr>\n",
       "    <tr>\n",
       "      <th>min</th>\n",
       "      <td>-26.853388</td>\n",
       "      <td>-96.818146</td>\n",
       "      <td>0.000000</td>\n",
       "      <td>4.154300e+04</td>\n",
       "      <td>0.00000</td>\n",
       "    </tr>\n",
       "    <tr>\n",
       "      <th>25%</th>\n",
       "      <td>39.639090</td>\n",
       "      <td>-6.737559</td>\n",
       "      <td>7001.557600</td>\n",
       "      <td>2.580425e+05</td>\n",
       "      <td>0.00000</td>\n",
       "    </tr>\n",
       "    <tr>\n",
       "      <th>50%</th>\n",
       "      <td>44.053092</td>\n",
       "      <td>-0.139014</td>\n",
       "      <td>7603.632650</td>\n",
       "      <td>4.311960e+05</td>\n",
       "      <td>67.91500</td>\n",
       "    </tr>\n",
       "    <tr>\n",
       "      <th>75%</th>\n",
       "      <td>51.891219</td>\n",
       "      <td>9.163386</td>\n",
       "      <td>7842.357000</td>\n",
       "      <td>5.966865e+06</td>\n",
       "      <td>91.39500</td>\n",
       "    </tr>\n",
       "    <tr>\n",
       "      <th>max</th>\n",
       "      <td>62.393303</td>\n",
       "      <td>133.275160</td>\n",
       "      <td>15297.744000</td>\n",
       "      <td>9.984670e+06</td>\n",
       "      <td>95.45000</td>\n",
       "    </tr>\n",
       "  </tbody>\n",
       "</table>\n",
       "</div>"
      ],
      "text/plain": [
       "       lat_destination  lng_destination   distance_km  destination_km2  \\\n",
       "count        10.000000        10.000000     10.000000     1.000000e+01   \n",
       "mean         39.799398        -4.262446   7181.897800     2.973734e+06   \n",
       "std          24.739112        63.700585   3941.141734     4.329619e+06   \n",
       "min         -26.853388       -96.818146      0.000000     4.154300e+04   \n",
       "25%          39.639090        -6.737559   7001.557600     2.580425e+05   \n",
       "50%          44.053092        -0.139014   7603.632650     4.311960e+05   \n",
       "75%          51.891219         9.163386   7842.357000     5.966865e+06   \n",
       "max          62.393303       133.275160  15297.744000     9.984670e+06   \n",
       "\n",
       "       language_levenshtein_distance  \n",
       "count                       10.00000  \n",
       "mean                        50.49900  \n",
       "std                         44.54169  \n",
       "min                          0.00000  \n",
       "25%                          0.00000  \n",
       "50%                         67.91500  \n",
       "75%                         91.39500  \n",
       "max                         95.45000  "
      ]
     },
     "execution_count": 4,
     "metadata": {},
     "output_type": "execute_result"
    }
   ],
   "source": [
    "countries_df = pd.read_csv(dataset_path+\"countries.csv\") \n",
    "countries_df.describe()"
   ]
  },
  {
   "cell_type": "code",
   "execution_count": 5,
   "metadata": {},
   "outputs": [
    {
     "data": {
      "text/html": [
       "<div>\n",
       "<style scoped>\n",
       "    .dataframe tbody tr th:only-of-type {\n",
       "        vertical-align: middle;\n",
       "    }\n",
       "\n",
       "    .dataframe tbody tr th {\n",
       "        vertical-align: top;\n",
       "    }\n",
       "\n",
       "    .dataframe thead th {\n",
       "        text-align: right;\n",
       "    }\n",
       "</style>\n",
       "<table border=\"1\" class=\"dataframe\">\n",
       "  <thead>\n",
       "    <tr style=\"text-align: right;\">\n",
       "      <th></th>\n",
       "      <th>country_destination</th>\n",
       "      <th>lat_destination</th>\n",
       "      <th>lng_destination</th>\n",
       "      <th>distance_km</th>\n",
       "      <th>destination_km2</th>\n",
       "      <th>destination_language</th>\n",
       "      <th>language_levenshtein_distance</th>\n",
       "    </tr>\n",
       "  </thead>\n",
       "  <tbody>\n",
       "    <tr>\n",
       "      <th>0</th>\n",
       "      <td>AU</td>\n",
       "      <td>-26.853388</td>\n",
       "      <td>133.275160</td>\n",
       "      <td>15297.7440</td>\n",
       "      <td>7741220.0</td>\n",
       "      <td>eng</td>\n",
       "      <td>0.00</td>\n",
       "    </tr>\n",
       "    <tr>\n",
       "      <th>1</th>\n",
       "      <td>CA</td>\n",
       "      <td>62.393303</td>\n",
       "      <td>-96.818146</td>\n",
       "      <td>2828.1333</td>\n",
       "      <td>9984670.0</td>\n",
       "      <td>eng</td>\n",
       "      <td>0.00</td>\n",
       "    </tr>\n",
       "    <tr>\n",
       "      <th>2</th>\n",
       "      <td>DE</td>\n",
       "      <td>51.165707</td>\n",
       "      <td>10.452764</td>\n",
       "      <td>7879.5680</td>\n",
       "      <td>357022.0</td>\n",
       "      <td>deu</td>\n",
       "      <td>72.61</td>\n",
       "    </tr>\n",
       "    <tr>\n",
       "      <th>3</th>\n",
       "      <td>ES</td>\n",
       "      <td>39.896027</td>\n",
       "      <td>-2.487694</td>\n",
       "      <td>7730.7240</td>\n",
       "      <td>505370.0</td>\n",
       "      <td>spa</td>\n",
       "      <td>92.25</td>\n",
       "    </tr>\n",
       "    <tr>\n",
       "      <th>4</th>\n",
       "      <td>FR</td>\n",
       "      <td>46.232193</td>\n",
       "      <td>2.209667</td>\n",
       "      <td>7682.9450</td>\n",
       "      <td>643801.0</td>\n",
       "      <td>fra</td>\n",
       "      <td>92.06</td>\n",
       "    </tr>\n",
       "    <tr>\n",
       "      <th>5</th>\n",
       "      <td>GB</td>\n",
       "      <td>54.633220</td>\n",
       "      <td>-3.432277</td>\n",
       "      <td>6883.6590</td>\n",
       "      <td>243610.0</td>\n",
       "      <td>eng</td>\n",
       "      <td>0.00</td>\n",
       "    </tr>\n",
       "    <tr>\n",
       "      <th>6</th>\n",
       "      <td>IT</td>\n",
       "      <td>41.873990</td>\n",
       "      <td>12.564167</td>\n",
       "      <td>8636.6310</td>\n",
       "      <td>301340.0</td>\n",
       "      <td>ita</td>\n",
       "      <td>89.40</td>\n",
       "    </tr>\n",
       "    <tr>\n",
       "      <th>7</th>\n",
       "      <td>NL</td>\n",
       "      <td>52.133057</td>\n",
       "      <td>5.295250</td>\n",
       "      <td>7524.3203</td>\n",
       "      <td>41543.0</td>\n",
       "      <td>nld</td>\n",
       "      <td>63.22</td>\n",
       "    </tr>\n",
       "    <tr>\n",
       "      <th>8</th>\n",
       "      <td>PT</td>\n",
       "      <td>39.553444</td>\n",
       "      <td>-7.839319</td>\n",
       "      <td>7355.2534</td>\n",
       "      <td>92090.0</td>\n",
       "      <td>por</td>\n",
       "      <td>95.45</td>\n",
       "    </tr>\n",
       "    <tr>\n",
       "      <th>9</th>\n",
       "      <td>US</td>\n",
       "      <td>36.966427</td>\n",
       "      <td>-95.844030</td>\n",
       "      <td>0.0000</td>\n",
       "      <td>9826675.0</td>\n",
       "      <td>eng</td>\n",
       "      <td>0.00</td>\n",
       "    </tr>\n",
       "  </tbody>\n",
       "</table>\n",
       "</div>"
      ],
      "text/plain": [
       "  country_destination  lat_destination  lng_destination  distance_km  \\\n",
       "0                  AU       -26.853388       133.275160   15297.7440   \n",
       "1                  CA        62.393303       -96.818146    2828.1333   \n",
       "2                  DE        51.165707        10.452764    7879.5680   \n",
       "3                  ES        39.896027        -2.487694    7730.7240   \n",
       "4                  FR        46.232193         2.209667    7682.9450   \n",
       "5                  GB        54.633220        -3.432277    6883.6590   \n",
       "6                  IT        41.873990        12.564167    8636.6310   \n",
       "7                  NL        52.133057         5.295250    7524.3203   \n",
       "8                  PT        39.553444        -7.839319    7355.2534   \n",
       "9                  US        36.966427       -95.844030       0.0000   \n",
       "\n",
       "   destination_km2 destination_language   language_levenshtein_distance  \n",
       "0        7741220.0                   eng                           0.00  \n",
       "1        9984670.0                   eng                           0.00  \n",
       "2         357022.0                   deu                          72.61  \n",
       "3         505370.0                   spa                          92.25  \n",
       "4         643801.0                   fra                          92.06  \n",
       "5         243610.0                   eng                           0.00  \n",
       "6         301340.0                   ita                          89.40  \n",
       "7          41543.0                   nld                          63.22  \n",
       "8          92090.0                   por                          95.45  \n",
       "9        9826675.0                   eng                           0.00  "
      ]
     },
     "execution_count": 5,
     "metadata": {},
     "output_type": "execute_result"
    }
   ],
   "source": [
    "countries_df"
   ]
  },
  {
   "cell_type": "markdown",
   "metadata": {},
   "source": [
    "### Sessions"
   ]
  },
  {
   "cell_type": "code",
   "execution_count": 6,
   "metadata": {},
   "outputs": [
    {
     "data": {
      "text/html": [
       "<div>\n",
       "<style scoped>\n",
       "    .dataframe tbody tr th:only-of-type {\n",
       "        vertical-align: middle;\n",
       "    }\n",
       "\n",
       "    .dataframe tbody tr th {\n",
       "        vertical-align: top;\n",
       "    }\n",
       "\n",
       "    .dataframe thead th {\n",
       "        text-align: right;\n",
       "    }\n",
       "</style>\n",
       "<table border=\"1\" class=\"dataframe\">\n",
       "  <thead>\n",
       "    <tr style=\"text-align: right;\">\n",
       "      <th></th>\n",
       "      <th>secs_elapsed</th>\n",
       "    </tr>\n",
       "  </thead>\n",
       "  <tbody>\n",
       "    <tr>\n",
       "      <th>count</th>\n",
       "      <td>1.043171e+07</td>\n",
       "    </tr>\n",
       "    <tr>\n",
       "      <th>mean</th>\n",
       "      <td>1.940581e+04</td>\n",
       "    </tr>\n",
       "    <tr>\n",
       "      <th>std</th>\n",
       "      <td>8.888424e+04</td>\n",
       "    </tr>\n",
       "    <tr>\n",
       "      <th>min</th>\n",
       "      <td>0.000000e+00</td>\n",
       "    </tr>\n",
       "    <tr>\n",
       "      <th>25%</th>\n",
       "      <td>2.290000e+02</td>\n",
       "    </tr>\n",
       "    <tr>\n",
       "      <th>50%</th>\n",
       "      <td>1.147000e+03</td>\n",
       "    </tr>\n",
       "    <tr>\n",
       "      <th>75%</th>\n",
       "      <td>8.444000e+03</td>\n",
       "    </tr>\n",
       "    <tr>\n",
       "      <th>max</th>\n",
       "      <td>1.799977e+06</td>\n",
       "    </tr>\n",
       "  </tbody>\n",
       "</table>\n",
       "</div>"
      ],
      "text/plain": [
       "       secs_elapsed\n",
       "count  1.043171e+07\n",
       "mean   1.940581e+04\n",
       "std    8.888424e+04\n",
       "min    0.000000e+00\n",
       "25%    2.290000e+02\n",
       "50%    1.147000e+03\n",
       "75%    8.444000e+03\n",
       "max    1.799977e+06"
      ]
     },
     "execution_count": 6,
     "metadata": {},
     "output_type": "execute_result"
    }
   ],
   "source": [
    "sessions_df = pd.read_csv(dataset_path+\"sessions.csv\") \n",
    "sessions_df.describe()"
   ]
  },
  {
   "cell_type": "code",
   "execution_count": 7,
   "metadata": {},
   "outputs": [
    {
     "data": {
      "text/html": [
       "<div>\n",
       "<style scoped>\n",
       "    .dataframe tbody tr th:only-of-type {\n",
       "        vertical-align: middle;\n",
       "    }\n",
       "\n",
       "    .dataframe tbody tr th {\n",
       "        vertical-align: top;\n",
       "    }\n",
       "\n",
       "    .dataframe thead th {\n",
       "        text-align: right;\n",
       "    }\n",
       "</style>\n",
       "<table border=\"1\" class=\"dataframe\">\n",
       "  <thead>\n",
       "    <tr style=\"text-align: right;\">\n",
       "      <th></th>\n",
       "      <th>user_id</th>\n",
       "      <th>action</th>\n",
       "      <th>action_type</th>\n",
       "      <th>action_detail</th>\n",
       "      <th>device_type</th>\n",
       "      <th>secs_elapsed</th>\n",
       "    </tr>\n",
       "  </thead>\n",
       "  <tbody>\n",
       "    <tr>\n",
       "      <th>642047</th>\n",
       "      <td>7j3ezp0e0h</td>\n",
       "      <td>similar_listings</td>\n",
       "      <td>data</td>\n",
       "      <td>similar_listings</td>\n",
       "      <td>Mac Desktop</td>\n",
       "      <td>561.0</td>\n",
       "    </tr>\n",
       "    <tr>\n",
       "      <th>5928878</th>\n",
       "      <td>38jzsgp3wo</td>\n",
       "      <td>show</td>\n",
       "      <td>NaN</td>\n",
       "      <td>NaN</td>\n",
       "      <td>Mac Desktop</td>\n",
       "      <td>43.0</td>\n",
       "    </tr>\n",
       "    <tr>\n",
       "      <th>3014087</th>\n",
       "      <td>hgl8p8sc04</td>\n",
       "      <td>index</td>\n",
       "      <td>view</td>\n",
       "      <td>view_search_results</td>\n",
       "      <td>Mac Desktop</td>\n",
       "      <td>864.0</td>\n",
       "    </tr>\n",
       "    <tr>\n",
       "      <th>8695213</th>\n",
       "      <td>m31tgxeliy</td>\n",
       "      <td>search</td>\n",
       "      <td>click</td>\n",
       "      <td>view_search_results</td>\n",
       "      <td>iPad Tablet</td>\n",
       "      <td>25017.0</td>\n",
       "    </tr>\n",
       "    <tr>\n",
       "      <th>6330621</th>\n",
       "      <td>groqrzlzhl</td>\n",
       "      <td>show</td>\n",
       "      <td>view</td>\n",
       "      <td>p3</td>\n",
       "      <td>iPad Tablet</td>\n",
       "      <td>9374.0</td>\n",
       "    </tr>\n",
       "    <tr>\n",
       "      <th>2365650</th>\n",
       "      <td>ymlkdoeg8m</td>\n",
       "      <td>qt2</td>\n",
       "      <td>view</td>\n",
       "      <td>message_thread</td>\n",
       "      <td>Windows Desktop</td>\n",
       "      <td>439.0</td>\n",
       "    </tr>\n",
       "    <tr>\n",
       "      <th>3244827</th>\n",
       "      <td>o1bjhddfku</td>\n",
       "      <td>show</td>\n",
       "      <td>NaN</td>\n",
       "      <td>NaN</td>\n",
       "      <td>Windows Desktop</td>\n",
       "      <td>71.0</td>\n",
       "    </tr>\n",
       "    <tr>\n",
       "      <th>1804668</th>\n",
       "      <td>18k9zx2dkh</td>\n",
       "      <td>collections</td>\n",
       "      <td>view</td>\n",
       "      <td>user_wishlists</td>\n",
       "      <td>Android App Unknown Phone/Tablet</td>\n",
       "      <td>180.0</td>\n",
       "    </tr>\n",
       "    <tr>\n",
       "      <th>4623827</th>\n",
       "      <td>82j5ds2wml</td>\n",
       "      <td>similar_listings</td>\n",
       "      <td>data</td>\n",
       "      <td>similar_listings</td>\n",
       "      <td>Windows Desktop</td>\n",
       "      <td>824.0</td>\n",
       "    </tr>\n",
       "    <tr>\n",
       "      <th>10138036</th>\n",
       "      <td>6xpncsxjoj</td>\n",
       "      <td>index</td>\n",
       "      <td>view</td>\n",
       "      <td>view_search_results</td>\n",
       "      <td>Mac Desktop</td>\n",
       "      <td>171769.0</td>\n",
       "    </tr>\n",
       "  </tbody>\n",
       "</table>\n",
       "</div>"
      ],
      "text/plain": [
       "             user_id            action action_type        action_detail  \\\n",
       "642047    7j3ezp0e0h  similar_listings        data     similar_listings   \n",
       "5928878   38jzsgp3wo              show         NaN                  NaN   \n",
       "3014087   hgl8p8sc04             index        view  view_search_results   \n",
       "8695213   m31tgxeliy            search       click  view_search_results   \n",
       "6330621   groqrzlzhl              show        view                   p3   \n",
       "2365650   ymlkdoeg8m               qt2        view       message_thread   \n",
       "3244827   o1bjhddfku              show         NaN                  NaN   \n",
       "1804668   18k9zx2dkh       collections        view       user_wishlists   \n",
       "4623827   82j5ds2wml  similar_listings        data     similar_listings   \n",
       "10138036  6xpncsxjoj             index        view  view_search_results   \n",
       "\n",
       "                               device_type  secs_elapsed  \n",
       "642047                         Mac Desktop         561.0  \n",
       "5928878                        Mac Desktop          43.0  \n",
       "3014087                        Mac Desktop         864.0  \n",
       "8695213                        iPad Tablet       25017.0  \n",
       "6330621                        iPad Tablet        9374.0  \n",
       "2365650                    Windows Desktop         439.0  \n",
       "3244827                    Windows Desktop          71.0  \n",
       "1804668   Android App Unknown Phone/Tablet         180.0  \n",
       "4623827                    Windows Desktop         824.0  \n",
       "10138036                       Mac Desktop      171769.0  "
      ]
     },
     "execution_count": 7,
     "metadata": {},
     "output_type": "execute_result"
    }
   ],
   "source": [
    "sessions_df.sample(10)"
   ]
  },
  {
   "cell_type": "code",
   "execution_count": 8,
   "metadata": {},
   "outputs": [
    {
     "data": {
      "text/plain": [
       "10567737"
      ]
     },
     "execution_count": 8,
     "metadata": {},
     "output_type": "execute_result"
    }
   ],
   "source": [
    "len(sessions_df)"
   ]
  },
  {
   "cell_type": "markdown",
   "metadata": {},
   "source": [
    "#### Verificamos si hay valores nulos en el dataset"
   ]
  },
  {
   "cell_type": "code",
   "execution_count": 9,
   "metadata": {},
   "outputs": [
    {
     "data": {
      "text/plain": [
       "user_id            34496\n",
       "action             79626\n",
       "action_type      1126204\n",
       "action_detail    1126204\n",
       "device_type            0\n",
       "secs_elapsed      136031\n",
       "dtype: int64"
      ]
     },
     "execution_count": 9,
     "metadata": {},
     "output_type": "execute_result"
    }
   ],
   "source": [
    "sessions_df.isnull().sum()"
   ]
  },
  {
   "cell_type": "code",
   "execution_count": 10,
   "metadata": {},
   "outputs": [
    {
     "data": {
      "text/html": [
       "<div>\n",
       "<style scoped>\n",
       "    .dataframe tbody tr th:only-of-type {\n",
       "        vertical-align: middle;\n",
       "    }\n",
       "\n",
       "    .dataframe tbody tr th {\n",
       "        vertical-align: top;\n",
       "    }\n",
       "\n",
       "    .dataframe thead th {\n",
       "        text-align: right;\n",
       "    }\n",
       "</style>\n",
       "<table border=\"1\" class=\"dataframe\">\n",
       "  <thead>\n",
       "    <tr style=\"text-align: right;\">\n",
       "      <th></th>\n",
       "      <th>user_id</th>\n",
       "      <th>action</th>\n",
       "      <th>action_type</th>\n",
       "      <th>action_detail</th>\n",
       "      <th>device_type</th>\n",
       "      <th>secs_elapsed</th>\n",
       "    </tr>\n",
       "  </thead>\n",
       "  <tbody>\n",
       "    <tr>\n",
       "      <th>0</th>\n",
       "      <td>d1mm9tcy42</td>\n",
       "      <td>lookup</td>\n",
       "      <td>NaN</td>\n",
       "      <td>NaN</td>\n",
       "      <td>Windows Desktop</td>\n",
       "      <td>319.0</td>\n",
       "    </tr>\n",
       "    <tr>\n",
       "      <th>1</th>\n",
       "      <td>d1mm9tcy42</td>\n",
       "      <td>search_results</td>\n",
       "      <td>click</td>\n",
       "      <td>view_search_results</td>\n",
       "      <td>Windows Desktop</td>\n",
       "      <td>67753.0</td>\n",
       "    </tr>\n",
       "    <tr>\n",
       "      <th>2</th>\n",
       "      <td>d1mm9tcy42</td>\n",
       "      <td>lookup</td>\n",
       "      <td>NaN</td>\n",
       "      <td>NaN</td>\n",
       "      <td>Windows Desktop</td>\n",
       "      <td>301.0</td>\n",
       "    </tr>\n",
       "    <tr>\n",
       "      <th>3</th>\n",
       "      <td>d1mm9tcy42</td>\n",
       "      <td>search_results</td>\n",
       "      <td>click</td>\n",
       "      <td>view_search_results</td>\n",
       "      <td>Windows Desktop</td>\n",
       "      <td>22141.0</td>\n",
       "    </tr>\n",
       "    <tr>\n",
       "      <th>4</th>\n",
       "      <td>d1mm9tcy42</td>\n",
       "      <td>lookup</td>\n",
       "      <td>NaN</td>\n",
       "      <td>NaN</td>\n",
       "      <td>Windows Desktop</td>\n",
       "      <td>435.0</td>\n",
       "    </tr>\n",
       "    <tr>\n",
       "      <th>5</th>\n",
       "      <td>d1mm9tcy42</td>\n",
       "      <td>search_results</td>\n",
       "      <td>click</td>\n",
       "      <td>view_search_results</td>\n",
       "      <td>Windows Desktop</td>\n",
       "      <td>7703.0</td>\n",
       "    </tr>\n",
       "    <tr>\n",
       "      <th>6</th>\n",
       "      <td>d1mm9tcy42</td>\n",
       "      <td>lookup</td>\n",
       "      <td>NaN</td>\n",
       "      <td>NaN</td>\n",
       "      <td>Windows Desktop</td>\n",
       "      <td>115.0</td>\n",
       "    </tr>\n",
       "    <tr>\n",
       "      <th>7</th>\n",
       "      <td>d1mm9tcy42</td>\n",
       "      <td>personalize</td>\n",
       "      <td>data</td>\n",
       "      <td>wishlist_content_update</td>\n",
       "      <td>Windows Desktop</td>\n",
       "      <td>831.0</td>\n",
       "    </tr>\n",
       "    <tr>\n",
       "      <th>8</th>\n",
       "      <td>d1mm9tcy42</td>\n",
       "      <td>index</td>\n",
       "      <td>view</td>\n",
       "      <td>view_search_results</td>\n",
       "      <td>Windows Desktop</td>\n",
       "      <td>20842.0</td>\n",
       "    </tr>\n",
       "    <tr>\n",
       "      <th>9</th>\n",
       "      <td>d1mm9tcy42</td>\n",
       "      <td>lookup</td>\n",
       "      <td>NaN</td>\n",
       "      <td>NaN</td>\n",
       "      <td>Windows Desktop</td>\n",
       "      <td>683.0</td>\n",
       "    </tr>\n",
       "    <tr>\n",
       "      <th>10</th>\n",
       "      <td>d1mm9tcy42</td>\n",
       "      <td>search_results</td>\n",
       "      <td>click</td>\n",
       "      <td>view_search_results</td>\n",
       "      <td>Windows Desktop</td>\n",
       "      <td>59274.0</td>\n",
       "    </tr>\n",
       "    <tr>\n",
       "      <th>11</th>\n",
       "      <td>d1mm9tcy42</td>\n",
       "      <td>lookup</td>\n",
       "      <td>NaN</td>\n",
       "      <td>NaN</td>\n",
       "      <td>Windows Desktop</td>\n",
       "      <td>95.0</td>\n",
       "    </tr>\n",
       "    <tr>\n",
       "      <th>12</th>\n",
       "      <td>d1mm9tcy42</td>\n",
       "      <td>personalize</td>\n",
       "      <td>data</td>\n",
       "      <td>wishlist_content_update</td>\n",
       "      <td>Windows Desktop</td>\n",
       "      <td>1399.0</td>\n",
       "    </tr>\n",
       "    <tr>\n",
       "      <th>13</th>\n",
       "      <td>d1mm9tcy42</td>\n",
       "      <td>index</td>\n",
       "      <td>view</td>\n",
       "      <td>view_search_results</td>\n",
       "      <td>Windows Desktop</td>\n",
       "      <td>74886.0</td>\n",
       "    </tr>\n",
       "    <tr>\n",
       "      <th>14</th>\n",
       "      <td>d1mm9tcy42</td>\n",
       "      <td>similar_listings</td>\n",
       "      <td>data</td>\n",
       "      <td>similar_listings</td>\n",
       "      <td>Windows Desktop</td>\n",
       "      <td>255.0</td>\n",
       "    </tr>\n",
       "  </tbody>\n",
       "</table>\n",
       "</div>"
      ],
      "text/plain": [
       "       user_id            action action_type            action_detail  \\\n",
       "0   d1mm9tcy42            lookup         NaN                      NaN   \n",
       "1   d1mm9tcy42    search_results       click      view_search_results   \n",
       "2   d1mm9tcy42            lookup         NaN                      NaN   \n",
       "3   d1mm9tcy42    search_results       click      view_search_results   \n",
       "4   d1mm9tcy42            lookup         NaN                      NaN   \n",
       "5   d1mm9tcy42    search_results       click      view_search_results   \n",
       "6   d1mm9tcy42            lookup         NaN                      NaN   \n",
       "7   d1mm9tcy42       personalize        data  wishlist_content_update   \n",
       "8   d1mm9tcy42             index        view      view_search_results   \n",
       "9   d1mm9tcy42            lookup         NaN                      NaN   \n",
       "10  d1mm9tcy42    search_results       click      view_search_results   \n",
       "11  d1mm9tcy42            lookup         NaN                      NaN   \n",
       "12  d1mm9tcy42       personalize        data  wishlist_content_update   \n",
       "13  d1mm9tcy42             index        view      view_search_results   \n",
       "14  d1mm9tcy42  similar_listings        data         similar_listings   \n",
       "\n",
       "        device_type  secs_elapsed  \n",
       "0   Windows Desktop         319.0  \n",
       "1   Windows Desktop       67753.0  \n",
       "2   Windows Desktop         301.0  \n",
       "3   Windows Desktop       22141.0  \n",
       "4   Windows Desktop         435.0  \n",
       "5   Windows Desktop        7703.0  \n",
       "6   Windows Desktop         115.0  \n",
       "7   Windows Desktop         831.0  \n",
       "8   Windows Desktop       20842.0  \n",
       "9   Windows Desktop         683.0  \n",
       "10  Windows Desktop       59274.0  \n",
       "11  Windows Desktop          95.0  \n",
       "12  Windows Desktop        1399.0  \n",
       "13  Windows Desktop       74886.0  \n",
       "14  Windows Desktop         255.0  "
      ]
     },
     "execution_count": 10,
     "metadata": {},
     "output_type": "execute_result"
    }
   ],
   "source": [
    "sessions_df[ sessions_df.user_id.isnull() == False ].head(15)"
   ]
  },
  {
   "cell_type": "code",
   "execution_count": 11,
   "metadata": {},
   "outputs": [
    {
     "data": {
      "text/plain": [
       "360"
      ]
     },
     "execution_count": 11,
     "metadata": {},
     "output_type": "execute_result"
    }
   ],
   "source": [
    "len(sessions_df.action.unique())"
   ]
  },
  {
   "cell_type": "markdown",
   "metadata": {},
   "source": [
    "Veamos el campo __action__ y su relacion con __action_type__ y __action_detail__"
   ]
  },
  {
   "cell_type": "code",
   "execution_count": 12,
   "metadata": {},
   "outputs": [
    {
     "data": {
      "text/plain": [
       "array(['lookup', 'search_results', 'personalize', 'index',\n",
       "       'similar_listings', 'ajax_refresh_subtotal', 'show',\n",
       "       'header_userpic', 'ask_question', nan,\n",
       "       'other_hosting_reviews_first', 'hosting_social_proof',\n",
       "       'decision_tree', 'recent_reservations', 'faq_experiment_ids',\n",
       "       'multi', 'active', 'dashboard', 'create', 'confirm_email',\n",
       "       'show_personalize', 'verify', 'pending', 'requested', 'concierge',\n",
       "       'faq', 'clear_reservation', 'cancellation_policies',\n",
       "       'track_page_view', 'update', 'my', 'campaigns', 'notifications',\n",
       "       'listings', 'unavailabilities', 'ajax_lwlb_contact',\n",
       "       'ajax_check_dates', 'qt2', 'request_new_confirm_email',\n",
       "       'ajax_photo_widget_form_iframe', 'facebook_auto_login', 'identity',\n",
       "       'qt_reply_v2', 'travel_plans_current', 'complete_status',\n",
       "       'populate_from_facebook', 'kba_update', 'kba', 'login',\n",
       "       'authenticate', 'calendar_tab_inner2', 'other_hosting_reviews',\n",
       "       'social_connections', 'relationship', '15', 'collections', '12',\n",
       "       'jumio_redirect', 'jumio_token', 'login_modal', 'domains',\n",
       "       'toggle_archived_thread', 'search', 'edit_verification', 'edit',\n",
       "       'ajax_ldp', 'connect', 'account', 'delete', 'phone_number_widget',\n",
       "       'callback', 'signup_modal', '10', 'open_graph_setting', 'reviews',\n",
       "       'signup_login', 'payment_instruments', 'payment_methods', 'pay',\n",
       "       'unread', 'at_checkpoint', 'push_notification_callback',\n",
       "       'faq_category', 'localization_settings', 'update_notifications',\n",
       "       'manage_listing', 'set_user', 'references',\n",
       "       'languages_multiselect', 'salute', 'rentals', 'currencies', 'new',\n",
       "       'position', 'populate_help_dropdown', 'popular', 'popular_listing',\n",
       "       'listing', 'available', 'glob', 'this_hosting_reviews', 'widget',\n",
       "       'complete', 'profile_pic', 'signature', 'apply_reservation',\n",
       "       'ajax_statsd', 'travel', 'tos_confirm', 'uptodate',\n",
       "       'ajax_payout_options_by_country', 'payout_preferences',\n",
       "       'payout_update', 'ajax_payout_edit', 'pending_tickets', 'issue',\n",
       "       'contact_new', 'itinerary', 'receipt',\n",
       "       'update_hide_from_search_engines', 'settings', 'privacy',\n",
       "       'reviews_new', 'add_guests', 'ajax_image_upload', 'qt_with',\n",
       "       'webcam_upload', 'friends', 'ajax_google_translate_description',\n",
       "       'trust', 'guarantee', 'supported', 'countries', 'status', 'upload',\n",
       "       'authorize', 'rate', 'remove_dashboard_alert', 'ajax_get_results',\n",
       "       'recommend', 'change_currency', 'transaction_history_paginated',\n",
       "       'transaction_history', 'set_password', 'cancel',\n",
       "       'phone_verification_modal', 'submit_contact', 'detect_fb_session',\n",
       "       'tell_a_friend', 'change', 'clickthrough',\n",
       "       'multi_message_attributes', 'update_friends_display',\n",
       "       'my_listings', 'email_itinerary_colorbox', 'mobile_landing_page',\n",
       "       'create_ach', 'country_options', '11', 'host_2013', 'terms',\n",
       "       'multi_message', 'ajax_send_message', 'airbnb_picks',\n",
       "       'friends_new', 'reputation', 'complete_redirect',\n",
       "       'toggle_starred_thread', 'email_share', 'email_wishlist',\n",
       "       'destroy', 'add_note', 'overview', 'requirements',\n",
       "       'update_reservation_requirements', 'image_order', 'review_page',\n",
       "       'ajax_worth', 'place_worth', 'google_importer',\n",
       "       'change_availability', 'hospitality', 'change_password', 'feed',\n",
       "       'host_summary', 'ajax_price_and_availability', 'jumio',\n",
       "       'guest_booked_elsewhere', 'about_us', 'founders',\n",
       "       'travel_plans_previous', 'why_host', 'hospitality_standards',\n",
       "       'social', 'recommendations', 'update_cached', 'become_user',\n",
       "       'departments', 'department', 'office_location', 'photography',\n",
       "       'preapproval', 'maybe_information', 'toggle_availability',\n",
       "       'payoneer_account_redirect', 'forgot_password', 'new_host',\n",
       "       'payoneer_signup_complete', 'ajax_google_translate', 'onenight',\n",
       "       'approve', 'nyan', 'booking', 'payout_delete',\n",
       "       'change_default_payout', 'envoy_bank_details_redirect', 'respond',\n",
       "       'request_photography', 'zendesk_login_jwt', 'ajax_photo_widget',\n",
       "       'message', 'southern-europe', 'life', 'press_release',\n",
       "       'media_resources', 'press_news', 'referrer_status',\n",
       "       'create_multiple', 'load_more', 'create_paypal',\n",
       "       'locale_from_host', 'terms_and_conditions', 'invalid_action',\n",
       "       'photography_update', 'badge', 'apply', 'redirect', 'pricing',\n",
       "       'apply_code', 'slideshow', 'locations',\n",
       "       'ajax_google_translate_reviews', 'new_session', 'has_profile_pic',\n",
       "       'sublets', 'wishlists', 'reservation', 'localized',\n",
       "       'home_safety_landing', 'click', 'how_it_works',\n",
       "       'ajax_get_referrals_amt', 'phone_verification', 'satisfy',\n",
       "       'city_count', 'recommendation_page', 'press_content',\n",
       "       'guest_billing_receipt', 'ajax_payout_split_edit',\n",
       "       'print_confirmation', 'envoy_form',\n",
       "       'ajax_special_offer_dates_available',\n",
       "       'ajax_referral_banner_experiment_type', 'patch', 'questions',\n",
       "       'home_safety_terms', 'track_activity', 'check', 'sldf',\n",
       "       'recommended_listings', 'mobile_oauth_callback', 'show_code',\n",
       "       'signed_out_modal', 'plaxo_cb', 'views', 'friend_listing',\n",
       "       'ajax_referral_banner_type', 'deactivate', 'sync', 'social-media',\n",
       "       'united-states', 'email_by_key', 'disaster_action',\n",
       "       'views_campaign', 'update_message', 'spoken_languages',\n",
       "       'use_mobile_site', 'deauthorize', 'special_offer',\n",
       "       'top_destinations', 'create_airbnb', 'handle_vanity_url',\n",
       "       'impressions', 'message_to_host_focus',\n",
       "       'cancellation_policy_click', 'message_to_host_change',\n",
       "       'agree_terms_check', 'read_policy_click',\n",
       "       'phone_verification_success',\n",
       "       'phone_verification_number_sucessfully_submitted',\n",
       "       'phone_verification_number_submitted_for_sms',\n",
       "       'phone_verification_phone_number_removed', 'endpoint_error',\n",
       "       'p4_refund_policy_terms', 'apply_coupon_error_type',\n",
       "       'apply_coupon_error', 'apply_coupon_click', 'coupon_field_focus',\n",
       "       'coupon_code_click', 'agree_terms_uncheck', 'p4_terms',\n",
       "       'phone_verification_call_taking_too_long',\n",
       "       'phone_verification_number_submitted_for_call',\n",
       "       'phone_verification_error', 'apply_coupon_click_success',\n",
       "       'set_default', 'update_country_of_residence',\n",
       "       'open_hard_fallback_modal', 'tos_2014', 'views_campaign_rules',\n",
       "       'weibo_signup_referral_finish', 'signup_weibo_referral',\n",
       "       'similar_listings_v2', 'confirmation', 'signup_weibo',\n",
       "       'acculynk_load_pin_pad', 'acculynk_bin_check_success',\n",
       "       'acculynk_session_obtained', 'acculynk_pin_pad_inactive',\n",
       "       'reactivate', 'airbrb', 'desks', 'sandy', 'unsubscribe',\n",
       "       'host_cancel', 'acculynk_bin_check_failed',\n",
       "       'acculynk_pin_pad_error', 'custom_recommended_destinations',\n",
       "       'this_hosting_reviews_3000', 'reset_calendar', 'events',\n",
       "       'business_travel', 'add_guest_colorbox', 'hard_fallback_submit',\n",
       "       'add_business_address_colorbox', 'my_reservations', 'report',\n",
       "       'book', 'revert_to_admin', 'acculynk_pin_pad_success',\n",
       "       'south-america', 'braintree_client_token', 'view', 'stpcv',\n",
       "       'set_minimum_payout_amount', 'support_phone_numbers',\n",
       "       'refund_guest_cancellation', 'accept_decline', 'deactivated',\n",
       "       'rest-of-world'], dtype=object)"
      ]
     },
     "execution_count": 12,
     "metadata": {},
     "output_type": "execute_result"
    }
   ],
   "source": [
    "sessions_df.action.unique()"
   ]
  },
  {
   "cell_type": "code",
   "execution_count": 13,
   "metadata": {},
   "outputs": [
    {
     "data": {
      "text/plain": [
       "11"
      ]
     },
     "execution_count": 13,
     "metadata": {},
     "output_type": "execute_result"
    }
   ],
   "source": [
    "len(sessions_df.action_type.unique())"
   ]
  },
  {
   "cell_type": "code",
   "execution_count": 14,
   "metadata": {},
   "outputs": [
    {
     "data": {
      "text/plain": [
       "array([nan, 'click', 'data', 'view', 'submit', 'message_post',\n",
       "       '-unknown-', 'booking_request', 'partner_callback',\n",
       "       'booking_response', 'modify'], dtype=object)"
      ]
     },
     "execution_count": 14,
     "metadata": {},
     "output_type": "execute_result"
    }
   ],
   "source": [
    "sessions_df.action_type.unique()"
   ]
  },
  {
   "cell_type": "code",
   "execution_count": 15,
   "metadata": {},
   "outputs": [
    {
     "data": {
      "text/plain": [
       "156"
      ]
     },
     "execution_count": 15,
     "metadata": {},
     "output_type": "execute_result"
    }
   ],
   "source": [
    "len(sessions_df.action_detail.unique())"
   ]
  },
  {
   "cell_type": "code",
   "execution_count": 16,
   "metadata": {},
   "outputs": [
    {
     "data": {
      "text/plain": [
       "array([nan, 'view_search_results', 'wishlist_content_update',\n",
       "       'similar_listings', 'change_trip_characteristics', 'p3',\n",
       "       'header_userpic', 'contact_host', 'message_post', '-unknown-',\n",
       "       'dashboard', 'create_user', 'confirm_email_link',\n",
       "       'user_profile_content_update', 'user_profile', 'pending', 'p5',\n",
       "       'create_phone_numbers', 'cancellation_policies', 'user_wishlists',\n",
       "       'change_contact_host_dates', 'wishlist', 'message_thread',\n",
       "       'request_new_confirm_email', 'send_message', 'your_trips',\n",
       "       'login_page', 'login', 'login_modal', 'toggle_archived_thread',\n",
       "       'p1', 'profile_verifications', 'edit_profile', 'oauth_login',\n",
       "       'post_checkout_action', 'account_notification_settings',\n",
       "       'update_user_profile', 'oauth_response', 'signup_modal',\n",
       "       'signup_login_page', 'at_checkpoint', 'manage_listing',\n",
       "       'create_listing', 'your_listings', 'profile_references',\n",
       "       'list_your_space', 'popular_wishlists', 'listing_reviews_page',\n",
       "       'apply_coupon', 'user_tax_forms', 'account_payout_preferences',\n",
       "       'guest_itinerary', 'guest_receipt', 'account_privacy_settings',\n",
       "       'lookup_message_thread', 'friends_wishlists', 'host_guarantee',\n",
       "       'delete_phone_numbers', 'account_transaction_history',\n",
       "       'set_password', 'guest_cancellation', 'change_or_alter',\n",
       "       'your_reservations', 'terms_and_privacy', 'airbnb_picks_wishlists',\n",
       "       'toggle_starred_thread', 'email_wishlist', 'email_wishlist_button',\n",
       "       'wishlist_note', 'calculate_worth', 'place_worth',\n",
       "       'change_password', 'alteration_field', 'previous_trips',\n",
       "       'update_listing', 'update_listing_description', 'user_reviews',\n",
       "       'update_user', 'notifications', 'user_social_connections',\n",
       "       'unavailable_dates', 'reservations', 'listing_reviews',\n",
       "       'user_listings', 'signup', 'message_inbox', 'trip_availability',\n",
       "       'payment_instruments', 'admin_templates', 'host_home',\n",
       "       'translations', 'forgot_password', 'homepage',\n",
       "       'remove_dashboard_alert', 'user_friend_recommendations',\n",
       "       'confirm_email', 'host_respond', 'booking',\n",
       "       'respond_to_alteration_request', 'alteration_request',\n",
       "       'create_alteration_request', 'delete_listing', 'set_password_page',\n",
       "       'delete_listing_description', 'translate_listing_reviews',\n",
       "       'book_it', 'instant_book', 'request_to_book', 'complete_booking',\n",
       "       'change_availability', 'special_offer_field',\n",
       "       'listing_recommendations', 'view_listing', 'listing_descriptions',\n",
       "       'user_languages', 'p4', 'message_to_host_focus',\n",
       "       'cancellation_policy_click', 'message_to_host_change',\n",
       "       'read_policy_click', 'phone_verification_success',\n",
       "       'p4_refund_policy_terms', 'apply_coupon_error',\n",
       "       'apply_coupon_click', 'coupon_field_focus', 'coupon_code_click',\n",
       "       'p4_terms', 'apply_coupon_click_success', 'tos_2014',\n",
       "       'view_reservations', 'view_locations', 'modify_users',\n",
       "       'view_security_checks', 'phone_numbers', 'profile_reviews',\n",
       "       'modify_reservations', 'view_resolutions',\n",
       "       'account_payment_methods', 'create_payment_instrument',\n",
       "       'set_default_payment_instrument', 'delete_payment_instrument',\n",
       "       'photos', 'click_reviews', 'move_map', 'share',\n",
       "       'cancellation_policy', 'click_about_host', 'click_amenities',\n",
       "       'host_refund_guest', 'host_respond_page', 'view_user_real_names',\n",
       "       'view_identity_verifications', 'view_ghosting_reasons',\n",
       "       'view_ghostings', 'host_standard_suspension',\n",
       "       'deactivate_user_account'], dtype=object)"
      ]
     },
     "execution_count": 16,
     "metadata": {},
     "output_type": "execute_result"
    }
   ],
   "source": [
    "sessions_df.action_detail.unique()"
   ]
  },
  {
   "cell_type": "markdown",
   "metadata": {},
   "source": [
    "Verificamos que, si __action_type__ es null, tambien lo es __action_detail__"
   ]
  },
  {
   "cell_type": "code",
   "execution_count": 17,
   "metadata": {},
   "outputs": [
    {
     "data": {
      "text/plain": [
       "array([nan], dtype=object)"
      ]
     },
     "execution_count": 17,
     "metadata": {},
     "output_type": "execute_result"
    }
   ],
   "source": [
    "sessions_df[ sessions_df.action_type.isnull() == True ].action_detail.unique()"
   ]
  },
  {
   "cell_type": "markdown",
   "metadata": {},
   "source": [
    "Veamos que valores hay para __action__ cuando __action_type__ es nulo"
   ]
  },
  {
   "cell_type": "code",
   "execution_count": 18,
   "metadata": {},
   "outputs": [
    {
     "data": {
      "text/plain": [
       "array(['lookup', 'show', 'track_page_view', 'widget', 'uptodate', 'index',\n",
       "       'campaigns', 'currencies', 'localization_settings', 'update',\n",
       "       'phone_verification', 'satisfy', 'track_activity', 'check',\n",
       "       'signed_out_modal', 'disaster_action', 'similar_listings_v2',\n",
       "       'braintree_client_token'], dtype=object)"
      ]
     },
     "execution_count": 18,
     "metadata": {},
     "output_type": "execute_result"
    }
   ],
   "source": [
    "sessions_df[ sessions_df.action_type.isnull()].action.unique()"
   ]
  },
  {
   "cell_type": "code",
   "execution_count": 19,
   "metadata": {},
   "outputs": [
    {
     "data": {
      "text/plain": [
       "array(['message_post'], dtype=object)"
      ]
     },
     "execution_count": 19,
     "metadata": {},
     "output_type": "execute_result"
    }
   ],
   "source": [
    "sessions_df[ sessions_df.action.isnull()].action_type.unique()"
   ]
  },
  {
   "cell_type": "markdown",
   "metadata": {},
   "source": [
    "Vamos a reemplazar el null en estos campos, por un valor fijo"
   ]
  },
  {
   "cell_type": "code",
   "execution_count": 20,
   "metadata": {},
   "outputs": [],
   "source": [
    "sessions_df['action'].fillna('unknown_action', inplace=True) \n",
    "sessions_df['action_type'].fillna('unknown_action_type-', inplace=True) \n",
    "sessions_df['action_detail'].fillna('unknown_action_detail-', inplace=True) "
   ]
  },
  {
   "cell_type": "code",
   "execution_count": 21,
   "metadata": {},
   "outputs": [
    {
     "data": {
      "text/plain": [
       "user_id           34496\n",
       "action                0\n",
       "action_type           0\n",
       "action_detail         0\n",
       "device_type           0\n",
       "secs_elapsed     136031\n",
       "dtype: int64"
      ]
     },
     "execution_count": 21,
     "metadata": {},
     "output_type": "execute_result"
    }
   ],
   "source": [
    "sessions_df.isnull().sum()"
   ]
  },
  {
   "cell_type": "markdown",
   "metadata": {},
   "source": [
    "Analicemos el __user_id__, porque puede dejar elementos fuera del merge con usuarios"
   ]
  },
  {
   "cell_type": "code",
   "execution_count": 22,
   "metadata": {},
   "outputs": [
    {
     "data": {
      "text/plain": [
       "0.003264275028797556"
      ]
     },
     "execution_count": 22,
     "metadata": {},
     "output_type": "execute_result"
    }
   ],
   "source": [
    "len(sessions_df[sessions_df.user_id.isnull() == True]) / len(sessions_df)"
   ]
  },
  {
   "cell_type": "markdown",
   "metadata": {},
   "source": [
    "La proporcion de user_id en null, es baja (3%). Vamos a eliminarlos"
   ]
  },
  {
   "cell_type": "code",
   "execution_count": 23,
   "metadata": {},
   "outputs": [],
   "source": [
    "sessions_df.dropna(subset=['user_id'], inplace=True)"
   ]
  },
  {
   "cell_type": "code",
   "execution_count": 24,
   "metadata": {},
   "outputs": [
    {
     "data": {
      "text/plain": [
       "user_id               0\n",
       "action                0\n",
       "action_type           0\n",
       "action_detail         0\n",
       "device_type           0\n",
       "secs_elapsed     135483\n",
       "dtype: int64"
      ]
     },
     "execution_count": 24,
     "metadata": {},
     "output_type": "execute_result"
    }
   ],
   "source": [
    "sessions_df.isnull().sum()"
   ]
  },
  {
   "cell_type": "markdown",
   "metadata": {},
   "source": [
    "Tratamiento de los nulos de secs_elapsed"
   ]
  },
  {
   "cell_type": "code",
   "execution_count": 25,
   "metadata": {},
   "outputs": [
    {
     "name": "stdout",
     "output_type": "stream",
     "text": [
      "1146.0\n"
     ]
    }
   ],
   "source": [
    "secs_elapsed_median = sessions_df.secs_elapsed.median()\n",
    "print(secs_elapsed_median)\n",
    "sessions_df['secs_elapsed'].fillna(secs_elapsed_median, inplace=True) "
   ]
  },
  {
   "cell_type": "code",
   "execution_count": 26,
   "metadata": {},
   "outputs": [
    {
     "data": {
      "text/plain": [
       "user_id          0\n",
       "action           0\n",
       "action_type      0\n",
       "action_detail    0\n",
       "device_type      0\n",
       "secs_elapsed     0\n",
       "dtype: int64"
      ]
     },
     "execution_count": 26,
     "metadata": {},
     "output_type": "execute_result"
    }
   ],
   "source": [
    "sessions_df.isnull().sum()"
   ]
  },
  {
   "cell_type": "markdown",
   "metadata": {},
   "source": [
    "Listo, no quedan null values en sessions"
   ]
  },
  {
   "cell_type": "code",
   "execution_count": 27,
   "metadata": {},
   "outputs": [
    {
     "data": {
      "text/plain": [
       "Mac Desktop                         3585886\n",
       "Windows Desktop                     2648521\n",
       "iPhone                              2096749\n",
       "Android Phone                        835991\n",
       "iPad Tablet                          681836\n",
       "Android App Unknown Phone/Tablet     272820\n",
       "-unknown-                            210059\n",
       "Tablet                               139859\n",
       "Linux Desktop                         27968\n",
       "Chromebook                            22272\n",
       "iPodtouch                              8186\n",
       "Windows Phone                          2047\n",
       "Blackberry                              979\n",
       "Opera Phone                              68\n",
       "Name: device_type, dtype: int64"
      ]
     },
     "execution_count": 27,
     "metadata": {},
     "output_type": "execute_result"
    }
   ],
   "source": [
    "sessions_df['device_type'].value_counts()"
   ]
  },
  {
   "cell_type": "markdown",
   "metadata": {},
   "source": [
    "### Age_Gender_Bkts"
   ]
  },
  {
   "cell_type": "code",
   "execution_count": 28,
   "metadata": {},
   "outputs": [],
   "source": [
    "age_gender_df = pd.read_csv(dataset_path+\"age_gender_bkts.csv\") "
   ]
  },
  {
   "cell_type": "code",
   "execution_count": 29,
   "metadata": {},
   "outputs": [
    {
     "data": {
      "text/html": [
       "<div>\n",
       "<style scoped>\n",
       "    .dataframe tbody tr th:only-of-type {\n",
       "        vertical-align: middle;\n",
       "    }\n",
       "\n",
       "    .dataframe tbody tr th {\n",
       "        vertical-align: top;\n",
       "    }\n",
       "\n",
       "    .dataframe thead th {\n",
       "        text-align: right;\n",
       "    }\n",
       "</style>\n",
       "<table border=\"1\" class=\"dataframe\">\n",
       "  <thead>\n",
       "    <tr style=\"text-align: right;\">\n",
       "      <th></th>\n",
       "      <th>age_bucket</th>\n",
       "      <th>country_destination</th>\n",
       "      <th>gender</th>\n",
       "      <th>population_in_thousands</th>\n",
       "      <th>year</th>\n",
       "    </tr>\n",
       "  </thead>\n",
       "  <tbody>\n",
       "    <tr>\n",
       "      <th>0</th>\n",
       "      <td>100+</td>\n",
       "      <td>AU</td>\n",
       "      <td>male</td>\n",
       "      <td>1.0</td>\n",
       "      <td>2015.0</td>\n",
       "    </tr>\n",
       "    <tr>\n",
       "      <th>1</th>\n",
       "      <td>95-99</td>\n",
       "      <td>AU</td>\n",
       "      <td>male</td>\n",
       "      <td>9.0</td>\n",
       "      <td>2015.0</td>\n",
       "    </tr>\n",
       "    <tr>\n",
       "      <th>2</th>\n",
       "      <td>90-94</td>\n",
       "      <td>AU</td>\n",
       "      <td>male</td>\n",
       "      <td>47.0</td>\n",
       "      <td>2015.0</td>\n",
       "    </tr>\n",
       "    <tr>\n",
       "      <th>3</th>\n",
       "      <td>85-89</td>\n",
       "      <td>AU</td>\n",
       "      <td>male</td>\n",
       "      <td>118.0</td>\n",
       "      <td>2015.0</td>\n",
       "    </tr>\n",
       "    <tr>\n",
       "      <th>4</th>\n",
       "      <td>80-84</td>\n",
       "      <td>AU</td>\n",
       "      <td>male</td>\n",
       "      <td>199.0</td>\n",
       "      <td>2015.0</td>\n",
       "    </tr>\n",
       "    <tr>\n",
       "      <th>5</th>\n",
       "      <td>75-79</td>\n",
       "      <td>AU</td>\n",
       "      <td>male</td>\n",
       "      <td>298.0</td>\n",
       "      <td>2015.0</td>\n",
       "    </tr>\n",
       "    <tr>\n",
       "      <th>6</th>\n",
       "      <td>70-74</td>\n",
       "      <td>AU</td>\n",
       "      <td>male</td>\n",
       "      <td>415.0</td>\n",
       "      <td>2015.0</td>\n",
       "    </tr>\n",
       "    <tr>\n",
       "      <th>7</th>\n",
       "      <td>65-69</td>\n",
       "      <td>AU</td>\n",
       "      <td>male</td>\n",
       "      <td>574.0</td>\n",
       "      <td>2015.0</td>\n",
       "    </tr>\n",
       "    <tr>\n",
       "      <th>8</th>\n",
       "      <td>60-64</td>\n",
       "      <td>AU</td>\n",
       "      <td>male</td>\n",
       "      <td>636.0</td>\n",
       "      <td>2015.0</td>\n",
       "    </tr>\n",
       "    <tr>\n",
       "      <th>9</th>\n",
       "      <td>55-59</td>\n",
       "      <td>AU</td>\n",
       "      <td>male</td>\n",
       "      <td>714.0</td>\n",
       "      <td>2015.0</td>\n",
       "    </tr>\n",
       "  </tbody>\n",
       "</table>\n",
       "</div>"
      ],
      "text/plain": [
       "  age_bucket country_destination gender  population_in_thousands    year\n",
       "0       100+                  AU   male                      1.0  2015.0\n",
       "1      95-99                  AU   male                      9.0  2015.0\n",
       "2      90-94                  AU   male                     47.0  2015.0\n",
       "3      85-89                  AU   male                    118.0  2015.0\n",
       "4      80-84                  AU   male                    199.0  2015.0\n",
       "5      75-79                  AU   male                    298.0  2015.0\n",
       "6      70-74                  AU   male                    415.0  2015.0\n",
       "7      65-69                  AU   male                    574.0  2015.0\n",
       "8      60-64                  AU   male                    636.0  2015.0\n",
       "9      55-59                  AU   male                    714.0  2015.0"
      ]
     },
     "execution_count": 29,
     "metadata": {},
     "output_type": "execute_result"
    }
   ],
   "source": [
    "age_gender_df.head(10)"
   ]
  },
  {
   "cell_type": "code",
   "execution_count": 30,
   "metadata": {},
   "outputs": [
    {
     "data": {
      "text/plain": [
       "420"
      ]
     },
     "execution_count": 30,
     "metadata": {},
     "output_type": "execute_result"
    }
   ],
   "source": [
    "len(age_gender_df)"
   ]
  },
  {
   "cell_type": "code",
   "execution_count": 31,
   "metadata": {},
   "outputs": [
    {
     "data": {
      "text/html": [
       "<div>\n",
       "<style scoped>\n",
       "    .dataframe tbody tr th:only-of-type {\n",
       "        vertical-align: middle;\n",
       "    }\n",
       "\n",
       "    .dataframe tbody tr th {\n",
       "        vertical-align: top;\n",
       "    }\n",
       "\n",
       "    .dataframe thead th {\n",
       "        text-align: right;\n",
       "    }\n",
       "</style>\n",
       "<table border=\"1\" class=\"dataframe\">\n",
       "  <thead>\n",
       "    <tr style=\"text-align: right;\">\n",
       "      <th></th>\n",
       "      <th>population_in_thousands</th>\n",
       "      <th>year</th>\n",
       "    </tr>\n",
       "  </thead>\n",
       "  <tbody>\n",
       "    <tr>\n",
       "      <th>count</th>\n",
       "      <td>420.000000</td>\n",
       "      <td>420.0</td>\n",
       "    </tr>\n",
       "    <tr>\n",
       "      <th>mean</th>\n",
       "      <td>1743.133333</td>\n",
       "      <td>2015.0</td>\n",
       "    </tr>\n",
       "    <tr>\n",
       "      <th>std</th>\n",
       "      <td>2509.843202</td>\n",
       "      <td>0.0</td>\n",
       "    </tr>\n",
       "    <tr>\n",
       "      <th>min</th>\n",
       "      <td>0.000000</td>\n",
       "      <td>2015.0</td>\n",
       "    </tr>\n",
       "    <tr>\n",
       "      <th>25%</th>\n",
       "      <td>396.500000</td>\n",
       "      <td>2015.0</td>\n",
       "    </tr>\n",
       "    <tr>\n",
       "      <th>50%</th>\n",
       "      <td>1090.500000</td>\n",
       "      <td>2015.0</td>\n",
       "    </tr>\n",
       "    <tr>\n",
       "      <th>75%</th>\n",
       "      <td>1968.000000</td>\n",
       "      <td>2015.0</td>\n",
       "    </tr>\n",
       "    <tr>\n",
       "      <th>max</th>\n",
       "      <td>11601.000000</td>\n",
       "      <td>2015.0</td>\n",
       "    </tr>\n",
       "  </tbody>\n",
       "</table>\n",
       "</div>"
      ],
      "text/plain": [
       "       population_in_thousands    year\n",
       "count               420.000000   420.0\n",
       "mean               1743.133333  2015.0\n",
       "std                2509.843202     0.0\n",
       "min                   0.000000  2015.0\n",
       "25%                 396.500000  2015.0\n",
       "50%                1090.500000  2015.0\n",
       "75%                1968.000000  2015.0\n",
       "max               11601.000000  2015.0"
      ]
     },
     "execution_count": 31,
     "metadata": {},
     "output_type": "execute_result"
    }
   ],
   "source": [
    "age_gender_df.describe()"
   ]
  },
  {
   "cell_type": "markdown",
   "metadata": {},
   "source": [
    "Verificamos si hay valores nulos en el dataset"
   ]
  },
  {
   "cell_type": "code",
   "execution_count": 32,
   "metadata": {},
   "outputs": [
    {
     "data": {
      "text/plain": [
       "age_bucket                 0\n",
       "country_destination        0\n",
       "gender                     0\n",
       "population_in_thousands    0\n",
       "year                       0\n",
       "dtype: int64"
      ]
     },
     "execution_count": 32,
     "metadata": {},
     "output_type": "execute_result"
    }
   ],
   "source": [
    "age_gender_df.isnull().sum()"
   ]
  },
  {
   "cell_type": "markdown",
   "metadata": {},
   "source": [
    "## Test_users"
   ]
  },
  {
   "cell_type": "code",
   "execution_count": 33,
   "metadata": {},
   "outputs": [],
   "source": [
    "train_users_df = pd.read_csv(dataset_path+\"train_users_2.csv\") "
   ]
  },
  {
   "cell_type": "code",
   "execution_count": 34,
   "metadata": {},
   "outputs": [
    {
     "data": {
      "text/plain": [
       "213451"
      ]
     },
     "execution_count": 34,
     "metadata": {},
     "output_type": "execute_result"
    }
   ],
   "source": [
    "len(train_users_df)"
   ]
  },
  {
   "cell_type": "code",
   "execution_count": 35,
   "metadata": {},
   "outputs": [
    {
     "data": {
      "text/html": [
       "<div>\n",
       "<style scoped>\n",
       "    .dataframe tbody tr th:only-of-type {\n",
       "        vertical-align: middle;\n",
       "    }\n",
       "\n",
       "    .dataframe tbody tr th {\n",
       "        vertical-align: top;\n",
       "    }\n",
       "\n",
       "    .dataframe thead th {\n",
       "        text-align: right;\n",
       "    }\n",
       "</style>\n",
       "<table border=\"1\" class=\"dataframe\">\n",
       "  <thead>\n",
       "    <tr style=\"text-align: right;\">\n",
       "      <th></th>\n",
       "      <th>id</th>\n",
       "      <th>date_account_created</th>\n",
       "      <th>timestamp_first_active</th>\n",
       "      <th>date_first_booking</th>\n",
       "      <th>gender</th>\n",
       "      <th>age</th>\n",
       "      <th>signup_method</th>\n",
       "      <th>signup_flow</th>\n",
       "      <th>language</th>\n",
       "      <th>affiliate_channel</th>\n",
       "      <th>affiliate_provider</th>\n",
       "      <th>first_affiliate_tracked</th>\n",
       "      <th>signup_app</th>\n",
       "      <th>first_device_type</th>\n",
       "      <th>first_browser</th>\n",
       "      <th>country_destination</th>\n",
       "    </tr>\n",
       "  </thead>\n",
       "  <tbody>\n",
       "    <tr>\n",
       "      <th>0</th>\n",
       "      <td>gxn3p5htnn</td>\n",
       "      <td>2010-06-28</td>\n",
       "      <td>20090319043255</td>\n",
       "      <td>NaN</td>\n",
       "      <td>-unknown-</td>\n",
       "      <td>NaN</td>\n",
       "      <td>facebook</td>\n",
       "      <td>0</td>\n",
       "      <td>en</td>\n",
       "      <td>direct</td>\n",
       "      <td>direct</td>\n",
       "      <td>untracked</td>\n",
       "      <td>Web</td>\n",
       "      <td>Mac Desktop</td>\n",
       "      <td>Chrome</td>\n",
       "      <td>NDF</td>\n",
       "    </tr>\n",
       "    <tr>\n",
       "      <th>1</th>\n",
       "      <td>820tgsjxq7</td>\n",
       "      <td>2011-05-25</td>\n",
       "      <td>20090523174809</td>\n",
       "      <td>NaN</td>\n",
       "      <td>MALE</td>\n",
       "      <td>38.0</td>\n",
       "      <td>facebook</td>\n",
       "      <td>0</td>\n",
       "      <td>en</td>\n",
       "      <td>seo</td>\n",
       "      <td>google</td>\n",
       "      <td>untracked</td>\n",
       "      <td>Web</td>\n",
       "      <td>Mac Desktop</td>\n",
       "      <td>Chrome</td>\n",
       "      <td>NDF</td>\n",
       "    </tr>\n",
       "    <tr>\n",
       "      <th>2</th>\n",
       "      <td>4ft3gnwmtx</td>\n",
       "      <td>2010-09-28</td>\n",
       "      <td>20090609231247</td>\n",
       "      <td>2010-08-02</td>\n",
       "      <td>FEMALE</td>\n",
       "      <td>56.0</td>\n",
       "      <td>basic</td>\n",
       "      <td>3</td>\n",
       "      <td>en</td>\n",
       "      <td>direct</td>\n",
       "      <td>direct</td>\n",
       "      <td>untracked</td>\n",
       "      <td>Web</td>\n",
       "      <td>Windows Desktop</td>\n",
       "      <td>IE</td>\n",
       "      <td>US</td>\n",
       "    </tr>\n",
       "    <tr>\n",
       "      <th>3</th>\n",
       "      <td>bjjt8pjhuk</td>\n",
       "      <td>2011-12-05</td>\n",
       "      <td>20091031060129</td>\n",
       "      <td>2012-09-08</td>\n",
       "      <td>FEMALE</td>\n",
       "      <td>42.0</td>\n",
       "      <td>facebook</td>\n",
       "      <td>0</td>\n",
       "      <td>en</td>\n",
       "      <td>direct</td>\n",
       "      <td>direct</td>\n",
       "      <td>untracked</td>\n",
       "      <td>Web</td>\n",
       "      <td>Mac Desktop</td>\n",
       "      <td>Firefox</td>\n",
       "      <td>other</td>\n",
       "    </tr>\n",
       "    <tr>\n",
       "      <th>4</th>\n",
       "      <td>87mebub9p4</td>\n",
       "      <td>2010-09-14</td>\n",
       "      <td>20091208061105</td>\n",
       "      <td>2010-02-18</td>\n",
       "      <td>-unknown-</td>\n",
       "      <td>41.0</td>\n",
       "      <td>basic</td>\n",
       "      <td>0</td>\n",
       "      <td>en</td>\n",
       "      <td>direct</td>\n",
       "      <td>direct</td>\n",
       "      <td>untracked</td>\n",
       "      <td>Web</td>\n",
       "      <td>Mac Desktop</td>\n",
       "      <td>Chrome</td>\n",
       "      <td>US</td>\n",
       "    </tr>\n",
       "  </tbody>\n",
       "</table>\n",
       "</div>"
      ],
      "text/plain": [
       "           id date_account_created  timestamp_first_active date_first_booking  \\\n",
       "0  gxn3p5htnn           2010-06-28          20090319043255                NaN   \n",
       "1  820tgsjxq7           2011-05-25          20090523174809                NaN   \n",
       "2  4ft3gnwmtx           2010-09-28          20090609231247         2010-08-02   \n",
       "3  bjjt8pjhuk           2011-12-05          20091031060129         2012-09-08   \n",
       "4  87mebub9p4           2010-09-14          20091208061105         2010-02-18   \n",
       "\n",
       "      gender   age signup_method  signup_flow language affiliate_channel  \\\n",
       "0  -unknown-   NaN      facebook            0       en            direct   \n",
       "1       MALE  38.0      facebook            0       en               seo   \n",
       "2     FEMALE  56.0         basic            3       en            direct   \n",
       "3     FEMALE  42.0      facebook            0       en            direct   \n",
       "4  -unknown-  41.0         basic            0       en            direct   \n",
       "\n",
       "  affiliate_provider first_affiliate_tracked signup_app first_device_type  \\\n",
       "0             direct               untracked        Web       Mac Desktop   \n",
       "1             google               untracked        Web       Mac Desktop   \n",
       "2             direct               untracked        Web   Windows Desktop   \n",
       "3             direct               untracked        Web       Mac Desktop   \n",
       "4             direct               untracked        Web       Mac Desktop   \n",
       "\n",
       "  first_browser country_destination  \n",
       "0        Chrome                 NDF  \n",
       "1        Chrome                 NDF  \n",
       "2            IE                  US  \n",
       "3       Firefox               other  \n",
       "4        Chrome                  US  "
      ]
     },
     "execution_count": 35,
     "metadata": {},
     "output_type": "execute_result"
    }
   ],
   "source": [
    "train_users_df.head()"
   ]
  },
  {
   "cell_type": "code",
   "execution_count": 36,
   "metadata": {},
   "outputs": [
    {
     "data": {
      "text/plain": [
       "id                              0\n",
       "date_account_created            0\n",
       "timestamp_first_active          0\n",
       "date_first_booking         124543\n",
       "gender                          0\n",
       "age                         87990\n",
       "signup_method                   0\n",
       "signup_flow                     0\n",
       "language                        0\n",
       "affiliate_channel               0\n",
       "affiliate_provider              0\n",
       "first_affiliate_tracked      6065\n",
       "signup_app                      0\n",
       "first_device_type               0\n",
       "first_browser                   0\n",
       "country_destination             0\n",
       "dtype: int64"
      ]
     },
     "execution_count": 36,
     "metadata": {},
     "output_type": "execute_result"
    }
   ],
   "source": [
    "train_users_df.isnull().sum()"
   ]
  },
  {
   "cell_type": "code",
   "execution_count": 37,
   "metadata": {},
   "outputs": [
    {
     "data": {
      "text/plain": [
       "array(['2010-06-28', '2011-05-25', '2010-09-28', ..., '2014-06-27',\n",
       "       '2014-06-29', '2014-06-30'], dtype=object)"
      ]
     },
     "execution_count": 37,
     "metadata": {},
     "output_type": "execute_result"
    }
   ],
   "source": [
    "train_users_df.date_account_created.unique()"
   ]
  },
  {
   "cell_type": "markdown",
   "metadata": {},
   "source": [
    "### Tratamiento de __age__"
   ]
  },
  {
   "cell_type": "markdown",
   "metadata": {},
   "source": [
    "Tratamos los datos faltantes en __age__ y eliminamos outliers"
   ]
  },
  {
   "cell_type": "code",
   "execution_count": 38,
   "metadata": {},
   "outputs": [
    {
     "data": {
      "text/plain": [
       "count    125461.000000\n",
       "mean         49.668335\n",
       "std         155.666612\n",
       "min           1.000000\n",
       "25%          28.000000\n",
       "50%          34.000000\n",
       "75%          43.000000\n",
       "max        2014.000000\n",
       "Name: age, dtype: float64"
      ]
     },
     "execution_count": 38,
     "metadata": {},
     "output_type": "execute_result"
    }
   ],
   "source": [
    "train_users_df.age.describe()"
   ]
  },
  {
   "cell_type": "code",
   "execution_count": 39,
   "metadata": {},
   "outputs": [
    {
     "data": {
      "image/png": "[encoded data removed]",
      "text/plain": [
       "<Figure size 864x576 with 1 Axes>"
      ]
     },
     "metadata": {
      "needs_background": "light"
     },
     "output_type": "display_data"
    }
   ],
   "source": [
    "plt.figure(figsize=(12,8))\n",
    "sns.distplot(train_users_df['age'].dropna(),bins=10, label='Age')\n",
    "plt.legend(bbox_to_anchor=(1, 1))\n",
    "sns.despine()"
   ]
  },
  {
   "cell_type": "code",
   "execution_count": 40,
   "metadata": {},
   "outputs": [],
   "source": [
    "train_users_df = train_users_df[ train_users_df.age < 100 ]"
   ]
  },
  {
   "cell_type": "code",
   "execution_count": 41,
   "metadata": {},
   "outputs": [],
   "source": [
    "train_users_df = train_users_df[ train_users_df.age > 13 ]"
   ]
  },
  {
   "cell_type": "code",
   "execution_count": 42,
   "metadata": {},
   "outputs": [
    {
     "data": {
      "image/png": "[encoded data removed]",
      "text/plain": [
       "<Figure size 864x576 with 1 Axes>"
      ]
     },
     "metadata": {
      "needs_background": "light"
     },
     "output_type": "display_data"
    }
   ],
   "source": [
    "plt.figure(figsize=(12,8))\n",
    "sns.distplot(train_users_df['age'].dropna(),bins=10, label='Age')\n",
    "plt.legend(bbox_to_anchor=(1, 1))\n",
    "sns.despine()"
   ]
  },
  {
   "cell_type": "markdown",
   "metadata": {},
   "source": [
    "### Tratamiento de __first_affiliate_tracked__ y otros relacionados"
   ]
  },
  {
   "cell_type": "code",
   "execution_count": 43,
   "metadata": {},
   "outputs": [
    {
     "data": {
      "text/plain": [
       "id                             0\n",
       "date_account_created           0\n",
       "timestamp_first_active         0\n",
       "date_first_booking         55845\n",
       "gender                         0\n",
       "age                            0\n",
       "signup_method                  0\n",
       "signup_flow                    0\n",
       "language                       0\n",
       "affiliate_channel              0\n",
       "affiliate_provider             0\n",
       "first_affiliate_tracked     1963\n",
       "signup_app                     0\n",
       "first_device_type              0\n",
       "first_browser                  0\n",
       "country_destination            0\n",
       "dtype: int64"
      ]
     },
     "execution_count": 43,
     "metadata": {},
     "output_type": "execute_result"
    }
   ],
   "source": [
    "train_users_df.isnull().sum()"
   ]
  },
  {
   "cell_type": "code",
   "execution_count": 44,
   "metadata": {},
   "outputs": [
    {
     "data": {
      "text/plain": [
       "array(['untracked', 'omg', 'linked', nan, 'tracked-other', 'product',\n",
       "       'marketing', 'local ops'], dtype=object)"
      ]
     },
     "execution_count": 44,
     "metadata": {},
     "output_type": "execute_result"
    }
   ],
   "source": [
    "train_users_df['first_affiliate_tracked'].unique()"
   ]
  },
  {
   "cell_type": "code",
   "execution_count": 45,
   "metadata": {},
   "outputs": [],
   "source": [
    "train_users_df.dropna(subset=['first_affiliate_tracked'], inplace=True)"
   ]
  },
  {
   "cell_type": "markdown",
   "metadata": {},
   "source": [
    "### Tratamiento de __language__"
   ]
  },
  {
   "cell_type": "code",
   "execution_count": 46,
   "metadata": {},
   "outputs": [
    {
     "data": {
      "text/plain": [
       "array(['en', 'de', 'fr', 'es', 'zh', 'ko', 'it', 'ru', 'ja', 'pt', 'nl',\n",
       "       'sv', 'pl', 'hu', 'da', 'id', 'fi', 'no', 'tr', 'el', 'th', 'cs',\n",
       "       'hr', 'ca', 'is'], dtype=object)"
      ]
     },
     "execution_count": 46,
     "metadata": {},
     "output_type": "execute_result"
    }
   ],
   "source": [
    "train_users_df['language'].unique()"
   ]
  },
  {
   "cell_type": "code",
   "execution_count": 47,
   "metadata": {},
   "outputs": [
    {
     "data": {
      "text/plain": [
       "language\n",
       "ca         4\n",
       "cs        18\n",
       "da        33\n",
       "de       406\n",
       "el        22\n",
       "en    116674\n",
       "es       621\n",
       "fi        11\n",
       "fr       797\n",
       "hr         2\n",
       "hu        15\n",
       "id        17\n",
       "is         4\n",
       "it       343\n",
       "ja       128\n",
       "ko       390\n",
       "nl        52\n",
       "no        20\n",
       "pl        42\n",
       "pt       167\n",
       "ru       266\n",
       "sv        78\n",
       "th        17\n",
       "tr        45\n",
       "zh       898\n",
       "Name: language, dtype: int64"
      ]
     },
     "execution_count": 47,
     "metadata": {},
     "output_type": "execute_result"
    }
   ],
   "source": [
    "train_users_df.groupby('language')['language'].count()"
   ]
  },
  {
   "cell_type": "code",
   "execution_count": 48,
   "metadata": {},
   "outputs": [
    {
     "data": {
      "text/plain": [
       "0.9636904270256876"
      ]
     },
     "execution_count": 48,
     "metadata": {},
     "output_type": "execute_result"
    }
   ],
   "source": [
    "len( train_users_df[ train_users_df['language']==\"en\" ]) /  len(train_users_df)"
   ]
  },
  {
   "cell_type": "markdown",
   "metadata": {},
   "source": [
    "Se observa una gran mayoría de usuarios con lenguaje \"Ingles\" (95%)  \n",
    "Veamos cual es la distribucion en el resto de los casos"
   ]
  },
  {
   "cell_type": "code",
   "execution_count": 49,
   "metadata": {},
   "outputs": [
    {
     "data": {
      "image/png": "[encoded data removed]",
      "text/plain": [
       "<Figure size 720x432 with 1 Axes>"
      ]
     },
     "metadata": {
      "needs_background": "light"
     },
     "output_type": "display_data"
    }
   ],
   "source": [
    "plt.figure(figsize=(10,6))\n",
    "\n",
    "sns.countplot( data = train_users_df.query('language!=\"en\"'), x='language')\n",
    "\n",
    "sns.despine(left=True)"
   ]
  },
  {
   "cell_type": "markdown",
   "metadata": {},
   "source": [
    "### Tratamiento de __gender__"
   ]
  },
  {
   "cell_type": "code",
   "execution_count": 50,
   "metadata": {},
   "outputs": [
    {
     "data": {
      "text/plain": [
       "array(['MALE', 'FEMALE', '-unknown-', 'OTHER'], dtype=object)"
      ]
     },
     "execution_count": 50,
     "metadata": {},
     "output_type": "execute_result"
    }
   ],
   "source": [
    "train_users_df['gender'].unique()"
   ]
  },
  {
   "cell_type": "code",
   "execution_count": 51,
   "metadata": {},
   "outputs": [
    {
     "data": {
      "text/plain": [
       "gender\n",
       "-unknown-    15924\n",
       "FEMALE       55869\n",
       "MALE         49052\n",
       "OTHER          225\n",
       "Name: gender, dtype: int64"
      ]
     },
     "execution_count": 51,
     "metadata": {},
     "output_type": "execute_result"
    }
   ],
   "source": [
    "train_users_df.groupby('gender')['gender'].count()"
   ]
  },
  {
   "cell_type": "markdown",
   "metadata": {},
   "source": [
    "Creo que la caracteristica de gender unknown es algo que deberiamos conservar, por lo que no vamos a hacer ningun tratamiento especial con ese valor. En el caso de \"other\", cuya frecuencia es muy baja, la reemplazamos por -unknown-"
   ]
  },
  {
   "cell_type": "code",
   "execution_count": 52,
   "metadata": {},
   "outputs": [],
   "source": [
    "train_users_df.gender.replace('-unknown-','OTHER', inplace=True)"
   ]
  },
  {
   "cell_type": "code",
   "execution_count": 53,
   "metadata": {},
   "outputs": [
    {
     "data": {
      "text/plain": [
       "gender\n",
       "FEMALE    55869\n",
       "MALE      49052\n",
       "OTHER     16149\n",
       "Name: gender, dtype: int64"
      ]
     },
     "execution_count": 53,
     "metadata": {},
     "output_type": "execute_result"
    }
   ],
   "source": [
    "train_users_df.groupby('gender')['gender'].count()"
   ]
  },
  {
   "cell_type": "code",
   "execution_count": 54,
   "metadata": {},
   "outputs": [
    {
     "data": {
      "image/png": "[encoded data removed]",
      "text/plain": [
       "<Figure size 720x432 with 1 Axes>"
      ]
     },
     "metadata": {
      "needs_background": "light"
     },
     "output_type": "display_data"
    }
   ],
   "source": [
    "plt.figure(figsize=(10,6))\n",
    "\n",
    "sns.countplot(  train_users_df['gender'] )\n",
    "\n",
    "sns.despine(left=True)"
   ]
  },
  {
   "cell_type": "code",
   "execution_count": null,
   "metadata": {},
   "outputs": [],
   "source": []
  },
  {
   "cell_type": "markdown",
   "metadata": {},
   "source": [
    "### Merge datasets __train_users__ y __sessions__"
   ]
  },
  {
   "cell_type": "code",
   "execution_count": 55,
   "metadata": {},
   "outputs": [
    {
     "data": {
      "text/html": [
       "<div>\n",
       "<style scoped>\n",
       "    .dataframe tbody tr th:only-of-type {\n",
       "        vertical-align: middle;\n",
       "    }\n",
       "\n",
       "    .dataframe tbody tr th {\n",
       "        vertical-align: top;\n",
       "    }\n",
       "\n",
       "    .dataframe thead th {\n",
       "        text-align: right;\n",
       "    }\n",
       "</style>\n",
       "<table border=\"1\" class=\"dataframe\">\n",
       "  <thead>\n",
       "    <tr style=\"text-align: right;\">\n",
       "      <th></th>\n",
       "      <th>user_id</th>\n",
       "      <th>action</th>\n",
       "      <th>action_type</th>\n",
       "      <th>action_detail</th>\n",
       "      <th>device_type</th>\n",
       "      <th>secs_elapsed</th>\n",
       "    </tr>\n",
       "  </thead>\n",
       "  <tbody>\n",
       "    <tr>\n",
       "      <th>7639497</th>\n",
       "      <td>radlih4av9</td>\n",
       "      <td>show</td>\n",
       "      <td>view</td>\n",
       "      <td>p3</td>\n",
       "      <td>Windows Desktop</td>\n",
       "      <td>238.0</td>\n",
       "    </tr>\n",
       "    <tr>\n",
       "      <th>7639498</th>\n",
       "      <td>radlih4av9</td>\n",
       "      <td>similar_listings_v2</td>\n",
       "      <td>unknown_action_type-</td>\n",
       "      <td>unknown_action_detail-</td>\n",
       "      <td>Windows Desktop</td>\n",
       "      <td>172.0</td>\n",
       "    </tr>\n",
       "    <tr>\n",
       "      <th>7639499</th>\n",
       "      <td>radlih4av9</td>\n",
       "      <td>ajax_refresh_subtotal</td>\n",
       "      <td>click</td>\n",
       "      <td>change_trip_characteristics</td>\n",
       "      <td>Windows Desktop</td>\n",
       "      <td>32292.0</td>\n",
       "    </tr>\n",
       "    <tr>\n",
       "      <th>7639500</th>\n",
       "      <td>radlih4av9</td>\n",
       "      <td>ajax_lwlb_contact</td>\n",
       "      <td>click</td>\n",
       "      <td>contact_host</td>\n",
       "      <td>Windows Desktop</td>\n",
       "      <td>220129.0</td>\n",
       "    </tr>\n",
       "    <tr>\n",
       "      <th>7639501</th>\n",
       "      <td>radlih4av9</td>\n",
       "      <td>show</td>\n",
       "      <td>view</td>\n",
       "      <td>p3</td>\n",
       "      <td>Windows Desktop</td>\n",
       "      <td>205.0</td>\n",
       "    </tr>\n",
       "    <tr>\n",
       "      <th>7639502</th>\n",
       "      <td>radlih4av9</td>\n",
       "      <td>similar_listings_v2</td>\n",
       "      <td>unknown_action_type-</td>\n",
       "      <td>unknown_action_detail-</td>\n",
       "      <td>Windows Desktop</td>\n",
       "      <td>88.0</td>\n",
       "    </tr>\n",
       "    <tr>\n",
       "      <th>7639503</th>\n",
       "      <td>radlih4av9</td>\n",
       "      <td>ajax_refresh_subtotal</td>\n",
       "      <td>click</td>\n",
       "      <td>change_trip_characteristics</td>\n",
       "      <td>Windows Desktop</td>\n",
       "      <td>549.0</td>\n",
       "    </tr>\n",
       "    <tr>\n",
       "      <th>7639504</th>\n",
       "      <td>radlih4av9</td>\n",
       "      <td>personalize</td>\n",
       "      <td>data</td>\n",
       "      <td>wishlist_content_update</td>\n",
       "      <td>Windows Desktop</td>\n",
       "      <td>19.0</td>\n",
       "    </tr>\n",
       "    <tr>\n",
       "      <th>7639505</th>\n",
       "      <td>radlih4av9</td>\n",
       "      <td>show</td>\n",
       "      <td>unknown_action_type-</td>\n",
       "      <td>unknown_action_detail-</td>\n",
       "      <td>Windows Desktop</td>\n",
       "      <td>2215.0</td>\n",
       "    </tr>\n",
       "    <tr>\n",
       "      <th>7639506</th>\n",
       "      <td>radlih4av9</td>\n",
       "      <td>signup_login</td>\n",
       "      <td>view</td>\n",
       "      <td>signup_login_page</td>\n",
       "      <td>Windows Desktop</td>\n",
       "      <td>331153.0</td>\n",
       "    </tr>\n",
       "    <tr>\n",
       "      <th>7639507</th>\n",
       "      <td>radlih4av9</td>\n",
       "      <td>coupon_code_click</td>\n",
       "      <td>click</td>\n",
       "      <td>coupon_code_click</td>\n",
       "      <td>Windows Desktop</td>\n",
       "      <td>695.0</td>\n",
       "    </tr>\n",
       "    <tr>\n",
       "      <th>7639508</th>\n",
       "      <td>radlih4av9</td>\n",
       "      <td>similar_listings_v2</td>\n",
       "      <td>unknown_action_type-</td>\n",
       "      <td>unknown_action_detail-</td>\n",
       "      <td>Windows Desktop</td>\n",
       "      <td>116.0</td>\n",
       "    </tr>\n",
       "    <tr>\n",
       "      <th>7639509</th>\n",
       "      <td>radlih4av9</td>\n",
       "      <td>ajax_refresh_subtotal</td>\n",
       "      <td>click</td>\n",
       "      <td>change_trip_characteristics</td>\n",
       "      <td>Windows Desktop</td>\n",
       "      <td>31159.0</td>\n",
       "    </tr>\n",
       "    <tr>\n",
       "      <th>7639510</th>\n",
       "      <td>radlih4av9</td>\n",
       "      <td>ajax_check_dates</td>\n",
       "      <td>click</td>\n",
       "      <td>change_contact_host_dates</td>\n",
       "      <td>Windows Desktop</td>\n",
       "      <td>490.0</td>\n",
       "    </tr>\n",
       "    <tr>\n",
       "      <th>7639511</th>\n",
       "      <td>radlih4av9</td>\n",
       "      <td>dashboard</td>\n",
       "      <td>view</td>\n",
       "      <td>dashboard</td>\n",
       "      <td>Windows Desktop</td>\n",
       "      <td>414.0</td>\n",
       "    </tr>\n",
       "    <tr>\n",
       "      <th>7639512</th>\n",
       "      <td>radlih4av9</td>\n",
       "      <td>coupon_code_click</td>\n",
       "      <td>click</td>\n",
       "      <td>coupon_code_click</td>\n",
       "      <td>Windows Desktop</td>\n",
       "      <td>5176.0</td>\n",
       "    </tr>\n",
       "    <tr>\n",
       "      <th>7639513</th>\n",
       "      <td>radlih4av9</td>\n",
       "      <td>read_policy_click</td>\n",
       "      <td>click</td>\n",
       "      <td>read_policy_click</td>\n",
       "      <td>Windows Desktop</td>\n",
       "      <td>496807.0</td>\n",
       "    </tr>\n",
       "    <tr>\n",
       "      <th>7639514</th>\n",
       "      <td>radlih4av9</td>\n",
       "      <td>header_userpic</td>\n",
       "      <td>data</td>\n",
       "      <td>header_userpic</td>\n",
       "      <td>Windows Desktop</td>\n",
       "      <td>2241.0</td>\n",
       "    </tr>\n",
       "    <tr>\n",
       "      <th>7639515</th>\n",
       "      <td>radlih4av9</td>\n",
       "      <td>create</td>\n",
       "      <td>submit</td>\n",
       "      <td>create_user</td>\n",
       "      <td>Windows Desktop</td>\n",
       "      <td>65144.0</td>\n",
       "    </tr>\n",
       "    <tr>\n",
       "      <th>7639516</th>\n",
       "      <td>radlih4av9</td>\n",
       "      <td>impressions</td>\n",
       "      <td>view</td>\n",
       "      <td>p4</td>\n",
       "      <td>Windows Desktop</td>\n",
       "      <td>1146.0</td>\n",
       "    </tr>\n",
       "    <tr>\n",
       "      <th>7639517</th>\n",
       "      <td>radlih4av9</td>\n",
       "      <td>ajax_refresh_subtotal</td>\n",
       "      <td>click</td>\n",
       "      <td>change_trip_characteristics</td>\n",
       "      <td>Windows Desktop</td>\n",
       "      <td>402.0</td>\n",
       "    </tr>\n",
       "    <tr>\n",
       "      <th>7639518</th>\n",
       "      <td>radlih4av9</td>\n",
       "      <td>similar_listings_v2</td>\n",
       "      <td>unknown_action_type-</td>\n",
       "      <td>unknown_action_detail-</td>\n",
       "      <td>Windows Desktop</td>\n",
       "      <td>118.0</td>\n",
       "    </tr>\n",
       "    <tr>\n",
       "      <th>7639519</th>\n",
       "      <td>radlih4av9</td>\n",
       "      <td>personalize</td>\n",
       "      <td>data</td>\n",
       "      <td>wishlist_content_update</td>\n",
       "      <td>Windows Desktop</td>\n",
       "      <td>630.0</td>\n",
       "    </tr>\n",
       "    <tr>\n",
       "      <th>7639520</th>\n",
       "      <td>radlih4av9</td>\n",
       "      <td>show</td>\n",
       "      <td>unknown_action_type-</td>\n",
       "      <td>unknown_action_detail-</td>\n",
       "      <td>Windows Desktop</td>\n",
       "      <td>119.0</td>\n",
       "    </tr>\n",
       "    <tr>\n",
       "      <th>7639521</th>\n",
       "      <td>radlih4av9</td>\n",
       "      <td>ajax_refresh_subtotal</td>\n",
       "      <td>click</td>\n",
       "      <td>change_trip_characteristics</td>\n",
       "      <td>Windows Desktop</td>\n",
       "      <td>510.0</td>\n",
       "    </tr>\n",
       "    <tr>\n",
       "      <th>7639522</th>\n",
       "      <td>radlih4av9</td>\n",
       "      <td>similar_listings_v2</td>\n",
       "      <td>unknown_action_type-</td>\n",
       "      <td>unknown_action_detail-</td>\n",
       "      <td>Windows Desktop</td>\n",
       "      <td>108.0</td>\n",
       "    </tr>\n",
       "    <tr>\n",
       "      <th>7639523</th>\n",
       "      <td>radlih4av9</td>\n",
       "      <td>show</td>\n",
       "      <td>view</td>\n",
       "      <td>p3</td>\n",
       "      <td>Windows Desktop</td>\n",
       "      <td>96.0</td>\n",
       "    </tr>\n",
       "    <tr>\n",
       "      <th>7639524</th>\n",
       "      <td>radlih4av9</td>\n",
       "      <td>ajax_refresh_subtotal</td>\n",
       "      <td>click</td>\n",
       "      <td>change_trip_characteristics</td>\n",
       "      <td>Windows Desktop</td>\n",
       "      <td>92744.0</td>\n",
       "    </tr>\n",
       "    <tr>\n",
       "      <th>7639525</th>\n",
       "      <td>radlih4av9</td>\n",
       "      <td>similar_listings_v2</td>\n",
       "      <td>unknown_action_type-</td>\n",
       "      <td>unknown_action_detail-</td>\n",
       "      <td>Windows Desktop</td>\n",
       "      <td>101.0</td>\n",
       "    </tr>\n",
       "    <tr>\n",
       "      <th>7639526</th>\n",
       "      <td>radlih4av9</td>\n",
       "      <td>confirm_email</td>\n",
       "      <td>click</td>\n",
       "      <td>confirm_email_link</td>\n",
       "      <td>Windows Desktop</td>\n",
       "      <td>323718.0</td>\n",
       "    </tr>\n",
       "    <tr>\n",
       "      <th>7639527</th>\n",
       "      <td>radlih4av9</td>\n",
       "      <td>show</td>\n",
       "      <td>unknown_action_type-</td>\n",
       "      <td>unknown_action_detail-</td>\n",
       "      <td>Windows Desktop</td>\n",
       "      <td>48.0</td>\n",
       "    </tr>\n",
       "    <tr>\n",
       "      <th>7639528</th>\n",
       "      <td>radlih4av9</td>\n",
       "      <td>personalize</td>\n",
       "      <td>data</td>\n",
       "      <td>wishlist_content_update</td>\n",
       "      <td>Windows Desktop</td>\n",
       "      <td>972.0</td>\n",
       "    </tr>\n",
       "    <tr>\n",
       "      <th>7639529</th>\n",
       "      <td>radlih4av9</td>\n",
       "      <td>show</td>\n",
       "      <td>view</td>\n",
       "      <td>p3</td>\n",
       "      <td>Windows Desktop</td>\n",
       "      <td>17697.0</td>\n",
       "    </tr>\n",
       "    <tr>\n",
       "      <th>7639530</th>\n",
       "      <td>radlih4av9</td>\n",
       "      <td>similar_listings_v2</td>\n",
       "      <td>unknown_action_type-</td>\n",
       "      <td>unknown_action_detail-</td>\n",
       "      <td>Windows Desktop</td>\n",
       "      <td>78.0</td>\n",
       "    </tr>\n",
       "    <tr>\n",
       "      <th>7639531</th>\n",
       "      <td>radlih4av9</td>\n",
       "      <td>ajax_refresh_subtotal</td>\n",
       "      <td>click</td>\n",
       "      <td>change_trip_characteristics</td>\n",
       "      <td>Windows Desktop</td>\n",
       "      <td>30546.0</td>\n",
       "    </tr>\n",
       "    <tr>\n",
       "      <th>7639532</th>\n",
       "      <td>radlih4av9</td>\n",
       "      <td>impressions</td>\n",
       "      <td>view</td>\n",
       "      <td>p4</td>\n",
       "      <td>Windows Desktop</td>\n",
       "      <td>682892.0</td>\n",
       "    </tr>\n",
       "    <tr>\n",
       "      <th>7639533</th>\n",
       "      <td>radlih4av9</td>\n",
       "      <td>dashboard</td>\n",
       "      <td>view</td>\n",
       "      <td>dashboard</td>\n",
       "      <td>Windows Desktop</td>\n",
       "      <td>524.0</td>\n",
       "    </tr>\n",
       "    <tr>\n",
       "      <th>7639534</th>\n",
       "      <td>radlih4av9</td>\n",
       "      <td>personalize</td>\n",
       "      <td>data</td>\n",
       "      <td>wishlist_content_update</td>\n",
       "      <td>Windows Desktop</td>\n",
       "      <td>64691.0</td>\n",
       "    </tr>\n",
       "    <tr>\n",
       "      <th>7639535</th>\n",
       "      <td>radlih4av9</td>\n",
       "      <td>show</td>\n",
       "      <td>unknown_action_type-</td>\n",
       "      <td>unknown_action_detail-</td>\n",
       "      <td>Windows Desktop</td>\n",
       "      <td>14.0</td>\n",
       "    </tr>\n",
       "    <tr>\n",
       "      <th>7639536</th>\n",
       "      <td>radlih4av9</td>\n",
       "      <td>ajax_refresh_subtotal</td>\n",
       "      <td>click</td>\n",
       "      <td>change_trip_characteristics</td>\n",
       "      <td>Windows Desktop</td>\n",
       "      <td>776.0</td>\n",
       "    </tr>\n",
       "    <tr>\n",
       "      <th>7639537</th>\n",
       "      <td>radlih4av9</td>\n",
       "      <td>similar_listings_v2</td>\n",
       "      <td>unknown_action_type-</td>\n",
       "      <td>unknown_action_detail-</td>\n",
       "      <td>Windows Desktop</td>\n",
       "      <td>104.0</td>\n",
       "    </tr>\n",
       "  </tbody>\n",
       "</table>\n",
       "</div>"
      ],
      "text/plain": [
       "            user_id                 action           action_type  \\\n",
       "7639497  radlih4av9                   show                  view   \n",
       "7639498  radlih4av9    similar_listings_v2  unknown_action_type-   \n",
       "7639499  radlih4av9  ajax_refresh_subtotal                 click   \n",
       "7639500  radlih4av9      ajax_lwlb_contact                 click   \n",
       "7639501  radlih4av9                   show                  view   \n",
       "7639502  radlih4av9    similar_listings_v2  unknown_action_type-   \n",
       "7639503  radlih4av9  ajax_refresh_subtotal                 click   \n",
       "7639504  radlih4av9            personalize                  data   \n",
       "7639505  radlih4av9                   show  unknown_action_type-   \n",
       "7639506  radlih4av9           signup_login                  view   \n",
       "7639507  radlih4av9      coupon_code_click                 click   \n",
       "7639508  radlih4av9    similar_listings_v2  unknown_action_type-   \n",
       "7639509  radlih4av9  ajax_refresh_subtotal                 click   \n",
       "7639510  radlih4av9       ajax_check_dates                 click   \n",
       "7639511  radlih4av9              dashboard                  view   \n",
       "7639512  radlih4av9      coupon_code_click                 click   \n",
       "7639513  radlih4av9      read_policy_click                 click   \n",
       "7639514  radlih4av9         header_userpic                  data   \n",
       "7639515  radlih4av9                 create                submit   \n",
       "7639516  radlih4av9            impressions                  view   \n",
       "7639517  radlih4av9  ajax_refresh_subtotal                 click   \n",
       "7639518  radlih4av9    similar_listings_v2  unknown_action_type-   \n",
       "7639519  radlih4av9            personalize                  data   \n",
       "7639520  radlih4av9                   show  unknown_action_type-   \n",
       "7639521  radlih4av9  ajax_refresh_subtotal                 click   \n",
       "7639522  radlih4av9    similar_listings_v2  unknown_action_type-   \n",
       "7639523  radlih4av9                   show                  view   \n",
       "7639524  radlih4av9  ajax_refresh_subtotal                 click   \n",
       "7639525  radlih4av9    similar_listings_v2  unknown_action_type-   \n",
       "7639526  radlih4av9          confirm_email                 click   \n",
       "7639527  radlih4av9                   show  unknown_action_type-   \n",
       "7639528  radlih4av9            personalize                  data   \n",
       "7639529  radlih4av9                   show                  view   \n",
       "7639530  radlih4av9    similar_listings_v2  unknown_action_type-   \n",
       "7639531  radlih4av9  ajax_refresh_subtotal                 click   \n",
       "7639532  radlih4av9            impressions                  view   \n",
       "7639533  radlih4av9              dashboard                  view   \n",
       "7639534  radlih4av9            personalize                  data   \n",
       "7639535  radlih4av9                   show  unknown_action_type-   \n",
       "7639536  radlih4av9  ajax_refresh_subtotal                 click   \n",
       "7639537  radlih4av9    similar_listings_v2  unknown_action_type-   \n",
       "\n",
       "                       action_detail      device_type  secs_elapsed  \n",
       "7639497                           p3  Windows Desktop         238.0  \n",
       "7639498       unknown_action_detail-  Windows Desktop         172.0  \n",
       "7639499  change_trip_characteristics  Windows Desktop       32292.0  \n",
       "7639500                 contact_host  Windows Desktop      220129.0  \n",
       "7639501                           p3  Windows Desktop         205.0  \n",
       "7639502       unknown_action_detail-  Windows Desktop          88.0  \n",
       "7639503  change_trip_characteristics  Windows Desktop         549.0  \n",
       "7639504      wishlist_content_update  Windows Desktop          19.0  \n",
       "7639505       unknown_action_detail-  Windows Desktop        2215.0  \n",
       "7639506            signup_login_page  Windows Desktop      331153.0  \n",
       "7639507            coupon_code_click  Windows Desktop         695.0  \n",
       "7639508       unknown_action_detail-  Windows Desktop         116.0  \n",
       "7639509  change_trip_characteristics  Windows Desktop       31159.0  \n",
       "7639510    change_contact_host_dates  Windows Desktop         490.0  \n",
       "7639511                    dashboard  Windows Desktop         414.0  \n",
       "7639512            coupon_code_click  Windows Desktop        5176.0  \n",
       "7639513            read_policy_click  Windows Desktop      496807.0  \n",
       "7639514               header_userpic  Windows Desktop        2241.0  \n",
       "7639515                  create_user  Windows Desktop       65144.0  \n",
       "7639516                           p4  Windows Desktop        1146.0  \n",
       "7639517  change_trip_characteristics  Windows Desktop         402.0  \n",
       "7639518       unknown_action_detail-  Windows Desktop         118.0  \n",
       "7639519      wishlist_content_update  Windows Desktop         630.0  \n",
       "7639520       unknown_action_detail-  Windows Desktop         119.0  \n",
       "7639521  change_trip_characteristics  Windows Desktop         510.0  \n",
       "7639522       unknown_action_detail-  Windows Desktop         108.0  \n",
       "7639523                           p3  Windows Desktop          96.0  \n",
       "7639524  change_trip_characteristics  Windows Desktop       92744.0  \n",
       "7639525       unknown_action_detail-  Windows Desktop         101.0  \n",
       "7639526           confirm_email_link  Windows Desktop      323718.0  \n",
       "7639527       unknown_action_detail-  Windows Desktop          48.0  \n",
       "7639528      wishlist_content_update  Windows Desktop         972.0  \n",
       "7639529                           p3  Windows Desktop       17697.0  \n",
       "7639530       unknown_action_detail-  Windows Desktop          78.0  \n",
       "7639531  change_trip_characteristics  Windows Desktop       30546.0  \n",
       "7639532                           p4  Windows Desktop      682892.0  \n",
       "7639533                    dashboard  Windows Desktop         524.0  \n",
       "7639534      wishlist_content_update  Windows Desktop       64691.0  \n",
       "7639535       unknown_action_detail-  Windows Desktop          14.0  \n",
       "7639536  change_trip_characteristics  Windows Desktop         776.0  \n",
       "7639537       unknown_action_detail-  Windows Desktop         104.0  "
      ]
     },
     "execution_count": 55,
     "metadata": {},
     "output_type": "execute_result"
    }
   ],
   "source": [
    "test_df = sessions_df[ sessions_df['user_id']=='radlih4av9']\n",
    "test_df"
   ]
  },
  {
   "cell_type": "code",
   "execution_count": 56,
   "metadata": {},
   "outputs": [
    {
     "data": {
      "text/plain": [
       "user_id\n",
       "p86b3i7qsl     21\n",
       "52r548ubvq     54\n",
       "cptf0rrrhk    142\n",
       "d3rz0h6aiu     46\n",
       "qa2ode67pf     65\n",
       "e4d6ojxcb6      1\n",
       "e8pv6baqwq    127\n",
       "ognpuntb2p     32\n",
       "4reodb6xiz      5\n",
       "65ft8k9c82     11\n",
       "Name: action, dtype: int64"
      ]
     },
     "execution_count": 56,
     "metadata": {},
     "output_type": "execute_result"
    }
   ],
   "source": [
    "sessions_number_by_user = sessions_df.groupby('user_id')['action'].count()\n",
    "sessions_number_by_user.sample(10)"
   ]
  },
  {
   "cell_type": "code",
   "execution_count": 57,
   "metadata": {},
   "outputs": [
    {
     "name": "stdout",
     "output_type": "stream",
     "text": [
      "135483\n"
     ]
    },
    {
     "data": {
      "text/plain": [
       "user_id\n",
       "no7twtnqzp    1581482.0\n",
       "22alrwt3lu    5249751.0\n",
       "66bt9nse53      28930.0\n",
       "lkuf828xhl     534183.0\n",
       "ezkkiifvro    3401146.0\n",
       "71ec10pka8    1969755.0\n",
       "ctwmd5ipgp     621844.0\n",
       "sb25toqf15    4209927.0\n",
       "y9pjuvzts2     571379.0\n",
       "vtouhzg7rt    2374858.0\n",
       "Name: secs_elapsed, dtype: float64"
      ]
     },
     "execution_count": 57,
     "metadata": {},
     "output_type": "execute_result"
    }
   ],
   "source": [
    "sessions_total_secs_by_user = sessions_df.groupby('user_id')['secs_elapsed'].sum()\n",
    "print(len(sessions_total_secs_by_user))\n",
    "sessions_total_secs_by_user.sample(10)"
   ]
  },
  {
   "cell_type": "code",
   "execution_count": 58,
   "metadata": {},
   "outputs": [
    {
     "data": {
      "text/html": [
       "<div>\n",
       "<style scoped>\n",
       "    .dataframe tbody tr th:only-of-type {\n",
       "        vertical-align: middle;\n",
       "    }\n",
       "\n",
       "    .dataframe tbody tr th {\n",
       "        vertical-align: top;\n",
       "    }\n",
       "\n",
       "    .dataframe thead th {\n",
       "        text-align: right;\n",
       "    }\n",
       "</style>\n",
       "<table border=\"1\" class=\"dataframe\">\n",
       "  <thead>\n",
       "    <tr style=\"text-align: right;\">\n",
       "      <th></th>\n",
       "      <th>user_id</th>\n",
       "      <th>total_secs_elapsed</th>\n",
       "    </tr>\n",
       "  </thead>\n",
       "  <tbody>\n",
       "    <tr>\n",
       "      <th>72954</th>\n",
       "      <td>jcrj4bptl6</td>\n",
       "      <td>1438302.0</td>\n",
       "    </tr>\n",
       "    <tr>\n",
       "      <th>2072</th>\n",
       "      <td>0jfh1dm2zf</td>\n",
       "      <td>1146.0</td>\n",
       "    </tr>\n",
       "    <tr>\n",
       "      <th>99284</th>\n",
       "      <td>qccoso9g5g</td>\n",
       "      <td>1590312.0</td>\n",
       "    </tr>\n",
       "  </tbody>\n",
       "</table>\n",
       "</div>"
      ],
      "text/plain": [
       "          user_id  total_secs_elapsed\n",
       "72954  jcrj4bptl6           1438302.0\n",
       "2072   0jfh1dm2zf              1146.0\n",
       "99284  qccoso9g5g           1590312.0"
      ]
     },
     "execution_count": 58,
     "metadata": {},
     "output_type": "execute_result"
    }
   ],
   "source": [
    "sessions_total_secs_by_user_df = sessions_total_secs_by_user.to_frame(name='total_secs_elapsed').reset_index()\n",
    "sessions_total_secs_by_user_df.sample(3)"
   ]
  },
  {
   "cell_type": "code",
   "execution_count": 59,
   "metadata": {},
   "outputs": [
    {
     "data": {
      "text/plain": [
       "121070"
      ]
     },
     "execution_count": 59,
     "metadata": {},
     "output_type": "execute_result"
    }
   ],
   "source": [
    "len(train_users_df)"
   ]
  },
  {
   "cell_type": "code",
   "execution_count": 68,
   "metadata": {},
   "outputs": [],
   "source": [
    "merged = pd.merge( train_users_df, sessions_total_secs_by_user_df, left_on='id', right_on='user_id', \n",
    "                  validate='one_to_many',how='left' )"
   ]
  },
  {
   "cell_type": "code",
   "execution_count": 69,
   "metadata": {},
   "outputs": [
    {
     "data": {
      "text/html": [
       "<div>\n",
       "<style scoped>\n",
       "    .dataframe tbody tr th:only-of-type {\n",
       "        vertical-align: middle;\n",
       "    }\n",
       "\n",
       "    .dataframe tbody tr th {\n",
       "        vertical-align: top;\n",
       "    }\n",
       "\n",
       "    .dataframe thead th {\n",
       "        text-align: right;\n",
       "    }\n",
       "</style>\n",
       "<table border=\"1\" class=\"dataframe\">\n",
       "  <thead>\n",
       "    <tr style=\"text-align: right;\">\n",
       "      <th></th>\n",
       "      <th>id</th>\n",
       "      <th>date_account_created</th>\n",
       "      <th>timestamp_first_active</th>\n",
       "      <th>date_first_booking</th>\n",
       "      <th>gender</th>\n",
       "      <th>age</th>\n",
       "      <th>signup_method</th>\n",
       "      <th>signup_flow</th>\n",
       "      <th>language</th>\n",
       "      <th>affiliate_channel</th>\n",
       "      <th>affiliate_provider</th>\n",
       "      <th>first_affiliate_tracked</th>\n",
       "      <th>signup_app</th>\n",
       "      <th>first_device_type</th>\n",
       "      <th>first_browser</th>\n",
       "      <th>country_destination</th>\n",
       "      <th>user_id</th>\n",
       "      <th>total_secs_elapsed</th>\n",
       "    </tr>\n",
       "  </thead>\n",
       "  <tbody>\n",
       "    <tr>\n",
       "      <th>42275</th>\n",
       "      <td>mp1h86two4</td>\n",
       "      <td>2013-04-09</td>\n",
       "      <td>20130409101847</td>\n",
       "      <td>NaN</td>\n",
       "      <td>MALE</td>\n",
       "      <td>33.0</td>\n",
       "      <td>facebook</td>\n",
       "      <td>0</td>\n",
       "      <td>en</td>\n",
       "      <td>direct</td>\n",
       "      <td>direct</td>\n",
       "      <td>untracked</td>\n",
       "      <td>Web</td>\n",
       "      <td>Windows Desktop</td>\n",
       "      <td>Firefox</td>\n",
       "      <td>NDF</td>\n",
       "      <td>NaN</td>\n",
       "      <td>NaN</td>\n",
       "    </tr>\n",
       "    <tr>\n",
       "      <th>38484</th>\n",
       "      <td>zcejcvfzuo</td>\n",
       "      <td>2013-03-04</td>\n",
       "      <td>20130304055822</td>\n",
       "      <td>2013-03-08</td>\n",
       "      <td>FEMALE</td>\n",
       "      <td>53.0</td>\n",
       "      <td>facebook</td>\n",
       "      <td>0</td>\n",
       "      <td>en</td>\n",
       "      <td>direct</td>\n",
       "      <td>direct</td>\n",
       "      <td>untracked</td>\n",
       "      <td>Web</td>\n",
       "      <td>Mac Desktop</td>\n",
       "      <td>Firefox</td>\n",
       "      <td>US</td>\n",
       "      <td>NaN</td>\n",
       "      <td>NaN</td>\n",
       "    </tr>\n",
       "    <tr>\n",
       "      <th>19829</th>\n",
       "      <td>0sv4jvq8ie</td>\n",
       "      <td>2012-07-23</td>\n",
       "      <td>20120723044545</td>\n",
       "      <td>2012-08-28</td>\n",
       "      <td>MALE</td>\n",
       "      <td>44.0</td>\n",
       "      <td>facebook</td>\n",
       "      <td>0</td>\n",
       "      <td>en</td>\n",
       "      <td>seo</td>\n",
       "      <td>google</td>\n",
       "      <td>untracked</td>\n",
       "      <td>Web</td>\n",
       "      <td>Windows Desktop</td>\n",
       "      <td>Chrome</td>\n",
       "      <td>ES</td>\n",
       "      <td>NaN</td>\n",
       "      <td>NaN</td>\n",
       "    </tr>\n",
       "    <tr>\n",
       "      <th>56399</th>\n",
       "      <td>kmr4otacxl</td>\n",
       "      <td>2013-07-22</td>\n",
       "      <td>20130722213828</td>\n",
       "      <td>2014-07-03</td>\n",
       "      <td>FEMALE</td>\n",
       "      <td>57.0</td>\n",
       "      <td>facebook</td>\n",
       "      <td>0</td>\n",
       "      <td>en</td>\n",
       "      <td>remarketing</td>\n",
       "      <td>google</td>\n",
       "      <td>omg</td>\n",
       "      <td>Web</td>\n",
       "      <td>iPad</td>\n",
       "      <td>Mobile Safari</td>\n",
       "      <td>US</td>\n",
       "      <td>NaN</td>\n",
       "      <td>NaN</td>\n",
       "    </tr>\n",
       "    <tr>\n",
       "      <th>17167</th>\n",
       "      <td>3pcq7iohat</td>\n",
       "      <td>2012-06-21</td>\n",
       "      <td>20120621200751</td>\n",
       "      <td>NaN</td>\n",
       "      <td>MALE</td>\n",
       "      <td>34.0</td>\n",
       "      <td>facebook</td>\n",
       "      <td>0</td>\n",
       "      <td>en</td>\n",
       "      <td>direct</td>\n",
       "      <td>direct</td>\n",
       "      <td>untracked</td>\n",
       "      <td>Web</td>\n",
       "      <td>Mac Desktop</td>\n",
       "      <td>Safari</td>\n",
       "      <td>NDF</td>\n",
       "      <td>NaN</td>\n",
       "      <td>NaN</td>\n",
       "    </tr>\n",
       "    <tr>\n",
       "      <th>21197</th>\n",
       "      <td>8cdpzxuqpo</td>\n",
       "      <td>2012-08-08</td>\n",
       "      <td>20120808002649</td>\n",
       "      <td>2012-08-22</td>\n",
       "      <td>OTHER</td>\n",
       "      <td>38.0</td>\n",
       "      <td>basic</td>\n",
       "      <td>0</td>\n",
       "      <td>en</td>\n",
       "      <td>direct</td>\n",
       "      <td>direct</td>\n",
       "      <td>omg</td>\n",
       "      <td>Web</td>\n",
       "      <td>iPad</td>\n",
       "      <td>Mobile Safari</td>\n",
       "      <td>FR</td>\n",
       "      <td>NaN</td>\n",
       "      <td>NaN</td>\n",
       "    </tr>\n",
       "    <tr>\n",
       "      <th>82251</th>\n",
       "      <td>hvxxr8lgbs</td>\n",
       "      <td>2014-01-15</td>\n",
       "      <td>20140115025503</td>\n",
       "      <td>2014-01-15</td>\n",
       "      <td>MALE</td>\n",
       "      <td>26.0</td>\n",
       "      <td>basic</td>\n",
       "      <td>0</td>\n",
       "      <td>en</td>\n",
       "      <td>direct</td>\n",
       "      <td>direct</td>\n",
       "      <td>linked</td>\n",
       "      <td>Web</td>\n",
       "      <td>Mac Desktop</td>\n",
       "      <td>Safari</td>\n",
       "      <td>US</td>\n",
       "      <td>hvxxr8lgbs</td>\n",
       "      <td>1965844.0</td>\n",
       "    </tr>\n",
       "    <tr>\n",
       "      <th>6081</th>\n",
       "      <td>7hld4706n2</td>\n",
       "      <td>2011-10-20</td>\n",
       "      <td>20111020002342</td>\n",
       "      <td>NaN</td>\n",
       "      <td>FEMALE</td>\n",
       "      <td>30.0</td>\n",
       "      <td>facebook</td>\n",
       "      <td>2</td>\n",
       "      <td>en</td>\n",
       "      <td>sem-non-brand</td>\n",
       "      <td>google</td>\n",
       "      <td>untracked</td>\n",
       "      <td>Web</td>\n",
       "      <td>Android Tablet</td>\n",
       "      <td>IE</td>\n",
       "      <td>NDF</td>\n",
       "      <td>NaN</td>\n",
       "      <td>NaN</td>\n",
       "    </tr>\n",
       "    <tr>\n",
       "      <th>4762</th>\n",
       "      <td>zlc6hjksz6</td>\n",
       "      <td>2011-09-13</td>\n",
       "      <td>20110913022231</td>\n",
       "      <td>2012-05-15</td>\n",
       "      <td>OTHER</td>\n",
       "      <td>38.0</td>\n",
       "      <td>basic</td>\n",
       "      <td>3</td>\n",
       "      <td>en</td>\n",
       "      <td>direct</td>\n",
       "      <td>direct</td>\n",
       "      <td>linked</td>\n",
       "      <td>Web</td>\n",
       "      <td>iPhone</td>\n",
       "      <td>Mobile Safari</td>\n",
       "      <td>US</td>\n",
       "      <td>NaN</td>\n",
       "      <td>NaN</td>\n",
       "    </tr>\n",
       "    <tr>\n",
       "      <th>63054</th>\n",
       "      <td>vanhpkynvf</td>\n",
       "      <td>2013-09-07</td>\n",
       "      <td>20130907042317</td>\n",
       "      <td>2013-09-12</td>\n",
       "      <td>MALE</td>\n",
       "      <td>48.0</td>\n",
       "      <td>basic</td>\n",
       "      <td>0</td>\n",
       "      <td>en</td>\n",
       "      <td>other</td>\n",
       "      <td>other</td>\n",
       "      <td>tracked-other</td>\n",
       "      <td>Web</td>\n",
       "      <td>Mac Desktop</td>\n",
       "      <td>Chrome</td>\n",
       "      <td>US</td>\n",
       "      <td>NaN</td>\n",
       "      <td>NaN</td>\n",
       "    </tr>\n",
       "  </tbody>\n",
       "</table>\n",
       "</div>"
      ],
      "text/plain": [
       "               id date_account_created  timestamp_first_active  \\\n",
       "42275  mp1h86two4           2013-04-09          20130409101847   \n",
       "38484  zcejcvfzuo           2013-03-04          20130304055822   \n",
       "19829  0sv4jvq8ie           2012-07-23          20120723044545   \n",
       "56399  kmr4otacxl           2013-07-22          20130722213828   \n",
       "17167  3pcq7iohat           2012-06-21          20120621200751   \n",
       "21197  8cdpzxuqpo           2012-08-08          20120808002649   \n",
       "82251  hvxxr8lgbs           2014-01-15          20140115025503   \n",
       "6081   7hld4706n2           2011-10-20          20111020002342   \n",
       "4762   zlc6hjksz6           2011-09-13          20110913022231   \n",
       "63054  vanhpkynvf           2013-09-07          20130907042317   \n",
       "\n",
       "      date_first_booking  gender   age signup_method  signup_flow language  \\\n",
       "42275                NaN    MALE  33.0      facebook            0       en   \n",
       "38484         2013-03-08  FEMALE  53.0      facebook            0       en   \n",
       "19829         2012-08-28    MALE  44.0      facebook            0       en   \n",
       "56399         2014-07-03  FEMALE  57.0      facebook            0       en   \n",
       "17167                NaN    MALE  34.0      facebook            0       en   \n",
       "21197         2012-08-22   OTHER  38.0         basic            0       en   \n",
       "82251         2014-01-15    MALE  26.0         basic            0       en   \n",
       "6081                 NaN  FEMALE  30.0      facebook            2       en   \n",
       "4762          2012-05-15   OTHER  38.0         basic            3       en   \n",
       "63054         2013-09-12    MALE  48.0         basic            0       en   \n",
       "\n",
       "      affiliate_channel affiliate_provider first_affiliate_tracked signup_app  \\\n",
       "42275            direct             direct               untracked        Web   \n",
       "38484            direct             direct               untracked        Web   \n",
       "19829               seo             google               untracked        Web   \n",
       "56399       remarketing             google                     omg        Web   \n",
       "17167            direct             direct               untracked        Web   \n",
       "21197            direct             direct                     omg        Web   \n",
       "82251            direct             direct                  linked        Web   \n",
       "6081      sem-non-brand             google               untracked        Web   \n",
       "4762             direct             direct                  linked        Web   \n",
       "63054             other              other           tracked-other        Web   \n",
       "\n",
       "      first_device_type  first_browser country_destination     user_id  \\\n",
       "42275   Windows Desktop        Firefox                 NDF         NaN   \n",
       "38484       Mac Desktop        Firefox                  US         NaN   \n",
       "19829   Windows Desktop         Chrome                  ES         NaN   \n",
       "56399              iPad  Mobile Safari                  US         NaN   \n",
       "17167       Mac Desktop         Safari                 NDF         NaN   \n",
       "21197              iPad  Mobile Safari                  FR         NaN   \n",
       "82251       Mac Desktop         Safari                  US  hvxxr8lgbs   \n",
       "6081     Android Tablet             IE                 NDF         NaN   \n",
       "4762             iPhone  Mobile Safari                  US         NaN   \n",
       "63054       Mac Desktop         Chrome                  US         NaN   \n",
       "\n",
       "       total_secs_elapsed  \n",
       "42275                 NaN  \n",
       "38484                 NaN  \n",
       "19829                 NaN  \n",
       "56399                 NaN  \n",
       "17167                 NaN  \n",
       "21197                 NaN  \n",
       "82251           1965844.0  \n",
       "6081                  NaN  \n",
       "4762                  NaN  \n",
       "63054                 NaN  "
      ]
     },
     "execution_count": 69,
     "metadata": {},
     "output_type": "execute_result"
    }
   ],
   "source": [
    "merged.sample(10)"
   ]
  },
  {
   "cell_type": "code",
   "execution_count": 70,
   "metadata": {},
   "outputs": [
    {
     "name": "stdout",
     "output_type": "stream",
     "text": [
      "121070\n",
      "121070\n"
     ]
    }
   ],
   "source": [
    "print(len(train_users_df) )\n",
    "print (len(merged))"
   ]
  },
  {
   "cell_type": "code",
   "execution_count": null,
   "metadata": {},
   "outputs": [],
   "source": []
  }
 ],
 "metadata": {
  "kernelspec": {
   "display_name": "Python 3",
   "language": "python",
   "name": "python3"
  },
  "language_info": {
   "codemirror_mode": {
    "name": "ipython",
    "version": 3
   },
   "file_extension": ".py",
   "mimetype": "text/x-python",
   "name": "python",
   "nbconvert_exporter": "python",
   "pygments_lexer": "ipython3",
   "version": "3.7.1"
  }
 },
 "nbformat": 4,
 "nbformat_minor": 4
}
