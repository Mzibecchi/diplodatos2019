{
 "cells": [
  {
   "cell_type": "markdown",
   "metadata": {},
   "source": [
    "# Laboratorio: Aprendizaje Supervisado"
   ]
  },
  {
   "cell_type": "markdown",
   "metadata": {},
   "source": [
    "## ¿A dónde realizan su primera reserva los nuevos usuarios de Airbnb?\n",
    "\n",
    "Durante este práctico vamos a trabajar con todos los datos provistos por [Airbnb New User Bookings](https://www.kaggle.com/c/airbnb-recruiting-new-user-bookings/data) en Kaggle.\n",
    "\n",
    "## Objetivo y alcance:\n",
    "\n",
    "En este laboratorio vamos a aplicar todo lo aprendido en las materias previas y lo vamos a complementar con lo aprendido en la materia de __Aprendizaje Supervisado__. La idea principal es poder armar una notebook completa, partiendo desde el preprocesamiento y curación de los datos, hasta la elección final de un modelo y su posterior testeo.\n",
    "\n",
    "Tal vez este laboratorio sea un poco más extenso que los anteriores, pero eso se debe a que estamos uniendo las diferentes *piezas* de un proyecto de aprendizaje supervisado.\n",
    "\n",
    "## Estructura del informe:\n",
    "\n",
    "  * Jupyter Notebook con el análisis realizado.\n",
    "  \n",
    "---"
   ]
  },
  {
   "cell_type": "markdown",
   "metadata": {},
   "source": [
    "## Introducción:"
   ]
  },
  {
   "cell_type": "markdown",
   "metadata": {},
   "source": [
    "En el presente laboratorio, vamos a tomar como referencia el siguiente [Notebook Ejemplo](https://www.kaggle.com/malgoro39/predicci-n-de-destinos-airbnb). En dicho notebook, el autor realiza un análisis exhaustivo y además explica de una manera muy didáctica las decisiónes tomadas y los conceptos teóricos involucrados. \n",
    "\n",
    "Tratemos de imitar y mejorar el trabajo realizado :)"
   ]
  },
  {
   "cell_type": "markdown",
   "metadata": {},
   "source": [
    "En este caso, vamos a trabajar con todos los datos originales de __Airbnb__:\n",
    "* __ager_gender_bkts.csv__\n",
    "* __countries.csv__\n",
    "* __sessions.csv__\n",
    "* __test_users.csv__ / __test_users_2.csv__\n",
    "\n",
    "Por una cuestión de tamaño de los datasets, éstos se encuentran comprimidos en el archivo __/Datos/original_data.zip__. Además la notebook de ejemplo se encuentra en __/Notebooks/Ejemplos/Ejemplo_Laboratorio_Supervisado.ipynb__."
   ]
  },
  {
   "cell_type": "markdown",
   "metadata": {},
   "source": [
    "## Tareas:"
   ]
  },
  {
   "cell_type": "markdown",
   "metadata": {},
   "source": [
    "1. __Análisis y Visualización de datos__: Realizar un breve análisis de los datasets antes mencionados.\n",
    "2. __Curación de datos__: Realizar la correspondiente curación de los mismos.\n",
    "3. __Feature Engineering__: Tomando como ejemplo la notebook antes mencionada aplicar un poco de ingeniería de features, por ejemplo: generar nuevos features, mergear datasets, etc.\n",
    "4. __Selección de un modelo de Aprendizaje Supervisado__: Aplicar distintos modelos de aprendizaje supervisado al dataset generado en el punto anterior.\n",
    "5. __Ajuste de hiperparámetros__: Realizar una búsqueda de hiperparámetros que permitan mejorar la clasificación de los modelos escogidos.\n",
    "6. __Testing de precisión__: Medir la precisión de cada uno de tus modelos (con datos no conocidos).\n",
    "7. __¿Qué modelo generó los mejores resultados?__"
   ]
  },
  {
   "cell_type": "markdown",
   "metadata": {},
   "source": [
    "## 1. Análisis y Visualización de datos"
   ]
  },
  {
   "cell_type": "code",
   "execution_count": 1,
   "metadata": {},
   "outputs": [],
   "source": [
    "import pandas as pd\n",
    "import warnings\n",
    "import numpy as np\n",
    "import matplotlib.pyplot as plt\n",
    "import seaborn as sns\n",
    "\n",
    "warnings.filterwarnings('ignore')"
   ]
  },
  {
   "cell_type": "code",
   "execution_count": 2,
   "metadata": {},
   "outputs": [],
   "source": [
    "dataset_path = \"..//datos//\""
   ]
  },
  {
   "cell_type": "markdown",
   "metadata": {},
   "source": [
    "### Countries"
   ]
  },
  {
   "cell_type": "code",
   "execution_count": 3,
   "metadata": {},
   "outputs": [
    {
     "data": {
      "text/html": [
       "<div>\n",
       "<style scoped>\n",
       "    .dataframe tbody tr th:only-of-type {\n",
       "        vertical-align: middle;\n",
       "    }\n",
       "\n",
       "    .dataframe tbody tr th {\n",
       "        vertical-align: top;\n",
       "    }\n",
       "\n",
       "    .dataframe thead th {\n",
       "        text-align: right;\n",
       "    }\n",
       "</style>\n",
       "<table border=\"1\" class=\"dataframe\">\n",
       "  <thead>\n",
       "    <tr style=\"text-align: right;\">\n",
       "      <th></th>\n",
       "      <th>lat_destination</th>\n",
       "      <th>lng_destination</th>\n",
       "      <th>distance_km</th>\n",
       "      <th>destination_km2</th>\n",
       "      <th>language_levenshtein_distance</th>\n",
       "    </tr>\n",
       "  </thead>\n",
       "  <tbody>\n",
       "    <tr>\n",
       "      <th>count</th>\n",
       "      <td>10.000000</td>\n",
       "      <td>10.000000</td>\n",
       "      <td>10.000000</td>\n",
       "      <td>1.000000e+01</td>\n",
       "      <td>10.00000</td>\n",
       "    </tr>\n",
       "    <tr>\n",
       "      <th>mean</th>\n",
       "      <td>39.799398</td>\n",
       "      <td>-4.262446</td>\n",
       "      <td>7181.897800</td>\n",
       "      <td>2.973734e+06</td>\n",
       "      <td>50.49900</td>\n",
       "    </tr>\n",
       "    <tr>\n",
       "      <th>std</th>\n",
       "      <td>24.739112</td>\n",
       "      <td>63.700585</td>\n",
       "      <td>3941.141734</td>\n",
       "      <td>4.329619e+06</td>\n",
       "      <td>44.54169</td>\n",
       "    </tr>\n",
       "    <tr>\n",
       "      <th>min</th>\n",
       "      <td>-26.853388</td>\n",
       "      <td>-96.818146</td>\n",
       "      <td>0.000000</td>\n",
       "      <td>4.154300e+04</td>\n",
       "      <td>0.00000</td>\n",
       "    </tr>\n",
       "    <tr>\n",
       "      <th>25%</th>\n",
       "      <td>39.639090</td>\n",
       "      <td>-6.737559</td>\n",
       "      <td>7001.557600</td>\n",
       "      <td>2.580425e+05</td>\n",
       "      <td>0.00000</td>\n",
       "    </tr>\n",
       "    <tr>\n",
       "      <th>50%</th>\n",
       "      <td>44.053092</td>\n",
       "      <td>-0.139014</td>\n",
       "      <td>7603.632650</td>\n",
       "      <td>4.311960e+05</td>\n",
       "      <td>67.91500</td>\n",
       "    </tr>\n",
       "    <tr>\n",
       "      <th>75%</th>\n",
       "      <td>51.891219</td>\n",
       "      <td>9.163386</td>\n",
       "      <td>7842.357000</td>\n",
       "      <td>5.966865e+06</td>\n",
       "      <td>91.39500</td>\n",
       "    </tr>\n",
       "    <tr>\n",
       "      <th>max</th>\n",
       "      <td>62.393303</td>\n",
       "      <td>133.275160</td>\n",
       "      <td>15297.744000</td>\n",
       "      <td>9.984670e+06</td>\n",
       "      <td>95.45000</td>\n",
       "    </tr>\n",
       "  </tbody>\n",
       "</table>\n",
       "</div>"
      ],
      "text/plain": [
       "       lat_destination  lng_destination   distance_km  destination_km2  \\\n",
       "count        10.000000        10.000000     10.000000     1.000000e+01   \n",
       "mean         39.799398        -4.262446   7181.897800     2.973734e+06   \n",
       "std          24.739112        63.700585   3941.141734     4.329619e+06   \n",
       "min         -26.853388       -96.818146      0.000000     4.154300e+04   \n",
       "25%          39.639090        -6.737559   7001.557600     2.580425e+05   \n",
       "50%          44.053092        -0.139014   7603.632650     4.311960e+05   \n",
       "75%          51.891219         9.163386   7842.357000     5.966865e+06   \n",
       "max          62.393303       133.275160  15297.744000     9.984670e+06   \n",
       "\n",
       "       language_levenshtein_distance  \n",
       "count                       10.00000  \n",
       "mean                        50.49900  \n",
       "std                         44.54169  \n",
       "min                          0.00000  \n",
       "25%                          0.00000  \n",
       "50%                         67.91500  \n",
       "75%                         91.39500  \n",
       "max                         95.45000  "
      ]
     },
     "execution_count": 3,
     "metadata": {},
     "output_type": "execute_result"
    }
   ],
   "source": [
    "countries_df = pd.read_csv(dataset_path+\"countries.csv\") \n",
    "countries_df.describe()"
   ]
  },
  {
   "cell_type": "code",
   "execution_count": 4,
   "metadata": {},
   "outputs": [
    {
     "data": {
      "text/html": [
       "<div>\n",
       "<style scoped>\n",
       "    .dataframe tbody tr th:only-of-type {\n",
       "        vertical-align: middle;\n",
       "    }\n",
       "\n",
       "    .dataframe tbody tr th {\n",
       "        vertical-align: top;\n",
       "    }\n",
       "\n",
       "    .dataframe thead th {\n",
       "        text-align: right;\n",
       "    }\n",
       "</style>\n",
       "<table border=\"1\" class=\"dataframe\">\n",
       "  <thead>\n",
       "    <tr style=\"text-align: right;\">\n",
       "      <th></th>\n",
       "      <th>country_destination</th>\n",
       "      <th>lat_destination</th>\n",
       "      <th>lng_destination</th>\n",
       "      <th>distance_km</th>\n",
       "      <th>destination_km2</th>\n",
       "      <th>destination_language</th>\n",
       "      <th>language_levenshtein_distance</th>\n",
       "    </tr>\n",
       "  </thead>\n",
       "  <tbody>\n",
       "    <tr>\n",
       "      <th>0</th>\n",
       "      <td>AU</td>\n",
       "      <td>-26.853388</td>\n",
       "      <td>133.275160</td>\n",
       "      <td>15297.7440</td>\n",
       "      <td>7741220.0</td>\n",
       "      <td>eng</td>\n",
       "      <td>0.00</td>\n",
       "    </tr>\n",
       "    <tr>\n",
       "      <th>1</th>\n",
       "      <td>CA</td>\n",
       "      <td>62.393303</td>\n",
       "      <td>-96.818146</td>\n",
       "      <td>2828.1333</td>\n",
       "      <td>9984670.0</td>\n",
       "      <td>eng</td>\n",
       "      <td>0.00</td>\n",
       "    </tr>\n",
       "    <tr>\n",
       "      <th>2</th>\n",
       "      <td>DE</td>\n",
       "      <td>51.165707</td>\n",
       "      <td>10.452764</td>\n",
       "      <td>7879.5680</td>\n",
       "      <td>357022.0</td>\n",
       "      <td>deu</td>\n",
       "      <td>72.61</td>\n",
       "    </tr>\n",
       "    <tr>\n",
       "      <th>3</th>\n",
       "      <td>ES</td>\n",
       "      <td>39.896027</td>\n",
       "      <td>-2.487694</td>\n",
       "      <td>7730.7240</td>\n",
       "      <td>505370.0</td>\n",
       "      <td>spa</td>\n",
       "      <td>92.25</td>\n",
       "    </tr>\n",
       "    <tr>\n",
       "      <th>4</th>\n",
       "      <td>FR</td>\n",
       "      <td>46.232193</td>\n",
       "      <td>2.209667</td>\n",
       "      <td>7682.9450</td>\n",
       "      <td>643801.0</td>\n",
       "      <td>fra</td>\n",
       "      <td>92.06</td>\n",
       "    </tr>\n",
       "    <tr>\n",
       "      <th>5</th>\n",
       "      <td>GB</td>\n",
       "      <td>54.633220</td>\n",
       "      <td>-3.432277</td>\n",
       "      <td>6883.6590</td>\n",
       "      <td>243610.0</td>\n",
       "      <td>eng</td>\n",
       "      <td>0.00</td>\n",
       "    </tr>\n",
       "    <tr>\n",
       "      <th>6</th>\n",
       "      <td>IT</td>\n",
       "      <td>41.873990</td>\n",
       "      <td>12.564167</td>\n",
       "      <td>8636.6310</td>\n",
       "      <td>301340.0</td>\n",
       "      <td>ita</td>\n",
       "      <td>89.40</td>\n",
       "    </tr>\n",
       "    <tr>\n",
       "      <th>7</th>\n",
       "      <td>NL</td>\n",
       "      <td>52.133057</td>\n",
       "      <td>5.295250</td>\n",
       "      <td>7524.3203</td>\n",
       "      <td>41543.0</td>\n",
       "      <td>nld</td>\n",
       "      <td>63.22</td>\n",
       "    </tr>\n",
       "    <tr>\n",
       "      <th>8</th>\n",
       "      <td>PT</td>\n",
       "      <td>39.553444</td>\n",
       "      <td>-7.839319</td>\n",
       "      <td>7355.2534</td>\n",
       "      <td>92090.0</td>\n",
       "      <td>por</td>\n",
       "      <td>95.45</td>\n",
       "    </tr>\n",
       "    <tr>\n",
       "      <th>9</th>\n",
       "      <td>US</td>\n",
       "      <td>36.966427</td>\n",
       "      <td>-95.844030</td>\n",
       "      <td>0.0000</td>\n",
       "      <td>9826675.0</td>\n",
       "      <td>eng</td>\n",
       "      <td>0.00</td>\n",
       "    </tr>\n",
       "  </tbody>\n",
       "</table>\n",
       "</div>"
      ],
      "text/plain": [
       "  country_destination  lat_destination  lng_destination  distance_km  \\\n",
       "0                  AU       -26.853388       133.275160   15297.7440   \n",
       "1                  CA        62.393303       -96.818146    2828.1333   \n",
       "2                  DE        51.165707        10.452764    7879.5680   \n",
       "3                  ES        39.896027        -2.487694    7730.7240   \n",
       "4                  FR        46.232193         2.209667    7682.9450   \n",
       "5                  GB        54.633220        -3.432277    6883.6590   \n",
       "6                  IT        41.873990        12.564167    8636.6310   \n",
       "7                  NL        52.133057         5.295250    7524.3203   \n",
       "8                  PT        39.553444        -7.839319    7355.2534   \n",
       "9                  US        36.966427       -95.844030       0.0000   \n",
       "\n",
       "   destination_km2 destination_language   language_levenshtein_distance  \n",
       "0        7741220.0                   eng                           0.00  \n",
       "1        9984670.0                   eng                           0.00  \n",
       "2         357022.0                   deu                          72.61  \n",
       "3         505370.0                   spa                          92.25  \n",
       "4         643801.0                   fra                          92.06  \n",
       "5         243610.0                   eng                           0.00  \n",
       "6         301340.0                   ita                          89.40  \n",
       "7          41543.0                   nld                          63.22  \n",
       "8          92090.0                   por                          95.45  \n",
       "9        9826675.0                   eng                           0.00  "
      ]
     },
     "execution_count": 4,
     "metadata": {},
     "output_type": "execute_result"
    }
   ],
   "source": [
    "countries_df"
   ]
  },
  {
   "cell_type": "markdown",
   "metadata": {},
   "source": [
    "### Sessions"
   ]
  },
  {
   "cell_type": "code",
   "execution_count": 5,
   "metadata": {},
   "outputs": [
    {
     "data": {
      "text/html": [
       "<div>\n",
       "<style scoped>\n",
       "    .dataframe tbody tr th:only-of-type {\n",
       "        vertical-align: middle;\n",
       "    }\n",
       "\n",
       "    .dataframe tbody tr th {\n",
       "        vertical-align: top;\n",
       "    }\n",
       "\n",
       "    .dataframe thead th {\n",
       "        text-align: right;\n",
       "    }\n",
       "</style>\n",
       "<table border=\"1\" class=\"dataframe\">\n",
       "  <thead>\n",
       "    <tr style=\"text-align: right;\">\n",
       "      <th></th>\n",
       "      <th>secs_elapsed</th>\n",
       "    </tr>\n",
       "  </thead>\n",
       "  <tbody>\n",
       "    <tr>\n",
       "      <th>count</th>\n",
       "      <td>1.043171e+07</td>\n",
       "    </tr>\n",
       "    <tr>\n",
       "      <th>mean</th>\n",
       "      <td>1.940581e+04</td>\n",
       "    </tr>\n",
       "    <tr>\n",
       "      <th>std</th>\n",
       "      <td>8.888424e+04</td>\n",
       "    </tr>\n",
       "    <tr>\n",
       "      <th>min</th>\n",
       "      <td>0.000000e+00</td>\n",
       "    </tr>\n",
       "    <tr>\n",
       "      <th>25%</th>\n",
       "      <td>2.290000e+02</td>\n",
       "    </tr>\n",
       "    <tr>\n",
       "      <th>50%</th>\n",
       "      <td>1.147000e+03</td>\n",
       "    </tr>\n",
       "    <tr>\n",
       "      <th>75%</th>\n",
       "      <td>8.444000e+03</td>\n",
       "    </tr>\n",
       "    <tr>\n",
       "      <th>max</th>\n",
       "      <td>1.799977e+06</td>\n",
       "    </tr>\n",
       "  </tbody>\n",
       "</table>\n",
       "</div>"
      ],
      "text/plain": [
       "       secs_elapsed\n",
       "count  1.043171e+07\n",
       "mean   1.940581e+04\n",
       "std    8.888424e+04\n",
       "min    0.000000e+00\n",
       "25%    2.290000e+02\n",
       "50%    1.147000e+03\n",
       "75%    8.444000e+03\n",
       "max    1.799977e+06"
      ]
     },
     "execution_count": 5,
     "metadata": {},
     "output_type": "execute_result"
    }
   ],
   "source": [
    "sessions_df = pd.read_csv(dataset_path+\"sessions.csv\") \n",
    "sessions_df.describe()"
   ]
  },
  {
   "cell_type": "code",
   "execution_count": 6,
   "metadata": {},
   "outputs": [
    {
     "data": {
      "text/html": [
       "<div>\n",
       "<style scoped>\n",
       "    .dataframe tbody tr th:only-of-type {\n",
       "        vertical-align: middle;\n",
       "    }\n",
       "\n",
       "    .dataframe tbody tr th {\n",
       "        vertical-align: top;\n",
       "    }\n",
       "\n",
       "    .dataframe thead th {\n",
       "        text-align: right;\n",
       "    }\n",
       "</style>\n",
       "<table border=\"1\" class=\"dataframe\">\n",
       "  <thead>\n",
       "    <tr style=\"text-align: right;\">\n",
       "      <th></th>\n",
       "      <th>user_id</th>\n",
       "      <th>action</th>\n",
       "      <th>action_type</th>\n",
       "      <th>action_detail</th>\n",
       "      <th>device_type</th>\n",
       "      <th>secs_elapsed</th>\n",
       "    </tr>\n",
       "  </thead>\n",
       "  <tbody>\n",
       "    <tr>\n",
       "      <th>744532</th>\n",
       "      <td>xa2lhx78zy</td>\n",
       "      <td>similar_listings</td>\n",
       "      <td>data</td>\n",
       "      <td>similar_listings</td>\n",
       "      <td>Mac Desktop</td>\n",
       "      <td>112.0</td>\n",
       "    </tr>\n",
       "    <tr>\n",
       "      <th>3226185</th>\n",
       "      <td>jg695e8h89</td>\n",
       "      <td>personalize</td>\n",
       "      <td>data</td>\n",
       "      <td>wishlist_content_update</td>\n",
       "      <td>Mac Desktop</td>\n",
       "      <td>560.0</td>\n",
       "    </tr>\n",
       "    <tr>\n",
       "      <th>10123341</th>\n",
       "      <td>otp2vllabl</td>\n",
       "      <td>index</td>\n",
       "      <td>view</td>\n",
       "      <td>user_wishlists</td>\n",
       "      <td>Mac Desktop</td>\n",
       "      <td>471.0</td>\n",
       "    </tr>\n",
       "    <tr>\n",
       "      <th>687331</th>\n",
       "      <td>ky6h4ginzq</td>\n",
       "      <td>ajax_refresh_subtotal</td>\n",
       "      <td>click</td>\n",
       "      <td>change_trip_characteristics</td>\n",
       "      <td>Mac Desktop</td>\n",
       "      <td>735.0</td>\n",
       "    </tr>\n",
       "    <tr>\n",
       "      <th>2249470</th>\n",
       "      <td>2qxecu5wyg</td>\n",
       "      <td>search_results</td>\n",
       "      <td>click</td>\n",
       "      <td>view_search_results</td>\n",
       "      <td>Mac Desktop</td>\n",
       "      <td>11969.0</td>\n",
       "    </tr>\n",
       "    <tr>\n",
       "      <th>2929027</th>\n",
       "      <td>ibng645ytx</td>\n",
       "      <td>show</td>\n",
       "      <td>view</td>\n",
       "      <td>p3</td>\n",
       "      <td>Mac Desktop</td>\n",
       "      <td>420.0</td>\n",
       "    </tr>\n",
       "    <tr>\n",
       "      <th>1893994</th>\n",
       "      <td>2k5rbv8d3a</td>\n",
       "      <td>show</td>\n",
       "      <td>view</td>\n",
       "      <td>user_profile</td>\n",
       "      <td>iPhone</td>\n",
       "      <td>42.0</td>\n",
       "    </tr>\n",
       "    <tr>\n",
       "      <th>7098395</th>\n",
       "      <td>xm31mtqaba</td>\n",
       "      <td>similar_listings_v2</td>\n",
       "      <td>NaN</td>\n",
       "      <td>NaN</td>\n",
       "      <td>Windows Desktop</td>\n",
       "      <td>129.0</td>\n",
       "    </tr>\n",
       "    <tr>\n",
       "      <th>7628968</th>\n",
       "      <td>2j1chrxex2</td>\n",
       "      <td>ajax_refresh_subtotal</td>\n",
       "      <td>click</td>\n",
       "      <td>change_trip_characteristics</td>\n",
       "      <td>Mac Desktop</td>\n",
       "      <td>34.0</td>\n",
       "    </tr>\n",
       "    <tr>\n",
       "      <th>3929903</th>\n",
       "      <td>p6qnnt3fpb</td>\n",
       "      <td>social_connections</td>\n",
       "      <td>data</td>\n",
       "      <td>user_social_connections</td>\n",
       "      <td>iPhone</td>\n",
       "      <td>2705.0</td>\n",
       "    </tr>\n",
       "  </tbody>\n",
       "</table>\n",
       "</div>"
      ],
      "text/plain": [
       "             user_id                 action action_type  \\\n",
       "744532    xa2lhx78zy       similar_listings        data   \n",
       "3226185   jg695e8h89            personalize        data   \n",
       "10123341  otp2vllabl                  index        view   \n",
       "687331    ky6h4ginzq  ajax_refresh_subtotal       click   \n",
       "2249470   2qxecu5wyg         search_results       click   \n",
       "2929027   ibng645ytx                   show        view   \n",
       "1893994   2k5rbv8d3a                   show        view   \n",
       "7098395   xm31mtqaba    similar_listings_v2         NaN   \n",
       "7628968   2j1chrxex2  ajax_refresh_subtotal       click   \n",
       "3929903   p6qnnt3fpb     social_connections        data   \n",
       "\n",
       "                        action_detail      device_type  secs_elapsed  \n",
       "744532               similar_listings      Mac Desktop         112.0  \n",
       "3226185       wishlist_content_update      Mac Desktop         560.0  \n",
       "10123341               user_wishlists      Mac Desktop         471.0  \n",
       "687331    change_trip_characteristics      Mac Desktop         735.0  \n",
       "2249470           view_search_results      Mac Desktop       11969.0  \n",
       "2929027                            p3      Mac Desktop         420.0  \n",
       "1893994                  user_profile           iPhone          42.0  \n",
       "7098395                           NaN  Windows Desktop         129.0  \n",
       "7628968   change_trip_characteristics      Mac Desktop          34.0  \n",
       "3929903       user_social_connections           iPhone        2705.0  "
      ]
     },
     "execution_count": 6,
     "metadata": {},
     "output_type": "execute_result"
    }
   ],
   "source": [
    "sessions_df.sample(10)"
   ]
  },
  {
   "cell_type": "code",
   "execution_count": 7,
   "metadata": {},
   "outputs": [
    {
     "data": {
      "text/plain": [
       "10567737"
      ]
     },
     "execution_count": 7,
     "metadata": {},
     "output_type": "execute_result"
    }
   ],
   "source": [
    "len(sessions_df)"
   ]
  },
  {
   "cell_type": "markdown",
   "metadata": {},
   "source": [
    "#### Verificamos si hay valores nulos en el dataset"
   ]
  },
  {
   "cell_type": "code",
   "execution_count": 8,
   "metadata": {},
   "outputs": [
    {
     "data": {
      "text/plain": [
       "user_id            34496\n",
       "action             79626\n",
       "action_type      1126204\n",
       "action_detail    1126204\n",
       "device_type            0\n",
       "secs_elapsed      136031\n",
       "dtype: int64"
      ]
     },
     "execution_count": 8,
     "metadata": {},
     "output_type": "execute_result"
    }
   ],
   "source": [
    "sessions_df.isnull().sum()"
   ]
  },
  {
   "cell_type": "code",
   "execution_count": 9,
   "metadata": {},
   "outputs": [
    {
     "data": {
      "text/html": [
       "<div>\n",
       "<style scoped>\n",
       "    .dataframe tbody tr th:only-of-type {\n",
       "        vertical-align: middle;\n",
       "    }\n",
       "\n",
       "    .dataframe tbody tr th {\n",
       "        vertical-align: top;\n",
       "    }\n",
       "\n",
       "    .dataframe thead th {\n",
       "        text-align: right;\n",
       "    }\n",
       "</style>\n",
       "<table border=\"1\" class=\"dataframe\">\n",
       "  <thead>\n",
       "    <tr style=\"text-align: right;\">\n",
       "      <th></th>\n",
       "      <th>user_id</th>\n",
       "      <th>action</th>\n",
       "      <th>action_type</th>\n",
       "      <th>action_detail</th>\n",
       "      <th>device_type</th>\n",
       "      <th>secs_elapsed</th>\n",
       "    </tr>\n",
       "  </thead>\n",
       "  <tbody>\n",
       "    <tr>\n",
       "      <th>0</th>\n",
       "      <td>d1mm9tcy42</td>\n",
       "      <td>lookup</td>\n",
       "      <td>NaN</td>\n",
       "      <td>NaN</td>\n",
       "      <td>Windows Desktop</td>\n",
       "      <td>319.0</td>\n",
       "    </tr>\n",
       "    <tr>\n",
       "      <th>1</th>\n",
       "      <td>d1mm9tcy42</td>\n",
       "      <td>search_results</td>\n",
       "      <td>click</td>\n",
       "      <td>view_search_results</td>\n",
       "      <td>Windows Desktop</td>\n",
       "      <td>67753.0</td>\n",
       "    </tr>\n",
       "    <tr>\n",
       "      <th>2</th>\n",
       "      <td>d1mm9tcy42</td>\n",
       "      <td>lookup</td>\n",
       "      <td>NaN</td>\n",
       "      <td>NaN</td>\n",
       "      <td>Windows Desktop</td>\n",
       "      <td>301.0</td>\n",
       "    </tr>\n",
       "    <tr>\n",
       "      <th>3</th>\n",
       "      <td>d1mm9tcy42</td>\n",
       "      <td>search_results</td>\n",
       "      <td>click</td>\n",
       "      <td>view_search_results</td>\n",
       "      <td>Windows Desktop</td>\n",
       "      <td>22141.0</td>\n",
       "    </tr>\n",
       "    <tr>\n",
       "      <th>4</th>\n",
       "      <td>d1mm9tcy42</td>\n",
       "      <td>lookup</td>\n",
       "      <td>NaN</td>\n",
       "      <td>NaN</td>\n",
       "      <td>Windows Desktop</td>\n",
       "      <td>435.0</td>\n",
       "    </tr>\n",
       "    <tr>\n",
       "      <th>5</th>\n",
       "      <td>d1mm9tcy42</td>\n",
       "      <td>search_results</td>\n",
       "      <td>click</td>\n",
       "      <td>view_search_results</td>\n",
       "      <td>Windows Desktop</td>\n",
       "      <td>7703.0</td>\n",
       "    </tr>\n",
       "    <tr>\n",
       "      <th>6</th>\n",
       "      <td>d1mm9tcy42</td>\n",
       "      <td>lookup</td>\n",
       "      <td>NaN</td>\n",
       "      <td>NaN</td>\n",
       "      <td>Windows Desktop</td>\n",
       "      <td>115.0</td>\n",
       "    </tr>\n",
       "    <tr>\n",
       "      <th>7</th>\n",
       "      <td>d1mm9tcy42</td>\n",
       "      <td>personalize</td>\n",
       "      <td>data</td>\n",
       "      <td>wishlist_content_update</td>\n",
       "      <td>Windows Desktop</td>\n",
       "      <td>831.0</td>\n",
       "    </tr>\n",
       "    <tr>\n",
       "      <th>8</th>\n",
       "      <td>d1mm9tcy42</td>\n",
       "      <td>index</td>\n",
       "      <td>view</td>\n",
       "      <td>view_search_results</td>\n",
       "      <td>Windows Desktop</td>\n",
       "      <td>20842.0</td>\n",
       "    </tr>\n",
       "    <tr>\n",
       "      <th>9</th>\n",
       "      <td>d1mm9tcy42</td>\n",
       "      <td>lookup</td>\n",
       "      <td>NaN</td>\n",
       "      <td>NaN</td>\n",
       "      <td>Windows Desktop</td>\n",
       "      <td>683.0</td>\n",
       "    </tr>\n",
       "    <tr>\n",
       "      <th>10</th>\n",
       "      <td>d1mm9tcy42</td>\n",
       "      <td>search_results</td>\n",
       "      <td>click</td>\n",
       "      <td>view_search_results</td>\n",
       "      <td>Windows Desktop</td>\n",
       "      <td>59274.0</td>\n",
       "    </tr>\n",
       "    <tr>\n",
       "      <th>11</th>\n",
       "      <td>d1mm9tcy42</td>\n",
       "      <td>lookup</td>\n",
       "      <td>NaN</td>\n",
       "      <td>NaN</td>\n",
       "      <td>Windows Desktop</td>\n",
       "      <td>95.0</td>\n",
       "    </tr>\n",
       "    <tr>\n",
       "      <th>12</th>\n",
       "      <td>d1mm9tcy42</td>\n",
       "      <td>personalize</td>\n",
       "      <td>data</td>\n",
       "      <td>wishlist_content_update</td>\n",
       "      <td>Windows Desktop</td>\n",
       "      <td>1399.0</td>\n",
       "    </tr>\n",
       "    <tr>\n",
       "      <th>13</th>\n",
       "      <td>d1mm9tcy42</td>\n",
       "      <td>index</td>\n",
       "      <td>view</td>\n",
       "      <td>view_search_results</td>\n",
       "      <td>Windows Desktop</td>\n",
       "      <td>74886.0</td>\n",
       "    </tr>\n",
       "    <tr>\n",
       "      <th>14</th>\n",
       "      <td>d1mm9tcy42</td>\n",
       "      <td>similar_listings</td>\n",
       "      <td>data</td>\n",
       "      <td>similar_listings</td>\n",
       "      <td>Windows Desktop</td>\n",
       "      <td>255.0</td>\n",
       "    </tr>\n",
       "  </tbody>\n",
       "</table>\n",
       "</div>"
      ],
      "text/plain": [
       "       user_id            action action_type            action_detail  \\\n",
       "0   d1mm9tcy42            lookup         NaN                      NaN   \n",
       "1   d1mm9tcy42    search_results       click      view_search_results   \n",
       "2   d1mm9tcy42            lookup         NaN                      NaN   \n",
       "3   d1mm9tcy42    search_results       click      view_search_results   \n",
       "4   d1mm9tcy42            lookup         NaN                      NaN   \n",
       "5   d1mm9tcy42    search_results       click      view_search_results   \n",
       "6   d1mm9tcy42            lookup         NaN                      NaN   \n",
       "7   d1mm9tcy42       personalize        data  wishlist_content_update   \n",
       "8   d1mm9tcy42             index        view      view_search_results   \n",
       "9   d1mm9tcy42            lookup         NaN                      NaN   \n",
       "10  d1mm9tcy42    search_results       click      view_search_results   \n",
       "11  d1mm9tcy42            lookup         NaN                      NaN   \n",
       "12  d1mm9tcy42       personalize        data  wishlist_content_update   \n",
       "13  d1mm9tcy42             index        view      view_search_results   \n",
       "14  d1mm9tcy42  similar_listings        data         similar_listings   \n",
       "\n",
       "        device_type  secs_elapsed  \n",
       "0   Windows Desktop         319.0  \n",
       "1   Windows Desktop       67753.0  \n",
       "2   Windows Desktop         301.0  \n",
       "3   Windows Desktop       22141.0  \n",
       "4   Windows Desktop         435.0  \n",
       "5   Windows Desktop        7703.0  \n",
       "6   Windows Desktop         115.0  \n",
       "7   Windows Desktop         831.0  \n",
       "8   Windows Desktop       20842.0  \n",
       "9   Windows Desktop         683.0  \n",
       "10  Windows Desktop       59274.0  \n",
       "11  Windows Desktop          95.0  \n",
       "12  Windows Desktop        1399.0  \n",
       "13  Windows Desktop       74886.0  \n",
       "14  Windows Desktop         255.0  "
      ]
     },
     "execution_count": 9,
     "metadata": {},
     "output_type": "execute_result"
    }
   ],
   "source": [
    "sessions_df[ sessions_df.user_id.isnull() == False ].head(15)"
   ]
  },
  {
   "cell_type": "code",
   "execution_count": 10,
   "metadata": {},
   "outputs": [
    {
     "data": {
      "text/plain": [
       "360"
      ]
     },
     "execution_count": 10,
     "metadata": {},
     "output_type": "execute_result"
    }
   ],
   "source": [
    "len(sessions_df.action.unique())"
   ]
  },
  {
   "cell_type": "markdown",
   "metadata": {},
   "source": [
    "Veamos el campo __action__ y su relacion con __action_type__ y __action_detail__"
   ]
  },
  {
   "cell_type": "code",
   "execution_count": 11,
   "metadata": {},
   "outputs": [
    {
     "data": {
      "text/plain": [
       "array(['lookup', 'search_results', 'personalize', 'index',\n",
       "       'similar_listings', 'ajax_refresh_subtotal', 'show',\n",
       "       'header_userpic', 'ask_question', nan,\n",
       "       'other_hosting_reviews_first', 'hosting_social_proof',\n",
       "       'decision_tree', 'recent_reservations', 'faq_experiment_ids',\n",
       "       'multi', 'active', 'dashboard', 'create', 'confirm_email',\n",
       "       'show_personalize', 'verify', 'pending', 'requested', 'concierge',\n",
       "       'faq', 'clear_reservation', 'cancellation_policies',\n",
       "       'track_page_view', 'update', 'my', 'campaigns', 'notifications',\n",
       "       'listings', 'unavailabilities', 'ajax_lwlb_contact',\n",
       "       'ajax_check_dates', 'qt2', 'request_new_confirm_email',\n",
       "       'ajax_photo_widget_form_iframe', 'facebook_auto_login', 'identity',\n",
       "       'qt_reply_v2', 'travel_plans_current', 'complete_status',\n",
       "       'populate_from_facebook', 'kba_update', 'kba', 'login',\n",
       "       'authenticate', 'calendar_tab_inner2', 'other_hosting_reviews',\n",
       "       'social_connections', 'relationship', '15', 'collections', '12',\n",
       "       'jumio_redirect', 'jumio_token', 'login_modal', 'domains',\n",
       "       'toggle_archived_thread', 'search', 'edit_verification', 'edit',\n",
       "       'ajax_ldp', 'connect', 'account', 'delete', 'phone_number_widget',\n",
       "       'callback', 'signup_modal', '10', 'open_graph_setting', 'reviews',\n",
       "       'signup_login', 'payment_instruments', 'payment_methods', 'pay',\n",
       "       'unread', 'at_checkpoint', 'push_notification_callback',\n",
       "       'faq_category', 'localization_settings', 'update_notifications',\n",
       "       'manage_listing', 'set_user', 'references',\n",
       "       'languages_multiselect', 'salute', 'rentals', 'currencies', 'new',\n",
       "       'position', 'populate_help_dropdown', 'popular', 'popular_listing',\n",
       "       'listing', 'available', 'glob', 'this_hosting_reviews', 'widget',\n",
       "       'complete', 'profile_pic', 'signature', 'apply_reservation',\n",
       "       'ajax_statsd', 'travel', 'tos_confirm', 'uptodate',\n",
       "       'ajax_payout_options_by_country', 'payout_preferences',\n",
       "       'payout_update', 'ajax_payout_edit', 'pending_tickets', 'issue',\n",
       "       'contact_new', 'itinerary', 'receipt',\n",
       "       'update_hide_from_search_engines', 'settings', 'privacy',\n",
       "       'reviews_new', 'add_guests', 'ajax_image_upload', 'qt_with',\n",
       "       'webcam_upload', 'friends', 'ajax_google_translate_description',\n",
       "       'trust', 'guarantee', 'supported', 'countries', 'status', 'upload',\n",
       "       'authorize', 'rate', 'remove_dashboard_alert', 'ajax_get_results',\n",
       "       'recommend', 'change_currency', 'transaction_history_paginated',\n",
       "       'transaction_history', 'set_password', 'cancel',\n",
       "       'phone_verification_modal', 'submit_contact', 'detect_fb_session',\n",
       "       'tell_a_friend', 'change', 'clickthrough',\n",
       "       'multi_message_attributes', 'update_friends_display',\n",
       "       'my_listings', 'email_itinerary_colorbox', 'mobile_landing_page',\n",
       "       'create_ach', 'country_options', '11', 'host_2013', 'terms',\n",
       "       'multi_message', 'ajax_send_message', 'airbnb_picks',\n",
       "       'friends_new', 'reputation', 'complete_redirect',\n",
       "       'toggle_starred_thread', 'email_share', 'email_wishlist',\n",
       "       'destroy', 'add_note', 'overview', 'requirements',\n",
       "       'update_reservation_requirements', 'image_order', 'review_page',\n",
       "       'ajax_worth', 'place_worth', 'google_importer',\n",
       "       'change_availability', 'hospitality', 'change_password', 'feed',\n",
       "       'host_summary', 'ajax_price_and_availability', 'jumio',\n",
       "       'guest_booked_elsewhere', 'about_us', 'founders',\n",
       "       'travel_plans_previous', 'why_host', 'hospitality_standards',\n",
       "       'social', 'recommendations', 'update_cached', 'become_user',\n",
       "       'departments', 'department', 'office_location', 'photography',\n",
       "       'preapproval', 'maybe_information', 'toggle_availability',\n",
       "       'payoneer_account_redirect', 'forgot_password', 'new_host',\n",
       "       'payoneer_signup_complete', 'ajax_google_translate', 'onenight',\n",
       "       'approve', 'nyan', 'booking', 'payout_delete',\n",
       "       'change_default_payout', 'envoy_bank_details_redirect', 'respond',\n",
       "       'request_photography', 'zendesk_login_jwt', 'ajax_photo_widget',\n",
       "       'message', 'southern-europe', 'life', 'press_release',\n",
       "       'media_resources', 'press_news', 'referrer_status',\n",
       "       'create_multiple', 'load_more', 'create_paypal',\n",
       "       'locale_from_host', 'terms_and_conditions', 'invalid_action',\n",
       "       'photography_update', 'badge', 'apply', 'redirect', 'pricing',\n",
       "       'apply_code', 'slideshow', 'locations',\n",
       "       'ajax_google_translate_reviews', 'new_session', 'has_profile_pic',\n",
       "       'sublets', 'wishlists', 'reservation', 'localized',\n",
       "       'home_safety_landing', 'click', 'how_it_works',\n",
       "       'ajax_get_referrals_amt', 'phone_verification', 'satisfy',\n",
       "       'city_count', 'recommendation_page', 'press_content',\n",
       "       'guest_billing_receipt', 'ajax_payout_split_edit',\n",
       "       'print_confirmation', 'envoy_form',\n",
       "       'ajax_special_offer_dates_available',\n",
       "       'ajax_referral_banner_experiment_type', 'patch', 'questions',\n",
       "       'home_safety_terms', 'track_activity', 'check', 'sldf',\n",
       "       'recommended_listings', 'mobile_oauth_callback', 'show_code',\n",
       "       'signed_out_modal', 'plaxo_cb', 'views', 'friend_listing',\n",
       "       'ajax_referral_banner_type', 'deactivate', 'sync', 'social-media',\n",
       "       'united-states', 'email_by_key', 'disaster_action',\n",
       "       'views_campaign', 'update_message', 'spoken_languages',\n",
       "       'use_mobile_site', 'deauthorize', 'special_offer',\n",
       "       'top_destinations', 'create_airbnb', 'handle_vanity_url',\n",
       "       'impressions', 'message_to_host_focus',\n",
       "       'cancellation_policy_click', 'message_to_host_change',\n",
       "       'agree_terms_check', 'read_policy_click',\n",
       "       'phone_verification_success',\n",
       "       'phone_verification_number_sucessfully_submitted',\n",
       "       'phone_verification_number_submitted_for_sms',\n",
       "       'phone_verification_phone_number_removed', 'endpoint_error',\n",
       "       'p4_refund_policy_terms', 'apply_coupon_error_type',\n",
       "       'apply_coupon_error', 'apply_coupon_click', 'coupon_field_focus',\n",
       "       'coupon_code_click', 'agree_terms_uncheck', 'p4_terms',\n",
       "       'phone_verification_call_taking_too_long',\n",
       "       'phone_verification_number_submitted_for_call',\n",
       "       'phone_verification_error', 'apply_coupon_click_success',\n",
       "       'set_default', 'update_country_of_residence',\n",
       "       'open_hard_fallback_modal', 'tos_2014', 'views_campaign_rules',\n",
       "       'weibo_signup_referral_finish', 'signup_weibo_referral',\n",
       "       'similar_listings_v2', 'confirmation', 'signup_weibo',\n",
       "       'acculynk_load_pin_pad', 'acculynk_bin_check_success',\n",
       "       'acculynk_session_obtained', 'acculynk_pin_pad_inactive',\n",
       "       'reactivate', 'airbrb', 'desks', 'sandy', 'unsubscribe',\n",
       "       'host_cancel', 'acculynk_bin_check_failed',\n",
       "       'acculynk_pin_pad_error', 'custom_recommended_destinations',\n",
       "       'this_hosting_reviews_3000', 'reset_calendar', 'events',\n",
       "       'business_travel', 'add_guest_colorbox', 'hard_fallback_submit',\n",
       "       'add_business_address_colorbox', 'my_reservations', 'report',\n",
       "       'book', 'revert_to_admin', 'acculynk_pin_pad_success',\n",
       "       'south-america', 'braintree_client_token', 'view', 'stpcv',\n",
       "       'set_minimum_payout_amount', 'support_phone_numbers',\n",
       "       'refund_guest_cancellation', 'accept_decline', 'deactivated',\n",
       "       'rest-of-world'], dtype=object)"
      ]
     },
     "execution_count": 11,
     "metadata": {},
     "output_type": "execute_result"
    }
   ],
   "source": [
    "sessions_df.action.unique()"
   ]
  },
  {
   "cell_type": "code",
   "execution_count": 12,
   "metadata": {},
   "outputs": [
    {
     "data": {
      "text/plain": [
       "11"
      ]
     },
     "execution_count": 12,
     "metadata": {},
     "output_type": "execute_result"
    }
   ],
   "source": [
    "len(sessions_df.action_type.unique())"
   ]
  },
  {
   "cell_type": "code",
   "execution_count": 13,
   "metadata": {},
   "outputs": [
    {
     "data": {
      "text/plain": [
       "array([nan, 'click', 'data', 'view', 'submit', 'message_post',\n",
       "       '-unknown-', 'booking_request', 'partner_callback',\n",
       "       'booking_response', 'modify'], dtype=object)"
      ]
     },
     "execution_count": 13,
     "metadata": {},
     "output_type": "execute_result"
    }
   ],
   "source": [
    "sessions_df.action_type.unique()"
   ]
  },
  {
   "cell_type": "code",
   "execution_count": 14,
   "metadata": {},
   "outputs": [
    {
     "data": {
      "text/plain": [
       "156"
      ]
     },
     "execution_count": 14,
     "metadata": {},
     "output_type": "execute_result"
    }
   ],
   "source": [
    "len(sessions_df.action_detail.unique())"
   ]
  },
  {
   "cell_type": "code",
   "execution_count": 15,
   "metadata": {},
   "outputs": [
    {
     "data": {
      "text/plain": [
       "array([nan, 'view_search_results', 'wishlist_content_update',\n",
       "       'similar_listings', 'change_trip_characteristics', 'p3',\n",
       "       'header_userpic', 'contact_host', 'message_post', '-unknown-',\n",
       "       'dashboard', 'create_user', 'confirm_email_link',\n",
       "       'user_profile_content_update', 'user_profile', 'pending', 'p5',\n",
       "       'create_phone_numbers', 'cancellation_policies', 'user_wishlists',\n",
       "       'change_contact_host_dates', 'wishlist', 'message_thread',\n",
       "       'request_new_confirm_email', 'send_message', 'your_trips',\n",
       "       'login_page', 'login', 'login_modal', 'toggle_archived_thread',\n",
       "       'p1', 'profile_verifications', 'edit_profile', 'oauth_login',\n",
       "       'post_checkout_action', 'account_notification_settings',\n",
       "       'update_user_profile', 'oauth_response', 'signup_modal',\n",
       "       'signup_login_page', 'at_checkpoint', 'manage_listing',\n",
       "       'create_listing', 'your_listings', 'profile_references',\n",
       "       'list_your_space', 'popular_wishlists', 'listing_reviews_page',\n",
       "       'apply_coupon', 'user_tax_forms', 'account_payout_preferences',\n",
       "       'guest_itinerary', 'guest_receipt', 'account_privacy_settings',\n",
       "       'lookup_message_thread', 'friends_wishlists', 'host_guarantee',\n",
       "       'delete_phone_numbers', 'account_transaction_history',\n",
       "       'set_password', 'guest_cancellation', 'change_or_alter',\n",
       "       'your_reservations', 'terms_and_privacy', 'airbnb_picks_wishlists',\n",
       "       'toggle_starred_thread', 'email_wishlist', 'email_wishlist_button',\n",
       "       'wishlist_note', 'calculate_worth', 'place_worth',\n",
       "       'change_password', 'alteration_field', 'previous_trips',\n",
       "       'update_listing', 'update_listing_description', 'user_reviews',\n",
       "       'update_user', 'notifications', 'user_social_connections',\n",
       "       'unavailable_dates', 'reservations', 'listing_reviews',\n",
       "       'user_listings', 'signup', 'message_inbox', 'trip_availability',\n",
       "       'payment_instruments', 'admin_templates', 'host_home',\n",
       "       'translations', 'forgot_password', 'homepage',\n",
       "       'remove_dashboard_alert', 'user_friend_recommendations',\n",
       "       'confirm_email', 'host_respond', 'booking',\n",
       "       'respond_to_alteration_request', 'alteration_request',\n",
       "       'create_alteration_request', 'delete_listing', 'set_password_page',\n",
       "       'delete_listing_description', 'translate_listing_reviews',\n",
       "       'book_it', 'instant_book', 'request_to_book', 'complete_booking',\n",
       "       'change_availability', 'special_offer_field',\n",
       "       'listing_recommendations', 'view_listing', 'listing_descriptions',\n",
       "       'user_languages', 'p4', 'message_to_host_focus',\n",
       "       'cancellation_policy_click', 'message_to_host_change',\n",
       "       'read_policy_click', 'phone_verification_success',\n",
       "       'p4_refund_policy_terms', 'apply_coupon_error',\n",
       "       'apply_coupon_click', 'coupon_field_focus', 'coupon_code_click',\n",
       "       'p4_terms', 'apply_coupon_click_success', 'tos_2014',\n",
       "       'view_reservations', 'view_locations', 'modify_users',\n",
       "       'view_security_checks', 'phone_numbers', 'profile_reviews',\n",
       "       'modify_reservations', 'view_resolutions',\n",
       "       'account_payment_methods', 'create_payment_instrument',\n",
       "       'set_default_payment_instrument', 'delete_payment_instrument',\n",
       "       'photos', 'click_reviews', 'move_map', 'share',\n",
       "       'cancellation_policy', 'click_about_host', 'click_amenities',\n",
       "       'host_refund_guest', 'host_respond_page', 'view_user_real_names',\n",
       "       'view_identity_verifications', 'view_ghosting_reasons',\n",
       "       'view_ghostings', 'host_standard_suspension',\n",
       "       'deactivate_user_account'], dtype=object)"
      ]
     },
     "execution_count": 15,
     "metadata": {},
     "output_type": "execute_result"
    }
   ],
   "source": [
    "sessions_df.action_detail.unique()"
   ]
  },
  {
   "cell_type": "markdown",
   "metadata": {},
   "source": [
    "Verificamos que, si __action_type__ es null, tambien lo es __action_detail__"
   ]
  },
  {
   "cell_type": "code",
   "execution_count": 16,
   "metadata": {},
   "outputs": [
    {
     "data": {
      "text/plain": [
       "array([nan], dtype=object)"
      ]
     },
     "execution_count": 16,
     "metadata": {},
     "output_type": "execute_result"
    }
   ],
   "source": [
    "sessions_df[ sessions_df.action_type.isnull() == True ].action_detail.unique()"
   ]
  },
  {
   "cell_type": "markdown",
   "metadata": {},
   "source": [
    "Veamos que valores hay para __action__ cuando __action_type__ es nulo"
   ]
  },
  {
   "cell_type": "code",
   "execution_count": 17,
   "metadata": {},
   "outputs": [
    {
     "data": {
      "text/plain": [
       "array(['lookup', 'show', 'track_page_view', 'widget', 'uptodate', 'index',\n",
       "       'campaigns', 'currencies', 'localization_settings', 'update',\n",
       "       'phone_verification', 'satisfy', 'track_activity', 'check',\n",
       "       'signed_out_modal', 'disaster_action', 'similar_listings_v2',\n",
       "       'braintree_client_token'], dtype=object)"
      ]
     },
     "execution_count": 17,
     "metadata": {},
     "output_type": "execute_result"
    }
   ],
   "source": [
    "sessions_df[ sessions_df.action_type.isnull()].action.unique()"
   ]
  },
  {
   "cell_type": "code",
   "execution_count": 18,
   "metadata": {},
   "outputs": [
    {
     "data": {
      "text/plain": [
       "array(['message_post'], dtype=object)"
      ]
     },
     "execution_count": 18,
     "metadata": {},
     "output_type": "execute_result"
    }
   ],
   "source": [
    "sessions_df[ sessions_df.action.isnull()].action_type.unique()"
   ]
  },
  {
   "cell_type": "markdown",
   "metadata": {},
   "source": [
    "Vamos a reemplazar el null en estos campos, por un valor fijo"
   ]
  },
  {
   "cell_type": "code",
   "execution_count": 19,
   "metadata": {},
   "outputs": [],
   "source": [
    "sessions_df['action'].fillna('unknown_action', inplace=True) \n",
    "sessions_df['action_type'].fillna('unknown_action_type-', inplace=True) \n",
    "sessions_df['action_detail'].fillna('unknown_action_detail-', inplace=True) "
   ]
  },
  {
   "cell_type": "code",
   "execution_count": 20,
   "metadata": {},
   "outputs": [
    {
     "data": {
      "text/plain": [
       "user_id           34496\n",
       "action                0\n",
       "action_type           0\n",
       "action_detail         0\n",
       "device_type           0\n",
       "secs_elapsed     136031\n",
       "dtype: int64"
      ]
     },
     "execution_count": 20,
     "metadata": {},
     "output_type": "execute_result"
    }
   ],
   "source": [
    "sessions_df.isnull().sum()"
   ]
  },
  {
   "cell_type": "markdown",
   "metadata": {},
   "source": [
    "Analicemos el __user_id__, porque puede dejar elementos fuera del merge con usuarios"
   ]
  },
  {
   "cell_type": "code",
   "execution_count": 21,
   "metadata": {},
   "outputs": [
    {
     "data": {
      "text/plain": [
       "0.003264275028797556"
      ]
     },
     "execution_count": 21,
     "metadata": {},
     "output_type": "execute_result"
    }
   ],
   "source": [
    "len(sessions_df[sessions_df.user_id.isnull() == True]) / len(sessions_df)"
   ]
  },
  {
   "cell_type": "markdown",
   "metadata": {},
   "source": [
    "La proporcion de user_id en null, es baja (3%). Vamos a eliminarlos"
   ]
  },
  {
   "cell_type": "code",
   "execution_count": 22,
   "metadata": {},
   "outputs": [],
   "source": [
    "sessions_df.dropna(subset=['user_id'], inplace=True)"
   ]
  },
  {
   "cell_type": "code",
   "execution_count": 23,
   "metadata": {},
   "outputs": [
    {
     "data": {
      "text/plain": [
       "user_id               0\n",
       "action                0\n",
       "action_type           0\n",
       "action_detail         0\n",
       "device_type           0\n",
       "secs_elapsed     135483\n",
       "dtype: int64"
      ]
     },
     "execution_count": 23,
     "metadata": {},
     "output_type": "execute_result"
    }
   ],
   "source": [
    "sessions_df.isnull().sum()"
   ]
  },
  {
   "cell_type": "markdown",
   "metadata": {},
   "source": [
    "Tratamiento de los nulos de secs_elapsed"
   ]
  },
  {
   "cell_type": "code",
   "execution_count": 24,
   "metadata": {},
   "outputs": [
    {
     "name": "stdout",
     "output_type": "stream",
     "text": [
      "1146.0\n"
     ]
    }
   ],
   "source": [
    "secs_elapsed_median = sessions_df.secs_elapsed.median()\n",
    "print(secs_elapsed_median)\n",
    "sessions_df['secs_elapsed'].fillna(secs_elapsed_median, inplace=True) "
   ]
  },
  {
   "cell_type": "code",
   "execution_count": 25,
   "metadata": {},
   "outputs": [
    {
     "data": {
      "text/plain": [
       "user_id          0\n",
       "action           0\n",
       "action_type      0\n",
       "action_detail    0\n",
       "device_type      0\n",
       "secs_elapsed     0\n",
       "dtype: int64"
      ]
     },
     "execution_count": 25,
     "metadata": {},
     "output_type": "execute_result"
    }
   ],
   "source": [
    "sessions_df.isnull().sum()"
   ]
  },
  {
   "cell_type": "markdown",
   "metadata": {},
   "source": [
    "Listo, no quedan null values en sessions"
   ]
  },
  {
   "cell_type": "code",
   "execution_count": 26,
   "metadata": {},
   "outputs": [
    {
     "data": {
      "text/plain": [
       "Mac Desktop                         3585886\n",
       "Windows Desktop                     2648521\n",
       "iPhone                              2096749\n",
       "Android Phone                        835991\n",
       "iPad Tablet                          681836\n",
       "Android App Unknown Phone/Tablet     272820\n",
       "-unknown-                            210059\n",
       "Tablet                               139859\n",
       "Linux Desktop                         27968\n",
       "Chromebook                            22272\n",
       "iPodtouch                              8186\n",
       "Windows Phone                          2047\n",
       "Blackberry                              979\n",
       "Opera Phone                              68\n",
       "Name: device_type, dtype: int64"
      ]
     },
     "execution_count": 26,
     "metadata": {},
     "output_type": "execute_result"
    }
   ],
   "source": [
    "sessions_df['device_type'].value_counts()"
   ]
  },
  {
   "cell_type": "markdown",
   "metadata": {},
   "source": [
    "### Age_Gender_Bkts"
   ]
  },
  {
   "cell_type": "code",
   "execution_count": 27,
   "metadata": {},
   "outputs": [],
   "source": [
    "age_gender_df = pd.read_csv(dataset_path+\"age_gender_bkts.csv\") "
   ]
  },
  {
   "cell_type": "code",
   "execution_count": 28,
   "metadata": {},
   "outputs": [
    {
     "data": {
      "text/html": [
       "<div>\n",
       "<style scoped>\n",
       "    .dataframe tbody tr th:only-of-type {\n",
       "        vertical-align: middle;\n",
       "    }\n",
       "\n",
       "    .dataframe tbody tr th {\n",
       "        vertical-align: top;\n",
       "    }\n",
       "\n",
       "    .dataframe thead th {\n",
       "        text-align: right;\n",
       "    }\n",
       "</style>\n",
       "<table border=\"1\" class=\"dataframe\">\n",
       "  <thead>\n",
       "    <tr style=\"text-align: right;\">\n",
       "      <th></th>\n",
       "      <th>age_bucket</th>\n",
       "      <th>country_destination</th>\n",
       "      <th>gender</th>\n",
       "      <th>population_in_thousands</th>\n",
       "      <th>year</th>\n",
       "    </tr>\n",
       "  </thead>\n",
       "  <tbody>\n",
       "    <tr>\n",
       "      <th>0</th>\n",
       "      <td>100+</td>\n",
       "      <td>AU</td>\n",
       "      <td>male</td>\n",
       "      <td>1.0</td>\n",
       "      <td>2015.0</td>\n",
       "    </tr>\n",
       "    <tr>\n",
       "      <th>1</th>\n",
       "      <td>95-99</td>\n",
       "      <td>AU</td>\n",
       "      <td>male</td>\n",
       "      <td>9.0</td>\n",
       "      <td>2015.0</td>\n",
       "    </tr>\n",
       "    <tr>\n",
       "      <th>2</th>\n",
       "      <td>90-94</td>\n",
       "      <td>AU</td>\n",
       "      <td>male</td>\n",
       "      <td>47.0</td>\n",
       "      <td>2015.0</td>\n",
       "    </tr>\n",
       "    <tr>\n",
       "      <th>3</th>\n",
       "      <td>85-89</td>\n",
       "      <td>AU</td>\n",
       "      <td>male</td>\n",
       "      <td>118.0</td>\n",
       "      <td>2015.0</td>\n",
       "    </tr>\n",
       "    <tr>\n",
       "      <th>4</th>\n",
       "      <td>80-84</td>\n",
       "      <td>AU</td>\n",
       "      <td>male</td>\n",
       "      <td>199.0</td>\n",
       "      <td>2015.0</td>\n",
       "    </tr>\n",
       "    <tr>\n",
       "      <th>5</th>\n",
       "      <td>75-79</td>\n",
       "      <td>AU</td>\n",
       "      <td>male</td>\n",
       "      <td>298.0</td>\n",
       "      <td>2015.0</td>\n",
       "    </tr>\n",
       "    <tr>\n",
       "      <th>6</th>\n",
       "      <td>70-74</td>\n",
       "      <td>AU</td>\n",
       "      <td>male</td>\n",
       "      <td>415.0</td>\n",
       "      <td>2015.0</td>\n",
       "    </tr>\n",
       "    <tr>\n",
       "      <th>7</th>\n",
       "      <td>65-69</td>\n",
       "      <td>AU</td>\n",
       "      <td>male</td>\n",
       "      <td>574.0</td>\n",
       "      <td>2015.0</td>\n",
       "    </tr>\n",
       "    <tr>\n",
       "      <th>8</th>\n",
       "      <td>60-64</td>\n",
       "      <td>AU</td>\n",
       "      <td>male</td>\n",
       "      <td>636.0</td>\n",
       "      <td>2015.0</td>\n",
       "    </tr>\n",
       "    <tr>\n",
       "      <th>9</th>\n",
       "      <td>55-59</td>\n",
       "      <td>AU</td>\n",
       "      <td>male</td>\n",
       "      <td>714.0</td>\n",
       "      <td>2015.0</td>\n",
       "    </tr>\n",
       "  </tbody>\n",
       "</table>\n",
       "</div>"
      ],
      "text/plain": [
       "  age_bucket country_destination gender  population_in_thousands    year\n",
       "0       100+                  AU   male                      1.0  2015.0\n",
       "1      95-99                  AU   male                      9.0  2015.0\n",
       "2      90-94                  AU   male                     47.0  2015.0\n",
       "3      85-89                  AU   male                    118.0  2015.0\n",
       "4      80-84                  AU   male                    199.0  2015.0\n",
       "5      75-79                  AU   male                    298.0  2015.0\n",
       "6      70-74                  AU   male                    415.0  2015.0\n",
       "7      65-69                  AU   male                    574.0  2015.0\n",
       "8      60-64                  AU   male                    636.0  2015.0\n",
       "9      55-59                  AU   male                    714.0  2015.0"
      ]
     },
     "execution_count": 28,
     "metadata": {},
     "output_type": "execute_result"
    }
   ],
   "source": [
    "age_gender_df.head(10)"
   ]
  },
  {
   "cell_type": "code",
   "execution_count": 29,
   "metadata": {},
   "outputs": [
    {
     "data": {
      "text/plain": [
       "420"
      ]
     },
     "execution_count": 29,
     "metadata": {},
     "output_type": "execute_result"
    }
   ],
   "source": [
    "len(age_gender_df)"
   ]
  },
  {
   "cell_type": "code",
   "execution_count": 30,
   "metadata": {},
   "outputs": [
    {
     "data": {
      "text/html": [
       "<div>\n",
       "<style scoped>\n",
       "    .dataframe tbody tr th:only-of-type {\n",
       "        vertical-align: middle;\n",
       "    }\n",
       "\n",
       "    .dataframe tbody tr th {\n",
       "        vertical-align: top;\n",
       "    }\n",
       "\n",
       "    .dataframe thead th {\n",
       "        text-align: right;\n",
       "    }\n",
       "</style>\n",
       "<table border=\"1\" class=\"dataframe\">\n",
       "  <thead>\n",
       "    <tr style=\"text-align: right;\">\n",
       "      <th></th>\n",
       "      <th>population_in_thousands</th>\n",
       "      <th>year</th>\n",
       "    </tr>\n",
       "  </thead>\n",
       "  <tbody>\n",
       "    <tr>\n",
       "      <th>count</th>\n",
       "      <td>420.000000</td>\n",
       "      <td>420.0</td>\n",
       "    </tr>\n",
       "    <tr>\n",
       "      <th>mean</th>\n",
       "      <td>1743.133333</td>\n",
       "      <td>2015.0</td>\n",
       "    </tr>\n",
       "    <tr>\n",
       "      <th>std</th>\n",
       "      <td>2509.843202</td>\n",
       "      <td>0.0</td>\n",
       "    </tr>\n",
       "    <tr>\n",
       "      <th>min</th>\n",
       "      <td>0.000000</td>\n",
       "      <td>2015.0</td>\n",
       "    </tr>\n",
       "    <tr>\n",
       "      <th>25%</th>\n",
       "      <td>396.500000</td>\n",
       "      <td>2015.0</td>\n",
       "    </tr>\n",
       "    <tr>\n",
       "      <th>50%</th>\n",
       "      <td>1090.500000</td>\n",
       "      <td>2015.0</td>\n",
       "    </tr>\n",
       "    <tr>\n",
       "      <th>75%</th>\n",
       "      <td>1968.000000</td>\n",
       "      <td>2015.0</td>\n",
       "    </tr>\n",
       "    <tr>\n",
       "      <th>max</th>\n",
       "      <td>11601.000000</td>\n",
       "      <td>2015.0</td>\n",
       "    </tr>\n",
       "  </tbody>\n",
       "</table>\n",
       "</div>"
      ],
      "text/plain": [
       "       population_in_thousands    year\n",
       "count               420.000000   420.0\n",
       "mean               1743.133333  2015.0\n",
       "std                2509.843202     0.0\n",
       "min                   0.000000  2015.0\n",
       "25%                 396.500000  2015.0\n",
       "50%                1090.500000  2015.0\n",
       "75%                1968.000000  2015.0\n",
       "max               11601.000000  2015.0"
      ]
     },
     "execution_count": 30,
     "metadata": {},
     "output_type": "execute_result"
    }
   ],
   "source": [
    "age_gender_df.describe()"
   ]
  },
  {
   "cell_type": "markdown",
   "metadata": {},
   "source": [
    "Verificamos si hay valores nulos en el dataset"
   ]
  },
  {
   "cell_type": "code",
   "execution_count": 31,
   "metadata": {},
   "outputs": [
    {
     "data": {
      "text/plain": [
       "age_bucket                 0\n",
       "country_destination        0\n",
       "gender                     0\n",
       "population_in_thousands    0\n",
       "year                       0\n",
       "dtype: int64"
      ]
     },
     "execution_count": 31,
     "metadata": {},
     "output_type": "execute_result"
    }
   ],
   "source": [
    "age_gender_df.isnull().sum()"
   ]
  },
  {
   "cell_type": "markdown",
   "metadata": {},
   "source": [
    "## Test_users"
   ]
  },
  {
   "cell_type": "code",
   "execution_count": 47,
   "metadata": {},
   "outputs": [],
   "source": [
    "train_users_df = pd.read_csv(dataset_path+\"test_users.csv\") "
   ]
  },
  {
   "cell_type": "code",
   "execution_count": 33,
   "metadata": {},
   "outputs": [
    {
     "data": {
      "text/plain": [
       "62096"
      ]
     },
     "execution_count": 33,
     "metadata": {},
     "output_type": "execute_result"
    }
   ],
   "source": [
    "len(train_users_df)"
   ]
  },
  {
   "cell_type": "code",
   "execution_count": 34,
   "metadata": {},
   "outputs": [
    {
     "data": {
      "text/html": [
       "<div>\n",
       "<style scoped>\n",
       "    .dataframe tbody tr th:only-of-type {\n",
       "        vertical-align: middle;\n",
       "    }\n",
       "\n",
       "    .dataframe tbody tr th {\n",
       "        vertical-align: top;\n",
       "    }\n",
       "\n",
       "    .dataframe thead th {\n",
       "        text-align: right;\n",
       "    }\n",
       "</style>\n",
       "<table border=\"1\" class=\"dataframe\">\n",
       "  <thead>\n",
       "    <tr style=\"text-align: right;\">\n",
       "      <th></th>\n",
       "      <th>id</th>\n",
       "      <th>date_account_created</th>\n",
       "      <th>timestamp_first_active</th>\n",
       "      <th>date_first_booking</th>\n",
       "      <th>gender</th>\n",
       "      <th>age</th>\n",
       "      <th>signup_method</th>\n",
       "      <th>signup_flow</th>\n",
       "      <th>language</th>\n",
       "      <th>affiliate_channel</th>\n",
       "      <th>affiliate_provider</th>\n",
       "      <th>first_affiliate_tracked</th>\n",
       "      <th>signup_app</th>\n",
       "      <th>first_device_type</th>\n",
       "      <th>first_browser</th>\n",
       "    </tr>\n",
       "  </thead>\n",
       "  <tbody>\n",
       "    <tr>\n",
       "      <th>0</th>\n",
       "      <td>5uwns89zht</td>\n",
       "      <td>2014-07-01</td>\n",
       "      <td>20140701000006</td>\n",
       "      <td>NaN</td>\n",
       "      <td>FEMALE</td>\n",
       "      <td>35.0</td>\n",
       "      <td>facebook</td>\n",
       "      <td>0</td>\n",
       "      <td>en</td>\n",
       "      <td>direct</td>\n",
       "      <td>direct</td>\n",
       "      <td>untracked</td>\n",
       "      <td>Moweb</td>\n",
       "      <td>iPhone</td>\n",
       "      <td>Mobile Safari</td>\n",
       "    </tr>\n",
       "    <tr>\n",
       "      <th>1</th>\n",
       "      <td>jtl0dijy2j</td>\n",
       "      <td>2014-07-01</td>\n",
       "      <td>20140701000051</td>\n",
       "      <td>NaN</td>\n",
       "      <td>-unknown-</td>\n",
       "      <td>NaN</td>\n",
       "      <td>basic</td>\n",
       "      <td>0</td>\n",
       "      <td>en</td>\n",
       "      <td>direct</td>\n",
       "      <td>direct</td>\n",
       "      <td>untracked</td>\n",
       "      <td>Moweb</td>\n",
       "      <td>iPhone</td>\n",
       "      <td>Mobile Safari</td>\n",
       "    </tr>\n",
       "    <tr>\n",
       "      <th>2</th>\n",
       "      <td>xx0ulgorjt</td>\n",
       "      <td>2014-07-01</td>\n",
       "      <td>20140701000148</td>\n",
       "      <td>NaN</td>\n",
       "      <td>-unknown-</td>\n",
       "      <td>NaN</td>\n",
       "      <td>basic</td>\n",
       "      <td>0</td>\n",
       "      <td>en</td>\n",
       "      <td>direct</td>\n",
       "      <td>direct</td>\n",
       "      <td>linked</td>\n",
       "      <td>Web</td>\n",
       "      <td>Windows Desktop</td>\n",
       "      <td>Chrome</td>\n",
       "    </tr>\n",
       "    <tr>\n",
       "      <th>3</th>\n",
       "      <td>6c6puo6ix0</td>\n",
       "      <td>2014-07-01</td>\n",
       "      <td>20140701000215</td>\n",
       "      <td>NaN</td>\n",
       "      <td>-unknown-</td>\n",
       "      <td>NaN</td>\n",
       "      <td>basic</td>\n",
       "      <td>0</td>\n",
       "      <td>en</td>\n",
       "      <td>direct</td>\n",
       "      <td>direct</td>\n",
       "      <td>linked</td>\n",
       "      <td>Web</td>\n",
       "      <td>Windows Desktop</td>\n",
       "      <td>IE</td>\n",
       "    </tr>\n",
       "    <tr>\n",
       "      <th>4</th>\n",
       "      <td>czqhjk3yfe</td>\n",
       "      <td>2014-07-01</td>\n",
       "      <td>20140701000305</td>\n",
       "      <td>NaN</td>\n",
       "      <td>-unknown-</td>\n",
       "      <td>NaN</td>\n",
       "      <td>basic</td>\n",
       "      <td>0</td>\n",
       "      <td>en</td>\n",
       "      <td>direct</td>\n",
       "      <td>direct</td>\n",
       "      <td>untracked</td>\n",
       "      <td>Web</td>\n",
       "      <td>Mac Desktop</td>\n",
       "      <td>Safari</td>\n",
       "    </tr>\n",
       "  </tbody>\n",
       "</table>\n",
       "</div>"
      ],
      "text/plain": [
       "           id date_account_created  timestamp_first_active  \\\n",
       "0  5uwns89zht           2014-07-01          20140701000006   \n",
       "1  jtl0dijy2j           2014-07-01          20140701000051   \n",
       "2  xx0ulgorjt           2014-07-01          20140701000148   \n",
       "3  6c6puo6ix0           2014-07-01          20140701000215   \n",
       "4  czqhjk3yfe           2014-07-01          20140701000305   \n",
       "\n",
       "   date_first_booking     gender   age signup_method  signup_flow language  \\\n",
       "0                 NaN     FEMALE  35.0      facebook            0       en   \n",
       "1                 NaN  -unknown-   NaN         basic            0       en   \n",
       "2                 NaN  -unknown-   NaN         basic            0       en   \n",
       "3                 NaN  -unknown-   NaN         basic            0       en   \n",
       "4                 NaN  -unknown-   NaN         basic            0       en   \n",
       "\n",
       "  affiliate_channel affiliate_provider first_affiliate_tracked signup_app  \\\n",
       "0            direct             direct               untracked      Moweb   \n",
       "1            direct             direct               untracked      Moweb   \n",
       "2            direct             direct                  linked        Web   \n",
       "3            direct             direct                  linked        Web   \n",
       "4            direct             direct               untracked        Web   \n",
       "\n",
       "  first_device_type  first_browser  \n",
       "0            iPhone  Mobile Safari  \n",
       "1            iPhone  Mobile Safari  \n",
       "2   Windows Desktop         Chrome  \n",
       "3   Windows Desktop             IE  \n",
       "4       Mac Desktop         Safari  "
      ]
     },
     "execution_count": 34,
     "metadata": {},
     "output_type": "execute_result"
    }
   ],
   "source": [
    "train_users_df.head()"
   ]
  },
  {
   "cell_type": "code",
   "execution_count": 35,
   "metadata": {},
   "outputs": [
    {
     "data": {
      "text/plain": [
       "id                             0\n",
       "date_account_created           0\n",
       "timestamp_first_active         0\n",
       "date_first_booking         62096\n",
       "gender                         0\n",
       "age                        28876\n",
       "signup_method                  0\n",
       "signup_flow                    0\n",
       "language                       0\n",
       "affiliate_channel              0\n",
       "affiliate_provider             0\n",
       "first_affiliate_tracked       20\n",
       "signup_app                     0\n",
       "first_device_type              0\n",
       "first_browser                  0\n",
       "dtype: int64"
      ]
     },
     "execution_count": 35,
     "metadata": {},
     "output_type": "execute_result"
    }
   ],
   "source": [
    "train_users_df.isnull().sum()"
   ]
  },
  {
   "cell_type": "code",
   "execution_count": 48,
   "metadata": {},
   "outputs": [
    {
     "data": {
      "text/plain": [
       "array(['2014-07-01', '2014-07-02', '2014-07-03', '2014-07-04',\n",
       "       '2014-07-05', '2014-07-06', '2014-07-07', '2014-07-08',\n",
       "       '2014-07-09', '2014-07-10', '2014-07-11', '2014-07-12',\n",
       "       '2014-07-13', '2014-07-14', '2014-07-15', '2014-07-16',\n",
       "       '2014-07-17', '2014-07-18', '2014-07-19', '2014-07-20',\n",
       "       '2014-07-21', '2014-07-22', '2014-07-23', '2014-07-24',\n",
       "       '2014-07-25', '2014-07-26', '2014-07-27', '2014-07-28',\n",
       "       '2014-07-29', '2014-07-30', '2014-07-31', '2014-08-01',\n",
       "       '2014-08-02', '2014-08-03', '2014-08-04', '2014-08-05',\n",
       "       '2014-08-06', '2014-08-07', '2014-08-08', '2014-08-09',\n",
       "       '2014-08-10', '2014-08-11', '2014-08-12', '2014-08-13',\n",
       "       '2014-08-14', '2014-08-15', '2014-08-16', '2014-08-17',\n",
       "       '2014-08-18', '2014-08-19', '2014-08-20', '2014-08-21',\n",
       "       '2014-08-22', '2014-08-23', '2014-08-24', '2014-08-25',\n",
       "       '2014-08-26', '2014-08-27', '2014-08-28', '2014-08-29',\n",
       "       '2014-08-30', '2014-08-31', '2014-09-01', '2014-09-02',\n",
       "       '2014-09-03', '2014-09-04', '2014-09-05', '2014-09-06',\n",
       "       '2014-09-07', '2014-09-08', '2014-09-09', '2014-09-10',\n",
       "       '2014-09-11', '2014-09-12', '2014-09-13', '2014-09-14',\n",
       "       '2014-09-15', '2014-09-16', '2014-09-17', '2014-09-18',\n",
       "       '2014-09-19', '2014-09-20', '2014-09-21', '2014-09-22',\n",
       "       '2014-09-23', '2014-09-24', '2014-09-25', '2014-09-26',\n",
       "       '2014-09-27', '2014-09-28', '2014-09-29', '2014-09-30'],\n",
       "      dtype=object)"
      ]
     },
     "execution_count": 48,
     "metadata": {},
     "output_type": "execute_result"
    }
   ],
   "source": [
    "train_users_df.date_account_created.unique()"
   ]
  },
  {
   "cell_type": "markdown",
   "metadata": {},
   "source": [
    "### Tratamiento de __age__"
   ]
  },
  {
   "cell_type": "markdown",
   "metadata": {},
   "source": [
    "Tratamos los datos faltantes en __age__ y eliminamos outliers"
   ]
  },
  {
   "cell_type": "code",
   "execution_count": 36,
   "metadata": {},
   "outputs": [
    {
     "data": {
      "text/plain": [
       "count    33220.000000\n",
       "mean        37.616677\n",
       "std         74.440647\n",
       "min          1.000000\n",
       "25%         26.000000\n",
       "50%         31.000000\n",
       "75%         40.000000\n",
       "max       2002.000000\n",
       "Name: age, dtype: float64"
      ]
     },
     "execution_count": 36,
     "metadata": {},
     "output_type": "execute_result"
    }
   ],
   "source": [
    "train_users_df.age.describe()"
   ]
  },
  {
   "cell_type": "code",
   "execution_count": 37,
   "metadata": {},
   "outputs": [
    {
     "data": {
      "image/png": "[encoded data removed]",
      "text/plain": [
       "<Figure size 864x576 with 1 Axes>"
      ]
     },
     "metadata": {
      "needs_background": "light"
     },
     "output_type": "display_data"
    }
   ],
   "source": [
    "plt.figure(figsize=(12,8))\n",
    "sns.distplot(train_users_df['age'].dropna(),bins=10, label='Age')\n",
    "plt.legend(bbox_to_anchor=(1, 1))\n",
    "sns.despine()"
   ]
  },
  {
   "cell_type": "code",
   "execution_count": 40,
   "metadata": {},
   "outputs": [],
   "source": [
    "train_users_df = train_users_df[ train_users_df.age < 100 ]"
   ]
  },
  {
   "cell_type": "code",
   "execution_count": 41,
   "metadata": {},
   "outputs": [],
   "source": [
    "train_users_df = train_users_df[ train_users_df.age > 13 ]"
   ]
  },
  {
   "cell_type": "code",
   "execution_count": 42,
   "metadata": {},
   "outputs": [
    {
     "data": {
      "image/png": "[encoded data removed]",
      "text/plain": [
       "<Figure size 864x576 with 1 Axes>"
      ]
     },
     "metadata": {
      "needs_background": "light"
     },
     "output_type": "display_data"
    }
   ],
   "source": [
    "plt.figure(figsize=(12,8))\n",
    "sns.distplot(train_users_df['age'].dropna(),bins=10, label='Age')\n",
    "plt.legend(bbox_to_anchor=(1, 1))\n",
    "sns.despine()"
   ]
  },
  {
   "cell_type": "markdown",
   "metadata": {},
   "source": [
    "### Tratamiento de __first_affiliate_tracked__ y otros relacionados"
   ]
  },
  {
   "cell_type": "code",
   "execution_count": 43,
   "metadata": {},
   "outputs": [
    {
     "data": {
      "text/plain": [
       "id                             0\n",
       "date_account_created           0\n",
       "timestamp_first_active         0\n",
       "date_first_booking         32868\n",
       "gender                         0\n",
       "age                            0\n",
       "signup_method                  0\n",
       "signup_flow                    0\n",
       "language                       0\n",
       "affiliate_channel              0\n",
       "affiliate_provider             0\n",
       "first_affiliate_tracked       12\n",
       "signup_app                     0\n",
       "first_device_type              0\n",
       "first_browser                  0\n",
       "dtype: int64"
      ]
     },
     "execution_count": 43,
     "metadata": {},
     "output_type": "execute_result"
    }
   ],
   "source": [
    "train_users_df.isnull().sum()"
   ]
  },
  {
   "cell_type": "code",
   "execution_count": 44,
   "metadata": {},
   "outputs": [
    {
     "data": {
      "text/plain": [
       "array(['untracked', 'omg', 'linked', 'product', 'marketing',\n",
       "       'tracked-other', nan, 'local ops'], dtype=object)"
      ]
     },
     "execution_count": 44,
     "metadata": {},
     "output_type": "execute_result"
    }
   ],
   "source": [
    "train_users_df['first_affiliate_tracked'].unique()"
   ]
  },
  {
   "cell_type": "code",
   "execution_count": 45,
   "metadata": {},
   "outputs": [],
   "source": [
    "train_users_df.dropna(subset=['first_affiliate_tracked'], inplace=True)"
   ]
  },
  {
   "cell_type": "markdown",
   "metadata": {},
   "source": [
    "### Tratamiento de __language__"
   ]
  },
  {
   "cell_type": "code",
   "execution_count": 52,
   "metadata": {},
   "outputs": [
    {
     "data": {
      "text/plain": [
       "array(['en', 'de', 'zh', 'fr', 'ko', 'sv', 'no', 'it', 'es', 'nl', 'ja',\n",
       "       'ru', 'pt', 'tr', 'cs', 'el', 'hu', 'pl', 'da', 'fi', 'th', 'ca',\n",
       "       '-unknown-', 'id'], dtype=object)"
      ]
     },
     "execution_count": 52,
     "metadata": {},
     "output_type": "execute_result"
    }
   ],
   "source": [
    "train_users_df['language'].unique()"
   ]
  },
  {
   "cell_type": "code",
   "execution_count": 53,
   "metadata": {},
   "outputs": [
    {
     "data": {
      "text/plain": [
       "language\n",
       "-unknown-        1\n",
       "ca               1\n",
       "cs              17\n",
       "da              17\n",
       "de             245\n",
       "el               6\n",
       "en           59224\n",
       "es             259\n",
       "fi               6\n",
       "fr             336\n",
       "hu               7\n",
       "id               1\n",
       "it             119\n",
       "ja             120\n",
       "ko             369\n",
       "nl              37\n",
       "no              21\n",
       "pl              21\n",
       "pt              82\n",
       "ru             119\n",
       "sv              54\n",
       "th               4\n",
       "tr              28\n",
       "zh            1002\n",
       "Name: language, dtype: int64"
      ]
     },
     "execution_count": 53,
     "metadata": {},
     "output_type": "execute_result"
    }
   ],
   "source": [
    "train_users_df.groupby('language')['language'].count()"
   ]
  },
  {
   "cell_type": "code",
   "execution_count": 54,
   "metadata": {},
   "outputs": [
    {
     "data": {
      "text/plain": [
       "0.9537490337541871"
      ]
     },
     "execution_count": 54,
     "metadata": {},
     "output_type": "execute_result"
    }
   ],
   "source": [
    "len( train_users_df[ train_users_df['language']==\"en\" ]) /  len(train_users_df)"
   ]
  },
  {
   "cell_type": "markdown",
   "metadata": {},
   "source": [
    "Se observa una gran mayoría de usuarios con lenguaje \"Ingles\" (95%)  \n",
    "Veamos cual es la distribucion en el resto de los casos"
   ]
  },
  {
   "cell_type": "code",
   "execution_count": 56,
   "metadata": {},
   "outputs": [
    {
     "data": {
      "image/png": "[encoded data removed]",
      "text/plain": [
       "<Figure size 720x432 with 1 Axes>"
      ]
     },
     "metadata": {
      "needs_background": "light"
     },
     "output_type": "display_data"
    }
   ],
   "source": [
    "plt.figure(figsize=(10,6))\n",
    "\n",
    "sns.countplot( data = train_users_df.query('language!=\"en\"'), x='language')\n",
    "\n",
    "sns.despine(left=True)"
   ]
  },
  {
   "cell_type": "markdown",
   "metadata": {},
   "source": [
    "### Tratamiento de __gender__"
   ]
  },
  {
   "cell_type": "code",
   "execution_count": 58,
   "metadata": {},
   "outputs": [
    {
     "data": {
      "text/plain": [
       "array(['FEMALE', '-unknown-', 'MALE', 'OTHER'], dtype=object)"
      ]
     },
     "execution_count": 58,
     "metadata": {},
     "output_type": "execute_result"
    }
   ],
   "source": [
    "train_users_df['gender'].unique()"
   ]
  },
  {
   "cell_type": "code",
   "execution_count": 59,
   "metadata": {},
   "outputs": [
    {
     "data": {
      "text/plain": [
       "gender\n",
       "-unknown-    33792\n",
       "FEMALE       14483\n",
       "MALE         13769\n",
       "OTHER           52\n",
       "Name: gender, dtype: int64"
      ]
     },
     "execution_count": 59,
     "metadata": {},
     "output_type": "execute_result"
    }
   ],
   "source": [
    "train_users_df.groupby('gender')['gender'].count()"
   ]
  },
  {
   "cell_type": "markdown",
   "metadata": {},
   "source": [
    "Creo que la caracteristica de gender unknown es algo que deberiamos conservar, por lo que no vamos a hacer ningun tratamiento especial con ese valor. En el caso de \"other\", cuya frecuencia es muy baja, la reemplazamos por -unknown-"
   ]
  },
  {
   "cell_type": "code",
   "execution_count": 65,
   "metadata": {},
   "outputs": [],
   "source": [
    "train_users_df.gender.replace('-unknown-','OTHER', inplace=True)"
   ]
  },
  {
   "cell_type": "code",
   "execution_count": 66,
   "metadata": {},
   "outputs": [
    {
     "data": {
      "text/plain": [
       "gender\n",
       "FEMALE    14483\n",
       "MALE      13769\n",
       "OTHER     33844\n",
       "Name: gender, dtype: int64"
      ]
     },
     "execution_count": 66,
     "metadata": {},
     "output_type": "execute_result"
    }
   ],
   "source": [
    "train_users_df.groupby('gender')['gender'].count()"
   ]
  },
  {
   "cell_type": "code",
   "execution_count": 67,
   "metadata": {},
   "outputs": [
    {
     "data": {
      "image/png": "[encoded data removed]",
      "text/plain": [
       "<Figure size 720x432 with 1 Axes>"
      ]
     },
     "metadata": {
      "needs_background": "light"
     },
     "output_type": "display_data"
    }
   ],
   "source": [
    "plt.figure(figsize=(10,6))\n",
    "\n",
    "sns.countplot(  train_users_df['gender'] )\n",
    "\n",
    "sns.despine(left=True)"
   ]
  },
  {
   "cell_type": "code",
   "execution_count": null,
   "metadata": {},
   "outputs": [],
   "source": []
  }
 ],
 "metadata": {
  "kernelspec": {
   "display_name": "Python 3",
   "language": "python",
   "name": "python3"
  },
  "language_info": {
   "codemirror_mode": {
    "name": "ipython",
    "version": 3
   },
   "file_extension": ".py",
   "mimetype": "text/x-python",
   "name": "python",
   "nbconvert_exporter": "python",
   "pygments_lexer": "ipython3",
   "version": "3.6.8"
  }
 },
 "nbformat": 4,
 "nbformat_minor": 4
}
