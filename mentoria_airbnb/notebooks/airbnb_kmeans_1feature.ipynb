{
 "cells": [
  {
   "cell_type": "code",
   "execution_count": 1,
   "metadata": {},
   "outputs": [],
   "source": [
    "# Import Libraries\n",
    "import pandas as pd\n",
    "import matplotlib.pyplot as plt\n",
    "import numpy as np\n",
    "from scipy.sparse import csr_matrix\n",
    "from mpl_toolkits.axes_grid1 import make_axes_locatable\n",
    "from sklearn.cluster import KMeans\n",
    "from sklearn.metrics import mean_squared_error\n",
    "import itertools\n",
    "from sklearn.metrics import silhouette_samples, silhouette_score\n",
    "\n",
    "import seaborn as sns\n",
    "\n",
    "from yellowbrick.cluster import SilhouetteVisualizer\n",
    "\n",
    "import warnings\n",
    "\n",
    "\n",
    "%load_ext autoreload\n",
    "%autoreload 2\n",
    "\n",
    "warnings.filterwarnings('ignore')\n"
   ]
  },
  {
   "cell_type": "code",
   "execution_count": 2,
   "metadata": {},
   "outputs": [],
   "source": [
    "dataset_path = \"..//datos//\"\n",
    "abnb_users_curated = \"modified_train_users.csv\""
   ]
  },
  {
   "cell_type": "code",
   "execution_count": 3,
   "metadata": {},
   "outputs": [],
   "source": [
    "\n",
    "users_df = pd.read_csv( dataset_path + abnb_users_curated)"
   ]
  },
  {
   "cell_type": "code",
   "execution_count": 4,
   "metadata": {},
   "outputs": [
    {
     "name": "stdout",
     "output_type": "stream",
     "text": [
      "The dataset contains:  121070  users.\n"
     ]
    }
   ],
   "source": [
    "# Print the number of records and the total number of movies\n",
    "print('The dataset contains: ', len(users_df),' users.')"
   ]
  },
  {
   "cell_type": "code",
   "execution_count": 5,
   "metadata": {},
   "outputs": [
    {
     "data": {
      "text/html": [
       "<div>\n",
       "<style scoped>\n",
       "    .dataframe tbody tr th:only-of-type {\n",
       "        vertical-align: middle;\n",
       "    }\n",
       "\n",
       "    .dataframe tbody tr th {\n",
       "        vertical-align: top;\n",
       "    }\n",
       "\n",
       "    .dataframe thead th {\n",
       "        text-align: right;\n",
       "    }\n",
       "</style>\n",
       "<table border=\"1\" class=\"dataframe\">\n",
       "  <thead>\n",
       "    <tr style=\"text-align: right;\">\n",
       "      <th></th>\n",
       "      <th>Unnamed: 0</th>\n",
       "      <th>id</th>\n",
       "      <th>date_account_created</th>\n",
       "      <th>timestamp_first_active</th>\n",
       "      <th>date_first_booking</th>\n",
       "      <th>gender</th>\n",
       "      <th>age</th>\n",
       "      <th>signup_method</th>\n",
       "      <th>signup_flow</th>\n",
       "      <th>language</th>\n",
       "      <th>...</th>\n",
       "      <th>first_affiliate_tracked</th>\n",
       "      <th>signup_app</th>\n",
       "      <th>first_device_type</th>\n",
       "      <th>first_browser</th>\n",
       "      <th>country_destination</th>\n",
       "      <th>total_seconds</th>\n",
       "      <th>average_seconds</th>\n",
       "      <th>total_sessions</th>\n",
       "      <th>number_of_devices</th>\n",
       "      <th>has_booked</th>\n",
       "    </tr>\n",
       "  </thead>\n",
       "  <tbody>\n",
       "    <tr>\n",
       "      <th>0</th>\n",
       "      <td>1</td>\n",
       "      <td>820tgsjxq7</td>\n",
       "      <td>1306281600</td>\n",
       "      <td>1243100889</td>\n",
       "      <td>-9223372037</td>\n",
       "      <td>1</td>\n",
       "      <td>38.0</td>\n",
       "      <td>1</td>\n",
       "      <td>0</td>\n",
       "      <td>5</td>\n",
       "      <td>...</td>\n",
       "      <td>6</td>\n",
       "      <td>2</td>\n",
       "      <td>3</td>\n",
       "      <td>7</td>\n",
       "      <td>0</td>\n",
       "      <td>0.0</td>\n",
       "      <td>0.0</td>\n",
       "      <td>1</td>\n",
       "      <td>1</td>\n",
       "      <td>False</td>\n",
       "    </tr>\n",
       "    <tr>\n",
       "      <th>1</th>\n",
       "      <td>2</td>\n",
       "      <td>4ft3gnwmtx</td>\n",
       "      <td>1285632000</td>\n",
       "      <td>1244589167</td>\n",
       "      <td>1280707200</td>\n",
       "      <td>0</td>\n",
       "      <td>56.0</td>\n",
       "      <td>0</td>\n",
       "      <td>3</td>\n",
       "      <td>5</td>\n",
       "      <td>...</td>\n",
       "      <td>6</td>\n",
       "      <td>2</td>\n",
       "      <td>6</td>\n",
       "      <td>14</td>\n",
       "      <td>1</td>\n",
       "      <td>0.0</td>\n",
       "      <td>0.0</td>\n",
       "      <td>1</td>\n",
       "      <td>1</td>\n",
       "      <td>True</td>\n",
       "    </tr>\n",
       "    <tr>\n",
       "      <th>2</th>\n",
       "      <td>3</td>\n",
       "      <td>bjjt8pjhuk</td>\n",
       "      <td>1323043200</td>\n",
       "      <td>1256968889</td>\n",
       "      <td>1347062400</td>\n",
       "      <td>0</td>\n",
       "      <td>42.0</td>\n",
       "      <td>1</td>\n",
       "      <td>0</td>\n",
       "      <td>5</td>\n",
       "      <td>...</td>\n",
       "      <td>6</td>\n",
       "      <td>2</td>\n",
       "      <td>3</td>\n",
       "      <td>13</td>\n",
       "      <td>2</td>\n",
       "      <td>0.0</td>\n",
       "      <td>0.0</td>\n",
       "      <td>1</td>\n",
       "      <td>1</td>\n",
       "      <td>True</td>\n",
       "    </tr>\n",
       "    <tr>\n",
       "      <th>3</th>\n",
       "      <td>4</td>\n",
       "      <td>87mebub9p4</td>\n",
       "      <td>1284422400</td>\n",
       "      <td>1260252665</td>\n",
       "      <td>1266451200</td>\n",
       "      <td>2</td>\n",
       "      <td>41.0</td>\n",
       "      <td>0</td>\n",
       "      <td>0</td>\n",
       "      <td>5</td>\n",
       "      <td>...</td>\n",
       "      <td>6</td>\n",
       "      <td>2</td>\n",
       "      <td>3</td>\n",
       "      <td>7</td>\n",
       "      <td>1</td>\n",
       "      <td>0.0</td>\n",
       "      <td>0.0</td>\n",
       "      <td>1</td>\n",
       "      <td>1</td>\n",
       "      <td>True</td>\n",
       "    </tr>\n",
       "    <tr>\n",
       "      <th>4</th>\n",
       "      <td>6</td>\n",
       "      <td>lsw9q7uk0j</td>\n",
       "      <td>1262390400</td>\n",
       "      <td>1262395558</td>\n",
       "      <td>1262649600</td>\n",
       "      <td>0</td>\n",
       "      <td>46.0</td>\n",
       "      <td>0</td>\n",
       "      <td>0</td>\n",
       "      <td>5</td>\n",
       "      <td>...</td>\n",
       "      <td>6</td>\n",
       "      <td>2</td>\n",
       "      <td>3</td>\n",
       "      <td>30</td>\n",
       "      <td>1</td>\n",
       "      <td>0.0</td>\n",
       "      <td>0.0</td>\n",
       "      <td>1</td>\n",
       "      <td>1</td>\n",
       "      <td>True</td>\n",
       "    </tr>\n",
       "  </tbody>\n",
       "</table>\n",
       "<p>5 rows × 22 columns</p>\n",
       "</div>"
      ],
      "text/plain": [
       "   Unnamed: 0          id  date_account_created  timestamp_first_active  \\\n",
       "0           1  820tgsjxq7            1306281600              1243100889   \n",
       "1           2  4ft3gnwmtx            1285632000              1244589167   \n",
       "2           3  bjjt8pjhuk            1323043200              1256968889   \n",
       "3           4  87mebub9p4            1284422400              1260252665   \n",
       "4           6  lsw9q7uk0j            1262390400              1262395558   \n",
       "\n",
       "   date_first_booking  gender   age  signup_method  signup_flow  language  \\\n",
       "0         -9223372037       1  38.0              1            0         5   \n",
       "1          1280707200       0  56.0              0            3         5   \n",
       "2          1347062400       0  42.0              1            0         5   \n",
       "3          1266451200       2  41.0              0            0         5   \n",
       "4          1262649600       0  46.0              0            0         5   \n",
       "\n",
       "   ...  first_affiliate_tracked  signup_app  first_device_type  first_browser  \\\n",
       "0  ...                        6           2                  3              7   \n",
       "1  ...                        6           2                  6             14   \n",
       "2  ...                        6           2                  3             13   \n",
       "3  ...                        6           2                  3              7   \n",
       "4  ...                        6           2                  3             30   \n",
       "\n",
       "   country_destination  total_seconds  average_seconds  total_sessions  \\\n",
       "0                    0            0.0              0.0               1   \n",
       "1                    1            0.0              0.0               1   \n",
       "2                    2            0.0              0.0               1   \n",
       "3                    1            0.0              0.0               1   \n",
       "4                    1            0.0              0.0               1   \n",
       "\n",
       "   number_of_devices  has_booked  \n",
       "0                  1       False  \n",
       "1                  1        True  \n",
       "2                  1        True  \n",
       "3                  1        True  \n",
       "4                  1        True  \n",
       "\n",
       "[5 rows x 22 columns]"
      ]
     },
     "execution_count": 5,
     "metadata": {},
     "output_type": "execute_result"
    }
   ],
   "source": [
    "users_df.head()"
   ]
  },
  {
   "cell_type": "code",
   "execution_count": 6,
   "metadata": {},
   "outputs": [
    {
     "name": "stdout",
     "output_type": "stream",
     "text": [
      "Number of records:  66836\n"
     ]
    },
    {
     "data": {
      "text/html": [
       "<div>\n",
       "<style scoped>\n",
       "    .dataframe tbody tr th:only-of-type {\n",
       "        vertical-align: middle;\n",
       "    }\n",
       "\n",
       "    .dataframe tbody tr th {\n",
       "        vertical-align: top;\n",
       "    }\n",
       "\n",
       "    .dataframe thead th {\n",
       "        text-align: right;\n",
       "    }\n",
       "</style>\n",
       "<table border=\"1\" class=\"dataframe\">\n",
       "  <thead>\n",
       "    <tr style=\"text-align: right;\">\n",
       "      <th></th>\n",
       "      <th>age</th>\n",
       "    </tr>\n",
       "  </thead>\n",
       "  <tbody>\n",
       "    <tr>\n",
       "      <th>1</th>\n",
       "      <td>56.0</td>\n",
       "    </tr>\n",
       "    <tr>\n",
       "      <th>2</th>\n",
       "      <td>42.0</td>\n",
       "    </tr>\n",
       "    <tr>\n",
       "      <th>3</th>\n",
       "      <td>41.0</td>\n",
       "    </tr>\n",
       "    <tr>\n",
       "      <th>4</th>\n",
       "      <td>46.0</td>\n",
       "    </tr>\n",
       "    <tr>\n",
       "      <th>5</th>\n",
       "      <td>47.0</td>\n",
       "    </tr>\n",
       "  </tbody>\n",
       "</table>\n",
       "</div>"
      ],
      "text/plain": [
       "    age\n",
       "1  56.0\n",
       "2  42.0\n",
       "3  41.0\n",
       "4  46.0\n",
       "5  47.0"
      ]
     },
     "execution_count": 6,
     "metadata": {},
     "output_type": "execute_result"
    }
   ],
   "source": [
    "users_has_booked_df = users_df[ users_df['has_booked'] == True]\n",
    "users_to_cluster_df = users_has_booked_df[ ['age']]\n",
    "\n",
    "print( \"Number of records: \", len(users_to_cluster_df))\n",
    "users_to_cluster_df.head()"
   ]
  },
  {
   "cell_type": "code",
   "execution_count": 7,
   "metadata": {},
   "outputs": [],
   "source": [
    "# Let's turn our dataset into a list\n",
    "\n",
    "users_to_cluster = users_to_cluster_df.values"
   ]
  },
  {
   "cell_type": "code",
   "execution_count": 8,
   "metadata": {},
   "outputs": [],
   "source": [
    "# Defining the scatterplot drawing function\n",
    "def draw_scatterplot(x_data, x_label, y_data, y_label):\n",
    "    fig = plt.figure(figsize=(8,8))\n",
    "    ax = fig.add_subplot(111)    \n",
    "    \n",
    "    #plt.xlim(0, 5)\n",
    "   # plt.ylim(0, 5)\n",
    "    ax.set_xlabel(x_label)\n",
    "    ax.set_ylabel(y_label)\n",
    "    ax.scatter(x_data, y_data, s=30)\n",
    "    "
   ]
  },
  {
   "cell_type": "code",
   "execution_count": 9,
   "metadata": {},
   "outputs": [],
   "source": [
    "# Defining the cluster plotting function\n",
    "def draw_clusters(biased_dataset, predictions, cmap='viridis'):\n",
    "    \n",
    "    fig = plt.figure(figsize=(8,8))\n",
    "    ax = fig.add_subplot(111)\n",
    "    ax.set_xlabel('gender')\n",
    "    ax.set_ylabel('region')\n",
    "    \n",
    "    clustered = pd.concat([biased_dataset.reset_index(), pd.DataFrame({'group':predictions})], axis=1)\n",
    "    plt.scatter(clustered['gender'], clustered['age'], c=clustered['group'], s=20, cmap=cmap)\n",
    "    \n"
   ]
  },
  {
   "cell_type": "code",
   "execution_count": 10,
   "metadata": {},
   "outputs": [],
   "source": [
    "def add_cluster_to_dataset( original_df, predictions):\n",
    "    return  pd.concat([original_df.reset_index(), pd.DataFrame({'group':predictions})], axis=1)"
   ]
  },
  {
   "cell_type": "code",
   "execution_count": 11,
   "metadata": {},
   "outputs": [],
   "source": [
    "def cluster_show_by_age_region( clustered ):\n",
    "\n",
    "#    fig = plt.figure(figsize=(8,8))\n",
    "#    ax = fig.add_subplot(111)\n",
    "#    ax.set_xlabel('age')\n",
    "#    ax.set_ylabel('region')\n",
    "\n",
    "#    plt.scatter(clustered['age'], clustered['region_destination'], label='group', c=clustered['group'], s=20)\n",
    "#    plt.scatter(clustered['age'], clustered['region_destination'], \n",
    "#                label=, c=clustered['group'], s=20,\n",
    "#               marker='o')\n",
    " \n",
    "#    plt.legend(loc=2)\n",
    "#    plt.show()   \n",
    "\n",
    "    sns.set(style=\"white\")\n",
    "    sns.relplot(x=\"age\", y=\"region_destination\", hue=\"group\",\n",
    "            sizes=(40, 400), alpha=.5,\n",
    "            height=6, data=clustered)"
   ]
  },
  {
   "cell_type": "code",
   "execution_count": 12,
   "metadata": {},
   "outputs": [],
   "source": [
    "def cluster_show_by_age_gender( clustered ):\n",
    "\n",
    "#    fig = plt.figure(figsize=(8,8))\n",
    "#    ax = fig.add_subplot(111)\n",
    "#    ax.set_xlabel('age')\n",
    "#    ax.set_ylabel('region')\n",
    "\n",
    "#    plt.scatter(clustered['age'], clustered['region_destination'], label='group', c=clustered['group'], s=20)\n",
    "#    plt.scatter(clustered['age'], clustered['region_destination'], \n",
    "#                label=, c=clustered['group'], s=20,\n",
    "#               marker='o')\n",
    " \n",
    "#    plt.legend(loc=2)\n",
    "#    plt.show()   \n",
    "    colores=['red','green','blue','cyan','yellow']\n",
    "    sns.set(style=\"white\")\n",
    "    sns.relplot(x=\"gender\", y=\"age\", hue=\"group\",\n",
    "            sizes=(40, 400), alpha=.5,\n",
    "            height=6, data=clustered)"
   ]
  },
  {
   "cell_type": "code",
   "execution_count": 13,
   "metadata": {},
   "outputs": [],
   "source": [
    "def cluster_show_by( clustered, x_label, y_label):\n",
    "\n",
    "#    fig = plt.figure(figsize=(8,8))\n",
    "#    ax = fig.add_subplot(111)\n",
    "#    ax.set_xlabel('age')\n",
    "#    ax.set_ylabel('region')\n",
    "\n",
    "#    plt.scatter(clustered['age'], clustered['region_destination'], label='group', c=clustered['group'], s=20)\n",
    "#    plt.scatter(clustered['age'], clustered['region_destination'], \n",
    "#                label=, c=clustered['group'], s=20,\n",
    "#               marker='o')\n",
    " \n",
    "#    plt.legend(loc=2)\n",
    "#    plt.show()   \n",
    "    colores=['red','green','blue','cyan','yellow']\n",
    "    sns.set(style=\"white\")\n",
    "    sns.relplot(x=x_label, y=y_label, hue=\"group\",\n",
    "            sizes=(40, 400), alpha=.5,\n",
    "            height=6, data=clustered)"
   ]
  },
  {
   "cell_type": "markdown",
   "metadata": {},
   "source": [
    "# Clustering"
   ]
  },
  {
   "cell_type": "code",
   "execution_count": null,
   "metadata": {},
   "outputs": [],
   "source": []
  },
  {
   "cell_type": "markdown",
   "metadata": {},
   "source": [
    "Silhouette analysis can be used to study the separation distance between the resulting clusters. The silhouette plot displays a __measure of how close each point in one cluster is to points in the neighboring clusters__ and thus provides a way to assess parameters like number of clusters visually. This measure has a range of [-1, 1].\n",
    "\n",
    "Silhouette coefficients (as these values are referred to as):  \n",
    "* near +1 indicate that the sample is far away from the neighboring clusters. \n",
    "* A value of 0 indicates that the sample is on or very close to the decision boundary between two neighboring clusters and   \n",
    "* negative values indicate that those samples might have been assigned to the wrong cluster"
   ]
  },
  {
   "cell_type": "markdown",
   "metadata": {},
   "source": [
    "## Ejecutamos K-Means para valores de k entre 2 y 5"
   ]
  },
  {
   "cell_type": "code",
   "execution_count": 15,
   "metadata": {},
   "outputs": [
    {
     "name": "stdout",
     "output_type": "stream",
     "text": [
      "\n",
      "k =  2\n",
      "Inertia:  2656040.0094788037\n",
      "Centers:  [[30.93673055]\n",
      " [52.50108905]]\n"
     ]
    },
    {
     "data": {
      "image/png": "[encoded data removed]",
      "text/plain": [
       "<Figure size 432x288 with 1 Axes>"
      ]
     },
     "metadata": {
      "needs_background": "light"
     },
     "output_type": "display_data"
    },
    {
     "name": "stdout",
     "output_type": "stream",
     "text": [
      "\n",
      "k =  3\n",
      "Inertia:  1370105.7343367427\n",
      "Centers:  [[58.89214211]\n",
      " [28.56363685]\n",
      " [40.2121154 ]]\n"
     ]
    },
    {
     "data": {
      "image/png": "[encoded data removed]",
      "text/plain": [
       "<Figure size 288x288 with 1 Axes>"
      ]
     },
     "metadata": {
      "needs_background": "light"
     },
     "output_type": "display_data"
    },
    {
     "name": "stdout",
     "output_type": "stream",
     "text": [
      "\n",
      "k =  4\n",
      "Inertia:  834711.6256292487\n",
      "Centers:  [[26.47539021]\n",
      " [46.30098656]\n",
      " [62.57892882]\n",
      " [34.68150413]]\n"
     ]
    },
    {
     "data": {
      "image/png": "[encoded data removed]",
      "text/plain": [
       "<Figure size 288x288 with 1 Axes>"
      ]
     },
     "metadata": {
      "needs_background": "light"
     },
     "output_type": "display_data"
    },
    {
     "name": "stdout",
     "output_type": "stream",
     "text": [
      "\n",
      "k =  5\n",
      "Inertia:  580661.8151119204\n",
      "Centers:  [[32.2186485 ]\n",
      " [52.26318651]\n",
      " [66.35278592]\n",
      " [25.22350472]\n",
      " [40.77673738]]\n"
     ]
    },
    {
     "data": {
      "image/png": "[encoded data removed]",
      "text/plain": [
       "<Figure size 288x288 with 1 Axes>"
      ]
     },
     "metadata": {
      "needs_background": "light"
     },
     "output_type": "display_data"
    },
    {
     "data": {
      "image/png": "[encoded data removed]",
      "text/plain": [
       "<Figure size 288x288 with 1 Axes>"
      ]
     },
     "metadata": {
      "needs_background": "light"
     },
     "output_type": "display_data"
    }
   ],
   "source": [
    "# Clusters to generate\n",
    "\n",
    "k_sets = [2,3,4,5]\n",
    "\n",
    "for k in k_sets:\n",
    "    \n",
    "    print(\"\\nk = \", k)\n",
    "    \n",
    "    clusterer = KMeans( k, random_state=7 )\n",
    "    \n",
    "    predictions = clusterer.fit_predict( users_to_cluster )\n",
    " \n",
    "    print(\"Inertia: \", clusterer.inertia_ )\n",
    "    print(\"Centers: \", clusterer.cluster_centers_)\n",
    "\n",
    "    visualizer = SilhouetteVisualizer(clusterer, colors='yellowbrick')\n",
    "\n",
    "    visualizer.fit(users_to_cluster)        # Fit the data to the visualizer\n",
    "    visualizer.show()        # Finalize and render the figure\n",
    "\n",
    "#    silhouette_avg = silhouette_score(users_to_cluster, predictions)\n",
    "#    print(\"Para n_clusters =\", k,\n",
    "#          \"El silhouette_score promedio es :\", silhouette_avg)\n",
    "    #print( predictions.score(users_to_cluster))\n",
    "    \n",
    "\n",
    "    \n",
    "    plt.figure(figsize=(4,4))\n",
    "    sns.countplot(data=pd.DataFrame({'group':predictions}), x='group')\n",
    "\n",
    "#   clustered = add_cluster_to_dataset(users_to_cluster_df, predictions)\n",
    "\n",
    "    #cluster_show_by( clustered, 'has_booked', 'age') "
   ]
  },
  {
   "cell_type": "code",
   "execution_count": null,
   "metadata": {},
   "outputs": [],
   "source": [
    "sns.pairplot(clustered.dropna(), hue='group',size=5,vars=[\"age\"],kind='scatter')"
   ]
  },
  {
   "cell_type": "code",
   "execution_count": null,
   "metadata": {},
   "outputs": [],
   "source": [
    "nc = range(1, 4)\n",
    "kmeans = [KMeans(n_clusters=i) for i in nc]"
   ]
  },
  {
   "cell_type": "code",
   "execution_count": null,
   "metadata": {},
   "outputs": [],
   "source": [
    "score = [kmeans[i].fit(users_to_cluster).score(users_to_cluster) for i in range(len(kmeans))]\n",
    "score"
   ]
  },
  {
   "cell_type": "code",
   "execution_count": null,
   "metadata": {},
   "outputs": [],
   "source": [
    "plt.plot(nc,score)\n",
    "plt.xlabel('Number of Clusters')\n",
    "plt.ylabel('Score')\n",
    "plt.title('Elbow Curve')\n",
    "plt.show()"
   ]
  },
  {
   "cell_type": "code",
   "execution_count": null,
   "metadata": {},
   "outputs": [],
   "source": []
  }
 ],
 "metadata": {
  "kernelspec": {
   "display_name": "Python 3",
   "language": "python",
   "name": "python3"
  },
  "language_info": {
   "codemirror_mode": {
    "name": "ipython",
    "version": 3
   },
   "file_extension": ".py",
   "mimetype": "text/x-python",
   "name": "python",
   "nbconvert_exporter": "python",
   "pygments_lexer": "ipython3",
   "version": "3.6.8"
  }
 },
 "nbformat": 4,
 "nbformat_minor": 2
}
