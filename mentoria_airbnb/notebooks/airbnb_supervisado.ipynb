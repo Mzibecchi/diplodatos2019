{
 "cells": [
  {
   "cell_type": "markdown",
   "metadata": {},
   "source": [
    "# Aprendizaje Supervisado"
   ]
  },
  {
   "cell_type": "markdown",
   "metadata": {},
   "source": [
    "## Predicción de Destinos\n",
    "\n",
    "En esta notebook aplicaremos tecnicas de aprendizaje para predecir el destino que un usuario de airbnb seleccionaría.\n",
    "\n",
    "### Normalización de los datos\n",
    "\n",
    "En esta notebook, el dataset está normalizado utilizando StandardScaler.\n"
   ]
  },
  {
   "cell_type": "code",
   "execution_count": 3,
   "metadata": {},
   "outputs": [],
   "source": [
    "import matplotlib.pyplot as plt\n",
    "import pandas as pd\n",
    "import seaborn as sns\n",
    "import numpy as np\n",
    "import itertools\n",
    "\n",
    "from scipy.sparse import csr_matrix\n",
    "from sklearn.cluster import KMeans\n",
    "from sklearn.metrics import mean_squared_error\n",
    "from sklearn.metrics import silhouette_samples, silhouette_score\n",
    "from sklearn.preprocessing import StandardScaler\n",
    "from sklearn.linear_model import SGDClassifier\n",
    "from sklearn.metrics import accuracy_score, classification_report, confusion_matrix\n",
    "\n",
    "from sklearn import preprocessing\n",
    "from sklearn.model_selection import train_test_split, GridSearchCV\n",
    "from sklearn.ensemble import RandomForestClassifier\n",
    "from yellowbrick.style import set_palette\n",
    "\n",
    "\n",
    "from yellowbrick.classifier import ConfusionMatrix\n",
    "\n",
    "import warnings\n",
    "\n",
    "%load_ext autoreload\n",
    "%autoreload 2\n",
    "\n",
    "warnings.filterwarnings('ignore')\n"
   ]
  },
  {
   "cell_type": "code",
   "execution_count": 9,
   "metadata": {},
   "outputs": [],
   "source": [
    "dataset_path = \"..//datos//\"\n",
    "abnb_users_curated = \"modified_train_users.csv\""
   ]
  },
  {
   "cell_type": "code",
   "execution_count": 14,
   "metadata": {},
   "outputs": [
    {
     "data": {
      "text/html": [
       "<div>\n",
       "<style scoped>\n",
       "    .dataframe tbody tr th:only-of-type {\n",
       "        vertical-align: middle;\n",
       "    }\n",
       "\n",
       "    .dataframe tbody tr th {\n",
       "        vertical-align: top;\n",
       "    }\n",
       "\n",
       "    .dataframe thead th {\n",
       "        text-align: right;\n",
       "    }\n",
       "</style>\n",
       "<table border=\"1\" class=\"dataframe\">\n",
       "  <thead>\n",
       "    <tr style=\"text-align: right;\">\n",
       "      <th></th>\n",
       "      <th>id</th>\n",
       "      <th>date_account_created</th>\n",
       "      <th>timestamp_first_active</th>\n",
       "      <th>date_first_booking</th>\n",
       "      <th>gender</th>\n",
       "      <th>age</th>\n",
       "      <th>signup_method</th>\n",
       "      <th>signup_flow</th>\n",
       "      <th>language</th>\n",
       "      <th>affiliate_channel</th>\n",
       "      <th>...</th>\n",
       "      <th>first_browser</th>\n",
       "      <th>country_destination</th>\n",
       "      <th>has_booked</th>\n",
       "      <th>total_seconds</th>\n",
       "      <th>average_seconds</th>\n",
       "      <th>total_sessions</th>\n",
       "      <th>number_of_devices</th>\n",
       "      <th>gender_0</th>\n",
       "      <th>gender_1</th>\n",
       "      <th>gender_2</th>\n",
       "    </tr>\n",
       "  </thead>\n",
       "  <tbody>\n",
       "    <tr>\n",
       "      <td>0</td>\n",
       "      <td>820tgsjxq7</td>\n",
       "      <td>1306281600</td>\n",
       "      <td>1243100889</td>\n",
       "      <td>-9223372037</td>\n",
       "      <td>1</td>\n",
       "      <td>38</td>\n",
       "      <td>1</td>\n",
       "      <td>0</td>\n",
       "      <td>5</td>\n",
       "      <td>7</td>\n",
       "      <td>...</td>\n",
       "      <td>7</td>\n",
       "      <td>0</td>\n",
       "      <td>False</td>\n",
       "      <td>0.0</td>\n",
       "      <td>0.0</td>\n",
       "      <td>1</td>\n",
       "      <td>1</td>\n",
       "      <td>0</td>\n",
       "      <td>1</td>\n",
       "      <td>0</td>\n",
       "    </tr>\n",
       "    <tr>\n",
       "      <td>1</td>\n",
       "      <td>4ft3gnwmtx</td>\n",
       "      <td>1285632000</td>\n",
       "      <td>1244589167</td>\n",
       "      <td>1280707200</td>\n",
       "      <td>0</td>\n",
       "      <td>56</td>\n",
       "      <td>0</td>\n",
       "      <td>3</td>\n",
       "      <td>5</td>\n",
       "      <td>2</td>\n",
       "      <td>...</td>\n",
       "      <td>14</td>\n",
       "      <td>1</td>\n",
       "      <td>True</td>\n",
       "      <td>0.0</td>\n",
       "      <td>0.0</td>\n",
       "      <td>1</td>\n",
       "      <td>1</td>\n",
       "      <td>1</td>\n",
       "      <td>0</td>\n",
       "      <td>0</td>\n",
       "    </tr>\n",
       "    <tr>\n",
       "      <td>2</td>\n",
       "      <td>bjjt8pjhuk</td>\n",
       "      <td>1323043200</td>\n",
       "      <td>1256968889</td>\n",
       "      <td>1347062400</td>\n",
       "      <td>0</td>\n",
       "      <td>42</td>\n",
       "      <td>1</td>\n",
       "      <td>0</td>\n",
       "      <td>5</td>\n",
       "      <td>2</td>\n",
       "      <td>...</td>\n",
       "      <td>13</td>\n",
       "      <td>2</td>\n",
       "      <td>True</td>\n",
       "      <td>0.0</td>\n",
       "      <td>0.0</td>\n",
       "      <td>1</td>\n",
       "      <td>1</td>\n",
       "      <td>1</td>\n",
       "      <td>0</td>\n",
       "      <td>0</td>\n",
       "    </tr>\n",
       "    <tr>\n",
       "      <td>3</td>\n",
       "      <td>87mebub9p4</td>\n",
       "      <td>1284422400</td>\n",
       "      <td>1260252665</td>\n",
       "      <td>1266451200</td>\n",
       "      <td>2</td>\n",
       "      <td>41</td>\n",
       "      <td>0</td>\n",
       "      <td>0</td>\n",
       "      <td>5</td>\n",
       "      <td>2</td>\n",
       "      <td>...</td>\n",
       "      <td>7</td>\n",
       "      <td>1</td>\n",
       "      <td>True</td>\n",
       "      <td>0.0</td>\n",
       "      <td>0.0</td>\n",
       "      <td>1</td>\n",
       "      <td>1</td>\n",
       "      <td>0</td>\n",
       "      <td>0</td>\n",
       "      <td>1</td>\n",
       "    </tr>\n",
       "    <tr>\n",
       "      <td>4</td>\n",
       "      <td>lsw9q7uk0j</td>\n",
       "      <td>1262390400</td>\n",
       "      <td>1262395558</td>\n",
       "      <td>1262649600</td>\n",
       "      <td>0</td>\n",
       "      <td>46</td>\n",
       "      <td>0</td>\n",
       "      <td>0</td>\n",
       "      <td>5</td>\n",
       "      <td>3</td>\n",
       "      <td>...</td>\n",
       "      <td>30</td>\n",
       "      <td>1</td>\n",
       "      <td>True</td>\n",
       "      <td>0.0</td>\n",
       "      <td>0.0</td>\n",
       "      <td>1</td>\n",
       "      <td>1</td>\n",
       "      <td>1</td>\n",
       "      <td>0</td>\n",
       "      <td>0</td>\n",
       "    </tr>\n",
       "  </tbody>\n",
       "</table>\n",
       "<p>5 rows × 24 columns</p>\n",
       "</div>"
      ],
      "text/plain": [
       "           id  date_account_created  timestamp_first_active  \\\n",
       "0  820tgsjxq7            1306281600              1243100889   \n",
       "1  4ft3gnwmtx            1285632000              1244589167   \n",
       "2  bjjt8pjhuk            1323043200              1256968889   \n",
       "3  87mebub9p4            1284422400              1260252665   \n",
       "4  lsw9q7uk0j            1262390400              1262395558   \n",
       "\n",
       "   date_first_booking  gender  age  signup_method  signup_flow  language  \\\n",
       "0         -9223372037       1   38              1            0         5   \n",
       "1          1280707200       0   56              0            3         5   \n",
       "2          1347062400       0   42              1            0         5   \n",
       "3          1266451200       2   41              0            0         5   \n",
       "4          1262649600       0   46              0            0         5   \n",
       "\n",
       "   affiliate_channel  ...  first_browser  country_destination  has_booked  \\\n",
       "0                  7  ...              7                    0       False   \n",
       "1                  2  ...             14                    1        True   \n",
       "2                  2  ...             13                    2        True   \n",
       "3                  2  ...              7                    1        True   \n",
       "4                  3  ...             30                    1        True   \n",
       "\n",
       "   total_seconds  average_seconds  total_sessions  number_of_devices  \\\n",
       "0            0.0              0.0               1                  1   \n",
       "1            0.0              0.0               1                  1   \n",
       "2            0.0              0.0               1                  1   \n",
       "3            0.0              0.0               1                  1   \n",
       "4            0.0              0.0               1                  1   \n",
       "\n",
       "   gender_0  gender_1  gender_2  \n",
       "0         0         1         0  \n",
       "1         1         0         0  \n",
       "2         1         0         0  \n",
       "3         0         0         1  \n",
       "4         1         0         0  \n",
       "\n",
       "[5 rows x 24 columns]"
      ]
     },
     "execution_count": 14,
     "metadata": {},
     "output_type": "execute_result"
    }
   ],
   "source": [
    "users_df = pd.read_csv( dataset_path + abnb_users_curated)\n",
    "users_df.head()\n"
   ]
  },
  {
   "cell_type": "code",
   "execution_count": 15,
   "metadata": {},
   "outputs": [
    {
     "name": "stdout",
     "output_type": "stream",
     "text": [
      "The dataset contains:  121070  users.\n"
     ]
    }
   ],
   "source": [
    "# Print the number of records and the total number of movies\n",
    "print('The dataset contains: ', len(users_df),' users.')"
   ]
  },
  {
   "cell_type": "code",
   "execution_count": 16,
   "metadata": {},
   "outputs": [],
   "source": [
    "users_df = users_df.drop(columns=['id'])"
   ]
  },
  {
   "cell_type": "code",
   "execution_count": 17,
   "metadata": {},
   "outputs": [],
   "source": [
    "## sc = StandardScaler()\n",
    "## users_std = sc.fit_transform(users_df)\n",
    "## train_users_df = pd.DataFrame(data=users_std, columns= users_df.columns)\n",
    "\n",
    "\n",
    "train_users_df = users_df"
   ]
  },
  {
   "cell_type": "markdown",
   "metadata": {},
   "source": [
    "#### Reducimos el tamaño de la muestra durante el desarrollo de la notebook  \n",
    "Esto luego comentarse, para la ejecucion definitiva..."
   ]
  },
  {
   "cell_type": "code",
   "execution_count": 18,
   "metadata": {},
   "outputs": [
    {
     "data": {
      "text/plain": [
       "0     4483\n",
       "1     3943\n",
       "2      567\n",
       "3      298\n",
       "5      168\n",
       "7      151\n",
       "6      139\n",
       "4       81\n",
       "10      68\n",
       "9       57\n",
       "11      31\n",
       "8       14\n",
       "Name: country_destination, dtype: int64"
      ]
     },
     "execution_count": 18,
     "metadata": {},
     "output_type": "execute_result"
    }
   ],
   "source": [
    "train_users_df = users_df.sample(10000)\n",
    "train_users_df.country_destination.value_counts()"
   ]
  },
  {
   "cell_type": "markdown",
   "metadata": {},
   "source": [
    "### Funciones auxiliares"
   ]
  },
  {
   "cell_type": "code",
   "execution_count": 19,
   "metadata": {},
   "outputs": [],
   "source": [
    "def model_print_results( model ):\n",
    "    print(\"Mejor conjunto de parámetros:\")\n",
    "    print(model.best_params_, end=\"\\n\\n\")\n",
    "\n",
    "    print(\"Puntajes de la grilla:\", end=\"\\n\\n\")\n",
    "\n",
    "    means = model.cv_results_['mean_test_score']\n",
    "    stds = model.cv_results_['std_test_score']\n",
    "\n",
    "    for mean, std, params in zip(means, stds, model.cv_results_['params']):\n",
    "        print(\"Exactitud: %0.3f (+/-%0.03f) para los parámetros %r\" % (mean, std ** 2, params))\n",
    "    print()\n"
   ]
  },
  {
   "cell_type": "code",
   "execution_count": 20,
   "metadata": {},
   "outputs": [],
   "source": [
    "def classification_print_results( y_true, y_pred ):\n",
    "    \n",
    "    print(\"Reporte de clasificación para el mejor clasificador (sobre conjunto de evaluación):\", end=\"\\n\\n\")\n",
    "    \n",
    "    print(classification_report(y_true, y_pred), end=\"\\n\\n\")\n",
    "    print()\n",
    "    \n",
    "#    print(confusion_matrix(y_true, y_pred))\n",
    "#    print()\n",
    "    \n",
    "    from sklearn.metrics import precision_score, recall_score\n",
    "    print(\"Precision score: {}\".format( precision_score(y_true,y_pred, average='micro')) )\n",
    "    print(\"Recall score: {}\".format( recall_score(y_true,y_pred, average='micro')) )\n",
    "    print()\n",
    "    print ('Accuracy: %d ' % ((np.sum(y_true == y_pred))/float(y_true.size)*100))\n",
    "    print()\n",
    "    print('len(y_true) = ', len(y_true))\n",
    "    \n",
    "    ## replaced by yellowbrick library\n",
    "    \n",
    "    ## cnf_matrix = confusion_matrix(y_true, y_pred)\n",
    "    ## np.set_printoptions(precision=2)\n",
    "\n",
    "    # Plot non-normalized confusion matrix\n",
    "    ## plt.figure()\n",
    "    ## plot_confusion_matrix(cnf_matrix, classes=[\"BAD\"], \n",
    "    ##                   title='Confusion matrix - Decision Tree Algorithm using f_regression feature selector')\n",
    "\n",
    "    ## plt.show()\n",
    "\n",
    "    print ('Aciertos: %d ' % (np.sum(y_true == y_pred))) \n",
    "    print(\"================================================\", end=\"\\n\\n\")\n"
   ]
  },
  {
   "cell_type": "markdown",
   "metadata": {},
   "source": [
    "### Modelos a utilizar"
   ]
  },
  {
   "cell_type": "markdown",
   "metadata": {},
   "source": [
    "* RandomForest\n",
    "* SGD"
   ]
  },
  {
   "cell_type": "markdown",
   "metadata": {},
   "source": [
    "## RandomForest"
   ]
  },
  {
   "cell_type": "code",
   "execution_count": 21,
   "metadata": {},
   "outputs": [],
   "source": [
    "y = train_users_df.country_destination\n",
    "X = train_users_df.drop('country_destination', axis=1)\n",
    "\n",
    "train_X, test_X, train_y, test_y = train_test_split(X, y, train_size=0.75, stratify=y)\n"
   ]
  },
  {
   "cell_type": "code",
   "execution_count": 22,
   "metadata": {},
   "outputs": [
    {
     "data": {
      "text/plain": [
       "RandomForestClassifier(bootstrap=True, class_weight=None, criterion='gini',\n",
       "                       max_depth=None, max_features='auto', max_leaf_nodes=None,\n",
       "                       min_impurity_decrease=0.0, min_impurity_split=None,\n",
       "                       min_samples_leaf=1, min_samples_split=2,\n",
       "                       min_weight_fraction_leaf=0.0, n_estimators=10, n_jobs=2,\n",
       "                       oob_score=False, random_state=0, verbose=0,\n",
       "                       warm_start=False)"
      ]
     },
     "execution_count": 22,
     "metadata": {},
     "output_type": "execute_result"
    }
   ],
   "source": [
    "model = RandomForestClassifier(n_jobs=2, random_state=0)\n",
    "model.fit(train_X,train_y)"
   ]
  },
  {
   "cell_type": "code",
   "execution_count": 23,
   "metadata": {},
   "outputs": [],
   "source": [
    "y_pred = model.predict(test_X)"
   ]
  },
  {
   "cell_type": "code",
   "execution_count": 24,
   "metadata": {},
   "outputs": [
    {
     "name": "stdout",
     "output_type": "stream",
     "text": [
      "              precision    recall  f1-score   support\n",
      "\n",
      "           0       1.00      1.00      1.00      1121\n",
      "           1       0.71      0.96      0.82       986\n",
      "           2       0.10      0.02      0.04       142\n",
      "           3       0.15      0.03      0.05        74\n",
      "           4       0.00      0.00      0.00        20\n",
      "           5       0.25      0.02      0.04        42\n",
      "           6       0.00      0.00      0.00        35\n",
      "           7       0.00      0.00      0.00        38\n",
      "           8       0.00      0.00      0.00         3\n",
      "           9       0.00      0.00      0.00        14\n",
      "          10       0.00      0.00      0.00        17\n",
      "          11       0.00      0.00      0.00         8\n",
      "\n",
      "    accuracy                           0.83      2500\n",
      "   macro avg       0.19      0.17      0.16      2500\n",
      "weighted avg       0.74      0.83      0.78      2500\n",
      "\n"
     ]
    }
   ],
   "source": [
    "print(classification_report(test_y, y_pred))"
   ]
  },
  {
   "cell_type": "code",
   "execution_count": 25,
   "metadata": {},
   "outputs": [
    {
     "data": {
      "image/png": "[encoded data removed]",
      "text/plain": [
       "<Figure size 864x576 with 1 Axes>"
      ]
     },
     "metadata": {
      "needs_background": "light"
     },
     "output_type": "display_data"
    },
    {
     "data": {
      "text/plain": [
       "<matplotlib.axes._subplots.AxesSubplot at 0x1a1a43be80>"
      ]
     },
     "execution_count": 25,
     "metadata": {},
     "output_type": "execute_result"
    }
   ],
   "source": [
    "from yellowbrick.style import set_palette\n",
    "set_palette('flatui')\n",
    "\n",
    "plt.figure(figsize=(12,8))\n",
    "\n",
    "# The ConfusionMatrix visualizer taxes a model\n",
    "cm = ConfusionMatrix(model)\n",
    "\n",
    "# Fit fits the passed model. This is unnecessary if you pass the visualizer a pre-fitted model\n",
    "cm.fit(train_X, train_y)\n",
    "\n",
    "# To create the ConfusionMatrix, we need some test data. Score runs predict() on the data\n",
    "# and then creates the confusion_matrix from scikit-learn.\n",
    "cm.score(test_X, test_y)\n",
    "\n",
    "# How did we do?\n",
    "\n",
    "cm.show()"
   ]
  },
  {
   "cell_type": "markdown",
   "metadata": {},
   "source": [
    "## SGD"
   ]
  },
  {
   "cell_type": "code",
   "execution_count": 26,
   "metadata": {},
   "outputs": [],
   "source": [
    "# separate y from train_users\n",
    "y = train_users_df.country_destination\n",
    "X = train_users_df.drop('country_destination', axis=1)\n",
    "\n",
    "from sklearn import preprocessing\n",
    "from sklearn.model_selection import train_test_split, GridSearchCV\n",
    "\n",
    "train_X, test_X, train_y, test_y = train_test_split(X, y, train_size=0.75, stratify=y)\n"
   ]
  },
  {
   "cell_type": "code",
   "execution_count": 27,
   "metadata": {},
   "outputs": [
    {
     "name": "stdout",
     "output_type": "stream",
     "text": [
      "Mejor conjunto de parámetros:\n",
      "{'alpha': 0.1, 'eta0': 0.1, 'learning_rate': 'constant', 'max_iter': 500, 'penalty': 'l2'}\n",
      "\n",
      "Puntajes de la grilla:\n",
      "\n",
      "Exactitud: 0.730 (+/-0.025) para los parámetros {'alpha': 0.1, 'eta0': 0.1, 'learning_rate': 'constant', 'max_iter': 100, 'penalty': 'l2'}\n",
      "Exactitud: 0.730 (+/-0.026) para los parámetros {'alpha': 0.1, 'eta0': 0.1, 'learning_rate': 'constant', 'max_iter': 100, 'penalty': 'l1'}\n",
      "Exactitud: 0.843 (+/-0.000) para los parámetros {'alpha': 0.1, 'eta0': 0.1, 'learning_rate': 'constant', 'max_iter': 500, 'penalty': 'l2'}\n",
      "Exactitud: 0.712 (+/-0.034) para los parámetros {'alpha': 0.1, 'eta0': 0.1, 'learning_rate': 'constant', 'max_iter': 500, 'penalty': 'l1'}\n",
      "Exactitud: 0.589 (+/-0.032) para los parámetros {'alpha': 0.1, 'eta0': 0.1, 'learning_rate': 'constant', 'max_iter': 1000, 'penalty': 'l2'}\n",
      "Exactitud: 0.843 (+/-0.000) para los parámetros {'alpha': 0.1, 'eta0': 0.1, 'learning_rate': 'constant', 'max_iter': 1000, 'penalty': 'l1'}\n",
      "Exactitud: 0.599 (+/-0.031) para los parámetros {'alpha': 0.1, 'eta0': 0.01, 'learning_rate': 'constant', 'max_iter': 100, 'penalty': 'l2'}\n",
      "Exactitud: 0.843 (+/-0.000) para los parámetros {'alpha': 0.1, 'eta0': 0.01, 'learning_rate': 'constant', 'max_iter': 100, 'penalty': 'l1'}\n",
      "Exactitud: 0.580 (+/-0.034) para los parámetros {'alpha': 0.1, 'eta0': 0.01, 'learning_rate': 'constant', 'max_iter': 500, 'penalty': 'l2'}\n",
      "Exactitud: 0.721 (+/-0.030) para los parámetros {'alpha': 0.1, 'eta0': 0.01, 'learning_rate': 'constant', 'max_iter': 500, 'penalty': 'l1'}\n",
      "Exactitud: 0.843 (+/-0.000) para los parámetros {'alpha': 0.1, 'eta0': 0.01, 'learning_rate': 'constant', 'max_iter': 1000, 'penalty': 'l2'}\n",
      "Exactitud: 0.583 (+/-0.034) para los parámetros {'alpha': 0.1, 'eta0': 0.01, 'learning_rate': 'constant', 'max_iter': 1000, 'penalty': 'l1'}\n",
      "Exactitud: 0.712 (+/-0.034) para los parámetros {'alpha': 0.1, 'eta0': 0.001, 'learning_rate': 'constant', 'max_iter': 100, 'penalty': 'l2'}\n",
      "Exactitud: 0.617 (+/-0.026) para los parámetros {'alpha': 0.1, 'eta0': 0.001, 'learning_rate': 'constant', 'max_iter': 100, 'penalty': 'l1'}\n",
      "Exactitud: 0.716 (+/-0.032) para los parámetros {'alpha': 0.1, 'eta0': 0.001, 'learning_rate': 'constant', 'max_iter': 500, 'penalty': 'l2'}\n",
      "Exactitud: 0.617 (+/-0.025) para los parámetros {'alpha': 0.1, 'eta0': 0.001, 'learning_rate': 'constant', 'max_iter': 500, 'penalty': 'l1'}\n",
      "Exactitud: 0.843 (+/-0.000) para los parámetros {'alpha': 0.1, 'eta0': 0.001, 'learning_rate': 'constant', 'max_iter': 1000, 'penalty': 'l2'}\n",
      "Exactitud: 0.599 (+/-0.030) para los parámetros {'alpha': 0.1, 'eta0': 0.001, 'learning_rate': 'constant', 'max_iter': 1000, 'penalty': 'l1'}\n",
      "Exactitud: 0.730 (+/-0.026) para los parámetros {'alpha': 0.01, 'eta0': 0.1, 'learning_rate': 'constant', 'max_iter': 100, 'penalty': 'l2'}\n",
      "Exactitud: 0.598 (+/-0.030) para los parámetros {'alpha': 0.01, 'eta0': 0.1, 'learning_rate': 'constant', 'max_iter': 100, 'penalty': 'l1'}\n",
      "Exactitud: 0.843 (+/-0.000) para los parámetros {'alpha': 0.01, 'eta0': 0.1, 'learning_rate': 'constant', 'max_iter': 500, 'penalty': 'l2'}\n",
      "Exactitud: 0.714 (+/-0.033) para los parámetros {'alpha': 0.01, 'eta0': 0.1, 'learning_rate': 'constant', 'max_iter': 500, 'penalty': 'l1'}\n",
      "Exactitud: 0.711 (+/-0.035) para los parámetros {'alpha': 0.01, 'eta0': 0.1, 'learning_rate': 'constant', 'max_iter': 1000, 'penalty': 'l2'}\n",
      "Exactitud: 0.843 (+/-0.000) para los parámetros {'alpha': 0.01, 'eta0': 0.1, 'learning_rate': 'constant', 'max_iter': 1000, 'penalty': 'l1'}\n",
      "Exactitud: 0.843 (+/-0.000) para los parámetros {'alpha': 0.01, 'eta0': 0.01, 'learning_rate': 'constant', 'max_iter': 100, 'penalty': 'l2'}\n",
      "Exactitud: 0.714 (+/-0.033) para los parámetros {'alpha': 0.01, 'eta0': 0.01, 'learning_rate': 'constant', 'max_iter': 100, 'penalty': 'l1'}\n",
      "Exactitud: 0.730 (+/-0.025) para los parámetros {'alpha': 0.01, 'eta0': 0.01, 'learning_rate': 'constant', 'max_iter': 500, 'penalty': 'l2'}\n",
      "Exactitud: 0.585 (+/-0.033) para los parámetros {'alpha': 0.01, 'eta0': 0.01, 'learning_rate': 'constant', 'max_iter': 500, 'penalty': 'l1'}\n",
      "Exactitud: 0.843 (+/-0.000) para los parámetros {'alpha': 0.01, 'eta0': 0.01, 'learning_rate': 'constant', 'max_iter': 1000, 'penalty': 'l2'}\n",
      "Exactitud: 0.843 (+/-0.000) para los parámetros {'alpha': 0.01, 'eta0': 0.01, 'learning_rate': 'constant', 'max_iter': 1000, 'penalty': 'l1'}\n",
      "Exactitud: 0.713 (+/-0.034) para los parámetros {'alpha': 0.01, 'eta0': 0.001, 'learning_rate': 'constant', 'max_iter': 100, 'penalty': 'l2'}\n",
      "Exactitud: 0.713 (+/-0.034) para los parámetros {'alpha': 0.01, 'eta0': 0.001, 'learning_rate': 'constant', 'max_iter': 100, 'penalty': 'l1'}\n",
      "Exactitud: 0.712 (+/-0.034) para los parámetros {'alpha': 0.01, 'eta0': 0.001, 'learning_rate': 'constant', 'max_iter': 500, 'penalty': 'l2'}\n",
      "Exactitud: 0.601 (+/-0.030) para los parámetros {'alpha': 0.01, 'eta0': 0.001, 'learning_rate': 'constant', 'max_iter': 500, 'penalty': 'l1'}\n",
      "Exactitud: 0.843 (+/-0.000) para los parámetros {'alpha': 0.01, 'eta0': 0.001, 'learning_rate': 'constant', 'max_iter': 1000, 'penalty': 'l2'}\n",
      "Exactitud: 0.712 (+/-0.034) para los parámetros {'alpha': 0.01, 'eta0': 0.001, 'learning_rate': 'constant', 'max_iter': 1000, 'penalty': 'l1'}\n",
      "Exactitud: 0.449 (+/-0.000) para los parámetros {'alpha': 0.001, 'eta0': 0.1, 'learning_rate': 'constant', 'max_iter': 100, 'penalty': 'l2'}\n",
      "Exactitud: 0.601 (+/-0.030) para los parámetros {'alpha': 0.001, 'eta0': 0.1, 'learning_rate': 'constant', 'max_iter': 100, 'penalty': 'l1'}\n",
      "Exactitud: 0.716 (+/-0.032) para los parámetros {'alpha': 0.001, 'eta0': 0.1, 'learning_rate': 'constant', 'max_iter': 500, 'penalty': 'l2'}\n",
      "Exactitud: 0.721 (+/-0.030) para los parámetros {'alpha': 0.001, 'eta0': 0.1, 'learning_rate': 'constant', 'max_iter': 500, 'penalty': 'l1'}\n",
      "Exactitud: 0.711 (+/-0.035) para los parámetros {'alpha': 0.001, 'eta0': 0.1, 'learning_rate': 'constant', 'max_iter': 1000, 'penalty': 'l2'}\n",
      "Exactitud: 0.730 (+/-0.025) para los parámetros {'alpha': 0.001, 'eta0': 0.1, 'learning_rate': 'constant', 'max_iter': 1000, 'penalty': 'l1'}\n",
      "Exactitud: 0.843 (+/-0.000) para los parámetros {'alpha': 0.001, 'eta0': 0.01, 'learning_rate': 'constant', 'max_iter': 100, 'penalty': 'l2'}\n",
      "Exactitud: 0.843 (+/-0.000) para los parámetros {'alpha': 0.001, 'eta0': 0.01, 'learning_rate': 'constant', 'max_iter': 100, 'penalty': 'l1'}\n",
      "Exactitud: 0.714 (+/-0.033) para los parámetros {'alpha': 0.001, 'eta0': 0.01, 'learning_rate': 'constant', 'max_iter': 500, 'penalty': 'l2'}\n",
      "Exactitud: 0.730 (+/-0.026) para los parámetros {'alpha': 0.001, 'eta0': 0.01, 'learning_rate': 'constant', 'max_iter': 500, 'penalty': 'l1'}\n",
      "Exactitud: 0.843 (+/-0.000) para los parámetros {'alpha': 0.001, 'eta0': 0.01, 'learning_rate': 'constant', 'max_iter': 1000, 'penalty': 'l2'}\n",
      "Exactitud: 0.712 (+/-0.034) para los parámetros {'alpha': 0.001, 'eta0': 0.01, 'learning_rate': 'constant', 'max_iter': 1000, 'penalty': 'l1'}\n",
      "Exactitud: 0.730 (+/-0.026) para los parámetros {'alpha': 0.001, 'eta0': 0.001, 'learning_rate': 'constant', 'max_iter': 100, 'penalty': 'l2'}\n",
      "Exactitud: 0.843 (+/-0.000) para los parámetros {'alpha': 0.001, 'eta0': 0.001, 'learning_rate': 'constant', 'max_iter': 100, 'penalty': 'l1'}\n",
      "Exactitud: 0.716 (+/-0.032) para los parámetros {'alpha': 0.001, 'eta0': 0.001, 'learning_rate': 'constant', 'max_iter': 500, 'penalty': 'l2'}\n",
      "Exactitud: 0.843 (+/-0.000) para los parámetros {'alpha': 0.001, 'eta0': 0.001, 'learning_rate': 'constant', 'max_iter': 500, 'penalty': 'l1'}\n",
      "Exactitud: 0.843 (+/-0.000) para los parámetros {'alpha': 0.001, 'eta0': 0.001, 'learning_rate': 'constant', 'max_iter': 1000, 'penalty': 'l2'}\n",
      "Exactitud: 0.717 (+/-0.031) para los parámetros {'alpha': 0.001, 'eta0': 0.001, 'learning_rate': 'constant', 'max_iter': 1000, 'penalty': 'l1'}\n",
      "\n",
      "Reporte de clasificación para el mejor clasificador (sobre conjunto de evaluación):\n",
      "\n",
      "              precision    recall  f1-score   support\n",
      "\n",
      "           0       1.00      1.00      1.00      1121\n",
      "           1       0.72      1.00      0.83       986\n",
      "           2       0.00      0.00      0.00       142\n",
      "           3       0.00      0.00      0.00        74\n",
      "           4       0.00      0.00      0.00        20\n",
      "           5       0.00      0.00      0.00        42\n",
      "           6       0.00      0.00      0.00        35\n",
      "           7       0.00      0.00      0.00        38\n",
      "           8       0.00      0.00      0.00         3\n",
      "           9       0.00      0.00      0.00        14\n",
      "          10       0.00      0.00      0.00        17\n",
      "          11       0.00      0.00      0.00         8\n",
      "\n",
      "    accuracy                           0.84      2500\n",
      "   macro avg       0.14      0.17      0.15      2500\n",
      "weighted avg       0.73      0.84      0.78      2500\n",
      "\n",
      "\n",
      "\n",
      "Precision score: 0.8428\n",
      "Recall score: 0.8428\n",
      "\n",
      "Accuracy: 84 \n",
      "\n",
      "len(y_true) =  2500\n",
      "Aciertos: 2107 \n",
      "================================================\n",
      "\n"
     ]
    }
   ],
   "source": [
    "# ejecutamos carga del dataset y separacion de los conjuntos de entrenamiento y evaluacion\n",
    "\n",
    "np.random.seed(0)  \n",
    "\n",
    "#\n",
    "# 1. Seleccionamos el estimador de clasificacion, en este caso SGDClassifier\n",
    "#\n",
    "\n",
    "m = SGDClassifier()\n",
    "\n",
    "#\n",
    "# 2. Ejecutamos y entrenamos el clasificador\n",
    "#\n",
    "\n",
    "exploring_params = {\n",
    "        'learning_rate': ['constant'],\n",
    "        'penalty': ['l2','l1'],\n",
    "        'eta0': [0.1, 0.01, 0.001],  # Tasa de entrenamiento\n",
    "        'alpha': [0.1, 0.01, 0.001],  # Tasa de regularización\n",
    "        'max_iter': [100, 500, 1000]\n",
    "}\n",
    "\n",
    "model = GridSearchCV(m, exploring_params)\n",
    "\n",
    "model.fit( train_X, train_y)\n",
    "\n",
    "model_print_results( model )\n",
    "\n",
    "#\n",
    "# 3. Validamos sobre el conjunto de Test\n",
    "#\n",
    "\n",
    "y_true, y_pred = test_y, model.predict(test_X)\n",
    "\n",
    "classification_print_results(y_true, y_pred)\n",
    "\n",
    "\n"
   ]
  },
  {
   "cell_type": "code",
   "execution_count": 28,
   "metadata": {},
   "outputs": [
    {
     "data": {
      "image/png": "[encoded data removed]",
      "text/plain": [
       "<Figure size 864x576 with 1 Axes>"
      ]
     },
     "metadata": {
      "needs_background": "light"
     },
     "output_type": "display_data"
    },
    {
     "data": {
      "text/plain": [
       "<matplotlib.axes._subplots.AxesSubplot at 0x1c2300e320>"
      ]
     },
     "execution_count": 28,
     "metadata": {},
     "output_type": "execute_result"
    }
   ],
   "source": [
    "from yellowbrick.style import set_palette\n",
    "set_palette('flatui')\n",
    "\n",
    "plt.figure(figsize=(12,8))\n",
    "\n",
    "# The ConfusionMatrix visualizer taxes a model\n",
    "cm = ConfusionMatrix(model)\n",
    "\n",
    "# Fit fits the passed model. This is unnecessary if you pass the visualizer a pre-fitted model\n",
    "cm.fit(train_X, train_y)\n",
    "\n",
    "# To create the ConfusionMatrix, we need some test data. Score runs predict() on the data\n",
    "# and then creates the confusion_matrix from scikit-learn.\n",
    "cm.score(test_X, test_y)\n",
    "\n",
    "# How did we do?\n",
    "\n",
    "cm.show()"
   ]
  },
  {
   "cell_type": "markdown",
   "metadata": {},
   "source": [
    "## Probamos prediccion solo sobre has_booked"
   ]
  },
  {
   "cell_type": "code",
   "execution_count": 29,
   "metadata": {},
   "outputs": [
    {
     "data": {
      "text/plain": [
       "5517"
      ]
     },
     "execution_count": 29,
     "metadata": {},
     "output_type": "execute_result"
    }
   ],
   "source": [
    "train_users_df = train_users_df[ train_users_df['has_booked'] == True]\n",
    "len(train_users_df)"
   ]
  },
  {
   "cell_type": "code",
   "execution_count": 30,
   "metadata": {},
   "outputs": [],
   "source": [
    "# separate y from train_users\n",
    "y = train_users_df.country_destination\n",
    "X = train_users_df.drop('country_destination', axis=1)\n",
    "\n",
    "train_X, test_X, train_y, test_y = train_test_split(X, y, train_size=0.75, stratify=y)\n"
   ]
  },
  {
   "cell_type": "code",
   "execution_count": 31,
   "metadata": {},
   "outputs": [
    {
     "data": {
      "text/plain": [
       "RandomForestClassifier(bootstrap=True, class_weight=None, criterion='gini',\n",
       "                       max_depth=None, max_features='auto', max_leaf_nodes=None,\n",
       "                       min_impurity_decrease=0.0, min_impurity_split=None,\n",
       "                       min_samples_leaf=1, min_samples_split=2,\n",
       "                       min_weight_fraction_leaf=0.0, n_estimators=10, n_jobs=2,\n",
       "                       oob_score=False, random_state=0, verbose=0,\n",
       "                       warm_start=False)"
      ]
     },
     "execution_count": 31,
     "metadata": {},
     "output_type": "execute_result"
    }
   ],
   "source": [
    "model = RandomForestClassifier(n_jobs=2, random_state=0)\n",
    "model.fit(train_X,train_y)"
   ]
  },
  {
   "cell_type": "code",
   "execution_count": 32,
   "metadata": {},
   "outputs": [],
   "source": [
    "y_pred = model.predict(test_X)"
   ]
  },
  {
   "cell_type": "code",
   "execution_count": 33,
   "metadata": {},
   "outputs": [
    {
     "name": "stdout",
     "output_type": "stream",
     "text": [
      "              precision    recall  f1-score   support\n",
      "\n",
      "           1       0.72      0.97      0.82       986\n",
      "           2       0.07      0.01      0.02       142\n",
      "           3       0.25      0.01      0.03        75\n",
      "           4       0.00      0.00      0.00        20\n",
      "           5       0.33      0.05      0.08        42\n",
      "           6       0.33      0.03      0.05        35\n",
      "           7       0.00      0.00      0.00        38\n",
      "           8       0.00      0.00      0.00         3\n",
      "           9       0.00      0.00      0.00        14\n",
      "          10       0.00      0.00      0.00        17\n",
      "          11       0.00      0.00      0.00         8\n",
      "\n",
      "    accuracy                           0.69      1380\n",
      "   macro avg       0.16      0.10      0.09      1380\n",
      "weighted avg       0.55      0.69      0.59      1380\n",
      "\n"
     ]
    }
   ],
   "source": [
    "print(classification_report(test_y, y_pred))"
   ]
  },
  {
   "cell_type": "code",
   "execution_count": 34,
   "metadata": {},
   "outputs": [
    {
     "data": {
      "image/png": "[encoded data removed]",
      "text/plain": [
       "<Figure size 864x576 with 1 Axes>"
      ]
     },
     "metadata": {
      "needs_background": "light"
     },
     "output_type": "display_data"
    },
    {
     "data": {
      "text/plain": [
       "<matplotlib.axes._subplots.AxesSubplot at 0x1c22ff0c50>"
      ]
     },
     "execution_count": 34,
     "metadata": {},
     "output_type": "execute_result"
    }
   ],
   "source": [
    "from yellowbrick.style import set_palette\n",
    "set_palette('flatui')\n",
    "\n",
    "\n",
    "plt.figure(figsize=(12,8))\n",
    "\n",
    "# The ConfusionMatrix visualizer taxes a model\n",
    "cm = ConfusionMatrix(model)\n",
    "\n",
    "# Fit fits the passed model. This is unnecessary if you pass the visualizer a pre-fitted model\n",
    "cm.fit(train_X, train_y)\n",
    "\n",
    "# To create the ConfusionMatrix, we need some test data. Score runs predict() on the data\n",
    "# and then creates the confusion_matrix from scikit-learn.\n",
    "cm.score(test_X, test_y)\n",
    "\n",
    "# How did we do?\n",
    "\n",
    "cm.show()"
   ]
  },
  {
   "cell_type": "markdown",
   "metadata": {},
   "source": [
    "## Probamos utilizando tecnicas de oversampling "
   ]
  },
  {
   "cell_type": "code",
   "execution_count": 64,
   "metadata": {},
   "outputs": [
    {
     "data": {
      "text/plain": [
       "BalancedRandomForestClassifier(bootstrap=True, class_weight=None,\n",
       "                               criterion='gini', max_depth=2,\n",
       "                               max_features='auto', max_leaf_nodes=None,\n",
       "                               min_impurity_decrease=0.0, min_samples_leaf=2,\n",
       "                               min_samples_split=2,\n",
       "                               min_weight_fraction_leaf=0.0, n_estimators=100,\n",
       "                               n_jobs=1, oob_score=False, random_state=0,\n",
       "                               replacement=False, sampling_strategy='auto',\n",
       "                               verbose=0, warm_start=False)"
      ]
     },
     "execution_count": 64,
     "metadata": {},
     "output_type": "execute_result"
    }
   ],
   "source": [
    "from imblearn.ensemble import BalancedRandomForestClassifier\n",
    "\n",
    "train_users_df = users_df\n",
    "y = train_users_df.country_destination\n",
    "X = train_users_df.drop('country_destination', axis=1)\n",
    "\n",
    "train_X, test_X, train_y, test_y = train_test_split(X, y, train_size=0.75, stratify=y)\n",
    "\n",
    "model = RandomForestClassifier(n_jobs=2, random_state=0)\n",
    "model = BalancedRandomForestClassifier(max_depth=2, random_state=0)\n",
    "model.fit(train_X,train_y)"
   ]
  },
  {
   "cell_type": "code",
   "execution_count": 65,
   "metadata": {},
   "outputs": [],
   "source": [
    "y_pred = model.predict(test_X)"
   ]
  },
  {
   "cell_type": "code",
   "execution_count": 63,
   "metadata": {
    "jupyter": {
     "source_hidden": true
    }
   },
   "outputs": [
    {
     "name": "stdout",
     "output_type": "stream",
     "text": [
      "              precision    recall  f1-score   support\n",
      "\n",
      "           0       1.00      1.00      1.00     13559\n",
      "           1       0.76      0.06      0.11     11847\n",
      "           2       0.13      0.25      0.17      1848\n",
      "           3       0.10      0.06      0.07       907\n",
      "           4       0.02      0.03      0.03       262\n",
      "           5       0.04      0.08      0.06       433\n",
      "           6       0.03      0.30      0.06       416\n",
      "           7       0.03      0.07      0.05       495\n",
      "           8       0.00      0.03      0.00        39\n",
      "           9       0.01      0.05      0.02       147\n",
      "          10       0.02      0.15      0.03       208\n",
      "          11       0.01      0.14      0.01       107\n",
      "\n",
      "    accuracy                           0.50     30268\n",
      "   macro avg       0.18      0.18      0.13     30268\n",
      "weighted avg       0.76      0.50      0.51     30268\n",
      "\n"
     ]
    }
   ],
   "source": [
    "print(classification_report(test_y, y_pred))"
   ]
  },
  {
   "cell_type": "code",
   "execution_count": 61,
   "metadata": {},
   "outputs": [
    {
     "data": {
      "image/png": "[encoded data removed]",
      "text/plain": [
       "<Figure size 864x576 with 1 Axes>"
      ]
     },
     "metadata": {
      "needs_background": "light"
     },
     "output_type": "display_data"
    },
    {
     "data": {
      "text/plain": [
       "<matplotlib.axes._subplots.AxesSubplot at 0x1c2ef69080>"
      ]
     },
     "execution_count": 61,
     "metadata": {},
     "output_type": "execute_result"
    }
   ],
   "source": [
    "from yellowbrick.style import set_palette\n",
    "set_palette('flatui')\n",
    "\n",
    "\n",
    "plt.figure(figsize=(12,8))\n",
    "\n",
    "# The ConfusionMatrix visualizer taxes a model\n",
    "cm = ConfusionMatrix(model)\n",
    "\n",
    "# Fit fits the passed model. This is unnecessary if you pass the visualizer a pre-fitted model\n",
    "cm.fit(train_X, train_y)\n",
    "\n",
    "# To create the ConfusionMatrix, we need some test data. Score runs predict() on the data\n",
    "# and then creates the confusion_matrix from scikit-learn.\n",
    "cm.score(test_X, test_y)\n",
    "\n",
    "# How did we do?\n",
    "\n",
    "cm.show()"
   ]
  },
  {
   "cell_type": "code",
   "execution_count": null,
   "metadata": {},
   "outputs": [],
   "source": []
  },
  {
   "cell_type": "markdown",
   "metadata": {},
   "source": [
    "## Probamos utilizando tecnicas de oversampling sobre los usuarios que reservaron"
   ]
  },
  {
   "cell_type": "code",
   "execution_count": 70,
   "metadata": {},
   "outputs": [
    {
     "name": "stdout",
     "output_type": "stream",
     "text": [
      "66836\n"
     ]
    },
    {
     "data": {
      "text/plain": [
       "BalancedRandomForestClassifier(bootstrap=True, class_weight=None,\n",
       "                               criterion='gini', max_depth=2,\n",
       "                               max_features='auto', max_leaf_nodes=None,\n",
       "                               min_impurity_decrease=0.0, min_samples_leaf=2,\n",
       "                               min_samples_split=2,\n",
       "                               min_weight_fraction_leaf=0.0, n_estimators=100,\n",
       "                               n_jobs=1, oob_score=False, random_state=0,\n",
       "                               replacement=False, sampling_strategy='auto',\n",
       "                               verbose=0, warm_start=False)"
      ]
     },
     "execution_count": 70,
     "metadata": {},
     "output_type": "execute_result"
    }
   ],
   "source": [
    "from imblearn.ensemble import BalancedRandomForestClassifier\n",
    "\n",
    "train_users_df = users_df\n",
    "\n",
    "train_users_df = train_users_df[ train_users_df['has_booked'] == True]\n",
    "print(len(train_users_df))\n",
    "\n",
    "y = train_users_df.country_destination\n",
    "X = train_users_df.drop('country_destination', axis=1)\n",
    "\n",
    "train_X, test_X, train_y, test_y = train_test_split(X, y, train_size=0.75, stratify=y)\n",
    "\n",
    "model = RandomForestClassifier(n_jobs=2, random_state=0)\n",
    "model = BalancedRandomForestClassifier(max_depth=2, random_state=0)\n",
    "model.fit(train_X,train_y)"
   ]
  },
  {
   "cell_type": "code",
   "execution_count": 71,
   "metadata": {},
   "outputs": [],
   "source": [
    "y_pred = model.predict(test_X)"
   ]
  },
  {
   "cell_type": "code",
   "execution_count": 72,
   "metadata": {},
   "outputs": [
    {
     "name": "stdout",
     "output_type": "stream",
     "text": [
      "              precision    recall  f1-score   support\n",
      "\n",
      "           1       0.75      0.04      0.08     11847\n",
      "           2       0.14      0.23      0.17      1848\n",
      "           3       0.07      0.05      0.06       907\n",
      "           4       0.01      0.02      0.01       262\n",
      "           5       0.03      0.00      0.01       433\n",
      "           6       0.04      0.11      0.05       416\n",
      "           7       0.04      0.14      0.06       495\n",
      "           8       0.00      0.03      0.00        39\n",
      "           9       0.02      0.05      0.03       147\n",
      "          10       0.02      0.30      0.03       208\n",
      "          11       0.01      0.33      0.02       107\n",
      "\n",
      "    accuracy                           0.07     16709\n",
      "   macro avg       0.10      0.12      0.05     16709\n",
      "weighted avg       0.56      0.07      0.09     16709\n",
      "\n"
     ]
    }
   ],
   "source": [
    "print(classification_report(test_y, y_pred))"
   ]
  },
  {
   "cell_type": "code",
   "execution_count": 61,
   "metadata": {},
   "outputs": [
    {
     "data": {
      "image/png": "[encoded data removed]",
      "text/plain": [
       "<Figure size 864x576 with 1 Axes>"
      ]
     },
     "metadata": {
      "needs_background": "light"
     },
     "output_type": "display_data"
    },
    {
     "data": {
      "text/plain": [
       "<matplotlib.axes._subplots.AxesSubplot at 0x1c2ef69080>"
      ]
     },
     "execution_count": 61,
     "metadata": {},
     "output_type": "execute_result"
    }
   ],
   "source": [
    "from yellowbrick.style import set_palette\n",
    "set_palette('flatui')\n",
    "\n",
    "\n",
    "plt.figure(figsize=(12,8))\n",
    "\n",
    "# The ConfusionMatrix visualizer taxes a model\n",
    "cm = ConfusionMatrix(model)\n",
    "\n",
    "# Fit fits the passed model. This is unnecessary if you pass the visualizer a pre-fitted model\n",
    "cm.fit(train_X, train_y)\n",
    "\n",
    "# To create the ConfusionMatrix, we need some test data. Score runs predict() on the data\n",
    "# and then creates the confusion_matrix from scikit-learn.\n",
    "cm.score(test_X, test_y)\n",
    "\n",
    "# How did we do?\n",
    "\n",
    "cm.show()"
   ]
  }
 ],
 "metadata": {
  "kernelspec": {
   "display_name": "Python 3",
   "language": "python",
   "name": "python3"
  },
  "language_info": {
   "codemirror_mode": {
    "name": "ipython",
    "version": 3
   },
   "file_extension": ".py",
   "mimetype": "text/x-python",
   "name": "python",
   "nbconvert_exporter": "python",
   "pygments_lexer": "ipython3",
   "version": "3.6.9"
  }
 },
 "nbformat": 4,
 "nbformat_minor": 4
}
