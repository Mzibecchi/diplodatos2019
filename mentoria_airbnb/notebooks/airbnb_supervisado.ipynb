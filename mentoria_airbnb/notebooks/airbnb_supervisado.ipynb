{
 "cells": [
  {
   "cell_type": "code",
   "execution_count": null,
   "metadata": {},
   "outputs": [],
   "source": [
    "lass_dict = {\n",
    "    'NDF': 0,\n",
    "    'US': 1,\n",
    "    'other': 2,\n",
    "    'FR': 3,\n",
    "    'CA': 4,\n",
    "    'GB': 5,\n",
    "    'ES': 6,\n",
    "    'IT': 7,\n",
    "    'PT': 8,\n",
    "    'NL': 9,\n",
    "    'DE': 10,\n",
    "    'AU': 11\n",
    "}"
   ]
  },
  {
   "cell_type": "code",
   "execution_count": 310,
   "metadata": {},
   "outputs": [
    {
     "ename": "IndentationError",
     "evalue": "unexpected indent (<ipython-input-310-da999f037916>, line 3)",
     "output_type": "error",
     "traceback": [
      "\u001b[0;36m  File \u001b[0;32m\"<ipython-input-310-da999f037916>\"\u001b[0;36m, line \u001b[0;32m3\u001b[0m\n\u001b[0;31m    cambiar esto y = train_users_df['country_destination'].apply(lambda x: class_dict[x])\u001b[0m\n\u001b[0m    ^\u001b[0m\n\u001b[0;31mIndentationError\u001b[0m\u001b[0;31m:\u001b[0m unexpected indent\n"
     ]
    }
   ],
   "source": [
    "# separate y from train_users\n",
    "X = train_users_df.drop('country_destination', axis=1)\n",
    " cambiar esto y = train_users_df['country_destination'].apply(lambda x: class_dict[x])\n",
    "\n",
    "from sklearn import preprocessing\n",
    "from sklearn.model_selection import train_test_split, GridSearchCV\n",
    "\n",
    "le = preprocessing.LabelEncoder()\n",
    "X['id'] = le.fit_transform(X['id'])\n",
    "\n",
    "train_X, test_X, train_y, test_y = train_test_split(X, y, train_size=0.75, stratify=y)\n"
   ]
  },
  {
   "cell_type": "code",
   "execution_count": null,
   "metadata": {},
   "outputs": [],
   "source": [
    "#classifiers = [RandomForestClassifier(verbose=1), LogisticRegression(verbose=1), GradientBoostingClassifier(verbose=True)]\n",
    "\n",
    "#for classifier in classifiers:\n",
    "#    classifier.fit(train_X, train_y)\n",
    "#    print(\"Score: \" + str(classifier.score(test_X, test_y)))"
   ]
  },
  {
   "cell_type": "code",
   "execution_count": null,
   "metadata": {},
   "outputs": [],
   "source": [
    "# Load scikit's random forest classifier library\n",
    "\n",
    "from sklearn.ensemble import RandomForestClassifier\n",
    "\n",
    "clf = RandomForestClassifier(n_jobs=2, random_state=0)\n",
    "clf.fit(train_X,train_y)"
   ]
  },
  {
   "cell_type": "code",
   "execution_count": null,
   "metadata": {},
   "outputs": [],
   "source": [
    "y_pred = clf.predict(test_X)"
   ]
  },
  {
   "cell_type": "code",
   "execution_count": null,
   "metadata": {},
   "outputs": [],
   "source": [
    "print(classification_report(test_y, y_pred))"
   ]
  },
  {
   "cell_type": "code",
   "execution_count": null,
   "metadata": {},
   "outputs": [],
   "source": [
    "from utils import plot_confusion_matrix\n",
    "\n",
    "plot_confusion_matrix(test_y, y_pred)"
   ]
  },
  {
   "cell_type": "code",
   "execution_count": null,
   "metadata": {},
   "outputs": [],
   "source": [
    "print(class_dict)"
   ]
  }
 ],
 "metadata": {
  "kernelspec": {
   "display_name": "Python 3",
   "language": "python",
   "name": "python3"
  },
  "language_info": {
   "codemirror_mode": {
    "name": "ipython",
    "version": 3
   },
   "file_extension": ".py",
   "mimetype": "text/x-python",
   "name": "python",
   "nbconvert_exporter": "python",
   "pygments_lexer": "ipython3",
   "version": "3.6.9"
  }
 },
 "nbformat": 4,
 "nbformat_minor": 4
}
