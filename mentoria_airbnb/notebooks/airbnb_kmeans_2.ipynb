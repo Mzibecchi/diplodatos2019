{
 "cells": [
  {
   "cell_type": "code",
   "execution_count": 1,
   "metadata": {},
   "outputs": [],
   "source": [
    "# Import Libraries\n",
    "import pandas as pd\n",
    "import matplotlib.pyplot as plt\n",
    "import numpy as np\n",
    "from scipy.sparse import csr_matrix\n",
    "from mpl_toolkits.axes_grid1 import make_axes_locatable\n",
    "from sklearn.cluster import KMeans\n",
    "from sklearn.metrics import mean_squared_error\n",
    "import itertools\n",
    "from sklearn.metrics import silhouette_samples, silhouette_score\n",
    "import seaborn as sns\n",
    "\n",
    "import warnings\n",
    "\n",
    "\n",
    "%load_ext autoreload\n",
    "%autoreload 2\n",
    "\n",
    "warnings.filterwarnings('ignore')\n"
   ]
  },
  {
   "cell_type": "code",
   "execution_count": 2,
   "metadata": {},
   "outputs": [],
   "source": [
    "dataset_path = \"..//datos//\"\n",
    "abnb_users_curated = \"modified_train_users.csv\""
   ]
  },
  {
   "cell_type": "code",
   "execution_count": 3,
   "metadata": {},
   "outputs": [],
   "source": [
    "\n",
    "users_df = pd.read_csv( dataset_path + abnb_users_curated)"
   ]
  },
  {
   "cell_type": "code",
   "execution_count": 4,
   "metadata": {},
   "outputs": [
    {
     "name": "stdout",
     "output_type": "stream",
     "text": [
      "The dataset contains:  121070  users.\n"
     ]
    }
   ],
   "source": [
    "# Print the number of records and the total number of movies\n",
    "print('The dataset contains: ', len(users_df),' users.')"
   ]
  },
  {
   "cell_type": "code",
   "execution_count": 5,
   "metadata": {},
   "outputs": [
    {
     "data": {
      "text/html": [
       "<div>\n",
       "<style scoped>\n",
       "    .dataframe tbody tr th:only-of-type {\n",
       "        vertical-align: middle;\n",
       "    }\n",
       "\n",
       "    .dataframe tbody tr th {\n",
       "        vertical-align: top;\n",
       "    }\n",
       "\n",
       "    .dataframe thead th {\n",
       "        text-align: right;\n",
       "    }\n",
       "</style>\n",
       "<table border=\"1\" class=\"dataframe\">\n",
       "  <thead>\n",
       "    <tr style=\"text-align: right;\">\n",
       "      <th></th>\n",
       "      <th>Unnamed: 0</th>\n",
       "      <th>id</th>\n",
       "      <th>date_account_created</th>\n",
       "      <th>timestamp_first_active</th>\n",
       "      <th>date_first_booking</th>\n",
       "      <th>gender</th>\n",
       "      <th>age</th>\n",
       "      <th>signup_method</th>\n",
       "      <th>signup_flow</th>\n",
       "      <th>language</th>\n",
       "      <th>...</th>\n",
       "      <th>first_affiliate_tracked</th>\n",
       "      <th>signup_app</th>\n",
       "      <th>first_device_type</th>\n",
       "      <th>first_browser</th>\n",
       "      <th>country_destination</th>\n",
       "      <th>total_seconds</th>\n",
       "      <th>average_seconds</th>\n",
       "      <th>total_sessions</th>\n",
       "      <th>number_of_devices</th>\n",
       "      <th>has_booked</th>\n",
       "    </tr>\n",
       "  </thead>\n",
       "  <tbody>\n",
       "    <tr>\n",
       "      <th>0</th>\n",
       "      <td>1</td>\n",
       "      <td>820tgsjxq7</td>\n",
       "      <td>1306281600</td>\n",
       "      <td>1243100889</td>\n",
       "      <td>-9223372037</td>\n",
       "      <td>1</td>\n",
       "      <td>38.0</td>\n",
       "      <td>1</td>\n",
       "      <td>0</td>\n",
       "      <td>5</td>\n",
       "      <td>...</td>\n",
       "      <td>6</td>\n",
       "      <td>2</td>\n",
       "      <td>3</td>\n",
       "      <td>7</td>\n",
       "      <td>0</td>\n",
       "      <td>0.0</td>\n",
       "      <td>0.0</td>\n",
       "      <td>1</td>\n",
       "      <td>1</td>\n",
       "      <td>False</td>\n",
       "    </tr>\n",
       "    <tr>\n",
       "      <th>1</th>\n",
       "      <td>2</td>\n",
       "      <td>4ft3gnwmtx</td>\n",
       "      <td>1285632000</td>\n",
       "      <td>1244589167</td>\n",
       "      <td>1280707200</td>\n",
       "      <td>0</td>\n",
       "      <td>56.0</td>\n",
       "      <td>0</td>\n",
       "      <td>3</td>\n",
       "      <td>5</td>\n",
       "      <td>...</td>\n",
       "      <td>6</td>\n",
       "      <td>2</td>\n",
       "      <td>6</td>\n",
       "      <td>14</td>\n",
       "      <td>1</td>\n",
       "      <td>0.0</td>\n",
       "      <td>0.0</td>\n",
       "      <td>1</td>\n",
       "      <td>1</td>\n",
       "      <td>True</td>\n",
       "    </tr>\n",
       "    <tr>\n",
       "      <th>2</th>\n",
       "      <td>3</td>\n",
       "      <td>bjjt8pjhuk</td>\n",
       "      <td>1323043200</td>\n",
       "      <td>1256968889</td>\n",
       "      <td>1347062400</td>\n",
       "      <td>0</td>\n",
       "      <td>42.0</td>\n",
       "      <td>1</td>\n",
       "      <td>0</td>\n",
       "      <td>5</td>\n",
       "      <td>...</td>\n",
       "      <td>6</td>\n",
       "      <td>2</td>\n",
       "      <td>3</td>\n",
       "      <td>13</td>\n",
       "      <td>2</td>\n",
       "      <td>0.0</td>\n",
       "      <td>0.0</td>\n",
       "      <td>1</td>\n",
       "      <td>1</td>\n",
       "      <td>True</td>\n",
       "    </tr>\n",
       "    <tr>\n",
       "      <th>3</th>\n",
       "      <td>4</td>\n",
       "      <td>87mebub9p4</td>\n",
       "      <td>1284422400</td>\n",
       "      <td>1260252665</td>\n",
       "      <td>1266451200</td>\n",
       "      <td>2</td>\n",
       "      <td>41.0</td>\n",
       "      <td>0</td>\n",
       "      <td>0</td>\n",
       "      <td>5</td>\n",
       "      <td>...</td>\n",
       "      <td>6</td>\n",
       "      <td>2</td>\n",
       "      <td>3</td>\n",
       "      <td>7</td>\n",
       "      <td>1</td>\n",
       "      <td>0.0</td>\n",
       "      <td>0.0</td>\n",
       "      <td>1</td>\n",
       "      <td>1</td>\n",
       "      <td>True</td>\n",
       "    </tr>\n",
       "    <tr>\n",
       "      <th>4</th>\n",
       "      <td>6</td>\n",
       "      <td>lsw9q7uk0j</td>\n",
       "      <td>1262390400</td>\n",
       "      <td>1262395558</td>\n",
       "      <td>1262649600</td>\n",
       "      <td>0</td>\n",
       "      <td>46.0</td>\n",
       "      <td>0</td>\n",
       "      <td>0</td>\n",
       "      <td>5</td>\n",
       "      <td>...</td>\n",
       "      <td>6</td>\n",
       "      <td>2</td>\n",
       "      <td>3</td>\n",
       "      <td>30</td>\n",
       "      <td>1</td>\n",
       "      <td>0.0</td>\n",
       "      <td>0.0</td>\n",
       "      <td>1</td>\n",
       "      <td>1</td>\n",
       "      <td>True</td>\n",
       "    </tr>\n",
       "  </tbody>\n",
       "</table>\n",
       "<p>5 rows × 22 columns</p>\n",
       "</div>"
      ],
      "text/plain": [
       "   Unnamed: 0          id  date_account_created  timestamp_first_active  \\\n",
       "0           1  820tgsjxq7            1306281600              1243100889   \n",
       "1           2  4ft3gnwmtx            1285632000              1244589167   \n",
       "2           3  bjjt8pjhuk            1323043200              1256968889   \n",
       "3           4  87mebub9p4            1284422400              1260252665   \n",
       "4           6  lsw9q7uk0j            1262390400              1262395558   \n",
       "\n",
       "   date_first_booking  gender   age  signup_method  signup_flow  language  \\\n",
       "0         -9223372037       1  38.0              1            0         5   \n",
       "1          1280707200       0  56.0              0            3         5   \n",
       "2          1347062400       0  42.0              1            0         5   \n",
       "3          1266451200       2  41.0              0            0         5   \n",
       "4          1262649600       0  46.0              0            0         5   \n",
       "\n",
       "   ...  first_affiliate_tracked  signup_app  first_device_type  first_browser  \\\n",
       "0  ...                        6           2                  3              7   \n",
       "1  ...                        6           2                  6             14   \n",
       "2  ...                        6           2                  3             13   \n",
       "3  ...                        6           2                  3              7   \n",
       "4  ...                        6           2                  3             30   \n",
       "\n",
       "   country_destination  total_seconds  average_seconds  total_sessions  \\\n",
       "0                    0            0.0              0.0               1   \n",
       "1                    1            0.0              0.0               1   \n",
       "2                    2            0.0              0.0               1   \n",
       "3                    1            0.0              0.0               1   \n",
       "4                    1            0.0              0.0               1   \n",
       "\n",
       "   number_of_devices  has_booked  \n",
       "0                  1       False  \n",
       "1                  1        True  \n",
       "2                  1        True  \n",
       "3                  1        True  \n",
       "4                  1        True  \n",
       "\n",
       "[5 rows x 22 columns]"
      ]
     },
     "execution_count": 5,
     "metadata": {},
     "output_type": "execute_result"
    }
   ],
   "source": [
    "users_df.head()"
   ]
  },
  {
   "cell_type": "code",
   "execution_count": 6,
   "metadata": {},
   "outputs": [
    {
     "data": {
      "text/plain": [
       "765"
      ]
     },
     "execution_count": 6,
     "metadata": {},
     "output_type": "execute_result"
    }
   ],
   "source": [
    "users_df[ users_df['has_booked'] == True ]['total_sessions'].nunique()"
   ]
  },
  {
   "cell_type": "code",
   "execution_count": 7,
   "metadata": {},
   "outputs": [
    {
     "data": {
      "text/plain": [
       "9"
      ]
     },
     "execution_count": 7,
     "metadata": {},
     "output_type": "execute_result"
    }
   ],
   "source": [
    "users_df[ users_df['has_booked'] == True ]['first_device_type'].nunique()"
   ]
  },
  {
   "cell_type": "code",
   "execution_count": 8,
   "metadata": {},
   "outputs": [
    {
     "data": {
      "text/html": [
       "<div>\n",
       "<style scoped>\n",
       "    .dataframe tbody tr th:only-of-type {\n",
       "        vertical-align: middle;\n",
       "    }\n",
       "\n",
       "    .dataframe tbody tr th {\n",
       "        vertical-align: top;\n",
       "    }\n",
       "\n",
       "    .dataframe thead th {\n",
       "        text-align: right;\n",
       "    }\n",
       "</style>\n",
       "<table border=\"1\" class=\"dataframe\">\n",
       "  <thead>\n",
       "    <tr style=\"text-align: right;\">\n",
       "      <th></th>\n",
       "      <th>Unnamed: 0</th>\n",
       "      <th>id</th>\n",
       "      <th>date_account_created</th>\n",
       "      <th>timestamp_first_active</th>\n",
       "      <th>date_first_booking</th>\n",
       "      <th>gender</th>\n",
       "      <th>age</th>\n",
       "      <th>signup_method</th>\n",
       "      <th>signup_flow</th>\n",
       "      <th>language</th>\n",
       "      <th>...</th>\n",
       "      <th>first_affiliate_tracked</th>\n",
       "      <th>signup_app</th>\n",
       "      <th>first_device_type</th>\n",
       "      <th>first_browser</th>\n",
       "      <th>country_destination</th>\n",
       "      <th>total_seconds</th>\n",
       "      <th>average_seconds</th>\n",
       "      <th>total_sessions</th>\n",
       "      <th>number_of_devices</th>\n",
       "      <th>has_booked</th>\n",
       "    </tr>\n",
       "  </thead>\n",
       "  <tbody>\n",
       "    <tr>\n",
       "      <th>81556</th>\n",
       "      <td>140701</td>\n",
       "      <td>aqaf70t5o1</td>\n",
       "      <td>1389484800</td>\n",
       "      <td>1389486676</td>\n",
       "      <td>-9223372037</td>\n",
       "      <td>0</td>\n",
       "      <td>25.0</td>\n",
       "      <td>0</td>\n",
       "      <td>0</td>\n",
       "      <td>5</td>\n",
       "      <td>...</td>\n",
       "      <td>0</td>\n",
       "      <td>2</td>\n",
       "      <td>3</td>\n",
       "      <td>30</td>\n",
       "      <td>0</td>\n",
       "      <td>5614716.0</td>\n",
       "      <td>4933.845343</td>\n",
       "      <td>1138</td>\n",
       "      <td>1</td>\n",
       "      <td>False</td>\n",
       "    </tr>\n",
       "    <tr>\n",
       "      <th>84232</th>\n",
       "      <td>145725</td>\n",
       "      <td>ytplei6boz</td>\n",
       "      <td>1390608000</td>\n",
       "      <td>1390615059</td>\n",
       "      <td>-9223372037</td>\n",
       "      <td>1</td>\n",
       "      <td>33.0</td>\n",
       "      <td>0</td>\n",
       "      <td>23</td>\n",
       "      <td>5</td>\n",
       "      <td>...</td>\n",
       "      <td>6</td>\n",
       "      <td>0</td>\n",
       "      <td>4</td>\n",
       "      <td>0</td>\n",
       "      <td>0</td>\n",
       "      <td>5650788.0</td>\n",
       "      <td>4780.700508</td>\n",
       "      <td>1182</td>\n",
       "      <td>1</td>\n",
       "      <td>False</td>\n",
       "    </tr>\n",
       "    <tr>\n",
       "      <th>87697</th>\n",
       "      <td>152264</td>\n",
       "      <td>a30puilbmc</td>\n",
       "      <td>1392163200</td>\n",
       "      <td>1392243209</td>\n",
       "      <td>-9223372037</td>\n",
       "      <td>2</td>\n",
       "      <td>42.0</td>\n",
       "      <td>0</td>\n",
       "      <td>0</td>\n",
       "      <td>5</td>\n",
       "      <td>...</td>\n",
       "      <td>3</td>\n",
       "      <td>2</td>\n",
       "      <td>3</td>\n",
       "      <td>30</td>\n",
       "      <td>0</td>\n",
       "      <td>14544222.0</td>\n",
       "      <td>12304.756345</td>\n",
       "      <td>1182</td>\n",
       "      <td>3</td>\n",
       "      <td>False</td>\n",
       "    </tr>\n",
       "    <tr>\n",
       "      <th>92530</th>\n",
       "      <td>161296</td>\n",
       "      <td>9o8odsj9vl</td>\n",
       "      <td>1394323200</td>\n",
       "      <td>1394409441</td>\n",
       "      <td>-9223372037</td>\n",
       "      <td>0</td>\n",
       "      <td>28.0</td>\n",
       "      <td>1</td>\n",
       "      <td>12</td>\n",
       "      <td>5</td>\n",
       "      <td>...</td>\n",
       "      <td>6</td>\n",
       "      <td>0</td>\n",
       "      <td>4</td>\n",
       "      <td>0</td>\n",
       "      <td>0</td>\n",
       "      <td>15691183.0</td>\n",
       "      <td>11789.018032</td>\n",
       "      <td>1331</td>\n",
       "      <td>1</td>\n",
       "      <td>False</td>\n",
       "    </tr>\n",
       "    <tr>\n",
       "      <th>100261</th>\n",
       "      <td>175439</td>\n",
       "      <td>9qq49geknl</td>\n",
       "      <td>1397433600</td>\n",
       "      <td>1397449053</td>\n",
       "      <td>-9223372037</td>\n",
       "      <td>0</td>\n",
       "      <td>26.0</td>\n",
       "      <td>0</td>\n",
       "      <td>25</td>\n",
       "      <td>5</td>\n",
       "      <td>...</td>\n",
       "      <td>6</td>\n",
       "      <td>3</td>\n",
       "      <td>8</td>\n",
       "      <td>0</td>\n",
       "      <td>0</td>\n",
       "      <td>9495148.0</td>\n",
       "      <td>8531.130279</td>\n",
       "      <td>1113</td>\n",
       "      <td>2</td>\n",
       "      <td>False</td>\n",
       "    </tr>\n",
       "    <tr>\n",
       "      <th>101569</th>\n",
       "      <td>177826</td>\n",
       "      <td>vgjs764d6a</td>\n",
       "      <td>1397952000</td>\n",
       "      <td>1397955334</td>\n",
       "      <td>-9223372037</td>\n",
       "      <td>2</td>\n",
       "      <td>27.0</td>\n",
       "      <td>0</td>\n",
       "      <td>25</td>\n",
       "      <td>5</td>\n",
       "      <td>...</td>\n",
       "      <td>6</td>\n",
       "      <td>3</td>\n",
       "      <td>8</td>\n",
       "      <td>21</td>\n",
       "      <td>0</td>\n",
       "      <td>11796944.0</td>\n",
       "      <td>9362.653968</td>\n",
       "      <td>1260</td>\n",
       "      <td>2</td>\n",
       "      <td>False</td>\n",
       "    </tr>\n",
       "    <tr>\n",
       "      <th>102385</th>\n",
       "      <td>179286</td>\n",
       "      <td>r541x78s24</td>\n",
       "      <td>1398211200</td>\n",
       "      <td>1398229794</td>\n",
       "      <td>-9223372037</td>\n",
       "      <td>1</td>\n",
       "      <td>43.0</td>\n",
       "      <td>0</td>\n",
       "      <td>0</td>\n",
       "      <td>5</td>\n",
       "      <td>...</td>\n",
       "      <td>6</td>\n",
       "      <td>2</td>\n",
       "      <td>3</td>\n",
       "      <td>30</td>\n",
       "      <td>0</td>\n",
       "      <td>13234965.0</td>\n",
       "      <td>7385.583147</td>\n",
       "      <td>1792</td>\n",
       "      <td>1</td>\n",
       "      <td>False</td>\n",
       "    </tr>\n",
       "    <tr>\n",
       "      <th>104525</th>\n",
       "      <td>183187</td>\n",
       "      <td>llvyczd9hn</td>\n",
       "      <td>1398902400</td>\n",
       "      <td>1398972415</td>\n",
       "      <td>-9223372037</td>\n",
       "      <td>1</td>\n",
       "      <td>35.0</td>\n",
       "      <td>0</td>\n",
       "      <td>0</td>\n",
       "      <td>5</td>\n",
       "      <td>...</td>\n",
       "      <td>3</td>\n",
       "      <td>2</td>\n",
       "      <td>3</td>\n",
       "      <td>7</td>\n",
       "      <td>0</td>\n",
       "      <td>38222509.0</td>\n",
       "      <td>31176.597879</td>\n",
       "      <td>1226</td>\n",
       "      <td>5</td>\n",
       "      <td>False</td>\n",
       "    </tr>\n",
       "    <tr>\n",
       "      <th>106977</th>\n",
       "      <td>187684</td>\n",
       "      <td>ollruw7ti4</td>\n",
       "      <td>1399852800</td>\n",
       "      <td>1399860052</td>\n",
       "      <td>-9223372037</td>\n",
       "      <td>0</td>\n",
       "      <td>27.0</td>\n",
       "      <td>0</td>\n",
       "      <td>25</td>\n",
       "      <td>5</td>\n",
       "      <td>...</td>\n",
       "      <td>6</td>\n",
       "      <td>3</td>\n",
       "      <td>8</td>\n",
       "      <td>0</td>\n",
       "      <td>0</td>\n",
       "      <td>11795072.0</td>\n",
       "      <td>11632.220907</td>\n",
       "      <td>1014</td>\n",
       "      <td>1</td>\n",
       "      <td>False</td>\n",
       "    </tr>\n",
       "    <tr>\n",
       "      <th>107610</th>\n",
       "      <td>188861</td>\n",
       "      <td>e8h4qghxlg</td>\n",
       "      <td>1400025600</td>\n",
       "      <td>1400029035</td>\n",
       "      <td>-9223372037</td>\n",
       "      <td>1</td>\n",
       "      <td>46.0</td>\n",
       "      <td>0</td>\n",
       "      <td>24</td>\n",
       "      <td>5</td>\n",
       "      <td>...</td>\n",
       "      <td>3</td>\n",
       "      <td>1</td>\n",
       "      <td>6</td>\n",
       "      <td>7</td>\n",
       "      <td>0</td>\n",
       "      <td>6634508.0</td>\n",
       "      <td>3450.082163</td>\n",
       "      <td>1923</td>\n",
       "      <td>3</td>\n",
       "      <td>False</td>\n",
       "    </tr>\n",
       "    <tr>\n",
       "      <th>108859</th>\n",
       "      <td>191255</td>\n",
       "      <td>55hbmqaela</td>\n",
       "      <td>1400371200</td>\n",
       "      <td>1400449199</td>\n",
       "      <td>-9223372037</td>\n",
       "      <td>0</td>\n",
       "      <td>24.0</td>\n",
       "      <td>0</td>\n",
       "      <td>0</td>\n",
       "      <td>24</td>\n",
       "      <td>...</td>\n",
       "      <td>6</td>\n",
       "      <td>2</td>\n",
       "      <td>3</td>\n",
       "      <td>7</td>\n",
       "      <td>0</td>\n",
       "      <td>6030568.0</td>\n",
       "      <td>5067.704202</td>\n",
       "      <td>1190</td>\n",
       "      <td>2</td>\n",
       "      <td>False</td>\n",
       "    </tr>\n",
       "    <tr>\n",
       "      <th>110134</th>\n",
       "      <td>193608</td>\n",
       "      <td>78mnangc8a</td>\n",
       "      <td>1400716800</td>\n",
       "      <td>1400796178</td>\n",
       "      <td>-9223372037</td>\n",
       "      <td>1</td>\n",
       "      <td>33.0</td>\n",
       "      <td>0</td>\n",
       "      <td>0</td>\n",
       "      <td>5</td>\n",
       "      <td>...</td>\n",
       "      <td>4</td>\n",
       "      <td>2</td>\n",
       "      <td>6</td>\n",
       "      <td>7</td>\n",
       "      <td>0</td>\n",
       "      <td>2930542.0</td>\n",
       "      <td>1905.423927</td>\n",
       "      <td>1538</td>\n",
       "      <td>1</td>\n",
       "      <td>False</td>\n",
       "    </tr>\n",
       "    <tr>\n",
       "      <th>110165</th>\n",
       "      <td>193665</td>\n",
       "      <td>ccse0ciy5m</td>\n",
       "      <td>1400716800</td>\n",
       "      <td>1400802901</td>\n",
       "      <td>-9223372037</td>\n",
       "      <td>0</td>\n",
       "      <td>19.0</td>\n",
       "      <td>0</td>\n",
       "      <td>0</td>\n",
       "      <td>5</td>\n",
       "      <td>...</td>\n",
       "      <td>3</td>\n",
       "      <td>2</td>\n",
       "      <td>6</td>\n",
       "      <td>14</td>\n",
       "      <td>0</td>\n",
       "      <td>15536818.0</td>\n",
       "      <td>14629.772128</td>\n",
       "      <td>1062</td>\n",
       "      <td>5</td>\n",
       "      <td>False</td>\n",
       "    </tr>\n",
       "    <tr>\n",
       "      <th>113000</th>\n",
       "      <td>198757</td>\n",
       "      <td>0jgsonnndu</td>\n",
       "      <td>1401753600</td>\n",
       "      <td>1401766102</td>\n",
       "      <td>-9223372037</td>\n",
       "      <td>0</td>\n",
       "      <td>26.0</td>\n",
       "      <td>0</td>\n",
       "      <td>0</td>\n",
       "      <td>5</td>\n",
       "      <td>...</td>\n",
       "      <td>6</td>\n",
       "      <td>2</td>\n",
       "      <td>3</td>\n",
       "      <td>30</td>\n",
       "      <td>0</td>\n",
       "      <td>14820508.0</td>\n",
       "      <td>12381.376775</td>\n",
       "      <td>1197</td>\n",
       "      <td>4</td>\n",
       "      <td>False</td>\n",
       "    </tr>\n",
       "    <tr>\n",
       "      <th>114966</th>\n",
       "      <td>202281</td>\n",
       "      <td>e4kn8hbtui</td>\n",
       "      <td>1402358400</td>\n",
       "      <td>1402371439</td>\n",
       "      <td>-9223372037</td>\n",
       "      <td>0</td>\n",
       "      <td>28.0</td>\n",
       "      <td>1</td>\n",
       "      <td>0</td>\n",
       "      <td>5</td>\n",
       "      <td>...</td>\n",
       "      <td>6</td>\n",
       "      <td>2</td>\n",
       "      <td>3</td>\n",
       "      <td>7</td>\n",
       "      <td>0</td>\n",
       "      <td>10940920.0</td>\n",
       "      <td>7004.430218</td>\n",
       "      <td>1562</td>\n",
       "      <td>3</td>\n",
       "      <td>False</td>\n",
       "    </tr>\n",
       "    <tr>\n",
       "      <th>115783</th>\n",
       "      <td>203721</td>\n",
       "      <td>bfiueza7rt</td>\n",
       "      <td>1402531200</td>\n",
       "      <td>1402603026</td>\n",
       "      <td>-9223372037</td>\n",
       "      <td>0</td>\n",
       "      <td>27.0</td>\n",
       "      <td>0</td>\n",
       "      <td>0</td>\n",
       "      <td>5</td>\n",
       "      <td>...</td>\n",
       "      <td>0</td>\n",
       "      <td>2</td>\n",
       "      <td>3</td>\n",
       "      <td>7</td>\n",
       "      <td>0</td>\n",
       "      <td>14062684.0</td>\n",
       "      <td>8022.067313</td>\n",
       "      <td>1753</td>\n",
       "      <td>4</td>\n",
       "      <td>False</td>\n",
       "    </tr>\n",
       "    <tr>\n",
       "      <th>118577</th>\n",
       "      <td>208876</td>\n",
       "      <td>b9zw1lqfrn</td>\n",
       "      <td>1403395200</td>\n",
       "      <td>1403480945</td>\n",
       "      <td>-9223372037</td>\n",
       "      <td>0</td>\n",
       "      <td>22.0</td>\n",
       "      <td>0</td>\n",
       "      <td>0</td>\n",
       "      <td>5</td>\n",
       "      <td>...</td>\n",
       "      <td>0</td>\n",
       "      <td>2</td>\n",
       "      <td>3</td>\n",
       "      <td>7</td>\n",
       "      <td>0</td>\n",
       "      <td>11416260.0</td>\n",
       "      <td>9807.783505</td>\n",
       "      <td>1164</td>\n",
       "      <td>4</td>\n",
       "      <td>False</td>\n",
       "    </tr>\n",
       "    <tr>\n",
       "      <th>120083</th>\n",
       "      <td>211645</td>\n",
       "      <td>4nruf2tcfe</td>\n",
       "      <td>1403827200</td>\n",
       "      <td>1403883863</td>\n",
       "      <td>-9223372037</td>\n",
       "      <td>1</td>\n",
       "      <td>23.0</td>\n",
       "      <td>1</td>\n",
       "      <td>0</td>\n",
       "      <td>19</td>\n",
       "      <td>...</td>\n",
       "      <td>0</td>\n",
       "      <td>1</td>\n",
       "      <td>8</td>\n",
       "      <td>21</td>\n",
       "      <td>0</td>\n",
       "      <td>7923392.0</td>\n",
       "      <td>7170.490498</td>\n",
       "      <td>1105</td>\n",
       "      <td>2</td>\n",
       "      <td>False</td>\n",
       "    </tr>\n",
       "  </tbody>\n",
       "</table>\n",
       "<p>18 rows × 22 columns</p>\n",
       "</div>"
      ],
      "text/plain": [
       "        Unnamed: 0          id  date_account_created  timestamp_first_active  \\\n",
       "81556       140701  aqaf70t5o1            1389484800              1389486676   \n",
       "84232       145725  ytplei6boz            1390608000              1390615059   \n",
       "87697       152264  a30puilbmc            1392163200              1392243209   \n",
       "92530       161296  9o8odsj9vl            1394323200              1394409441   \n",
       "100261      175439  9qq49geknl            1397433600              1397449053   \n",
       "101569      177826  vgjs764d6a            1397952000              1397955334   \n",
       "102385      179286  r541x78s24            1398211200              1398229794   \n",
       "104525      183187  llvyczd9hn            1398902400              1398972415   \n",
       "106977      187684  ollruw7ti4            1399852800              1399860052   \n",
       "107610      188861  e8h4qghxlg            1400025600              1400029035   \n",
       "108859      191255  55hbmqaela            1400371200              1400449199   \n",
       "110134      193608  78mnangc8a            1400716800              1400796178   \n",
       "110165      193665  ccse0ciy5m            1400716800              1400802901   \n",
       "113000      198757  0jgsonnndu            1401753600              1401766102   \n",
       "114966      202281  e4kn8hbtui            1402358400              1402371439   \n",
       "115783      203721  bfiueza7rt            1402531200              1402603026   \n",
       "118577      208876  b9zw1lqfrn            1403395200              1403480945   \n",
       "120083      211645  4nruf2tcfe            1403827200              1403883863   \n",
       "\n",
       "        date_first_booking  gender   age  signup_method  signup_flow  \\\n",
       "81556          -9223372037       0  25.0              0            0   \n",
       "84232          -9223372037       1  33.0              0           23   \n",
       "87697          -9223372037       2  42.0              0            0   \n",
       "92530          -9223372037       0  28.0              1           12   \n",
       "100261         -9223372037       0  26.0              0           25   \n",
       "101569         -9223372037       2  27.0              0           25   \n",
       "102385         -9223372037       1  43.0              0            0   \n",
       "104525         -9223372037       1  35.0              0            0   \n",
       "106977         -9223372037       0  27.0              0           25   \n",
       "107610         -9223372037       1  46.0              0           24   \n",
       "108859         -9223372037       0  24.0              0            0   \n",
       "110134         -9223372037       1  33.0              0            0   \n",
       "110165         -9223372037       0  19.0              0            0   \n",
       "113000         -9223372037       0  26.0              0            0   \n",
       "114966         -9223372037       0  28.0              1            0   \n",
       "115783         -9223372037       0  27.0              0            0   \n",
       "118577         -9223372037       0  22.0              0            0   \n",
       "120083         -9223372037       1  23.0              1            0   \n",
       "\n",
       "        language  ...  first_affiliate_tracked  signup_app  first_device_type  \\\n",
       "81556          5  ...                        0           2                  3   \n",
       "84232          5  ...                        6           0                  4   \n",
       "87697          5  ...                        3           2                  3   \n",
       "92530          5  ...                        6           0                  4   \n",
       "100261         5  ...                        6           3                  8   \n",
       "101569         5  ...                        6           3                  8   \n",
       "102385         5  ...                        6           2                  3   \n",
       "104525         5  ...                        3           2                  3   \n",
       "106977         5  ...                        6           3                  8   \n",
       "107610         5  ...                        3           1                  6   \n",
       "108859        24  ...                        6           2                  3   \n",
       "110134         5  ...                        4           2                  6   \n",
       "110165         5  ...                        3           2                  6   \n",
       "113000         5  ...                        6           2                  3   \n",
       "114966         5  ...                        6           2                  3   \n",
       "115783         5  ...                        0           2                  3   \n",
       "118577         5  ...                        0           2                  3   \n",
       "120083        19  ...                        0           1                  8   \n",
       "\n",
       "        first_browser  country_destination  total_seconds  average_seconds  \\\n",
       "81556              30                    0      5614716.0      4933.845343   \n",
       "84232               0                    0      5650788.0      4780.700508   \n",
       "87697              30                    0     14544222.0     12304.756345   \n",
       "92530               0                    0     15691183.0     11789.018032   \n",
       "100261              0                    0      9495148.0      8531.130279   \n",
       "101569             21                    0     11796944.0      9362.653968   \n",
       "102385             30                    0     13234965.0      7385.583147   \n",
       "104525              7                    0     38222509.0     31176.597879   \n",
       "106977              0                    0     11795072.0     11632.220907   \n",
       "107610              7                    0      6634508.0      3450.082163   \n",
       "108859              7                    0      6030568.0      5067.704202   \n",
       "110134              7                    0      2930542.0      1905.423927   \n",
       "110165             14                    0     15536818.0     14629.772128   \n",
       "113000             30                    0     14820508.0     12381.376775   \n",
       "114966              7                    0     10940920.0      7004.430218   \n",
       "115783              7                    0     14062684.0      8022.067313   \n",
       "118577              7                    0     11416260.0      9807.783505   \n",
       "120083             21                    0      7923392.0      7170.490498   \n",
       "\n",
       "        total_sessions  number_of_devices  has_booked  \n",
       "81556             1138                  1       False  \n",
       "84232             1182                  1       False  \n",
       "87697             1182                  3       False  \n",
       "92530             1331                  1       False  \n",
       "100261            1113                  2       False  \n",
       "101569            1260                  2       False  \n",
       "102385            1792                  1       False  \n",
       "104525            1226                  5       False  \n",
       "106977            1014                  1       False  \n",
       "107610            1923                  3       False  \n",
       "108859            1190                  2       False  \n",
       "110134            1538                  1       False  \n",
       "110165            1062                  5       False  \n",
       "113000            1197                  4       False  \n",
       "114966            1562                  3       False  \n",
       "115783            1753                  4       False  \n",
       "118577            1164                  4       False  \n",
       "120083            1105                  2       False  \n",
       "\n",
       "[18 rows x 22 columns]"
      ]
     },
     "execution_count": 8,
     "metadata": {},
     "output_type": "execute_result"
    }
   ],
   "source": [
    "# Hay usuarios con mil sesiones distintas, que nunca reservaron!!\n",
    "\n",
    "users_df[ (users_df['total_sessions'] > 1000) & (users_df['has_booked'] == False ) ]"
   ]
  },
  {
   "cell_type": "code",
   "execution_count": null,
   "metadata": {},
   "outputs": [],
   "source": []
  },
  {
   "cell_type": "code",
   "execution_count": 9,
   "metadata": {},
   "outputs": [
    {
     "data": {
      "text/plain": [
       "23"
      ]
     },
     "execution_count": 9,
     "metadata": {},
     "output_type": "execute_result"
    }
   ],
   "source": [
    "users_df[ users_df['has_booked'] == True ]['language'].nunique()"
   ]
  },
  {
   "cell_type": "code",
   "execution_count": 10,
   "metadata": {},
   "outputs": [
    {
     "data": {
      "text/plain": [
       "language\n",
       "0         2\n",
       "1         4\n",
       "2        16\n",
       "3       203\n",
       "4         6\n",
       "5     65117\n",
       "6       220\n",
       "7         6\n",
       "8       309\n",
       "10        3\n",
       "12        2\n",
       "13       87\n",
       "14       61\n",
       "15      151\n",
       "16       26\n",
       "17       12\n",
       "18       11\n",
       "19       54\n",
       "20       88\n",
       "21       35\n",
       "22        2\n",
       "23       19\n",
       "24      402\n",
       "Name: language, dtype: int64"
      ]
     },
     "execution_count": 10,
     "metadata": {},
     "output_type": "execute_result"
    }
   ],
   "source": [
    "users_df[ users_df['has_booked'] == True ].groupby('language')['language'].count()"
   ]
  },
  {
   "cell_type": "code",
   "execution_count": 11,
   "metadata": {},
   "outputs": [],
   "source": [
    "country_dict = {\n",
    "    'NDF': 0,\n",
    "    'US': 1,\n",
    "    'other': 2,\n",
    "    'FR': 3,\n",
    "    'CA': 4,\n",
    "    'GB': 5,\n",
    "    'ES': 6,\n",
    "    'IT': 7,\n",
    "    'PT': 8,\n",
    "    'NL': 9,\n",
    "    'DE': 10,\n",
    "    'AU': 11\n",
    "}\n",
    "\n",
    "europe_set = {3,5,6,7,8,9,10}\n",
    "north_america_set = {4}\n",
    "oceania_set = {11}\n",
    "usa_set = {1}\n",
    "other_set = {2}\n",
    "\n",
    "europe_region = 0\n",
    "north_america_region = 1\n",
    "oceania_region = 2\n",
    "usa_region = 3\n",
    "other_region = 4\n",
    "no_region = 5\n",
    "\n",
    "def assign_region( country ):\n",
    "    if country in europe_set:\n",
    "        return europe_region\n",
    "    \n",
    "    if country in north_america_set:\n",
    "        return north_america_region\n",
    "    \n",
    "    if country in oceania_set:\n",
    "        return oceania_region\n",
    "    \n",
    "    if country in usa_set:\n",
    "        return usa_region\n",
    "\n",
    "    if country in other_set:\n",
    "        return other_region\n",
    "    \n",
    "    return no_region\n",
    "    "
   ]
  },
  {
   "cell_type": "code",
   "execution_count": 12,
   "metadata": {},
   "outputs": [
    {
     "name": "stdout",
     "output_type": "stream",
     "text": [
      "Number of records:  121070\n"
     ]
    },
    {
     "data": {
      "text/html": [
       "<div>\n",
       "<style scoped>\n",
       "    .dataframe tbody tr th:only-of-type {\n",
       "        vertical-align: middle;\n",
       "    }\n",
       "\n",
       "    .dataframe tbody tr th {\n",
       "        vertical-align: top;\n",
       "    }\n",
       "\n",
       "    .dataframe thead th {\n",
       "        text-align: right;\n",
       "    }\n",
       "</style>\n",
       "<table border=\"1\" class=\"dataframe\">\n",
       "  <thead>\n",
       "    <tr style=\"text-align: right;\">\n",
       "      <th></th>\n",
       "      <th>has_booked</th>\n",
       "      <th>age</th>\n",
       "    </tr>\n",
       "  </thead>\n",
       "  <tbody>\n",
       "    <tr>\n",
       "      <th>0</th>\n",
       "      <td>False</td>\n",
       "      <td>38.0</td>\n",
       "    </tr>\n",
       "    <tr>\n",
       "      <th>1</th>\n",
       "      <td>True</td>\n",
       "      <td>56.0</td>\n",
       "    </tr>\n",
       "    <tr>\n",
       "      <th>2</th>\n",
       "      <td>True</td>\n",
       "      <td>42.0</td>\n",
       "    </tr>\n",
       "    <tr>\n",
       "      <th>3</th>\n",
       "      <td>True</td>\n",
       "      <td>41.0</td>\n",
       "    </tr>\n",
       "    <tr>\n",
       "      <th>4</th>\n",
       "      <td>True</td>\n",
       "      <td>46.0</td>\n",
       "    </tr>\n",
       "  </tbody>\n",
       "</table>\n",
       "</div>"
      ],
      "text/plain": [
       "   has_booked   age\n",
       "0       False  38.0\n",
       "1        True  56.0\n",
       "2        True  42.0\n",
       "3        True  41.0\n",
       "4        True  46.0"
      ]
     },
     "execution_count": 12,
     "metadata": {},
     "output_type": "execute_result"
    }
   ],
   "source": [
    "users_df['region_destination'] = users_df['country_destination'].apply(lambda x: assign_region(x))\n",
    "\n",
    "# parece que agregar lenguage o total_sessions hace que un grupo sea mucho mas grande... \n",
    "users_to_cluster_df = users_df[ ['has_booked','age']]\n",
    "\n",
    "print( \"Number of records: \", len(users_to_cluster_df))\n",
    "users_to_cluster_df.head()"
   ]
  },
  {
   "cell_type": "code",
   "execution_count": 13,
   "metadata": {},
   "outputs": [],
   "source": [
    "# Let's turn our dataset into a list\n",
    "\n",
    "users_to_cluster = users_to_cluster_df.values"
   ]
  },
  {
   "cell_type": "code",
   "execution_count": 14,
   "metadata": {},
   "outputs": [],
   "source": [
    "# Defining the scatterplot drawing function\n",
    "def draw_scatterplot(x_data, x_label, y_data, y_label):\n",
    "    fig = plt.figure(figsize=(8,8))\n",
    "    ax = fig.add_subplot(111)    \n",
    "    \n",
    "    #plt.xlim(0, 5)\n",
    "   # plt.ylim(0, 5)\n",
    "    ax.set_xlabel(x_label)\n",
    "    ax.set_ylabel(y_label)\n",
    "    ax.scatter(x_data, y_data, s=30)\n",
    "    "
   ]
  },
  {
   "cell_type": "code",
   "execution_count": 15,
   "metadata": {},
   "outputs": [],
   "source": [
    "# Defining the cluster plotting function\n",
    "def draw_clusters(biased_dataset, predictions, cmap='viridis'):\n",
    "    \n",
    "    fig = plt.figure(figsize=(8,8))\n",
    "    ax = fig.add_subplot(111)\n",
    "    ax.set_xlabel('gender')\n",
    "    ax.set_ylabel('region')\n",
    "    \n",
    "    clustered = pd.concat([biased_dataset.reset_index(), pd.DataFrame({'group':predictions})], axis=1)\n",
    "    plt.scatter(clustered['gender'], clustered['age'], c=clustered['group'], s=20, cmap=cmap)\n",
    "    \n"
   ]
  },
  {
   "cell_type": "code",
   "execution_count": 16,
   "metadata": {},
   "outputs": [],
   "source": [
    "def add_cluster_to_dataset( original_df, predictions):\n",
    "    return  pd.concat([original_df.reset_index(), pd.DataFrame({'group':predictions})], axis=1)"
   ]
  },
  {
   "cell_type": "code",
   "execution_count": 17,
   "metadata": {},
   "outputs": [],
   "source": [
    "def cluster_show_by_age_region( clustered ):\n",
    "\n",
    "#    fig = plt.figure(figsize=(8,8))\n",
    "#    ax = fig.add_subplot(111)\n",
    "#    ax.set_xlabel('age')\n",
    "#    ax.set_ylabel('region')\n",
    "\n",
    "#    plt.scatter(clustered['age'], clustered['region_destination'], label='group', c=clustered['group'], s=20)\n",
    "#    plt.scatter(clustered['age'], clustered['region_destination'], \n",
    "#                label=, c=clustered['group'], s=20,\n",
    "#               marker='o')\n",
    " \n",
    "#    plt.legend(loc=2)\n",
    "#    plt.show()   \n",
    "\n",
    "    sns.set(style=\"white\")\n",
    "    sns.relplot(x=\"age\", y=\"region_destination\", hue=\"group\",\n",
    "            sizes=(40, 400), alpha=.5,\n",
    "            height=6, data=clustered)"
   ]
  },
  {
   "cell_type": "code",
   "execution_count": 18,
   "metadata": {},
   "outputs": [],
   "source": [
    "def cluster_show_by_age_gender( clustered ):\n",
    "\n",
    "#    fig = plt.figure(figsize=(8,8))\n",
    "#    ax = fig.add_subplot(111)\n",
    "#    ax.set_xlabel('age')\n",
    "#    ax.set_ylabel('region')\n",
    "\n",
    "#    plt.scatter(clustered['age'], clustered['region_destination'], label='group', c=clustered['group'], s=20)\n",
    "#    plt.scatter(clustered['age'], clustered['region_destination'], \n",
    "#                label=, c=clustered['group'], s=20,\n",
    "#               marker='o')\n",
    " \n",
    "#    plt.legend(loc=2)\n",
    "#    plt.show()   \n",
    "    colores=['red','green','blue','cyan','yellow']\n",
    "    sns.set(style=\"white\")\n",
    "    sns.relplot(x=\"gender\", y=\"age\", hue=\"group\",\n",
    "            sizes=(40, 400), alpha=.5,\n",
    "            height=6, data=clustered)"
   ]
  },
  {
   "cell_type": "code",
   "execution_count": 19,
   "metadata": {},
   "outputs": [],
   "source": [
    "def cluster_show_by( clustered, x_label, y_label):\n",
    "\n",
    "#    fig = plt.figure(figsize=(8,8))\n",
    "#    ax = fig.add_subplot(111)\n",
    "#    ax.set_xlabel('age')\n",
    "#    ax.set_ylabel('region')\n",
    "\n",
    "#    plt.scatter(clustered['age'], clustered['region_destination'], label='group', c=clustered['group'], s=20)\n",
    "#    plt.scatter(clustered['age'], clustered['region_destination'], \n",
    "#                label=, c=clustered['group'], s=20,\n",
    "#               marker='o')\n",
    " \n",
    "#    plt.legend(loc=2)\n",
    "#    plt.show()   \n",
    "    colores=['red','green','blue','cyan','yellow']\n",
    "    sns.set(style=\"white\")\n",
    "    sns.relplot(x=x_label, y=y_label, hue=\"group\",\n",
    "            sizes=(40, 400), alpha=.5,\n",
    "            height=6, data=clustered)"
   ]
  },
  {
   "cell_type": "markdown",
   "metadata": {},
   "source": [
    "# Clustering"
   ]
  },
  {
   "cell_type": "code",
   "execution_count": 20,
   "metadata": {},
   "outputs": [],
   "source": [
    "from sklearn.cluster import KMeans\n"
   ]
  },
  {
   "cell_type": "code",
   "execution_count": 21,
   "metadata": {},
   "outputs": [],
   "source": [
    "def kmeans_generate_predictions( n_clusters ):\n",
    "\n",
    "    kmeans = KMeans( n_clusters )\n",
    "\n",
    "    predictions = kmeans.fit_predict(users_to_cluster)\n",
    "    \n",
    "    return predictions"
   ]
  },
  {
   "cell_type": "markdown",
   "metadata": {},
   "source": [
    "## K = 2"
   ]
  },
  {
   "cell_type": "code",
   "execution_count": 22,
   "metadata": {},
   "outputs": [],
   "source": [
    "predictions = kmeans_generate_predictions( 2 )"
   ]
  },
  {
   "cell_type": "code",
   "execution_count": 26,
   "metadata": {},
   "outputs": [
    {
     "data": {
      "image/png": "[encoded data removed]",
      "text/plain": [
       "<Figure size 288x288 with 1 Axes>"
      ]
     },
     "metadata": {
      "needs_background": "light"
     },
     "output_type": "display_data"
    },
    {
     "data": {
      "image/png": "[encoded data removed]",
      "text/plain": [
       "<Figure size 499.85x432 with 1 Axes>"
      ]
     },
     "metadata": {},
     "output_type": "display_data"
    }
   ],
   "source": [
    "plt.figure(figsize=(4,4))\n",
    "sns.countplot(data=pd.DataFrame({'group':predictions}), x='group')\n",
    "\n",
    "clustered = add_cluster_to_dataset(users_to_cluster_df, predictions)\n",
    "\n",
    "cluster_show_by( clustered, 'has_booked', 'age') "
   ]
  },
  {
   "cell_type": "markdown",
   "metadata": {},
   "source": [
    "## K = 3"
   ]
  },
  {
   "cell_type": "code",
   "execution_count": 27,
   "metadata": {},
   "outputs": [],
   "source": [
    "predictions = []\n",
    "clustered = []\n",
    "\n",
    "predictions = kmeans_generate_predictions( 3 )"
   ]
  },
  {
   "cell_type": "code",
   "execution_count": 28,
   "metadata": {},
   "outputs": [
    {
     "data": {
      "image/png": "[encoded data removed]",
      "text/plain": [
       "<Figure size 288x288 with 1 Axes>"
      ]
     },
     "metadata": {},
     "output_type": "display_data"
    },
    {
     "data": {
      "image/png": "[encoded data removed]",
      "text/plain": [
       "<Figure size 499.85x432 with 1 Axes>"
      ]
     },
     "metadata": {},
     "output_type": "display_data"
    }
   ],
   "source": [
    "clustered = add_cluster_to_dataset(users_to_cluster_df, predictions)\n",
    "\n",
    "plt.figure(figsize=(4,4))\n",
    "sns.countplot(data=pd.DataFrame({'group':predictions}), x='group')\n",
    "\n",
    "cluster_show_by( clustered, 'has_booked', 'age') "
   ]
  },
  {
   "cell_type": "markdown",
   "metadata": {},
   "source": [
    "## K = 4"
   ]
  },
  {
   "cell_type": "code",
   "execution_count": 29,
   "metadata": {},
   "outputs": [],
   "source": [
    "predictions = []\n",
    "clustered = []\n",
    "\n",
    "predictions = kmeans_generate_predictions( 4 )"
   ]
  },
  {
   "cell_type": "code",
   "execution_count": 30,
   "metadata": {},
   "outputs": [
    {
     "data": {
      "image/png": "[encoded data removed]",
      "text/plain": [
       "<Figure size 288x288 with 1 Axes>"
      ]
     },
     "metadata": {},
     "output_type": "display_data"
    },
    {
     "data": {
      "image/png": "[encoded data removed]",
      "text/plain": [
       "<Figure size 499.85x432 with 1 Axes>"
      ]
     },
     "metadata": {},
     "output_type": "display_data"
    }
   ],
   "source": [
    "clustered = add_cluster_to_dataset(users_to_cluster_df, predictions)\n",
    "\n",
    "plt.figure(figsize=(4,4))\n",
    "sns.countplot(data=pd.DataFrame({'group':predictions}), x='group')\n",
    "\n",
    "cluster_show_by( clustered, 'has_booked', 'age') "
   ]
  },
  {
   "cell_type": "markdown",
   "metadata": {},
   "source": [
    "## K = 5"
   ]
  },
  {
   "cell_type": "code",
   "execution_count": 33,
   "metadata": {},
   "outputs": [],
   "source": [
    "predictions = []\n",
    "clustered = []\n",
    "\n",
    "predictions = kmeans_generate_predictions( 5 )"
   ]
  },
  {
   "cell_type": "code",
   "execution_count": 34,
   "metadata": {},
   "outputs": [
    {
     "data": {
      "image/png": "[encoded data removed]",
      "text/plain": [
       "<Figure size 288x288 with 1 Axes>"
      ]
     },
     "metadata": {},
     "output_type": "display_data"
    },
    {
     "data": {
      "image/png": "[encoded data removed]",
      "text/plain": [
       "<Figure size 499.85x432 with 1 Axes>"
      ]
     },
     "metadata": {},
     "output_type": "display_data"
    }
   ],
   "source": [
    "clustered = add_cluster_to_dataset(users_to_cluster_df, predictions)\n",
    "\n",
    "plt.figure(figsize=(4,4))\n",
    "sns.countplot(data=pd.DataFrame({'group':predictions}), x='group')\n",
    "\n",
    "cluster_show_by( clustered, 'has_booked', 'age') "
   ]
  },
  {
   "cell_type": "code",
   "execution_count": null,
   "metadata": {},
   "outputs": [],
   "source": [
    "# este grafico no termina...\n",
    "#sns.catplot(x=\"age\", y=\"region_destination\", hue=\"group\", kind=\"swarm\",\n",
    "#            data=clustered, \n",
    "#            height=4, aspect=.7)"
   ]
  },
  {
   "cell_type": "code",
   "execution_count": 35,
   "metadata": {},
   "outputs": [
    {
     "data": {
      "text/plain": [
       "<seaborn.axisgrid.PairGrid at 0x1ac10449470>"
      ]
     },
     "execution_count": 35,
     "metadata": {},
     "output_type": "execute_result"
    },
    {
     "data": {
      "image/png": "[encoded data removed]",
      "text/plain": [
       "<Figure size 621.85x576 with 6 Axes>"
      ]
     },
     "metadata": {},
     "output_type": "display_data"
    }
   ],
   "source": [
    "sns.pairplot(clustered.dropna(), hue='group',size=4,vars=[\"has_booked\",\"age\"],kind='scatter')"
   ]
  },
  {
   "cell_type": "code",
   "execution_count": 37,
   "metadata": {},
   "outputs": [],
   "source": [
    "nc = range(1, 10)\n",
    "kmeans = [KMeans(n_clusters=i) for i in nc]"
   ]
  },
  {
   "cell_type": "code",
   "execution_count": 38,
   "metadata": {},
   "outputs": [
    {
     "data": {
      "text/plain": [
       "[-16443771.207631959,\n",
       " -5321529.620439767,\n",
       " -2815509.72245736,\n",
       " -1752593.0656838007,\n",
       " -1228363.0569574868,\n",
       " -930258.9179540008,\n",
       " -706176.0113570241,\n",
       " -560621.4480917675,\n",
       " -455541.8733280983]"
      ]
     },
     "execution_count": 38,
     "metadata": {},
     "output_type": "execute_result"
    }
   ],
   "source": [
    "score = [kmeans[i].fit(users_to_cluster).score(users_to_cluster) for i in range(len(kmeans))]\n",
    "score"
   ]
  },
  {
   "cell_type": "code",
   "execution_count": 39,
   "metadata": {},
   "outputs": [
    {
     "data": {
      "image/png": "[encoded data removed]",
      "text/plain": [
       "<Figure size 432x288 with 1 Axes>"
      ]
     },
     "metadata": {},
     "output_type": "display_data"
    }
   ],
   "source": [
    "plt.plot(nc,score)\n",
    "plt.xlabel('Number of Clusters')\n",
    "plt.ylabel('Score')\n",
    "plt.title('Elbow Curve')\n",
    "plt.show()"
   ]
  },
  {
   "cell_type": "code",
   "execution_count": null,
   "metadata": {},
   "outputs": [],
   "source": []
  }
 ],
 "metadata": {
  "kernelspec": {
   "display_name": "Python 3",
   "language": "python",
   "name": "python3"
  },
  "language_info": {
   "codemirror_mode": {
    "name": "ipython",
    "version": 3
   },
   "file_extension": ".py",
   "mimetype": "text/x-python",
   "name": "python",
   "nbconvert_exporter": "python",
   "pygments_lexer": "ipython3",
   "version": "3.6.8"
  }
 },
 "nbformat": 4,
 "nbformat_minor": 2
}
