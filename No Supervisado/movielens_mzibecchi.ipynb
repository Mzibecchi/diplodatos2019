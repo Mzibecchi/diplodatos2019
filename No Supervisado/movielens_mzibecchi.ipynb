{
 "cells": [
  {
   "cell_type": "markdown",
   "metadata": {},
   "source": [
    "Autor: mzibecchi  \n",
    "email: mzibecchi@gmail.com"
   ]
  },
  {
   "cell_type": "code",
   "execution_count": 1,
   "metadata": {},
   "outputs": [],
   "source": [
    "## Aprendizaje de reglas de asociación"
   ]
  },
  {
   "cell_type": "markdown",
   "metadata": {},
   "source": [
    "Objetivo:\n",
    "    \n",
    "    Obtener reglas de asociación entre películas en el dataset movielens.\n",
    "    Asumimos que los usuarios hacen recomendaciones y queremos encontras reglas de asociacion entre esas recomendaciones.\n",
    "    Tomamos como premisa que el usuario recomienda peliculas que superan cierto rating.\n",
    "     "
   ]
  },
  {
   "cell_type": "code",
   "execution_count": 2,
   "metadata": {},
   "outputs": [],
   "source": [
    "import pandas as pd\n",
    "import numpy as np\n",
    "import sys\n",
    "from itertools import combinations, groupby\n",
    "from collections import Counter\n",
    "from IPython.display import display"
   ]
  },
  {
   "cell_type": "markdown",
   "metadata": {},
   "source": [
    "Descripcion de los datos:\n",
    "\n",
    "movies.csv (movieId, title, genres)\n",
    "ratings.csv (userId, movieId, rating, timestamp)\n",
    "\n"
   ]
  },
  {
   "cell_type": "markdown",
   "metadata": {},
   "source": [
    "Hacemos el desarrollo sobre un dataset mas chico, luego pasamos al de 20m"
   ]
  },
  {
   "cell_type": "code",
   "execution_count": 5,
   "metadata": {},
   "outputs": [],
   "source": [
    "# small dataset\n",
    "path = \"ml-latest-small\"\n",
    "\n",
    "# 20m records dataset\n",
    "#path = \"ml-20m\""
   ]
  },
  {
   "cell_type": "code",
   "execution_count": 6,
   "metadata": {},
   "outputs": [],
   "source": [
    "#este dataset finalmente no lo usamos\n",
    "#tags_df = pd.read_csv(path+\"/tags.csv\")\n",
    "#tags_df.head()"
   ]
  },
  {
   "cell_type": "code",
   "execution_count": 7,
   "metadata": {},
   "outputs": [
    {
     "name": "stdout",
     "output_type": "stream",
     "text": [
      "9742\n"
     ]
    },
    {
     "data": {
      "text/html": [
       "<div>\n",
       "<style scoped>\n",
       "    .dataframe tbody tr th:only-of-type {\n",
       "        vertical-align: middle;\n",
       "    }\n",
       "\n",
       "    .dataframe tbody tr th {\n",
       "        vertical-align: top;\n",
       "    }\n",
       "\n",
       "    .dataframe thead th {\n",
       "        text-align: right;\n",
       "    }\n",
       "</style>\n",
       "<table border=\"1\" class=\"dataframe\">\n",
       "  <thead>\n",
       "    <tr style=\"text-align: right;\">\n",
       "      <th></th>\n",
       "      <th>movieId</th>\n",
       "      <th>title</th>\n",
       "      <th>genres</th>\n",
       "    </tr>\n",
       "  </thead>\n",
       "  <tbody>\n",
       "    <tr>\n",
       "      <th>0</th>\n",
       "      <td>1</td>\n",
       "      <td>Toy Story (1995)</td>\n",
       "      <td>Adventure|Animation|Children|Comedy|Fantasy</td>\n",
       "    </tr>\n",
       "    <tr>\n",
       "      <th>1</th>\n",
       "      <td>2</td>\n",
       "      <td>Jumanji (1995)</td>\n",
       "      <td>Adventure|Children|Fantasy</td>\n",
       "    </tr>\n",
       "    <tr>\n",
       "      <th>2</th>\n",
       "      <td>3</td>\n",
       "      <td>Grumpier Old Men (1995)</td>\n",
       "      <td>Comedy|Romance</td>\n",
       "    </tr>\n",
       "    <tr>\n",
       "      <th>3</th>\n",
       "      <td>4</td>\n",
       "      <td>Waiting to Exhale (1995)</td>\n",
       "      <td>Comedy|Drama|Romance</td>\n",
       "    </tr>\n",
       "    <tr>\n",
       "      <th>4</th>\n",
       "      <td>5</td>\n",
       "      <td>Father of the Bride Part II (1995)</td>\n",
       "      <td>Comedy</td>\n",
       "    </tr>\n",
       "  </tbody>\n",
       "</table>\n",
       "</div>"
      ],
      "text/plain": [
       "   movieId                               title  \\\n",
       "0        1                    Toy Story (1995)   \n",
       "1        2                      Jumanji (1995)   \n",
       "2        3             Grumpier Old Men (1995)   \n",
       "3        4            Waiting to Exhale (1995)   \n",
       "4        5  Father of the Bride Part II (1995)   \n",
       "\n",
       "                                        genres  \n",
       "0  Adventure|Animation|Children|Comedy|Fantasy  \n",
       "1                   Adventure|Children|Fantasy  \n",
       "2                               Comedy|Romance  \n",
       "3                         Comedy|Drama|Romance  \n",
       "4                                       Comedy  "
      ]
     },
     "execution_count": 7,
     "metadata": {},
     "output_type": "execute_result"
    }
   ],
   "source": [
    "movies_df = pd.read_csv(path+\"/movies.csv\")\n",
    "print(len(movies_df))\n",
    "movies_df.head()\n"
   ]
  },
  {
   "cell_type": "code",
   "execution_count": 8,
   "metadata": {},
   "outputs": [
    {
     "name": "stdout",
     "output_type": "stream",
     "text": [
      "100836\n"
     ]
    },
    {
     "data": {
      "text/html": [
       "<div>\n",
       "<style scoped>\n",
       "    .dataframe tbody tr th:only-of-type {\n",
       "        vertical-align: middle;\n",
       "    }\n",
       "\n",
       "    .dataframe tbody tr th {\n",
       "        vertical-align: top;\n",
       "    }\n",
       "\n",
       "    .dataframe thead th {\n",
       "        text-align: right;\n",
       "    }\n",
       "</style>\n",
       "<table border=\"1\" class=\"dataframe\">\n",
       "  <thead>\n",
       "    <tr style=\"text-align: right;\">\n",
       "      <th></th>\n",
       "      <th>userId</th>\n",
       "      <th>movieId</th>\n",
       "      <th>rating</th>\n",
       "      <th>timestamp</th>\n",
       "    </tr>\n",
       "  </thead>\n",
       "  <tbody>\n",
       "    <tr>\n",
       "      <th>0</th>\n",
       "      <td>1</td>\n",
       "      <td>1</td>\n",
       "      <td>4.0</td>\n",
       "      <td>964982703</td>\n",
       "    </tr>\n",
       "    <tr>\n",
       "      <th>1</th>\n",
       "      <td>1</td>\n",
       "      <td>3</td>\n",
       "      <td>4.0</td>\n",
       "      <td>964981247</td>\n",
       "    </tr>\n",
       "    <tr>\n",
       "      <th>2</th>\n",
       "      <td>1</td>\n",
       "      <td>6</td>\n",
       "      <td>4.0</td>\n",
       "      <td>964982224</td>\n",
       "    </tr>\n",
       "    <tr>\n",
       "      <th>3</th>\n",
       "      <td>1</td>\n",
       "      <td>47</td>\n",
       "      <td>5.0</td>\n",
       "      <td>964983815</td>\n",
       "    </tr>\n",
       "    <tr>\n",
       "      <th>4</th>\n",
       "      <td>1</td>\n",
       "      <td>50</td>\n",
       "      <td>5.0</td>\n",
       "      <td>964982931</td>\n",
       "    </tr>\n",
       "  </tbody>\n",
       "</table>\n",
       "</div>"
      ],
      "text/plain": [
       "   userId  movieId  rating  timestamp\n",
       "0       1        1     4.0  964982703\n",
       "1       1        3     4.0  964981247\n",
       "2       1        6     4.0  964982224\n",
       "3       1       47     5.0  964983815\n",
       "4       1       50     5.0  964982931"
      ]
     },
     "execution_count": 8,
     "metadata": {},
     "output_type": "execute_result"
    }
   ],
   "source": [
    "ratings1_df = pd.read_csv(path+\"/ratings.csv\")\n",
    "print(len(ratings1_df))\n",
    "ratings1_df.head()"
   ]
  },
  {
   "cell_type": "markdown",
   "metadata": {},
   "source": [
    "Hacemos merge de ambos datasets, usando movieId como clave para el join"
   ]
  },
  {
   "cell_type": "code",
   "execution_count": 9,
   "metadata": {},
   "outputs": [
    {
     "data": {
      "text/html": [
       "<div>\n",
       "<style scoped>\n",
       "    .dataframe tbody tr th:only-of-type {\n",
       "        vertical-align: middle;\n",
       "    }\n",
       "\n",
       "    .dataframe tbody tr th {\n",
       "        vertical-align: top;\n",
       "    }\n",
       "\n",
       "    .dataframe thead th {\n",
       "        text-align: right;\n",
       "    }\n",
       "</style>\n",
       "<table border=\"1\" class=\"dataframe\">\n",
       "  <thead>\n",
       "    <tr style=\"text-align: right;\">\n",
       "      <th></th>\n",
       "      <th>userId</th>\n",
       "      <th>movieId</th>\n",
       "      <th>rating</th>\n",
       "      <th>timestamp</th>\n",
       "      <th>title</th>\n",
       "      <th>genres</th>\n",
       "    </tr>\n",
       "  </thead>\n",
       "  <tbody>\n",
       "    <tr>\n",
       "      <th>0</th>\n",
       "      <td>1</td>\n",
       "      <td>1</td>\n",
       "      <td>4.0</td>\n",
       "      <td>964982703</td>\n",
       "      <td>Toy Story (1995)</td>\n",
       "      <td>Adventure|Animation|Children|Comedy|Fantasy</td>\n",
       "    </tr>\n",
       "    <tr>\n",
       "      <th>1</th>\n",
       "      <td>5</td>\n",
       "      <td>1</td>\n",
       "      <td>4.0</td>\n",
       "      <td>847434962</td>\n",
       "      <td>Toy Story (1995)</td>\n",
       "      <td>Adventure|Animation|Children|Comedy|Fantasy</td>\n",
       "    </tr>\n",
       "    <tr>\n",
       "      <th>2</th>\n",
       "      <td>7</td>\n",
       "      <td>1</td>\n",
       "      <td>4.5</td>\n",
       "      <td>1106635946</td>\n",
       "      <td>Toy Story (1995)</td>\n",
       "      <td>Adventure|Animation|Children|Comedy|Fantasy</td>\n",
       "    </tr>\n",
       "    <tr>\n",
       "      <th>3</th>\n",
       "      <td>15</td>\n",
       "      <td>1</td>\n",
       "      <td>2.5</td>\n",
       "      <td>1510577970</td>\n",
       "      <td>Toy Story (1995)</td>\n",
       "      <td>Adventure|Animation|Children|Comedy|Fantasy</td>\n",
       "    </tr>\n",
       "    <tr>\n",
       "      <th>4</th>\n",
       "      <td>17</td>\n",
       "      <td>1</td>\n",
       "      <td>4.5</td>\n",
       "      <td>1305696483</td>\n",
       "      <td>Toy Story (1995)</td>\n",
       "      <td>Adventure|Animation|Children|Comedy|Fantasy</td>\n",
       "    </tr>\n",
       "  </tbody>\n",
       "</table>\n",
       "</div>"
      ],
      "text/plain": [
       "   userId  movieId  rating   timestamp             title  \\\n",
       "0       1        1     4.0   964982703  Toy Story (1995)   \n",
       "1       5        1     4.0   847434962  Toy Story (1995)   \n",
       "2       7        1     4.5  1106635946  Toy Story (1995)   \n",
       "3      15        1     2.5  1510577970  Toy Story (1995)   \n",
       "4      17        1     4.5  1305696483  Toy Story (1995)   \n",
       "\n",
       "                                        genres  \n",
       "0  Adventure|Animation|Children|Comedy|Fantasy  \n",
       "1  Adventure|Animation|Children|Comedy|Fantasy  \n",
       "2  Adventure|Animation|Children|Comedy|Fantasy  \n",
       "3  Adventure|Animation|Children|Comedy|Fantasy  \n",
       "4  Adventure|Animation|Children|Comedy|Fantasy  "
      ]
     },
     "execution_count": 9,
     "metadata": {},
     "output_type": "execute_result"
    }
   ],
   "source": [
    "ratings_df = pd.merge(ratings1_df, movies_df, on='movieId')\n",
    "ratings_df.head()"
   ]
  },
  {
   "cell_type": "markdown",
   "metadata": {},
   "source": [
    "Veamos que tipos de ratings existen"
   ]
  },
  {
   "cell_type": "code",
   "execution_count": 10,
   "metadata": {},
   "outputs": [
    {
     "data": {
      "text/plain": [
       "array([4. , 4.5, 2.5, 3.5, 3. , 5. , 0.5, 2. , 1.5, 1. ])"
      ]
     },
     "execution_count": 10,
     "metadata": {},
     "output_type": "execute_result"
    }
   ],
   "source": [
    "ratings_df.rating.unique()"
   ]
  },
  {
   "cell_type": "markdown",
   "metadata": {},
   "source": [
    "Asumiremos que una pelicula recomendada es aquella que tiene rating > 2"
   ]
  },
  {
   "cell_type": "code",
   "execution_count": 11,
   "metadata": {},
   "outputs": [
    {
     "data": {
      "text/html": [
       "<div>\n",
       "<style scoped>\n",
       "    .dataframe tbody tr th:only-of-type {\n",
       "        vertical-align: middle;\n",
       "    }\n",
       "\n",
       "    .dataframe tbody tr th {\n",
       "        vertical-align: top;\n",
       "    }\n",
       "\n",
       "    .dataframe thead th {\n",
       "        text-align: right;\n",
       "    }\n",
       "</style>\n",
       "<table border=\"1\" class=\"dataframe\">\n",
       "  <thead>\n",
       "    <tr style=\"text-align: right;\">\n",
       "      <th></th>\n",
       "      <th>userId</th>\n",
       "      <th>movieId</th>\n",
       "      <th>rating</th>\n",
       "      <th>timestamp</th>\n",
       "      <th>title</th>\n",
       "      <th>genres</th>\n",
       "      <th>recommended</th>\n",
       "    </tr>\n",
       "  </thead>\n",
       "  <tbody>\n",
       "    <tr>\n",
       "      <th>0</th>\n",
       "      <td>1</td>\n",
       "      <td>1</td>\n",
       "      <td>4.0</td>\n",
       "      <td>964982703</td>\n",
       "      <td>Toy Story (1995)</td>\n",
       "      <td>Adventure|Animation|Children|Comedy|Fantasy</td>\n",
       "      <td>True</td>\n",
       "    </tr>\n",
       "    <tr>\n",
       "      <th>1</th>\n",
       "      <td>5</td>\n",
       "      <td>1</td>\n",
       "      <td>4.0</td>\n",
       "      <td>847434962</td>\n",
       "      <td>Toy Story (1995)</td>\n",
       "      <td>Adventure|Animation|Children|Comedy|Fantasy</td>\n",
       "      <td>True</td>\n",
       "    </tr>\n",
       "    <tr>\n",
       "      <th>2</th>\n",
       "      <td>7</td>\n",
       "      <td>1</td>\n",
       "      <td>4.5</td>\n",
       "      <td>1106635946</td>\n",
       "      <td>Toy Story (1995)</td>\n",
       "      <td>Adventure|Animation|Children|Comedy|Fantasy</td>\n",
       "      <td>True</td>\n",
       "    </tr>\n",
       "    <tr>\n",
       "      <th>3</th>\n",
       "      <td>15</td>\n",
       "      <td>1</td>\n",
       "      <td>2.5</td>\n",
       "      <td>1510577970</td>\n",
       "      <td>Toy Story (1995)</td>\n",
       "      <td>Adventure|Animation|Children|Comedy|Fantasy</td>\n",
       "      <td>True</td>\n",
       "    </tr>\n",
       "    <tr>\n",
       "      <th>4</th>\n",
       "      <td>17</td>\n",
       "      <td>1</td>\n",
       "      <td>4.5</td>\n",
       "      <td>1305696483</td>\n",
       "      <td>Toy Story (1995)</td>\n",
       "      <td>Adventure|Animation|Children|Comedy|Fantasy</td>\n",
       "      <td>True</td>\n",
       "    </tr>\n",
       "  </tbody>\n",
       "</table>\n",
       "</div>"
      ],
      "text/plain": [
       "   userId  movieId  rating   timestamp             title  \\\n",
       "0       1        1     4.0   964982703  Toy Story (1995)   \n",
       "1       5        1     4.0   847434962  Toy Story (1995)   \n",
       "2       7        1     4.5  1106635946  Toy Story (1995)   \n",
       "3      15        1     2.5  1510577970  Toy Story (1995)   \n",
       "4      17        1     4.5  1305696483  Toy Story (1995)   \n",
       "\n",
       "                                        genres  recommended  \n",
       "0  Adventure|Animation|Children|Comedy|Fantasy         True  \n",
       "1  Adventure|Animation|Children|Comedy|Fantasy         True  \n",
       "2  Adventure|Animation|Children|Comedy|Fantasy         True  \n",
       "3  Adventure|Animation|Children|Comedy|Fantasy         True  \n",
       "4  Adventure|Animation|Children|Comedy|Fantasy         True  "
      ]
     },
     "execution_count": 11,
     "metadata": {},
     "output_type": "execute_result"
    }
   ],
   "source": [
    "ratings_df[\"recommended\"] = ratings_df[\"rating\"] > 2\n",
    "recommended_df = ratings_df[ ratings_df.recommended == True]\n",
    "recommended_df.head()"
   ]
  },
  {
   "cell_type": "code",
   "execution_count": 12,
   "metadata": {},
   "outputs": [],
   "source": [
    "# la version 2.0 de esta notebook, va a tener una implementacion mas eficiente de esto...\n",
    "# por ahora, me interesaba mas entender como armar las transacciones\n",
    "\n",
    "transactions = []\n",
    "\n",
    "grouped = recommended_df.groupby('userId')\n",
    "\n",
    "for names, group  in grouped:\n",
    "    \n",
    "    transaction_user = []\n",
    "    \n",
    "    for row_index, movie in group.iterrows():\n",
    "        transaction_user.append( movie['title'] )\n",
    "        \n",
    "    transactions.append( transaction_user )\n",
    "    "
   ]
  },
  {
   "cell_type": "code",
   "execution_count": 13,
   "metadata": {},
   "outputs": [
    {
     "name": "stdout",
     "output_type": "stream",
     "text": [
      "Cantidad de transacciones: 610\n"
     ]
    }
   ],
   "source": [
    "print(\"Cantidad de transacciones: \"+str(len(transactions)))"
   ]
  },
  {
   "cell_type": "code",
   "execution_count": 14,
   "metadata": {},
   "outputs": [
    {
     "name": "stdout",
     "output_type": "stream",
     "text": [
      "\n",
      "Itemsets:\n",
      "\n",
      "{1: {('American Beauty (1999)',): 192, ('Apollo 13 (1995)',): 188, ('Braveheart (1995)',): 224, ('Fight Club (1999)',): 209, ('Forrest Gump (1994)',): 318, ('Fugitive, The (1993)',): 186, ('Jurassic Park (1993)',): 221, ('Lord of the Rings: The Fellowship of the Ring, The (2001)',): 185, ('Matrix, The (1999)',): 264, ('Pulp Fiction (1994)',): 290, ('Raiders of the Lost Ark (Indiana Jones and the Raiders of the Lost Ark) (1981)',): 195, ('Saving Private Ryan (1998)',): 183, (\"Schindler's List (1993)\",): 208, ('Seven (a.k.a. Se7en) (1995)',): 191, ('Shawshank Redemption, The (1994)',): 313, ('Silence of the Lambs, The (1991)',): 270, ('Star Wars: Episode IV - A New Hope (1977)',): 239, ('Star Wars: Episode V - The Empire Strikes Back (1980)',): 204, ('Star Wars: Episode VI - Return of the Jedi (1983)',): 186, ('Terminator 2: Judgment Day (1991)',): 216, ('Toy Story (1995)',): 207, ('Usual Suspects, The (1995)',): 199}, 2: {('Forrest Gump (1994)', 'Pulp Fiction (1994)'): 211, ('Forrest Gump (1994)', 'Shawshank Redemption, The (1994)'): 223, ('Forrest Gump (1994)', 'Silence of the Lambs, The (1991)'): 189, ('Pulp Fiction (1994)', 'Shawshank Redemption, The (1994)'): 212, ('Pulp Fiction (1994)', 'Silence of the Lambs, The (1991)'): 196, ('Shawshank Redemption, The (1994)', 'Silence of the Lambs, The (1991)'): 192}}\n",
      "\n",
      "Rules:\n",
      "\n",
      "{Forrest Gump (1994)} -> {Silence of the Lambs, The (1991)} (conf: 0.594, supp: 0.310, lift: 1.343, conv: 1.374)\n",
      "\n",
      "\n",
      "{Shawshank Redemption, The (1994)} -> {Silence of the Lambs, The (1991)} (conf: 0.613, supp: 0.315, lift: 1.386, conv: 1.442)\n",
      "\n",
      "\n",
      "{Forrest Gump (1994)} -> {Pulp Fiction (1994)} (conf: 0.664, supp: 0.346, lift: 1.396, conv: 1.559)\n",
      "\n",
      "\n",
      "{Pulp Fiction (1994)} -> {Silence of the Lambs, The (1991)} (conf: 0.676, supp: 0.321, lift: 1.527, conv: 1.720)\n",
      "\n",
      "\n",
      "{Shawshank Redemption, The (1994)} -> {Pulp Fiction (1994)} (conf: 0.677, supp: 0.348, lift: 1.425, conv: 1.626)\n",
      "\n",
      "\n",
      "{Silence of the Lambs, The (1991)} -> {Forrest Gump (1994)} (conf: 0.700, supp: 0.310, lift: 1.343, conv: 1.596)\n",
      "\n",
      "\n",
      "{Forrest Gump (1994)} -> {Shawshank Redemption, The (1994)} (conf: 0.701, supp: 0.366, lift: 1.367, conv: 1.630)\n",
      "\n",
      "\n",
      "{Silence of the Lambs, The (1991)} -> {Shawshank Redemption, The (1994)} (conf: 0.711, supp: 0.315, lift: 1.386, conv: 1.685)\n",
      "\n",
      "\n",
      "{Shawshank Redemption, The (1994)} -> {Forrest Gump (1994)} (conf: 0.712, supp: 0.366, lift: 1.367, conv: 1.665)\n",
      "\n",
      "\n",
      "{Silence of the Lambs, The (1991)} -> {Pulp Fiction (1994)} (conf: 0.726, supp: 0.321, lift: 1.527, conv: 1.914)\n",
      "\n",
      "\n",
      "{Pulp Fiction (1994)} -> {Forrest Gump (1994)} (conf: 0.728, supp: 0.346, lift: 1.396, conv: 1.757)\n",
      "\n",
      "\n",
      "{Pulp Fiction (1994)} -> {Shawshank Redemption, The (1994)} (conf: 0.731, supp: 0.348, lift: 1.425, conv: 1.810)\n",
      "\n",
      "\n"
     ]
    }
   ],
   "source": [
    "from efficient_apriori import apriori\n",
    "\n",
    "#apriori de efficient_apriori requiere una lista de transacciones (no necesita que estén ordenados en cada transacción)\n",
    "\n",
    "itemsets, rules = apriori(transactions, min_support=0.3,  min_confidence=0.2, max_length=5)#min_sup conf entre 0 y 1\n",
    "\n",
    "print(\"\\nItemsets:\\n\")\n",
    "print(itemsets)\n",
    "\n",
    "rules=sorted(rules, key=lambda rule: rule.confidence)\n",
    "\n",
    "print(\"\\nRules:\\n\")\n",
    "\n",
    "for rule in rules:\n",
    "    \n",
    "  print(rule) # Prints the rule and its confidence, support, lift, ...\n",
    "\n",
    "  print(\"\\n\")"
   ]
  },
  {
   "cell_type": "code",
   "execution_count": 152,
   "metadata": {},
   "outputs": [
    {
     "name": "stdout",
     "output_type": "stream",
     "text": [
      "280\n"
     ]
    }
   ],
   "source": [
    "print(len(rules))"
   ]
  },
  {
   "cell_type": "markdown",
   "metadata": {},
   "source": [
    "### Informe Final  \n",
    "  \n",
    "  \n",
    "Logré correrlo con el dataset de 20m,\n",
    "Con un soporte de 0.5, no obtenemos ni itemsets ni reglas;\n",
    "Con un soporte de 0.4, obtenemos itemsets, pero no reglas;\n",
    "Al seleccionar un soporte bajo (0.2), la cantidad de reglas que se encuentran crece (280).\n",
    "Con soporte 0.05, no final"
   ]
  },
  {
   "cell_type": "code",
   "execution_count": null,
   "metadata": {},
   "outputs": [],
   "source": []
  }
 ],
 "metadata": {
  "kernelspec": {
   "display_name": "Python 3",
   "language": "python",
   "name": "python3"
  },
  "language_info": {
   "codemirror_mode": {
    "name": "ipython",
    "version": 3
   },
   "file_extension": ".py",
   "mimetype": "text/x-python",
   "name": "python",
   "nbconvert_exporter": "python",
   "pygments_lexer": "ipython3",
   "version": "3.6.8"
  }
 },
 "nbformat": 4,
 "nbformat_minor": 4
}
